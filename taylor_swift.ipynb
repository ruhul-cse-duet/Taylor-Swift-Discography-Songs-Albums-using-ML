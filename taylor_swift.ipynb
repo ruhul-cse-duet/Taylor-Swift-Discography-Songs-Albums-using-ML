{
 "cells": [
  {
   "cell_type": "code",
   "execution_count": 35,
   "metadata": {},
   "outputs": [],
   "source": [
    "import polars as pl \n",
    "import numpy as np\n",
    "import pandas as pd"
   ]
  },
  {
   "cell_type": "markdown",
   "metadata": {},
   "source": [
    "# Data Collection"
   ]
  },
  {
   "cell_type": "code",
   "execution_count": 36,
   "metadata": {},
   "outputs": [
    {
     "data": {
      "text/html": [
       "<div>\n",
       "<style scoped>\n",
       "    .dataframe tbody tr th:only-of-type {\n",
       "        vertical-align: middle;\n",
       "    }\n",
       "\n",
       "    .dataframe tbody tr th {\n",
       "        vertical-align: top;\n",
       "    }\n",
       "\n",
       "    .dataframe thead th {\n",
       "        text-align: right;\n",
       "    }\n",
       "</style>\n",
       "<table border=\"1\" class=\"dataframe\">\n",
       "  <thead>\n",
       "    <tr style=\"text-align: right;\">\n",
       "      <th></th>\n",
       "      <th>ID</th>\n",
       "      <th>track_name</th>\n",
       "      <th>track_musical_genre</th>\n",
       "      <th>track_type</th>\n",
       "      <th>duration_ms</th>\n",
       "      <th>feature</th>\n",
       "      <th>track_videoclip</th>\n",
       "      <th>videoclip_views</th>\n",
       "      <th>spotify_streams</th>\n",
       "      <th>spotify_global_peak</th>\n",
       "      <th>...</th>\n",
       "      <th>uri</th>\n",
       "      <th>acousticness</th>\n",
       "      <th>danceability</th>\n",
       "      <th>energy</th>\n",
       "      <th>instrumentalness</th>\n",
       "      <th>liveness</th>\n",
       "      <th>loudness</th>\n",
       "      <th>speechiness</th>\n",
       "      <th>tempo</th>\n",
       "      <th>valence</th>\n",
       "    </tr>\n",
       "  </thead>\n",
       "  <tbody>\n",
       "    <tr>\n",
       "      <th>0</th>\n",
       "      <td>0</td>\n",
       "      <td>Fortnight (feat. Post Malone)</td>\n",
       "      <td>Synth Pop</td>\n",
       "      <td>Single</td>\n",
       "      <td>228965</td>\n",
       "      <td>Post Malone</td>\n",
       "      <td>No</td>\n",
       "      <td>0</td>\n",
       "      <td>648525069</td>\n",
       "      <td>1</td>\n",
       "      <td>...</td>\n",
       "      <td>spotify:track:6dODwocEuGzHAavXqTbwHv</td>\n",
       "      <td>0.50200</td>\n",
       "      <td>0.504</td>\n",
       "      <td>0.386</td>\n",
       "      <td>1.53e-05</td>\n",
       "      <td>0.0961</td>\n",
       "      <td>-10.976</td>\n",
       "      <td>0.0308</td>\n",
       "      <td>192.004</td>\n",
       "      <td>0.281</td>\n",
       "    </tr>\n",
       "    <tr>\n",
       "      <th>1</th>\n",
       "      <td>1</td>\n",
       "      <td>The Tortured Poets Department</td>\n",
       "      <td>Synth Pop</td>\n",
       "      <td>B-Side</td>\n",
       "      <td>293048</td>\n",
       "      <td>No</td>\n",
       "      <td>No</td>\n",
       "      <td>0</td>\n",
       "      <td>206954130</td>\n",
       "      <td>6</td>\n",
       "      <td>...</td>\n",
       "      <td>spotify:track:4PdLaGZubp4lghChqp8erB</td>\n",
       "      <td>0.04830</td>\n",
       "      <td>0.604</td>\n",
       "      <td>0.428</td>\n",
       "      <td>0.0</td>\n",
       "      <td>0.1260</td>\n",
       "      <td>-8.441</td>\n",
       "      <td>0.0255</td>\n",
       "      <td>110.259</td>\n",
       "      <td>0.292</td>\n",
       "    </tr>\n",
       "    <tr>\n",
       "      <th>2</th>\n",
       "      <td>2</td>\n",
       "      <td>My Boy Only Breaks His Favorite Toys</td>\n",
       "      <td>Synth Pop</td>\n",
       "      <td>B-Side</td>\n",
       "      <td>203801</td>\n",
       "      <td>No</td>\n",
       "      <td>No</td>\n",
       "      <td>0</td>\n",
       "      <td>238016975</td>\n",
       "      <td>7</td>\n",
       "      <td>...</td>\n",
       "      <td>spotify:track:7uGYWMwRy24dm7RUDDhUlD</td>\n",
       "      <td>0.13700</td>\n",
       "      <td>0.596</td>\n",
       "      <td>0.563</td>\n",
       "      <td>0.0</td>\n",
       "      <td>0.3020</td>\n",
       "      <td>-7.362</td>\n",
       "      <td>0.0269</td>\n",
       "      <td>97.073</td>\n",
       "      <td>0.481</td>\n",
       "    </tr>\n",
       "    <tr>\n",
       "      <th>3</th>\n",
       "      <td>3</td>\n",
       "      <td>Down Bad</td>\n",
       "      <td>R&amp;B</td>\n",
       "      <td>B-Side</td>\n",
       "      <td>261228</td>\n",
       "      <td>No</td>\n",
       "      <td>No</td>\n",
       "      <td>0</td>\n",
       "      <td>318375377</td>\n",
       "      <td>2</td>\n",
       "      <td>...</td>\n",
       "      <td>spotify:track:1kbEbBdEgQdQeLXCJh28pJ</td>\n",
       "      <td>0.56000</td>\n",
       "      <td>0.541</td>\n",
       "      <td>0.366</td>\n",
       "      <td>1,00E-06</td>\n",
       "      <td>0.0946</td>\n",
       "      <td>-10.412</td>\n",
       "      <td>0.0748</td>\n",
       "      <td>159.707</td>\n",
       "      <td>0.168</td>\n",
       "    </tr>\n",
       "    <tr>\n",
       "      <th>4</th>\n",
       "      <td>4</td>\n",
       "      <td>So Long, London</td>\n",
       "      <td>Synth Pop</td>\n",
       "      <td>B-Side</td>\n",
       "      <td>262974</td>\n",
       "      <td>No</td>\n",
       "      <td>No</td>\n",
       "      <td>0</td>\n",
       "      <td>253712712</td>\n",
       "      <td>4</td>\n",
       "      <td>...</td>\n",
       "      <td>spotify:track:7wAkQFShJ27V8362MqevQr</td>\n",
       "      <td>0.73000</td>\n",
       "      <td>0.423</td>\n",
       "      <td>0.533</td>\n",
       "      <td>0.00264</td>\n",
       "      <td>0.0816</td>\n",
       "      <td>-11.388</td>\n",
       "      <td>0.3220</td>\n",
       "      <td>160.218</td>\n",
       "      <td>0.248</td>\n",
       "    </tr>\n",
       "    <tr>\n",
       "      <th>...</th>\n",
       "      <td>...</td>\n",
       "      <td>...</td>\n",
       "      <td>...</td>\n",
       "      <td>...</td>\n",
       "      <td>...</td>\n",
       "      <td>...</td>\n",
       "      <td>...</td>\n",
       "      <td>...</td>\n",
       "      <td>...</td>\n",
       "      <td>...</td>\n",
       "      <td>...</td>\n",
       "      <td>...</td>\n",
       "      <td>...</td>\n",
       "      <td>...</td>\n",
       "      <td>...</td>\n",
       "      <td>...</td>\n",
       "      <td>...</td>\n",
       "      <td>...</td>\n",
       "      <td>...</td>\n",
       "      <td>...</td>\n",
       "      <td>...</td>\n",
       "    </tr>\n",
       "    <tr>\n",
       "      <th>572</th>\n",
       "      <td>572</td>\n",
       "      <td>Our Song</td>\n",
       "      <td>Country</td>\n",
       "      <td>Single</td>\n",
       "      <td>201106</td>\n",
       "      <td>No</td>\n",
       "      <td>Yes</td>\n",
       "      <td>214.767.237</td>\n",
       "      <td>328.676.348</td>\n",
       "      <td>0</td>\n",
       "      <td>...</td>\n",
       "      <td>spotify:track:15DeqWWQB4dcEWzJg15VrN</td>\n",
       "      <td>0.11100</td>\n",
       "      <td>0.668</td>\n",
       "      <td>0.672</td>\n",
       "      <td>0.0</td>\n",
       "      <td>0.3290</td>\n",
       "      <td>-4.931</td>\n",
       "      <td>0.0303</td>\n",
       "      <td>89.011</td>\n",
       "      <td>0.539</td>\n",
       "    </tr>\n",
       "    <tr>\n",
       "      <th>573</th>\n",
       "      <td>573</td>\n",
       "      <td>I'm Only Me When I'm With You</td>\n",
       "      <td>Country Pop</td>\n",
       "      <td>B-Side</td>\n",
       "      <td>213053</td>\n",
       "      <td>No</td>\n",
       "      <td>Yes</td>\n",
       "      <td>41.410.315</td>\n",
       "      <td>49.912.790</td>\n",
       "      <td>0</td>\n",
       "      <td>...</td>\n",
       "      <td>spotify:track:0JIdBrXGSJXS72zjF9ss9u</td>\n",
       "      <td>0.00452</td>\n",
       "      <td>0.563</td>\n",
       "      <td>0.934</td>\n",
       "      <td>0.000807</td>\n",
       "      <td>0.1030</td>\n",
       "      <td>-3.629</td>\n",
       "      <td>0.0646</td>\n",
       "      <td>143.964</td>\n",
       "      <td>0.518</td>\n",
       "    </tr>\n",
       "    <tr>\n",
       "      <th>574</th>\n",
       "      <td>574</td>\n",
       "      <td>Invisible</td>\n",
       "      <td>Country Pop</td>\n",
       "      <td>B-Side</td>\n",
       "      <td>203226</td>\n",
       "      <td>No</td>\n",
       "      <td>No</td>\n",
       "      <td>0</td>\n",
       "      <td>34.315.147</td>\n",
       "      <td>0</td>\n",
       "      <td>...</td>\n",
       "      <td>spotify:track:5OOd01o2YS1QFwdpVLds3r</td>\n",
       "      <td>0.63700</td>\n",
       "      <td>0.612</td>\n",
       "      <td>0.394</td>\n",
       "      <td>0.0</td>\n",
       "      <td>0.1470</td>\n",
       "      <td>-5.723</td>\n",
       "      <td>0.0243</td>\n",
       "      <td>96.001</td>\n",
       "      <td>0.233</td>\n",
       "    </tr>\n",
       "    <tr>\n",
       "      <th>575</th>\n",
       "      <td>575</td>\n",
       "      <td>A Perfectly Good Heart</td>\n",
       "      <td>Country Pop</td>\n",
       "      <td>B-Side</td>\n",
       "      <td>220146</td>\n",
       "      <td>No</td>\n",
       "      <td>No</td>\n",
       "      <td>0</td>\n",
       "      <td>25.204.096</td>\n",
       "      <td>0</td>\n",
       "      <td>...</td>\n",
       "      <td>spotify:track:1spLfUJxtyVyiKKTegQ2r4</td>\n",
       "      <td>0.00349</td>\n",
       "      <td>0.483</td>\n",
       "      <td>0.751</td>\n",
       "      <td>0.0</td>\n",
       "      <td>0.1280</td>\n",
       "      <td>-5.726</td>\n",
       "      <td>0.0365</td>\n",
       "      <td>156.092</td>\n",
       "      <td>0.268</td>\n",
       "    </tr>\n",
       "    <tr>\n",
       "      <th>576</th>\n",
       "      <td>576</td>\n",
       "      <td>Teardrops on My Guitar - Pop Version</td>\n",
       "      <td>Country Pop</td>\n",
       "      <td>B-Side</td>\n",
       "      <td>179066</td>\n",
       "      <td>No</td>\n",
       "      <td>No</td>\n",
       "      <td>0</td>\n",
       "      <td>32.775.607</td>\n",
       "      <td>0</td>\n",
       "      <td>...</td>\n",
       "      <td>spotify:track:4pJi1rVt9GNegU9kywjg4z</td>\n",
       "      <td>0.04020</td>\n",
       "      <td>0.459</td>\n",
       "      <td>0.753</td>\n",
       "      <td>0.0</td>\n",
       "      <td>0.0863</td>\n",
       "      <td>-3.827</td>\n",
       "      <td>0.0537</td>\n",
       "      <td>199.997</td>\n",
       "      <td>0.483</td>\n",
       "    </tr>\n",
       "  </tbody>\n",
       "</table>\n",
       "<p>577 rows × 28 columns</p>\n",
       "</div>"
      ],
      "text/plain": [
       "      ID                            track_name track_musical_genre track_type  \\\n",
       "0      0         Fortnight (feat. Post Malone)           Synth Pop     Single   \n",
       "1      1         The Tortured Poets Department           Synth Pop     B-Side   \n",
       "2      2  My Boy Only Breaks His Favorite Toys           Synth Pop     B-Side   \n",
       "3      3                              Down Bad                 R&B     B-Side   \n",
       "4      4                       So Long, London           Synth Pop     B-Side   \n",
       "..   ...                                   ...                 ...        ...   \n",
       "572  572                              Our Song             Country     Single   \n",
       "573  573         I'm Only Me When I'm With You         Country Pop     B-Side   \n",
       "574  574                             Invisible         Country Pop     B-Side   \n",
       "575  575                A Perfectly Good Heart         Country Pop     B-Side   \n",
       "576  576  Teardrops on My Guitar - Pop Version         Country Pop     B-Side   \n",
       "\n",
       "     duration_ms      feature track_videoclip videoclip_views spotify_streams  \\\n",
       "0         228965  Post Malone              No               0       648525069   \n",
       "1         293048           No              No               0       206954130   \n",
       "2         203801           No              No               0       238016975   \n",
       "3         261228           No              No               0       318375377   \n",
       "4         262974           No              No               0       253712712   \n",
       "..           ...          ...             ...             ...             ...   \n",
       "572       201106           No             Yes     214.767.237     328.676.348   \n",
       "573       213053           No             Yes      41.410.315      49.912.790   \n",
       "574       203226           No              No               0      34.315.147   \n",
       "575       220146           No              No               0      25.204.096   \n",
       "576       179066           No              No               0      32.775.607   \n",
       "\n",
       "     spotify_global_peak  ...                                   uri  \\\n",
       "0                      1  ...  spotify:track:6dODwocEuGzHAavXqTbwHv   \n",
       "1                      6  ...  spotify:track:4PdLaGZubp4lghChqp8erB   \n",
       "2                      7  ...  spotify:track:7uGYWMwRy24dm7RUDDhUlD   \n",
       "3                      2  ...  spotify:track:1kbEbBdEgQdQeLXCJh28pJ   \n",
       "4                      4  ...  spotify:track:7wAkQFShJ27V8362MqevQr   \n",
       "..                   ...  ...                                   ...   \n",
       "572                    0  ...  spotify:track:15DeqWWQB4dcEWzJg15VrN   \n",
       "573                    0  ...  spotify:track:0JIdBrXGSJXS72zjF9ss9u   \n",
       "574                    0  ...  spotify:track:5OOd01o2YS1QFwdpVLds3r   \n",
       "575                    0  ...  spotify:track:1spLfUJxtyVyiKKTegQ2r4   \n",
       "576                    0  ...  spotify:track:4pJi1rVt9GNegU9kywjg4z   \n",
       "\n",
       "     acousticness danceability energy instrumentalness liveness loudness  \\\n",
       "0         0.50200        0.504  0.386         1.53e-05   0.0961  -10.976   \n",
       "1         0.04830        0.604  0.428              0.0   0.1260   -8.441   \n",
       "2         0.13700        0.596  0.563              0.0   0.3020   -7.362   \n",
       "3         0.56000        0.541  0.366         1,00E-06   0.0946  -10.412   \n",
       "4         0.73000        0.423  0.533          0.00264   0.0816  -11.388   \n",
       "..            ...          ...    ...              ...      ...      ...   \n",
       "572       0.11100        0.668  0.672              0.0   0.3290   -4.931   \n",
       "573       0.00452        0.563  0.934         0.000807   0.1030   -3.629   \n",
       "574       0.63700        0.612  0.394              0.0   0.1470   -5.723   \n",
       "575       0.00349        0.483  0.751              0.0   0.1280   -5.726   \n",
       "576       0.04020        0.459  0.753              0.0   0.0863   -3.827   \n",
       "\n",
       "    speechiness    tempo  valence  \n",
       "0        0.0308  192.004    0.281  \n",
       "1        0.0255  110.259    0.292  \n",
       "2        0.0269   97.073    0.481  \n",
       "3        0.0748  159.707    0.168  \n",
       "4        0.3220  160.218    0.248  \n",
       "..          ...      ...      ...  \n",
       "572      0.0303   89.011    0.539  \n",
       "573      0.0646  143.964    0.518  \n",
       "574      0.0243   96.001    0.233  \n",
       "575      0.0365  156.092    0.268  \n",
       "576      0.0537  199.997    0.483  \n",
       "\n",
       "[577 rows x 28 columns]"
      ]
     },
     "execution_count": 36,
     "metadata": {},
     "output_type": "execute_result"
    }
   ],
   "source": [
    "df = pd.read_csv(\"taylor_swift_discography_updated.csv\", delimiter=';')\n",
    "df"
   ]
  },
  {
   "cell_type": "markdown",
   "metadata": {},
   "source": [
    "Checking data types"
   ]
  },
  {
   "cell_type": "code",
   "execution_count": 37,
   "metadata": {},
   "outputs": [
    {
     "name": "stdout",
     "output_type": "stream",
     "text": [
      "<class 'pandas.core.frame.DataFrame'>\n",
      "RangeIndex: 577 entries, 0 to 576\n",
      "Data columns (total 28 columns):\n",
      " #   Column                Non-Null Count  Dtype  \n",
      "---  ------                --------------  -----  \n",
      " 0   ID                    577 non-null    int64  \n",
      " 1   track_name            577 non-null    object \n",
      " 2   track_musical_genre   577 non-null    object \n",
      " 3   track_type            577 non-null    object \n",
      " 4   duration_ms           577 non-null    int64  \n",
      " 5   feature               577 non-null    object \n",
      " 6   track_videoclip       577 non-null    object \n",
      " 7   videoclip_views       577 non-null    object \n",
      " 8   spotify_streams       577 non-null    object \n",
      " 9   spotify_global_peak   577 non-null    int64  \n",
      " 10  album                 577 non-null    object \n",
      " 11  track_number          577 non-null    int64  \n",
      " 12  album_musical_genre   577 non-null    object \n",
      " 13  album_type            577 non-null    object \n",
      " 14  release_date          577 non-null    object \n",
      " 15  album_physical_sales  575 non-null    object \n",
      " 16  track_lyrics          577 non-null    object \n",
      " 17  track_theme           574 non-null    object \n",
      " 18  uri                   577 non-null    object \n",
      " 19  acousticness          577 non-null    float64\n",
      " 20  danceability          577 non-null    float64\n",
      " 21  energy                577 non-null    float64\n",
      " 22  instrumentalness      577 non-null    object \n",
      " 23  liveness              577 non-null    float64\n",
      " 24  loudness              577 non-null    float64\n",
      " 25  speechiness           577 non-null    float64\n",
      " 26  tempo                 577 non-null    float64\n",
      " 27  valence               577 non-null    float64\n",
      "dtypes: float64(8), int64(4), object(16)\n",
      "memory usage: 126.3+ KB\n"
     ]
    }
   ],
   "source": [
    "df.info()"
   ]
  },
  {
   "cell_type": "code",
   "execution_count": 38,
   "metadata": {},
   "outputs": [
    {
     "data": {
      "text/html": [
       "<div>\n",
       "<style scoped>\n",
       "    .dataframe tbody tr th:only-of-type {\n",
       "        vertical-align: middle;\n",
       "    }\n",
       "\n",
       "    .dataframe tbody tr th {\n",
       "        vertical-align: top;\n",
       "    }\n",
       "\n",
       "    .dataframe thead th {\n",
       "        text-align: right;\n",
       "    }\n",
       "</style>\n",
       "<table border=\"1\" class=\"dataframe\">\n",
       "  <thead>\n",
       "    <tr style=\"text-align: right;\">\n",
       "      <th></th>\n",
       "      <th>ID</th>\n",
       "      <th>duration_ms</th>\n",
       "      <th>spotify_global_peak</th>\n",
       "      <th>track_number</th>\n",
       "      <th>acousticness</th>\n",
       "      <th>danceability</th>\n",
       "      <th>energy</th>\n",
       "      <th>liveness</th>\n",
       "      <th>loudness</th>\n",
       "      <th>speechiness</th>\n",
       "      <th>tempo</th>\n",
       "      <th>valence</th>\n",
       "    </tr>\n",
       "  </thead>\n",
       "  <tbody>\n",
       "    <tr>\n",
       "      <th>count</th>\n",
       "      <td>577.000000</td>\n",
       "      <td>577.000000</td>\n",
       "      <td>577.000000</td>\n",
       "      <td>577.000000</td>\n",
       "      <td>577.000000</td>\n",
       "      <td>577.000000</td>\n",
       "      <td>577.000000</td>\n",
       "      <td>577.000000</td>\n",
       "      <td>577.000000</td>\n",
       "      <td>577.000000</td>\n",
       "      <td>577.000000</td>\n",
       "      <td>577.000000</td>\n",
       "    </tr>\n",
       "    <tr>\n",
       "      <th>mean</th>\n",
       "      <td>288.000000</td>\n",
       "      <td>239970.745234</td>\n",
       "      <td>15.395147</td>\n",
       "      <td>11.369151</td>\n",
       "      <td>0.336863</td>\n",
       "      <td>0.581503</td>\n",
       "      <td>0.564932</td>\n",
       "      <td>0.162508</td>\n",
       "      <td>-7.669858</td>\n",
       "      <td>0.056287</td>\n",
       "      <td>122.396062</td>\n",
       "      <td>0.390438</td>\n",
       "    </tr>\n",
       "    <tr>\n",
       "      <th>std</th>\n",
       "      <td>166.709828</td>\n",
       "      <td>45990.461526</td>\n",
       "      <td>25.244083</td>\n",
       "      <td>8.050445</td>\n",
       "      <td>0.326835</td>\n",
       "      <td>0.113880</td>\n",
       "      <td>0.190954</td>\n",
       "      <td>0.138403</td>\n",
       "      <td>2.919635</td>\n",
       "      <td>0.069600</td>\n",
       "      <td>30.387812</td>\n",
       "      <td>0.194989</td>\n",
       "    </tr>\n",
       "    <tr>\n",
       "      <th>min</th>\n",
       "      <td>0.000000</td>\n",
       "      <td>83253.000000</td>\n",
       "      <td>0.000000</td>\n",
       "      <td>1.000000</td>\n",
       "      <td>0.000184</td>\n",
       "      <td>0.243000</td>\n",
       "      <td>0.118000</td>\n",
       "      <td>0.035700</td>\n",
       "      <td>-17.932000</td>\n",
       "      <td>0.023100</td>\n",
       "      <td>68.097000</td>\n",
       "      <td>0.037400</td>\n",
       "    </tr>\n",
       "    <tr>\n",
       "      <th>25%</th>\n",
       "      <td>144.000000</td>\n",
       "      <td>211853.000000</td>\n",
       "      <td>0.000000</td>\n",
       "      <td>5.000000</td>\n",
       "      <td>0.039900</td>\n",
       "      <td>0.512000</td>\n",
       "      <td>0.417000</td>\n",
       "      <td>0.097000</td>\n",
       "      <td>-9.455000</td>\n",
       "      <td>0.030300</td>\n",
       "      <td>96.601000</td>\n",
       "      <td>0.230000</td>\n",
       "    </tr>\n",
       "    <tr>\n",
       "      <th>50%</th>\n",
       "      <td>288.000000</td>\n",
       "      <td>235400.000000</td>\n",
       "      <td>5.000000</td>\n",
       "      <td>10.000000</td>\n",
       "      <td>0.187000</td>\n",
       "      <td>0.594000</td>\n",
       "      <td>0.570000</td>\n",
       "      <td>0.115000</td>\n",
       "      <td>-7.357000</td>\n",
       "      <td>0.037600</td>\n",
       "      <td>118.995000</td>\n",
       "      <td>0.374000</td>\n",
       "    </tr>\n",
       "    <tr>\n",
       "      <th>75%</th>\n",
       "      <td>432.000000</td>\n",
       "      <td>260440.000000</td>\n",
       "      <td>21.000000</td>\n",
       "      <td>15.000000</td>\n",
       "      <td>0.661000</td>\n",
       "      <td>0.651000</td>\n",
       "      <td>0.720000</td>\n",
       "      <td>0.163000</td>\n",
       "      <td>-5.556000</td>\n",
       "      <td>0.055800</td>\n",
       "      <td>143.950000</td>\n",
       "      <td>0.520000</td>\n",
       "    </tr>\n",
       "    <tr>\n",
       "      <th>max</th>\n",
       "      <td>576.000000</td>\n",
       "      <td>613026.000000</td>\n",
       "      <td>197.000000</td>\n",
       "      <td>46.000000</td>\n",
       "      <td>0.971000</td>\n",
       "      <td>0.897000</td>\n",
       "      <td>0.950000</td>\n",
       "      <td>0.931000</td>\n",
       "      <td>-1.909000</td>\n",
       "      <td>0.912000</td>\n",
       "      <td>208.918000</td>\n",
       "      <td>0.943000</td>\n",
       "    </tr>\n",
       "  </tbody>\n",
       "</table>\n",
       "</div>"
      ],
      "text/plain": [
       "               ID    duration_ms  spotify_global_peak  track_number  \\\n",
       "count  577.000000     577.000000           577.000000    577.000000   \n",
       "mean   288.000000  239970.745234            15.395147     11.369151   \n",
       "std    166.709828   45990.461526            25.244083      8.050445   \n",
       "min      0.000000   83253.000000             0.000000      1.000000   \n",
       "25%    144.000000  211853.000000             0.000000      5.000000   \n",
       "50%    288.000000  235400.000000             5.000000     10.000000   \n",
       "75%    432.000000  260440.000000            21.000000     15.000000   \n",
       "max    576.000000  613026.000000           197.000000     46.000000   \n",
       "\n",
       "       acousticness  danceability      energy    liveness    loudness  \\\n",
       "count    577.000000    577.000000  577.000000  577.000000  577.000000   \n",
       "mean       0.336863      0.581503    0.564932    0.162508   -7.669858   \n",
       "std        0.326835      0.113880    0.190954    0.138403    2.919635   \n",
       "min        0.000184      0.243000    0.118000    0.035700  -17.932000   \n",
       "25%        0.039900      0.512000    0.417000    0.097000   -9.455000   \n",
       "50%        0.187000      0.594000    0.570000    0.115000   -7.357000   \n",
       "75%        0.661000      0.651000    0.720000    0.163000   -5.556000   \n",
       "max        0.971000      0.897000    0.950000    0.931000   -1.909000   \n",
       "\n",
       "       speechiness       tempo     valence  \n",
       "count   577.000000  577.000000  577.000000  \n",
       "mean      0.056287  122.396062    0.390438  \n",
       "std       0.069600   30.387812    0.194989  \n",
       "min       0.023100   68.097000    0.037400  \n",
       "25%       0.030300   96.601000    0.230000  \n",
       "50%       0.037600  118.995000    0.374000  \n",
       "75%       0.055800  143.950000    0.520000  \n",
       "max       0.912000  208.918000    0.943000  "
      ]
     },
     "execution_count": 38,
     "metadata": {},
     "output_type": "execute_result"
    }
   ],
   "source": [
    "df.describe()"
   ]
  },
  {
   "cell_type": "markdown",
   "metadata": {},
   "source": [
    "Checking Duplicate values"
   ]
  },
  {
   "cell_type": "code",
   "execution_count": 39,
   "metadata": {},
   "outputs": [
    {
     "data": {
      "text/plain": [
       "0"
      ]
     },
     "execution_count": 39,
     "metadata": {},
     "output_type": "execute_result"
    }
   ],
   "source": [
    "dup_df =df.duplicated().sum()\n",
    "dup_df"
   ]
  },
  {
   "cell_type": "markdown",
   "metadata": {},
   "source": [
    "# Data Exploration"
   ]
  },
  {
   "cell_type": "code",
   "execution_count": 40,
   "metadata": {},
   "outputs": [
    {
     "data": {
      "text/html": [
       "<div>\n",
       "<style scoped>\n",
       "    .dataframe tbody tr th:only-of-type {\n",
       "        vertical-align: middle;\n",
       "    }\n",
       "\n",
       "    .dataframe tbody tr th {\n",
       "        vertical-align: top;\n",
       "    }\n",
       "\n",
       "    .dataframe thead th {\n",
       "        text-align: right;\n",
       "    }\n",
       "</style>\n",
       "<table border=\"1\" class=\"dataframe\">\n",
       "  <thead>\n",
       "    <tr style=\"text-align: right;\">\n",
       "      <th></th>\n",
       "      <th>ID</th>\n",
       "      <th>track_name</th>\n",
       "      <th>track_musical_genre</th>\n",
       "      <th>track_type</th>\n",
       "      <th>duration_ms</th>\n",
       "      <th>feature</th>\n",
       "      <th>track_videoclip</th>\n",
       "      <th>videoclip_views</th>\n",
       "      <th>spotify_streams</th>\n",
       "      <th>spotify_global_peak</th>\n",
       "      <th>...</th>\n",
       "      <th>uri</th>\n",
       "      <th>acousticness</th>\n",
       "      <th>danceability</th>\n",
       "      <th>energy</th>\n",
       "      <th>instrumentalness</th>\n",
       "      <th>liveness</th>\n",
       "      <th>loudness</th>\n",
       "      <th>speechiness</th>\n",
       "      <th>tempo</th>\n",
       "      <th>valence</th>\n",
       "    </tr>\n",
       "  </thead>\n",
       "  <tbody>\n",
       "    <tr>\n",
       "      <th>0</th>\n",
       "      <td>0</td>\n",
       "      <td>Fortnight (feat. Post Malone)</td>\n",
       "      <td>Synth Pop</td>\n",
       "      <td>Single</td>\n",
       "      <td>228965</td>\n",
       "      <td>Post Malone</td>\n",
       "      <td>No</td>\n",
       "      <td>0</td>\n",
       "      <td>648525069</td>\n",
       "      <td>1</td>\n",
       "      <td>...</td>\n",
       "      <td>spotify:track:6dODwocEuGzHAavXqTbwHv</td>\n",
       "      <td>0.5020</td>\n",
       "      <td>0.504</td>\n",
       "      <td>0.386</td>\n",
       "      <td>1.53e-05</td>\n",
       "      <td>0.0961</td>\n",
       "      <td>-10.976</td>\n",
       "      <td>0.0308</td>\n",
       "      <td>192.004</td>\n",
       "      <td>0.281</td>\n",
       "    </tr>\n",
       "    <tr>\n",
       "      <th>1</th>\n",
       "      <td>1</td>\n",
       "      <td>The Tortured Poets Department</td>\n",
       "      <td>Synth Pop</td>\n",
       "      <td>B-Side</td>\n",
       "      <td>293048</td>\n",
       "      <td>No</td>\n",
       "      <td>No</td>\n",
       "      <td>0</td>\n",
       "      <td>206954130</td>\n",
       "      <td>6</td>\n",
       "      <td>...</td>\n",
       "      <td>spotify:track:4PdLaGZubp4lghChqp8erB</td>\n",
       "      <td>0.0483</td>\n",
       "      <td>0.604</td>\n",
       "      <td>0.428</td>\n",
       "      <td>0.0</td>\n",
       "      <td>0.1260</td>\n",
       "      <td>-8.441</td>\n",
       "      <td>0.0255</td>\n",
       "      <td>110.259</td>\n",
       "      <td>0.292</td>\n",
       "    </tr>\n",
       "    <tr>\n",
       "      <th>2</th>\n",
       "      <td>2</td>\n",
       "      <td>My Boy Only Breaks His Favorite Toys</td>\n",
       "      <td>Synth Pop</td>\n",
       "      <td>B-Side</td>\n",
       "      <td>203801</td>\n",
       "      <td>No</td>\n",
       "      <td>No</td>\n",
       "      <td>0</td>\n",
       "      <td>238016975</td>\n",
       "      <td>7</td>\n",
       "      <td>...</td>\n",
       "      <td>spotify:track:7uGYWMwRy24dm7RUDDhUlD</td>\n",
       "      <td>0.1370</td>\n",
       "      <td>0.596</td>\n",
       "      <td>0.563</td>\n",
       "      <td>0.0</td>\n",
       "      <td>0.3020</td>\n",
       "      <td>-7.362</td>\n",
       "      <td>0.0269</td>\n",
       "      <td>97.073</td>\n",
       "      <td>0.481</td>\n",
       "    </tr>\n",
       "    <tr>\n",
       "      <th>3</th>\n",
       "      <td>3</td>\n",
       "      <td>Down Bad</td>\n",
       "      <td>R&amp;B</td>\n",
       "      <td>B-Side</td>\n",
       "      <td>261228</td>\n",
       "      <td>No</td>\n",
       "      <td>No</td>\n",
       "      <td>0</td>\n",
       "      <td>318375377</td>\n",
       "      <td>2</td>\n",
       "      <td>...</td>\n",
       "      <td>spotify:track:1kbEbBdEgQdQeLXCJh28pJ</td>\n",
       "      <td>0.5600</td>\n",
       "      <td>0.541</td>\n",
       "      <td>0.366</td>\n",
       "      <td>1,00E-06</td>\n",
       "      <td>0.0946</td>\n",
       "      <td>-10.412</td>\n",
       "      <td>0.0748</td>\n",
       "      <td>159.707</td>\n",
       "      <td>0.168</td>\n",
       "    </tr>\n",
       "    <tr>\n",
       "      <th>4</th>\n",
       "      <td>4</td>\n",
       "      <td>So Long, London</td>\n",
       "      <td>Synth Pop</td>\n",
       "      <td>B-Side</td>\n",
       "      <td>262974</td>\n",
       "      <td>No</td>\n",
       "      <td>No</td>\n",
       "      <td>0</td>\n",
       "      <td>253712712</td>\n",
       "      <td>4</td>\n",
       "      <td>...</td>\n",
       "      <td>spotify:track:7wAkQFShJ27V8362MqevQr</td>\n",
       "      <td>0.7300</td>\n",
       "      <td>0.423</td>\n",
       "      <td>0.533</td>\n",
       "      <td>0.00264</td>\n",
       "      <td>0.0816</td>\n",
       "      <td>-11.388</td>\n",
       "      <td>0.3220</td>\n",
       "      <td>160.218</td>\n",
       "      <td>0.248</td>\n",
       "    </tr>\n",
       "  </tbody>\n",
       "</table>\n",
       "<p>5 rows × 28 columns</p>\n",
       "</div>"
      ],
      "text/plain": [
       "   ID                            track_name track_musical_genre track_type  \\\n",
       "0   0         Fortnight (feat. Post Malone)           Synth Pop     Single   \n",
       "1   1         The Tortured Poets Department           Synth Pop     B-Side   \n",
       "2   2  My Boy Only Breaks His Favorite Toys           Synth Pop     B-Side   \n",
       "3   3                              Down Bad                 R&B     B-Side   \n",
       "4   4                       So Long, London           Synth Pop     B-Side   \n",
       "\n",
       "   duration_ms      feature track_videoclip videoclip_views spotify_streams  \\\n",
       "0       228965  Post Malone              No               0       648525069   \n",
       "1       293048           No              No               0       206954130   \n",
       "2       203801           No              No               0       238016975   \n",
       "3       261228           No              No               0       318375377   \n",
       "4       262974           No              No               0       253712712   \n",
       "\n",
       "   spotify_global_peak  ...                                   uri  \\\n",
       "0                    1  ...  spotify:track:6dODwocEuGzHAavXqTbwHv   \n",
       "1                    6  ...  spotify:track:4PdLaGZubp4lghChqp8erB   \n",
       "2                    7  ...  spotify:track:7uGYWMwRy24dm7RUDDhUlD   \n",
       "3                    2  ...  spotify:track:1kbEbBdEgQdQeLXCJh28pJ   \n",
       "4                    4  ...  spotify:track:7wAkQFShJ27V8362MqevQr   \n",
       "\n",
       "   acousticness danceability energy instrumentalness liveness loudness  \\\n",
       "0        0.5020        0.504  0.386         1.53e-05   0.0961  -10.976   \n",
       "1        0.0483        0.604  0.428              0.0   0.1260   -8.441   \n",
       "2        0.1370        0.596  0.563              0.0   0.3020   -7.362   \n",
       "3        0.5600        0.541  0.366         1,00E-06   0.0946  -10.412   \n",
       "4        0.7300        0.423  0.533          0.00264   0.0816  -11.388   \n",
       "\n",
       "  speechiness    tempo  valence  \n",
       "0      0.0308  192.004    0.281  \n",
       "1      0.0255  110.259    0.292  \n",
       "2      0.0269   97.073    0.481  \n",
       "3      0.0748  159.707    0.168  \n",
       "4      0.3220  160.218    0.248  \n",
       "\n",
       "[5 rows x 28 columns]"
      ]
     },
     "execution_count": 40,
     "metadata": {},
     "output_type": "execute_result"
    }
   ],
   "source": [
    "df.head()"
   ]
  },
  {
   "cell_type": "markdown",
   "metadata": {},
   "source": [
    "checking null values"
   ]
  },
  {
   "cell_type": "code",
   "execution_count": 41,
   "metadata": {},
   "outputs": [
    {
     "data": {
      "text/plain": [
       "ID                      0\n",
       "track_name              0\n",
       "track_musical_genre     0\n",
       "track_type              0\n",
       "duration_ms             0\n",
       "feature                 0\n",
       "track_videoclip         0\n",
       "videoclip_views         0\n",
       "spotify_streams         0\n",
       "spotify_global_peak     0\n",
       "album                   0\n",
       "track_number            0\n",
       "album_musical_genre     0\n",
       "album_type              0\n",
       "release_date            0\n",
       "album_physical_sales    2\n",
       "track_lyrics            0\n",
       "track_theme             3\n",
       "uri                     0\n",
       "acousticness            0\n",
       "danceability            0\n",
       "energy                  0\n",
       "instrumentalness        0\n",
       "liveness                0\n",
       "loudness                0\n",
       "speechiness             0\n",
       "tempo                   0\n",
       "valence                 0\n",
       "dtype: int64"
      ]
     },
     "execution_count": 41,
     "metadata": {},
     "output_type": "execute_result"
    }
   ],
   "source": [
    "df.isnull().sum()"
   ]
  },
  {
   "cell_type": "markdown",
   "metadata": {},
   "source": [
    "Removing null values"
   ]
  },
  {
   "cell_type": "code",
   "execution_count": 42,
   "metadata": {},
   "outputs": [],
   "source": [
    "# drop null rows\n",
    "drop_null =df.dropna()\n",
    "# removing null columns\n",
    "drop_null_col=df.dropna(axis=1)"
   ]
  },
  {
   "cell_type": "markdown",
   "metadata": {},
   "source": [
    "# Data cleaning"
   ]
  },
  {
   "cell_type": "markdown",
   "metadata": {},
   "source": [
    "Identifying Outliers Using Z-Score"
   ]
  },
  {
   "cell_type": "code",
   "execution_count": 43,
   "metadata": {},
   "outputs": [],
   "source": [
    "from scipy import stats"
   ]
  },
  {
   "cell_type": "code",
   "execution_count": 44,
   "metadata": {},
   "outputs": [],
   "source": [
    "# Calculate Z-scores of numerical columns\n",
    "z_scores = stats.zscore(df.select_dtypes(include=['float64', 'int64']))\n",
    "\n",
    "# Identify outliers (Z-score > 3 or < -3)\n",
    "df_outliers = df[(z_scores > 3).any(axis=1) | (z_scores < -3).any(axis=1)]"
   ]
  },
  {
   "cell_type": "markdown",
   "metadata": {},
   "source": [
    "removing outliers"
   ]
  },
  {
   "cell_type": "code",
   "execution_count": 45,
   "metadata": {},
   "outputs": [],
   "source": [
    "df_no_outliers = df[(z_scores<3).all(axis=1) & (z_scores > -3).all(axis=1)]"
   ]
  },
  {
   "cell_type": "markdown",
   "metadata": {},
   "source": [
    "# Detailed Analytics on Taylor Swift"
   ]
  },
  {
   "cell_type": "markdown",
   "metadata": {},
   "source": [
    "What are the most common musical genres in Taylor Swift's tracks?"
   ]
  },
  {
   "cell_type": "code",
   "execution_count": 46,
   "metadata": {},
   "outputs": [
    {
     "data": {
      "application/vnd.plotly.v1+json": {
       "config": {
        "plotlyServerURL": "https://plot.ly"
       },
       "data": [
        {
         "alignmentgroup": "True",
         "hovertemplate": "track_musical_genre=%{x}<br>count=%{y}<extra></extra>",
         "legendgroup": "Synth Pop",
         "marker": {
          "color": "#636efa",
          "pattern": {
           "shape": ""
          }
         },
         "name": "Synth Pop",
         "offsetgroup": "Synth Pop",
         "orientation": "v",
         "showlegend": true,
         "textposition": "auto",
         "type": "bar",
         "x": [
          "Synth Pop",
          "Synth Pop",
          "Synth Pop",
          "Synth Pop",
          "Synth Pop",
          "Synth Pop",
          "Synth Pop",
          "Synth Pop",
          "Synth Pop",
          "Synth Pop",
          "Synth Pop",
          "Synth Pop",
          "Synth Pop",
          "Synth Pop",
          "Synth Pop",
          "Synth Pop",
          "Synth Pop",
          "Synth Pop",
          "Synth Pop",
          "Synth Pop",
          "Synth Pop",
          "Synth Pop",
          "Synth Pop",
          "Synth Pop",
          "Synth Pop",
          "Synth Pop",
          "Synth Pop",
          "Synth Pop",
          "Synth Pop",
          "Synth Pop",
          "Synth Pop",
          "Synth Pop",
          "Synth Pop",
          "Synth Pop",
          "Synth Pop",
          "Synth Pop",
          "Synth Pop",
          "Synth Pop",
          "Synth Pop",
          "Synth Pop",
          "Synth Pop",
          "Synth Pop",
          "Synth Pop",
          "Synth Pop",
          "Synth Pop",
          "Synth Pop",
          "Synth Pop",
          "Synth Pop",
          "Synth Pop",
          "Synth Pop",
          "Synth Pop",
          "Synth Pop",
          "Synth Pop",
          "Synth Pop",
          "Synth Pop",
          "Synth Pop",
          "Synth Pop",
          "Synth Pop",
          "Synth Pop",
          "Synth Pop",
          "Synth Pop",
          "Synth Pop",
          "Synth Pop",
          "Synth Pop",
          "Synth Pop",
          "Synth Pop",
          "Synth Pop",
          "Synth Pop",
          "Synth Pop",
          "Synth Pop",
          "Synth Pop",
          "Synth Pop",
          "Synth Pop",
          "Synth Pop",
          "Synth Pop",
          "Synth Pop",
          "Synth Pop",
          "Synth Pop",
          "Synth Pop",
          "Synth Pop",
          "Synth Pop",
          "Synth Pop",
          "Synth Pop",
          "Synth Pop",
          "Synth Pop",
          "Synth Pop",
          "Synth Pop",
          "Synth Pop",
          "Synth Pop",
          "Synth Pop",
          "Synth Pop",
          "Synth Pop",
          "Synth Pop",
          "Synth Pop",
          "Synth Pop",
          "Synth Pop",
          "Synth Pop",
          "Synth Pop",
          "Synth Pop",
          "Synth Pop",
          "Synth Pop"
         ],
         "xaxis": "x",
         "y": [
          1,
          1,
          1,
          1,
          1,
          1,
          1,
          1,
          1,
          1,
          1,
          1,
          1,
          1,
          1,
          1,
          1,
          1,
          1,
          1,
          1,
          1,
          1,
          1,
          1,
          1,
          1,
          1,
          1,
          1,
          1,
          1,
          1,
          1,
          1,
          1,
          1,
          1,
          1,
          1,
          1,
          1,
          1,
          1,
          1,
          1,
          1,
          1,
          1,
          1,
          1,
          1,
          1,
          1,
          1,
          1,
          1,
          1,
          1,
          1,
          1,
          1,
          1,
          1,
          1,
          1,
          1,
          1,
          1,
          1,
          1,
          1,
          1,
          1,
          1,
          1,
          1,
          1,
          1,
          1,
          1,
          1,
          1,
          1,
          1,
          1,
          1,
          1,
          1,
          1,
          1,
          1,
          1,
          1,
          1,
          1,
          1,
          1,
          1,
          1,
          1
         ],
         "yaxis": "y"
        },
        {
         "alignmentgroup": "True",
         "hovertemplate": "track_musical_genre=%{x}<br>count=%{y}<extra></extra>",
         "legendgroup": "R&B",
         "marker": {
          "color": "#EF553B",
          "pattern": {
           "shape": ""
          }
         },
         "name": "R&B",
         "offsetgroup": "R&B",
         "orientation": "v",
         "showlegend": true,
         "textposition": "auto",
         "type": "bar",
         "x": [
          "R&B",
          "R&B",
          "R&B",
          "R&B",
          "R&B",
          "R&B",
          "R&B"
         ],
         "xaxis": "x",
         "y": [
          1,
          1,
          1,
          1,
          1,
          1,
          1
         ],
         "yaxis": "y"
        },
        {
         "alignmentgroup": "True",
         "hovertemplate": "track_musical_genre=%{x}<br>count=%{y}<extra></extra>",
         "legendgroup": "Pop Rock",
         "marker": {
          "color": "#00cc96",
          "pattern": {
           "shape": ""
          }
         },
         "name": "Pop Rock",
         "offsetgroup": "Pop Rock",
         "orientation": "v",
         "showlegend": true,
         "textposition": "auto",
         "type": "bar",
         "x": [
          "Pop Rock",
          "Pop Rock",
          "Pop Rock",
          "Pop Rock",
          "Pop Rock",
          "Pop Rock",
          "Pop Rock",
          "Pop Rock",
          "Pop Rock",
          "Pop Rock",
          "Pop Rock",
          "Pop Rock",
          "Pop Rock",
          "Pop Rock",
          "Pop Rock",
          "Pop Rock",
          "Pop Rock",
          "Pop Rock",
          "Pop Rock",
          "Pop Rock",
          "Pop Rock",
          "Pop Rock",
          "Pop Rock",
          "Pop Rock",
          "Pop Rock",
          "Pop Rock",
          "Pop Rock",
          "Pop Rock",
          "Pop Rock",
          "Pop Rock",
          "Pop Rock",
          "Pop Rock",
          "Pop Rock",
          "Pop Rock",
          "Pop Rock",
          "Pop Rock",
          "Pop Rock",
          "Pop Rock",
          "Pop Rock",
          "Pop Rock",
          "Pop Rock",
          "Pop Rock",
          "Pop Rock",
          "Pop Rock",
          "Pop Rock",
          "Pop Rock",
          "Pop Rock",
          "Pop Rock",
          "Pop Rock",
          "Pop Rock",
          "Pop Rock",
          "Pop Rock",
          "Pop Rock",
          "Pop Rock",
          "Pop Rock",
          "Pop Rock",
          "Pop Rock",
          "Pop Rock",
          "Pop Rock",
          "Pop Rock",
          "Pop Rock",
          "Pop Rock",
          "Pop Rock",
          "Pop Rock",
          "Pop Rock",
          "Pop Rock",
          "Pop Rock",
          "Pop Rock",
          "Pop Rock",
          "Pop Rock",
          "Pop Rock",
          "Pop Rock",
          "Pop Rock",
          "Pop Rock",
          "Pop Rock",
          "Pop Rock",
          "Pop Rock",
          "Pop Rock",
          "Pop Rock",
          "Pop Rock",
          "Pop Rock",
          "Pop Rock",
          "Pop Rock",
          "Pop Rock",
          "Pop Rock",
          "Pop Rock",
          "Pop Rock"
         ],
         "xaxis": "x",
         "y": [
          1,
          1,
          1,
          1,
          1,
          1,
          1,
          1,
          1,
          1,
          1,
          1,
          1,
          1,
          1,
          1,
          1,
          1,
          1,
          1,
          1,
          1,
          1,
          1,
          1,
          1,
          1,
          1,
          1,
          1,
          1,
          1,
          1,
          1,
          1,
          1,
          1,
          1,
          1,
          1,
          1,
          1,
          1,
          1,
          1,
          1,
          1,
          1,
          1,
          1,
          1,
          1,
          1,
          1,
          1,
          1,
          1,
          1,
          1,
          1,
          1,
          1,
          1,
          1,
          1,
          1,
          1,
          1,
          1,
          1,
          1,
          1,
          1,
          1,
          1,
          1,
          1,
          1,
          1,
          1,
          1,
          1,
          1,
          1,
          1,
          1,
          1
         ],
         "yaxis": "y"
        },
        {
         "alignmentgroup": "True",
         "hovertemplate": "track_musical_genre=%{x}<br>count=%{y}<extra></extra>",
         "legendgroup": "Indie Rock",
         "marker": {
          "color": "#ab63fa",
          "pattern": {
           "shape": ""
          }
         },
         "name": "Indie Rock",
         "offsetgroup": "Indie Rock",
         "orientation": "v",
         "showlegend": true,
         "textposition": "auto",
         "type": "bar",
         "x": [
          "Indie Rock",
          "Indie Rock",
          "Indie Rock",
          "Indie Rock"
         ],
         "xaxis": "x",
         "y": [
          1,
          1,
          1,
          1
         ],
         "yaxis": "y"
        },
        {
         "alignmentgroup": "True",
         "hovertemplate": "track_musical_genre=%{x}<br>count=%{y}<extra></extra>",
         "legendgroup": "Indie Pop",
         "marker": {
          "color": "#FFA15A",
          "pattern": {
           "shape": ""
          }
         },
         "name": "Indie Pop",
         "offsetgroup": "Indie Pop",
         "orientation": "v",
         "showlegend": true,
         "textposition": "auto",
         "type": "bar",
         "x": [
          "Indie Pop",
          "Indie Pop",
          "Indie Pop",
          "Indie Pop",
          "Indie Pop",
          "Indie Pop",
          "Indie Pop",
          "Indie Pop",
          "Indie Pop",
          "Indie Pop",
          "Indie Pop",
          "Indie Pop",
          "Indie Pop",
          "Indie Pop",
          "Indie Pop",
          "Indie Pop",
          "Indie Pop",
          "Indie Pop",
          "Indie Pop",
          "Indie Pop",
          "Indie Pop",
          "Indie Pop",
          "Indie Pop",
          "Indie Pop",
          "Indie Pop",
          "Indie Pop",
          "Indie Pop",
          "Indie Pop",
          "Indie Pop",
          "Indie Pop",
          "Indie Pop",
          "Indie Pop"
         ],
         "xaxis": "x",
         "y": [
          1,
          1,
          1,
          1,
          1,
          1,
          1,
          1,
          1,
          1,
          1,
          1,
          1,
          1,
          1,
          1,
          1,
          1,
          1,
          1,
          1,
          1,
          1,
          1,
          1,
          1,
          1,
          1,
          1,
          1,
          1,
          1
         ],
         "yaxis": "y"
        },
        {
         "alignmentgroup": "True",
         "hovertemplate": "track_musical_genre=%{x}<br>count=%{y}<extra></extra>",
         "legendgroup": "Folk Pop",
         "marker": {
          "color": "#19d3f3",
          "pattern": {
           "shape": ""
          }
         },
         "name": "Folk Pop",
         "offsetgroup": "Folk Pop",
         "orientation": "v",
         "showlegend": true,
         "textposition": "auto",
         "type": "bar",
         "x": [
          "Folk Pop",
          "Folk Pop",
          "Folk Pop",
          "Folk Pop",
          "Folk Pop",
          "Folk Pop",
          "Folk Pop",
          "Folk Pop",
          "Folk Pop"
         ],
         "xaxis": "x",
         "y": [
          1,
          1,
          1,
          1,
          1,
          1,
          1,
          1,
          1
         ],
         "yaxis": "y"
        },
        {
         "alignmentgroup": "True",
         "hovertemplate": "track_musical_genre=%{x}<br>count=%{y}<extra></extra>",
         "legendgroup": "Electropop",
         "marker": {
          "color": "#FF6692",
          "pattern": {
           "shape": ""
          }
         },
         "name": "Electropop",
         "offsetgroup": "Electropop",
         "orientation": "v",
         "showlegend": true,
         "textposition": "auto",
         "type": "bar",
         "x": [
          "Electropop",
          "Electropop",
          "Electropop",
          "Electropop",
          "Electropop",
          "Electropop",
          "Electropop",
          "Electropop",
          "Electropop",
          "Electropop",
          "Electropop",
          "Electropop",
          "Electropop",
          "Electropop",
          "Electropop",
          "Electropop",
          "Electropop",
          "Electropop",
          "Electropop",
          "Electropop",
          "Electropop",
          "Electropop",
          "Electropop",
          "Electropop",
          "Electropop",
          "Electropop",
          "Electropop",
          "Electropop",
          "Electropop",
          "Electropop"
         ],
         "xaxis": "x",
         "y": [
          1,
          1,
          1,
          1,
          1,
          1,
          1,
          1,
          1,
          1,
          1,
          1,
          1,
          1,
          1,
          1,
          1,
          1,
          1,
          1,
          1,
          1,
          1,
          1,
          1,
          1,
          1,
          1,
          1,
          1
         ],
         "yaxis": "y"
        },
        {
         "alignmentgroup": "True",
         "hovertemplate": "track_musical_genre=%{x}<br>count=%{y}<extra></extra>",
         "legendgroup": "Country Pop",
         "marker": {
          "color": "#B6E880",
          "pattern": {
           "shape": ""
          }
         },
         "name": "Country Pop",
         "offsetgroup": "Country Pop",
         "orientation": "v",
         "showlegend": true,
         "textposition": "auto",
         "type": "bar",
         "x": [
          "Country Pop",
          "Country Pop",
          "Country Pop",
          "Country Pop",
          "Country Pop",
          "Country Pop",
          "Country Pop",
          "Country Pop",
          "Country Pop",
          "Country Pop",
          "Country Pop",
          "Country Pop",
          "Country Pop",
          "Country Pop",
          "Country Pop",
          "Country Pop",
          "Country Pop",
          "Country Pop",
          "Country Pop",
          "Country Pop",
          "Country Pop",
          "Country Pop",
          "Country Pop",
          "Country Pop",
          "Country Pop",
          "Country Pop",
          "Country Pop",
          "Country Pop",
          "Country Pop",
          "Country Pop",
          "Country Pop",
          "Country Pop",
          "Country Pop",
          "Country Pop",
          "Country Pop",
          "Country Pop",
          "Country Pop",
          "Country Pop",
          "Country Pop",
          "Country Pop",
          "Country Pop",
          "Country Pop",
          "Country Pop",
          "Country Pop",
          "Country Pop",
          "Country Pop",
          "Country Pop",
          "Country Pop",
          "Country Pop",
          "Country Pop",
          "Country Pop",
          "Country Pop",
          "Country Pop",
          "Country Pop",
          "Country Pop",
          "Country Pop",
          "Country Pop",
          "Country Pop",
          "Country Pop",
          "Country Pop",
          "Country Pop",
          "Country Pop",
          "Country Pop",
          "Country Pop",
          "Country Pop",
          "Country Pop",
          "Country Pop",
          "Country Pop",
          "Country Pop",
          "Country Pop",
          "Country Pop",
          "Country Pop",
          "Country Pop",
          "Country Pop",
          "Country Pop",
          "Country Pop",
          "Country Pop",
          "Country Pop",
          "Country Pop",
          "Country Pop",
          "Country Pop",
          "Country Pop",
          "Country Pop",
          "Country Pop",
          "Country Pop",
          "Country Pop",
          "Country Pop",
          "Country Pop",
          "Country Pop",
          "Country Pop",
          "Country Pop",
          "Country Pop",
          "Country Pop",
          "Country Pop",
          "Country Pop",
          "Country Pop",
          "Country Pop",
          "Country Pop",
          "Country Pop",
          "Country Pop",
          "Country Pop",
          "Country Pop",
          "Country Pop",
          "Country Pop",
          "Country Pop",
          "Country Pop",
          "Country Pop",
          "Country Pop",
          "Country Pop",
          "Country Pop",
          "Country Pop",
          "Country Pop",
          "Country Pop",
          "Country Pop",
          "Country Pop",
          "Country Pop",
          "Country Pop",
          "Country Pop",
          "Country Pop",
          "Country Pop",
          "Country Pop",
          "Country Pop",
          "Country Pop",
          "Country Pop",
          "Country Pop",
          "Country Pop",
          "Country Pop",
          "Country Pop",
          "Country Pop",
          "Country Pop",
          "Country Pop",
          "Country Pop",
          "Country Pop",
          "Country Pop",
          "Country Pop",
          "Country Pop",
          "Country Pop",
          "Country Pop",
          "Country Pop",
          "Country Pop",
          "Country Pop",
          "Country Pop",
          "Country Pop",
          "Country Pop",
          "Country Pop",
          "Country Pop",
          "Country Pop",
          "Country Pop",
          "Country Pop",
          "Country Pop",
          "Country Pop",
          "Country Pop"
         ],
         "xaxis": "x",
         "y": [
          1,
          1,
          1,
          1,
          1,
          1,
          1,
          1,
          1,
          1,
          1,
          1,
          1,
          1,
          1,
          1,
          1,
          1,
          1,
          1,
          1,
          1,
          1,
          1,
          1,
          1,
          1,
          1,
          1,
          1,
          1,
          1,
          1,
          1,
          1,
          1,
          1,
          1,
          1,
          1,
          1,
          1,
          1,
          1,
          1,
          1,
          1,
          1,
          1,
          1,
          1,
          1,
          1,
          1,
          1,
          1,
          1,
          1,
          1,
          1,
          1,
          1,
          1,
          1,
          1,
          1,
          1,
          1,
          1,
          1,
          1,
          1,
          1,
          1,
          1,
          1,
          1,
          1,
          1,
          1,
          1,
          1,
          1,
          1,
          1,
          1,
          1,
          1,
          1,
          1,
          1,
          1,
          1,
          1,
          1,
          1,
          1,
          1,
          1,
          1,
          1,
          1,
          1,
          1,
          1,
          1,
          1,
          1,
          1,
          1,
          1,
          1,
          1,
          1,
          1,
          1,
          1,
          1,
          1,
          1,
          1,
          1,
          1,
          1,
          1,
          1,
          1,
          1,
          1,
          1,
          1,
          1,
          1,
          1,
          1,
          1,
          1,
          1,
          1,
          1,
          1,
          1,
          1,
          1,
          1,
          1,
          1,
          1,
          1,
          1,
          1,
          1
         ],
         "yaxis": "y"
        },
        {
         "alignmentgroup": "True",
         "hovertemplate": "track_musical_genre=%{x}<br>count=%{y}<extra></extra>",
         "legendgroup": "Dance Pop",
         "marker": {
          "color": "#FF97FF",
          "pattern": {
           "shape": ""
          }
         },
         "name": "Dance Pop",
         "offsetgroup": "Dance Pop",
         "orientation": "v",
         "showlegend": true,
         "textposition": "auto",
         "type": "bar",
         "x": [
          "Dance Pop",
          "Dance Pop",
          "Dance Pop",
          "Dance Pop",
          "Dance Pop",
          "Dance Pop",
          "Dance Pop",
          "Dance Pop",
          "Dance Pop",
          "Dance Pop",
          "Dance Pop",
          "Dance Pop",
          "Dance Pop",
          "Dance Pop",
          "Dance Pop",
          "Dance Pop",
          "Dance Pop",
          "Dance Pop",
          "Dance Pop",
          "Dance Pop",
          "Dance Pop",
          "Dance Pop",
          "Dance Pop",
          "Dance Pop",
          "Dance Pop"
         ],
         "xaxis": "x",
         "y": [
          1,
          1,
          1,
          1,
          1,
          1,
          1,
          1,
          1,
          1,
          1,
          1,
          1,
          1,
          1,
          1,
          1,
          1,
          1,
          1,
          1,
          1,
          1,
          1,
          1
         ],
         "yaxis": "y"
        },
        {
         "alignmentgroup": "True",
         "hovertemplate": "track_musical_genre=%{x}<br>count=%{y}<extra></extra>",
         "legendgroup": "Dream Pop",
         "marker": {
          "color": "#FECB52",
          "pattern": {
           "shape": ""
          }
         },
         "name": "Dream Pop",
         "offsetgroup": "Dream Pop",
         "orientation": "v",
         "showlegend": true,
         "textposition": "auto",
         "type": "bar",
         "x": [
          "Dream Pop",
          "Dream Pop",
          "Dream Pop",
          "Dream Pop",
          "Dream Pop",
          "Dream Pop"
         ],
         "xaxis": "x",
         "y": [
          1,
          1,
          1,
          1,
          1,
          1
         ],
         "yaxis": "y"
        },
        {
         "alignmentgroup": "True",
         "hovertemplate": "track_musical_genre=%{x}<br>count=%{y}<extra></extra>",
         "legendgroup": "Pop",
         "marker": {
          "color": "#636efa",
          "pattern": {
           "shape": ""
          }
         },
         "name": "Pop",
         "offsetgroup": "Pop",
         "orientation": "v",
         "showlegend": true,
         "textposition": "auto",
         "type": "bar",
         "x": [
          "Pop",
          "Pop",
          "Pop",
          "Pop",
          "Pop",
          "Pop",
          "Pop",
          "Pop",
          "Pop",
          "Pop",
          "Pop",
          "Pop",
          "Pop",
          "Pop",
          "Pop",
          "Pop",
          "Pop",
          "Pop",
          "Pop",
          "Pop",
          "Pop",
          "Pop",
          "Pop",
          "Pop",
          "Pop"
         ],
         "xaxis": "x",
         "y": [
          1,
          1,
          1,
          1,
          1,
          1,
          1,
          1,
          1,
          1,
          1,
          1,
          1,
          1,
          1,
          1,
          1,
          1,
          1,
          1,
          1,
          1,
          1,
          1,
          1
         ],
         "yaxis": "y"
        },
        {
         "alignmentgroup": "True",
         "hovertemplate": "track_musical_genre=%{x}<br>count=%{y}<extra></extra>",
         "legendgroup": "Pop Rock ",
         "marker": {
          "color": "#EF553B",
          "pattern": {
           "shape": ""
          }
         },
         "name": "Pop Rock ",
         "offsetgroup": "Pop Rock ",
         "orientation": "v",
         "showlegend": true,
         "textposition": "auto",
         "type": "bar",
         "x": [
          "Pop Rock ",
          "Pop Rock ",
          "Pop Rock ",
          "Pop Rock ",
          "Pop Rock ",
          "Pop Rock ",
          "Pop Rock ",
          "Pop Rock ",
          "Pop Rock ",
          "Pop Rock ",
          "Pop Rock ",
          "Pop Rock "
         ],
         "xaxis": "x",
         "y": [
          1,
          1,
          1,
          1,
          1,
          1,
          1,
          1,
          1,
          1,
          1,
          1
         ],
         "yaxis": "y"
        },
        {
         "alignmentgroup": "True",
         "hovertemplate": "track_musical_genre=%{x}<br>count=%{y}<extra></extra>",
         "legendgroup": "Alternative Rock",
         "marker": {
          "color": "#00cc96",
          "pattern": {
           "shape": ""
          }
         },
         "name": "Alternative Rock",
         "offsetgroup": "Alternative Rock",
         "orientation": "v",
         "showlegend": true,
         "textposition": "auto",
         "type": "bar",
         "x": [
          "Alternative Rock",
          "Alternative Rock",
          "Alternative Rock",
          "Alternative Rock"
         ],
         "xaxis": "x",
         "y": [
          1,
          1,
          1,
          1
         ],
         "yaxis": "y"
        },
        {
         "alignmentgroup": "True",
         "hovertemplate": "track_musical_genre=%{x}<br>count=%{y}<extra></extra>",
         "legendgroup": "Indie Folk",
         "marker": {
          "color": "#ab63fa",
          "pattern": {
           "shape": ""
          }
         },
         "name": "Indie Folk",
         "offsetgroup": "Indie Folk",
         "orientation": "v",
         "showlegend": true,
         "textposition": "auto",
         "type": "bar",
         "x": [
          "Indie Folk",
          "Indie Folk",
          "Indie Folk",
          "Indie Folk",
          "Indie Folk",
          "Indie Folk",
          "Indie Folk",
          "Indie Folk",
          "Indie Folk",
          "Indie Folk",
          "Indie Folk",
          "Indie Folk",
          "Indie Folk",
          "Indie Folk",
          "Indie Folk",
          "Indie Folk",
          "Indie Folk",
          "Indie Folk",
          "Indie Folk",
          "Indie Folk",
          "Indie Folk",
          "Indie Folk",
          "Indie Folk",
          "Indie Folk",
          "Indie Folk",
          "Indie Folk",
          "Indie Folk",
          "Indie Folk",
          "Indie Folk",
          "Indie Folk",
          "Indie Folk",
          "Indie Folk",
          "Indie Folk",
          "Indie Folk",
          "Indie Folk",
          "Indie Folk",
          "Indie Folk",
          "Indie Folk",
          "Indie Folk",
          "Indie Folk",
          "Indie Folk",
          "Indie Folk",
          "Indie Folk",
          "Indie Folk",
          "Indie Folk",
          "Indie Folk",
          "Indie Folk",
          "Indie Folk",
          "Indie Folk",
          "Indie Folk",
          "Indie Folk",
          "Indie Folk",
          "Indie Folk",
          "Indie Folk",
          "Indie Folk",
          "Indie Folk",
          "Indie Folk",
          "Indie Folk",
          "Indie Folk",
          "Indie Folk",
          "Indie Folk",
          "Indie Folk",
          "Indie Folk",
          "Indie Folk",
          "Indie Folk",
          "Indie Folk",
          "Indie Folk",
          "Indie Folk",
          "Indie Folk",
          "Indie Folk",
          "Indie Folk"
         ],
         "xaxis": "x",
         "y": [
          1,
          1,
          1,
          1,
          1,
          1,
          1,
          1,
          1,
          1,
          1,
          1,
          1,
          1,
          1,
          1,
          1,
          1,
          1,
          1,
          1,
          1,
          1,
          1,
          1,
          1,
          1,
          1,
          1,
          1,
          1,
          1,
          1,
          1,
          1,
          1,
          1,
          1,
          1,
          1,
          1,
          1,
          1,
          1,
          1,
          1,
          1,
          1,
          1,
          1,
          1,
          1,
          1,
          1,
          1,
          1,
          1,
          1,
          1,
          1,
          1,
          1,
          1,
          1,
          1,
          1,
          1,
          1,
          1,
          1,
          1
         ],
         "yaxis": "y"
        },
        {
         "alignmentgroup": "True",
         "hovertemplate": "track_musical_genre=%{x}<br>count=%{y}<extra></extra>",
         "legendgroup": "Pop  ",
         "marker": {
          "color": "#FFA15A",
          "pattern": {
           "shape": ""
          }
         },
         "name": "Pop  ",
         "offsetgroup": "Pop  ",
         "orientation": "v",
         "showlegend": true,
         "textposition": "auto",
         "type": "bar",
         "x": [
          "Pop  "
         ],
         "xaxis": "x",
         "y": [
          1
         ],
         "yaxis": "y"
        },
        {
         "alignmentgroup": "True",
         "hovertemplate": "track_musical_genre=%{x}<br>count=%{y}<extra></extra>",
         "legendgroup": "Funk Pop",
         "marker": {
          "color": "#19d3f3",
          "pattern": {
           "shape": ""
          }
         },
         "name": "Funk Pop",
         "offsetgroup": "Funk Pop",
         "orientation": "v",
         "showlegend": true,
         "textposition": "auto",
         "type": "bar",
         "x": [
          "Funk Pop"
         ],
         "xaxis": "x",
         "y": [
          1
         ],
         "yaxis": "y"
        },
        {
         "alignmentgroup": "True",
         "hovertemplate": "track_musical_genre=%{x}<br>count=%{y}<extra></extra>",
         "legendgroup": "Country",
         "marker": {
          "color": "#FF6692",
          "pattern": {
           "shape": ""
          }
         },
         "name": "Country",
         "offsetgroup": "Country",
         "orientation": "v",
         "showlegend": true,
         "textposition": "auto",
         "type": "bar",
         "x": [
          "Country",
          "Country",
          "Country",
          "Country",
          "Country",
          "Country",
          "Country"
         ],
         "xaxis": "x",
         "y": [
          1,
          1,
          1,
          1,
          1,
          1,
          1
         ],
         "yaxis": "y"
        },
        {
         "alignmentgroup": "True",
         "hovertemplate": "track_musical_genre=%{x}<br>count=%{y}<extra></extra>",
         "legendgroup": "Country  ",
         "marker": {
          "color": "#B6E880",
          "pattern": {
           "shape": ""
          }
         },
         "name": "Country  ",
         "offsetgroup": "Country  ",
         "orientation": "v",
         "showlegend": true,
         "textposition": "auto",
         "type": "bar",
         "x": [
          "Country  ",
          "Country  ",
          "Country  "
         ],
         "xaxis": "x",
         "y": [
          1,
          1,
          1
         ],
         "yaxis": "y"
        }
       ],
       "layout": {
        "barmode": "relative",
        "legend": {
         "title": {
          "text": "track_musical_genre"
         },
         "tracegroupgap": 0
        },
        "template": {
         "data": {
          "bar": [
           {
            "error_x": {
             "color": "#2a3f5f"
            },
            "error_y": {
             "color": "#2a3f5f"
            },
            "marker": {
             "line": {
              "color": "#E5ECF6",
              "width": 0.5
             },
             "pattern": {
              "fillmode": "overlay",
              "size": 10,
              "solidity": 0.2
             }
            },
            "type": "bar"
           }
          ],
          "barpolar": [
           {
            "marker": {
             "line": {
              "color": "#E5ECF6",
              "width": 0.5
             },
             "pattern": {
              "fillmode": "overlay",
              "size": 10,
              "solidity": 0.2
             }
            },
            "type": "barpolar"
           }
          ],
          "carpet": [
           {
            "aaxis": {
             "endlinecolor": "#2a3f5f",
             "gridcolor": "white",
             "linecolor": "white",
             "minorgridcolor": "white",
             "startlinecolor": "#2a3f5f"
            },
            "baxis": {
             "endlinecolor": "#2a3f5f",
             "gridcolor": "white",
             "linecolor": "white",
             "minorgridcolor": "white",
             "startlinecolor": "#2a3f5f"
            },
            "type": "carpet"
           }
          ],
          "choropleth": [
           {
            "colorbar": {
             "outlinewidth": 0,
             "ticks": ""
            },
            "type": "choropleth"
           }
          ],
          "contour": [
           {
            "colorbar": {
             "outlinewidth": 0,
             "ticks": ""
            },
            "colorscale": [
             [
              0,
              "#0d0887"
             ],
             [
              0.1111111111111111,
              "#46039f"
             ],
             [
              0.2222222222222222,
              "#7201a8"
             ],
             [
              0.3333333333333333,
              "#9c179e"
             ],
             [
              0.4444444444444444,
              "#bd3786"
             ],
             [
              0.5555555555555556,
              "#d8576b"
             ],
             [
              0.6666666666666666,
              "#ed7953"
             ],
             [
              0.7777777777777778,
              "#fb9f3a"
             ],
             [
              0.8888888888888888,
              "#fdca26"
             ],
             [
              1,
              "#f0f921"
             ]
            ],
            "type": "contour"
           }
          ],
          "contourcarpet": [
           {
            "colorbar": {
             "outlinewidth": 0,
             "ticks": ""
            },
            "type": "contourcarpet"
           }
          ],
          "heatmap": [
           {
            "colorbar": {
             "outlinewidth": 0,
             "ticks": ""
            },
            "colorscale": [
             [
              0,
              "#0d0887"
             ],
             [
              0.1111111111111111,
              "#46039f"
             ],
             [
              0.2222222222222222,
              "#7201a8"
             ],
             [
              0.3333333333333333,
              "#9c179e"
             ],
             [
              0.4444444444444444,
              "#bd3786"
             ],
             [
              0.5555555555555556,
              "#d8576b"
             ],
             [
              0.6666666666666666,
              "#ed7953"
             ],
             [
              0.7777777777777778,
              "#fb9f3a"
             ],
             [
              0.8888888888888888,
              "#fdca26"
             ],
             [
              1,
              "#f0f921"
             ]
            ],
            "type": "heatmap"
           }
          ],
          "heatmapgl": [
           {
            "colorbar": {
             "outlinewidth": 0,
             "ticks": ""
            },
            "colorscale": [
             [
              0,
              "#0d0887"
             ],
             [
              0.1111111111111111,
              "#46039f"
             ],
             [
              0.2222222222222222,
              "#7201a8"
             ],
             [
              0.3333333333333333,
              "#9c179e"
             ],
             [
              0.4444444444444444,
              "#bd3786"
             ],
             [
              0.5555555555555556,
              "#d8576b"
             ],
             [
              0.6666666666666666,
              "#ed7953"
             ],
             [
              0.7777777777777778,
              "#fb9f3a"
             ],
             [
              0.8888888888888888,
              "#fdca26"
             ],
             [
              1,
              "#f0f921"
             ]
            ],
            "type": "heatmapgl"
           }
          ],
          "histogram": [
           {
            "marker": {
             "pattern": {
              "fillmode": "overlay",
              "size": 10,
              "solidity": 0.2
             }
            },
            "type": "histogram"
           }
          ],
          "histogram2d": [
           {
            "colorbar": {
             "outlinewidth": 0,
             "ticks": ""
            },
            "colorscale": [
             [
              0,
              "#0d0887"
             ],
             [
              0.1111111111111111,
              "#46039f"
             ],
             [
              0.2222222222222222,
              "#7201a8"
             ],
             [
              0.3333333333333333,
              "#9c179e"
             ],
             [
              0.4444444444444444,
              "#bd3786"
             ],
             [
              0.5555555555555556,
              "#d8576b"
             ],
             [
              0.6666666666666666,
              "#ed7953"
             ],
             [
              0.7777777777777778,
              "#fb9f3a"
             ],
             [
              0.8888888888888888,
              "#fdca26"
             ],
             [
              1,
              "#f0f921"
             ]
            ],
            "type": "histogram2d"
           }
          ],
          "histogram2dcontour": [
           {
            "colorbar": {
             "outlinewidth": 0,
             "ticks": ""
            },
            "colorscale": [
             [
              0,
              "#0d0887"
             ],
             [
              0.1111111111111111,
              "#46039f"
             ],
             [
              0.2222222222222222,
              "#7201a8"
             ],
             [
              0.3333333333333333,
              "#9c179e"
             ],
             [
              0.4444444444444444,
              "#bd3786"
             ],
             [
              0.5555555555555556,
              "#d8576b"
             ],
             [
              0.6666666666666666,
              "#ed7953"
             ],
             [
              0.7777777777777778,
              "#fb9f3a"
             ],
             [
              0.8888888888888888,
              "#fdca26"
             ],
             [
              1,
              "#f0f921"
             ]
            ],
            "type": "histogram2dcontour"
           }
          ],
          "mesh3d": [
           {
            "colorbar": {
             "outlinewidth": 0,
             "ticks": ""
            },
            "type": "mesh3d"
           }
          ],
          "parcoords": [
           {
            "line": {
             "colorbar": {
              "outlinewidth": 0,
              "ticks": ""
             }
            },
            "type": "parcoords"
           }
          ],
          "pie": [
           {
            "automargin": true,
            "type": "pie"
           }
          ],
          "scatter": [
           {
            "fillpattern": {
             "fillmode": "overlay",
             "size": 10,
             "solidity": 0.2
            },
            "type": "scatter"
           }
          ],
          "scatter3d": [
           {
            "line": {
             "colorbar": {
              "outlinewidth": 0,
              "ticks": ""
             }
            },
            "marker": {
             "colorbar": {
              "outlinewidth": 0,
              "ticks": ""
             }
            },
            "type": "scatter3d"
           }
          ],
          "scattercarpet": [
           {
            "marker": {
             "colorbar": {
              "outlinewidth": 0,
              "ticks": ""
             }
            },
            "type": "scattercarpet"
           }
          ],
          "scattergeo": [
           {
            "marker": {
             "colorbar": {
              "outlinewidth": 0,
              "ticks": ""
             }
            },
            "type": "scattergeo"
           }
          ],
          "scattergl": [
           {
            "marker": {
             "colorbar": {
              "outlinewidth": 0,
              "ticks": ""
             }
            },
            "type": "scattergl"
           }
          ],
          "scattermapbox": [
           {
            "marker": {
             "colorbar": {
              "outlinewidth": 0,
              "ticks": ""
             }
            },
            "type": "scattermapbox"
           }
          ],
          "scatterpolar": [
           {
            "marker": {
             "colorbar": {
              "outlinewidth": 0,
              "ticks": ""
             }
            },
            "type": "scatterpolar"
           }
          ],
          "scatterpolargl": [
           {
            "marker": {
             "colorbar": {
              "outlinewidth": 0,
              "ticks": ""
             }
            },
            "type": "scatterpolargl"
           }
          ],
          "scatterternary": [
           {
            "marker": {
             "colorbar": {
              "outlinewidth": 0,
              "ticks": ""
             }
            },
            "type": "scatterternary"
           }
          ],
          "surface": [
           {
            "colorbar": {
             "outlinewidth": 0,
             "ticks": ""
            },
            "colorscale": [
             [
              0,
              "#0d0887"
             ],
             [
              0.1111111111111111,
              "#46039f"
             ],
             [
              0.2222222222222222,
              "#7201a8"
             ],
             [
              0.3333333333333333,
              "#9c179e"
             ],
             [
              0.4444444444444444,
              "#bd3786"
             ],
             [
              0.5555555555555556,
              "#d8576b"
             ],
             [
              0.6666666666666666,
              "#ed7953"
             ],
             [
              0.7777777777777778,
              "#fb9f3a"
             ],
             [
              0.8888888888888888,
              "#fdca26"
             ],
             [
              1,
              "#f0f921"
             ]
            ],
            "type": "surface"
           }
          ],
          "table": [
           {
            "cells": {
             "fill": {
              "color": "#EBF0F8"
             },
             "line": {
              "color": "white"
             }
            },
            "header": {
             "fill": {
              "color": "#C8D4E3"
             },
             "line": {
              "color": "white"
             }
            },
            "type": "table"
           }
          ]
         },
         "layout": {
          "annotationdefaults": {
           "arrowcolor": "#2a3f5f",
           "arrowhead": 0,
           "arrowwidth": 1
          },
          "autotypenumbers": "strict",
          "coloraxis": {
           "colorbar": {
            "outlinewidth": 0,
            "ticks": ""
           }
          },
          "colorscale": {
           "diverging": [
            [
             0,
             "#8e0152"
            ],
            [
             0.1,
             "#c51b7d"
            ],
            [
             0.2,
             "#de77ae"
            ],
            [
             0.3,
             "#f1b6da"
            ],
            [
             0.4,
             "#fde0ef"
            ],
            [
             0.5,
             "#f7f7f7"
            ],
            [
             0.6,
             "#e6f5d0"
            ],
            [
             0.7,
             "#b8e186"
            ],
            [
             0.8,
             "#7fbc41"
            ],
            [
             0.9,
             "#4d9221"
            ],
            [
             1,
             "#276419"
            ]
           ],
           "sequential": [
            [
             0,
             "#0d0887"
            ],
            [
             0.1111111111111111,
             "#46039f"
            ],
            [
             0.2222222222222222,
             "#7201a8"
            ],
            [
             0.3333333333333333,
             "#9c179e"
            ],
            [
             0.4444444444444444,
             "#bd3786"
            ],
            [
             0.5555555555555556,
             "#d8576b"
            ],
            [
             0.6666666666666666,
             "#ed7953"
            ],
            [
             0.7777777777777778,
             "#fb9f3a"
            ],
            [
             0.8888888888888888,
             "#fdca26"
            ],
            [
             1,
             "#f0f921"
            ]
           ],
           "sequentialminus": [
            [
             0,
             "#0d0887"
            ],
            [
             0.1111111111111111,
             "#46039f"
            ],
            [
             0.2222222222222222,
             "#7201a8"
            ],
            [
             0.3333333333333333,
             "#9c179e"
            ],
            [
             0.4444444444444444,
             "#bd3786"
            ],
            [
             0.5555555555555556,
             "#d8576b"
            ],
            [
             0.6666666666666666,
             "#ed7953"
            ],
            [
             0.7777777777777778,
             "#fb9f3a"
            ],
            [
             0.8888888888888888,
             "#fdca26"
            ],
            [
             1,
             "#f0f921"
            ]
           ]
          },
          "colorway": [
           "#636efa",
           "#EF553B",
           "#00cc96",
           "#ab63fa",
           "#FFA15A",
           "#19d3f3",
           "#FF6692",
           "#B6E880",
           "#FF97FF",
           "#FECB52"
          ],
          "font": {
           "color": "#2a3f5f"
          },
          "geo": {
           "bgcolor": "white",
           "lakecolor": "white",
           "landcolor": "#E5ECF6",
           "showlakes": true,
           "showland": true,
           "subunitcolor": "white"
          },
          "hoverlabel": {
           "align": "left"
          },
          "hovermode": "closest",
          "mapbox": {
           "style": "light"
          },
          "paper_bgcolor": "white",
          "plot_bgcolor": "#E5ECF6",
          "polar": {
           "angularaxis": {
            "gridcolor": "white",
            "linecolor": "white",
            "ticks": ""
           },
           "bgcolor": "#E5ECF6",
           "radialaxis": {
            "gridcolor": "white",
            "linecolor": "white",
            "ticks": ""
           }
          },
          "scene": {
           "xaxis": {
            "backgroundcolor": "#E5ECF6",
            "gridcolor": "white",
            "gridwidth": 2,
            "linecolor": "white",
            "showbackground": true,
            "ticks": "",
            "zerolinecolor": "white"
           },
           "yaxis": {
            "backgroundcolor": "#E5ECF6",
            "gridcolor": "white",
            "gridwidth": 2,
            "linecolor": "white",
            "showbackground": true,
            "ticks": "",
            "zerolinecolor": "white"
           },
           "zaxis": {
            "backgroundcolor": "#E5ECF6",
            "gridcolor": "white",
            "gridwidth": 2,
            "linecolor": "white",
            "showbackground": true,
            "ticks": "",
            "zerolinecolor": "white"
           }
          },
          "shapedefaults": {
           "line": {
            "color": "#2a3f5f"
           }
          },
          "ternary": {
           "aaxis": {
            "gridcolor": "white",
            "linecolor": "white",
            "ticks": ""
           },
           "baxis": {
            "gridcolor": "white",
            "linecolor": "white",
            "ticks": ""
           },
           "bgcolor": "#E5ECF6",
           "caxis": {
            "gridcolor": "white",
            "linecolor": "white",
            "ticks": ""
           }
          },
          "title": {
           "x": 0.05
          },
          "xaxis": {
           "automargin": true,
           "gridcolor": "white",
           "linecolor": "white",
           "ticks": "",
           "title": {
            "standoff": 15
           },
           "zerolinecolor": "white",
           "zerolinewidth": 2
          },
          "yaxis": {
           "automargin": true,
           "gridcolor": "white",
           "linecolor": "white",
           "ticks": "",
           "title": {
            "standoff": 15
           },
           "zerolinecolor": "white",
           "zerolinewidth": 2
          }
         }
        },
        "title": {
         "text": "Most Common Musical Genres"
        },
        "xaxis": {
         "anchor": "y",
         "categoryarray": [
          "Synth Pop",
          "R&B",
          "Pop Rock",
          "Indie Rock",
          "Indie Pop",
          "Folk Pop",
          "Electropop",
          "Country Pop",
          "Dance Pop",
          "Dream Pop",
          "Pop",
          "Pop Rock ",
          "Alternative Rock",
          "Indie Folk",
          "Pop  ",
          "Funk Pop",
          "Country",
          "Country  "
         ],
         "categoryorder": "array",
         "domain": [
          0,
          1
         ],
         "title": {
          "text": "track_musical_genre"
         }
        },
        "yaxis": {
         "anchor": "x",
         "domain": [
          0,
          1
         ],
         "title": {
          "text": "count"
         }
        }
       }
      }
     },
     "metadata": {},
     "output_type": "display_data"
    }
   ],
   "source": [
    "import plotly.express as px\n",
    "fig_genres = px.bar(df, x='track_musical_genre', title='Most Common Musical Genres', color='track_musical_genre')\n",
    "fig_genres.show()"
   ]
  },
  {
   "cell_type": "markdown",
   "metadata": {},
   "source": [
    "What is the distribution of song durations in milliseconds?"
   ]
  },
  {
   "cell_type": "code",
   "execution_count": 47,
   "metadata": {},
   "outputs": [
    {
     "data": {
      "application/vnd.plotly.v1+json": {
       "config": {
        "plotlyServerURL": "https://plot.ly"
       },
       "data": [
        {
         "alignmentgroup": "True",
         "bingroup": "x",
         "hovertemplate": "Duration (ms)=%{x}<br>count=%{y}<extra></extra>",
         "legendgroup": "",
         "marker": {
          "color": "#636efa",
          "pattern": {
           "shape": ""
          }
         },
         "name": "",
         "nbinsx": 30,
         "offsetgroup": "",
         "orientation": "v",
         "showlegend": false,
         "type": "histogram",
         "x": [
          228965,
          293048,
          203801,
          261228,
          262974,
          340428,
          210789,
          215463,
          254365,
          334084,
          156297,
          277156,
          218004,
          245541,
          196900,
          216662,
          238857,
          222072,
          183878,
          213281,
          238706,
          228800,
          243875,
          263817,
          131907,
          249807,
          240205,
          283957,
          238241,
          240893,
          224743,
          228965,
          293048,
          203801,
          261228,
          262974,
          340428,
          210789,
          215463,
          254365,
          334084,
          156297,
          277156,
          218004,
          245541,
          196900,
          216662,
          212600,
          231833,
          231000,
          235800,
          193289,
          219209,
          207650,
          211103,
          220433,
          247533,
          250100,
          195700,
          271000,
          245566,
          267389,
          230177,
          180381,
          279833,
          146436,
          171818,
          229477,
          199773,
          212600,
          231833,
          231000,
          235800,
          193289,
          219209,
          207650,
          211103,
          220433,
          247533,
          250100,
          195700,
          271000,
          245566,
          267389,
          230177,
          180381,
          279833,
          146436,
          171818,
          229477,
          231706,
          261230,
          294189,
          242473,
          405906,
          238693,
          267653,
          292920,
          353253,
          220306,
          301221,
          245413,
          369120,
          317960,
          235803,
          274945,
          266466,
          252385,
          273186,
          306062,
          311765,
          321396,
          202395,
          218270,
          200690,
          256124,
          194206,
          174782,
          210556,
          164801,
          194165,
          247962,
          204852,
          188496,
          191039,
          240355,
          218502,
          196258,
          231475,
          148781,
          260361,
          225194,
          234466,
          229942,
          201493,
          202395,
          218270,
          200690,
          256124,
          194206,
          174782,
          210556,
          164801,
          194165,
          247962,
          204852,
          188496,
          191039,
          240355,
          218502,
          196258,
          231475,
          148781,
          260361,
          225194,
          202395,
          218270,
          200690,
          256124,
          194206,
          174782,
          210556,
          164801,
          194165,
          247962,
          204852,
          188496,
          191039,
          295413,
          223093,
          242720,
          219760,
          329160,
          230960,
          244586,
          193146,
          205786,
          299080,
          202960,
          284773,
          240466,
          245426,
          220413,
          238866,
          285280,
          223333,
          220520,
          321640,
          264253,
          297013,
          258812,
          224240,
          225960,
          285106,
          263533,
          240226,
          200280,
          613026,
          241591,
          294419,
          235766,
          254254,
          234515,
          231124,
          263377,
          200575,
          261842,
          243136,
          225328,
          245290,
          279359,
          237580,
          312107,
          267833,
          237338,
          263865,
          238443,
          241822,
          220839,
          277591,
          244236,
          189495,
          208608,
          242157,
          214706,
          244000,
          185320,
          229840,
          245440,
          215626,
          315146,
          225880,
          275320,
          260440,
          275040,
          215920,
          257773,
          180653,
          304106,
          245026,
          254640,
          214706,
          244000,
          185320,
          229840,
          245440,
          215626,
          315146,
          225880,
          275320,
          260440,
          275040,
          215920,
          257773,
          180653,
          304106,
          210240,
          239560,
          231000,
          285640,
          255893,
          208973,
          208906,
          261920,
          195106,
          190893,
          252880,
          237266,
          289746,
          294520,
          234000,
          220040,
          211813,
          219893,
          230680,
          232346,
          279893,
          295173,
          237373,
          208986,
          260000,
          209293,
          183720,
          257359,
          238333,
          274880,
          290040,
          214373,
          221800,
          199733,
          210240,
          239560,
          231000,
          285640,
          255893,
          208973,
          208906,
          261920,
          195106,
          190893,
          252880,
          237266,
          289746,
          294520,
          234000,
          220040,
          211813,
          210251,
          239560,
          230999,
          285634,
          255893,
          208977,
          208906,
          261922,
          195097,
          190898,
          252880,
          237258,
          289749,
          294521,
          234000,
          220042,
          170640,
          178426,
          221306,
          190360,
          211240,
          173386,
          234146,
          222400,
          287266,
          198533,
          190240,
          201586,
          200306,
          171360,
          223293,
          193000,
          150440,
          293453,
          208186,
          244826,
          238253,
          236413,
          232253,
          211853,
          227906,
          209680,
          233626,
          214320,
          211506,
          230373,
          207133,
          203506,
          235466,
          329160,
          220440,
          246306,
          223093,
          202960,
          204706,
          203440,
          232120,
          219720,
          247160,
          238693,
          247533,
          227906,
          295320,
          231866,
          262920,
          295720,
          245413,
          292920,
          242760,
          215106,
          212600,
          242973,
          353253,
          281053,
          239346,
          235800,
          223920,
          202080,
          250093,
          240266,
          205853,
          264946,
          263613,
          238093,
          239426,
          251213,
          267653,
          226293,
          256040,
          243346,
          245560,
          235400,
          215600,
          220600,
          195706,
          212600,
          231826,
          231000,
          235800,
          193293,
          219200,
          207440,
          211933,
          220440,
          247533,
          250093,
          195706,
          271000,
          245560,
          267106,
          230466,
          216333,
          107133,
          131186,
          212600,
          231826,
          231000,
          235800,
          193293,
          219200,
          207440,
          211933,
          220440,
          247533,
          250093,
          195706,
          271000,
          295186,
          220826,
          240773,
          217973,
          327893,
          230133,
          242573,
          191880,
          204826,
          298293,
          201853,
          283680,
          240133,
          243933,
          217826,
          237613,
          285560,
          222706,
          220320,
          239720,
          226280,
          323080,
          295186,
          220826,
          240773,
          217973,
          327893,
          230133,
          242573,
          191880,
          204826,
          298293,
          201853,
          283680,
          240133,
          243933,
          217826,
          237613,
          336826,
          259279,
          290520,
          246373,
          245973,
          362826,
          344573,
          248146,
          369066,
          315173,
          189146,
          83253,
          404680,
          389213,
          292426,
          376466,
          230706,
          260933,
          293026,
          240760,
          403920,
          237733,
          265666,
          290466,
          352186,
          217160,
          302253,
          242080,
          367133,
          317453,
          237920,
          234546,
          275960,
          292560,
          217613,
          230333,
          230706,
          260933,
          293026,
          240760,
          403920,
          237733,
          265666,
          290466,
          352186,
          217160,
          302253,
          242080,
          367133,
          317946,
          237066,
          311040,
          267506,
          238106,
          261453,
          237600,
          242000,
          294346,
          235280,
          254320,
          234440,
          231146,
          263986,
          200560,
          261800,
          244240,
          225333,
          245346,
          281053,
          241986,
          294333,
          235266,
          254306,
          234426,
          231133,
          263973,
          200546,
          261786,
          244226,
          225320,
          245333,
          280240,
          221028,
          198247,
          176316,
          222959,
          196346,
          173899,
          228473,
          258487,
          232106,
          173066,
          203040,
          199200,
          239013,
          207106,
          248106,
          236053,
          242200,
          213080,
          201106,
          213053,
          203226,
          220146,
          179066
         ],
         "xaxis": "x",
         "yaxis": "y"
        }
       ],
       "layout": {
        "barmode": "relative",
        "legend": {
         "tracegroupgap": 0
        },
        "template": {
         "data": {
          "bar": [
           {
            "error_x": {
             "color": "#2a3f5f"
            },
            "error_y": {
             "color": "#2a3f5f"
            },
            "marker": {
             "line": {
              "color": "#E5ECF6",
              "width": 0.5
             },
             "pattern": {
              "fillmode": "overlay",
              "size": 10,
              "solidity": 0.2
             }
            },
            "type": "bar"
           }
          ],
          "barpolar": [
           {
            "marker": {
             "line": {
              "color": "#E5ECF6",
              "width": 0.5
             },
             "pattern": {
              "fillmode": "overlay",
              "size": 10,
              "solidity": 0.2
             }
            },
            "type": "barpolar"
           }
          ],
          "carpet": [
           {
            "aaxis": {
             "endlinecolor": "#2a3f5f",
             "gridcolor": "white",
             "linecolor": "white",
             "minorgridcolor": "white",
             "startlinecolor": "#2a3f5f"
            },
            "baxis": {
             "endlinecolor": "#2a3f5f",
             "gridcolor": "white",
             "linecolor": "white",
             "minorgridcolor": "white",
             "startlinecolor": "#2a3f5f"
            },
            "type": "carpet"
           }
          ],
          "choropleth": [
           {
            "colorbar": {
             "outlinewidth": 0,
             "ticks": ""
            },
            "type": "choropleth"
           }
          ],
          "contour": [
           {
            "colorbar": {
             "outlinewidth": 0,
             "ticks": ""
            },
            "colorscale": [
             [
              0,
              "#0d0887"
             ],
             [
              0.1111111111111111,
              "#46039f"
             ],
             [
              0.2222222222222222,
              "#7201a8"
             ],
             [
              0.3333333333333333,
              "#9c179e"
             ],
             [
              0.4444444444444444,
              "#bd3786"
             ],
             [
              0.5555555555555556,
              "#d8576b"
             ],
             [
              0.6666666666666666,
              "#ed7953"
             ],
             [
              0.7777777777777778,
              "#fb9f3a"
             ],
             [
              0.8888888888888888,
              "#fdca26"
             ],
             [
              1,
              "#f0f921"
             ]
            ],
            "type": "contour"
           }
          ],
          "contourcarpet": [
           {
            "colorbar": {
             "outlinewidth": 0,
             "ticks": ""
            },
            "type": "contourcarpet"
           }
          ],
          "heatmap": [
           {
            "colorbar": {
             "outlinewidth": 0,
             "ticks": ""
            },
            "colorscale": [
             [
              0,
              "#0d0887"
             ],
             [
              0.1111111111111111,
              "#46039f"
             ],
             [
              0.2222222222222222,
              "#7201a8"
             ],
             [
              0.3333333333333333,
              "#9c179e"
             ],
             [
              0.4444444444444444,
              "#bd3786"
             ],
             [
              0.5555555555555556,
              "#d8576b"
             ],
             [
              0.6666666666666666,
              "#ed7953"
             ],
             [
              0.7777777777777778,
              "#fb9f3a"
             ],
             [
              0.8888888888888888,
              "#fdca26"
             ],
             [
              1,
              "#f0f921"
             ]
            ],
            "type": "heatmap"
           }
          ],
          "heatmapgl": [
           {
            "colorbar": {
             "outlinewidth": 0,
             "ticks": ""
            },
            "colorscale": [
             [
              0,
              "#0d0887"
             ],
             [
              0.1111111111111111,
              "#46039f"
             ],
             [
              0.2222222222222222,
              "#7201a8"
             ],
             [
              0.3333333333333333,
              "#9c179e"
             ],
             [
              0.4444444444444444,
              "#bd3786"
             ],
             [
              0.5555555555555556,
              "#d8576b"
             ],
             [
              0.6666666666666666,
              "#ed7953"
             ],
             [
              0.7777777777777778,
              "#fb9f3a"
             ],
             [
              0.8888888888888888,
              "#fdca26"
             ],
             [
              1,
              "#f0f921"
             ]
            ],
            "type": "heatmapgl"
           }
          ],
          "histogram": [
           {
            "marker": {
             "pattern": {
              "fillmode": "overlay",
              "size": 10,
              "solidity": 0.2
             }
            },
            "type": "histogram"
           }
          ],
          "histogram2d": [
           {
            "colorbar": {
             "outlinewidth": 0,
             "ticks": ""
            },
            "colorscale": [
             [
              0,
              "#0d0887"
             ],
             [
              0.1111111111111111,
              "#46039f"
             ],
             [
              0.2222222222222222,
              "#7201a8"
             ],
             [
              0.3333333333333333,
              "#9c179e"
             ],
             [
              0.4444444444444444,
              "#bd3786"
             ],
             [
              0.5555555555555556,
              "#d8576b"
             ],
             [
              0.6666666666666666,
              "#ed7953"
             ],
             [
              0.7777777777777778,
              "#fb9f3a"
             ],
             [
              0.8888888888888888,
              "#fdca26"
             ],
             [
              1,
              "#f0f921"
             ]
            ],
            "type": "histogram2d"
           }
          ],
          "histogram2dcontour": [
           {
            "colorbar": {
             "outlinewidth": 0,
             "ticks": ""
            },
            "colorscale": [
             [
              0,
              "#0d0887"
             ],
             [
              0.1111111111111111,
              "#46039f"
             ],
             [
              0.2222222222222222,
              "#7201a8"
             ],
             [
              0.3333333333333333,
              "#9c179e"
             ],
             [
              0.4444444444444444,
              "#bd3786"
             ],
             [
              0.5555555555555556,
              "#d8576b"
             ],
             [
              0.6666666666666666,
              "#ed7953"
             ],
             [
              0.7777777777777778,
              "#fb9f3a"
             ],
             [
              0.8888888888888888,
              "#fdca26"
             ],
             [
              1,
              "#f0f921"
             ]
            ],
            "type": "histogram2dcontour"
           }
          ],
          "mesh3d": [
           {
            "colorbar": {
             "outlinewidth": 0,
             "ticks": ""
            },
            "type": "mesh3d"
           }
          ],
          "parcoords": [
           {
            "line": {
             "colorbar": {
              "outlinewidth": 0,
              "ticks": ""
             }
            },
            "type": "parcoords"
           }
          ],
          "pie": [
           {
            "automargin": true,
            "type": "pie"
           }
          ],
          "scatter": [
           {
            "fillpattern": {
             "fillmode": "overlay",
             "size": 10,
             "solidity": 0.2
            },
            "type": "scatter"
           }
          ],
          "scatter3d": [
           {
            "line": {
             "colorbar": {
              "outlinewidth": 0,
              "ticks": ""
             }
            },
            "marker": {
             "colorbar": {
              "outlinewidth": 0,
              "ticks": ""
             }
            },
            "type": "scatter3d"
           }
          ],
          "scattercarpet": [
           {
            "marker": {
             "colorbar": {
              "outlinewidth": 0,
              "ticks": ""
             }
            },
            "type": "scattercarpet"
           }
          ],
          "scattergeo": [
           {
            "marker": {
             "colorbar": {
              "outlinewidth": 0,
              "ticks": ""
             }
            },
            "type": "scattergeo"
           }
          ],
          "scattergl": [
           {
            "marker": {
             "colorbar": {
              "outlinewidth": 0,
              "ticks": ""
             }
            },
            "type": "scattergl"
           }
          ],
          "scattermapbox": [
           {
            "marker": {
             "colorbar": {
              "outlinewidth": 0,
              "ticks": ""
             }
            },
            "type": "scattermapbox"
           }
          ],
          "scatterpolar": [
           {
            "marker": {
             "colorbar": {
              "outlinewidth": 0,
              "ticks": ""
             }
            },
            "type": "scatterpolar"
           }
          ],
          "scatterpolargl": [
           {
            "marker": {
             "colorbar": {
              "outlinewidth": 0,
              "ticks": ""
             }
            },
            "type": "scatterpolargl"
           }
          ],
          "scatterternary": [
           {
            "marker": {
             "colorbar": {
              "outlinewidth": 0,
              "ticks": ""
             }
            },
            "type": "scatterternary"
           }
          ],
          "surface": [
           {
            "colorbar": {
             "outlinewidth": 0,
             "ticks": ""
            },
            "colorscale": [
             [
              0,
              "#0d0887"
             ],
             [
              0.1111111111111111,
              "#46039f"
             ],
             [
              0.2222222222222222,
              "#7201a8"
             ],
             [
              0.3333333333333333,
              "#9c179e"
             ],
             [
              0.4444444444444444,
              "#bd3786"
             ],
             [
              0.5555555555555556,
              "#d8576b"
             ],
             [
              0.6666666666666666,
              "#ed7953"
             ],
             [
              0.7777777777777778,
              "#fb9f3a"
             ],
             [
              0.8888888888888888,
              "#fdca26"
             ],
             [
              1,
              "#f0f921"
             ]
            ],
            "type": "surface"
           }
          ],
          "table": [
           {
            "cells": {
             "fill": {
              "color": "#EBF0F8"
             },
             "line": {
              "color": "white"
             }
            },
            "header": {
             "fill": {
              "color": "#C8D4E3"
             },
             "line": {
              "color": "white"
             }
            },
            "type": "table"
           }
          ]
         },
         "layout": {
          "annotationdefaults": {
           "arrowcolor": "#2a3f5f",
           "arrowhead": 0,
           "arrowwidth": 1
          },
          "autotypenumbers": "strict",
          "coloraxis": {
           "colorbar": {
            "outlinewidth": 0,
            "ticks": ""
           }
          },
          "colorscale": {
           "diverging": [
            [
             0,
             "#8e0152"
            ],
            [
             0.1,
             "#c51b7d"
            ],
            [
             0.2,
             "#de77ae"
            ],
            [
             0.3,
             "#f1b6da"
            ],
            [
             0.4,
             "#fde0ef"
            ],
            [
             0.5,
             "#f7f7f7"
            ],
            [
             0.6,
             "#e6f5d0"
            ],
            [
             0.7,
             "#b8e186"
            ],
            [
             0.8,
             "#7fbc41"
            ],
            [
             0.9,
             "#4d9221"
            ],
            [
             1,
             "#276419"
            ]
           ],
           "sequential": [
            [
             0,
             "#0d0887"
            ],
            [
             0.1111111111111111,
             "#46039f"
            ],
            [
             0.2222222222222222,
             "#7201a8"
            ],
            [
             0.3333333333333333,
             "#9c179e"
            ],
            [
             0.4444444444444444,
             "#bd3786"
            ],
            [
             0.5555555555555556,
             "#d8576b"
            ],
            [
             0.6666666666666666,
             "#ed7953"
            ],
            [
             0.7777777777777778,
             "#fb9f3a"
            ],
            [
             0.8888888888888888,
             "#fdca26"
            ],
            [
             1,
             "#f0f921"
            ]
           ],
           "sequentialminus": [
            [
             0,
             "#0d0887"
            ],
            [
             0.1111111111111111,
             "#46039f"
            ],
            [
             0.2222222222222222,
             "#7201a8"
            ],
            [
             0.3333333333333333,
             "#9c179e"
            ],
            [
             0.4444444444444444,
             "#bd3786"
            ],
            [
             0.5555555555555556,
             "#d8576b"
            ],
            [
             0.6666666666666666,
             "#ed7953"
            ],
            [
             0.7777777777777778,
             "#fb9f3a"
            ],
            [
             0.8888888888888888,
             "#fdca26"
            ],
            [
             1,
             "#f0f921"
            ]
           ]
          },
          "colorway": [
           "#636efa",
           "#EF553B",
           "#00cc96",
           "#ab63fa",
           "#FFA15A",
           "#19d3f3",
           "#FF6692",
           "#B6E880",
           "#FF97FF",
           "#FECB52"
          ],
          "font": {
           "color": "#2a3f5f"
          },
          "geo": {
           "bgcolor": "white",
           "lakecolor": "white",
           "landcolor": "#E5ECF6",
           "showlakes": true,
           "showland": true,
           "subunitcolor": "white"
          },
          "hoverlabel": {
           "align": "left"
          },
          "hovermode": "closest",
          "mapbox": {
           "style": "light"
          },
          "paper_bgcolor": "white",
          "plot_bgcolor": "#E5ECF6",
          "polar": {
           "angularaxis": {
            "gridcolor": "white",
            "linecolor": "white",
            "ticks": ""
           },
           "bgcolor": "#E5ECF6",
           "radialaxis": {
            "gridcolor": "white",
            "linecolor": "white",
            "ticks": ""
           }
          },
          "scene": {
           "xaxis": {
            "backgroundcolor": "#E5ECF6",
            "gridcolor": "white",
            "gridwidth": 2,
            "linecolor": "white",
            "showbackground": true,
            "ticks": "",
            "zerolinecolor": "white"
           },
           "yaxis": {
            "backgroundcolor": "#E5ECF6",
            "gridcolor": "white",
            "gridwidth": 2,
            "linecolor": "white",
            "showbackground": true,
            "ticks": "",
            "zerolinecolor": "white"
           },
           "zaxis": {
            "backgroundcolor": "#E5ECF6",
            "gridcolor": "white",
            "gridwidth": 2,
            "linecolor": "white",
            "showbackground": true,
            "ticks": "",
            "zerolinecolor": "white"
           }
          },
          "shapedefaults": {
           "line": {
            "color": "#2a3f5f"
           }
          },
          "ternary": {
           "aaxis": {
            "gridcolor": "white",
            "linecolor": "white",
            "ticks": ""
           },
           "baxis": {
            "gridcolor": "white",
            "linecolor": "white",
            "ticks": ""
           },
           "bgcolor": "#E5ECF6",
           "caxis": {
            "gridcolor": "white",
            "linecolor": "white",
            "ticks": ""
           }
          },
          "title": {
           "x": 0.05
          },
          "xaxis": {
           "automargin": true,
           "gridcolor": "white",
           "linecolor": "white",
           "ticks": "",
           "title": {
            "standoff": 15
           },
           "zerolinecolor": "white",
           "zerolinewidth": 2
          },
          "yaxis": {
           "automargin": true,
           "gridcolor": "white",
           "linecolor": "white",
           "ticks": "",
           "title": {
            "standoff": 15
           },
           "zerolinecolor": "white",
           "zerolinewidth": 2
          }
         }
        },
        "title": {
         "text": "Distribution of Song Durations (ms)"
        },
        "xaxis": {
         "anchor": "y",
         "domain": [
          0,
          1
         ],
         "title": {
          "text": "Duration (ms)"
         }
        },
        "yaxis": {
         "anchor": "x",
         "domain": [
          0,
          1
         ],
         "title": {
          "text": "count"
         }
        }
       }
      }
     },
     "metadata": {},
     "output_type": "display_data"
    }
   ],
   "source": [
    "# Plot distribution of song durations\n",
    "fig_duration = px.histogram(df, x='duration_ms', nbins=30, title='Distribution of Song Durations (ms)', \n",
    "                            labels={'duration_ms': 'Duration (ms)'})\n",
    "fig_duration.show()"
   ]
  },
  {
   "cell_type": "markdown",
   "metadata": {},
   "source": [
    "How do the acousticness, danceability, and energy of tracks compare across albums?"
   ]
  },
  {
   "cell_type": "code",
   "execution_count": 48,
   "metadata": {},
   "outputs": [
    {
     "data": {
      "application/vnd.plotly.v1+json": {
       "config": {
        "plotlyServerURL": "https://plot.ly"
       },
       "data": [
        {
         "alignmentgroup": "True",
         "hovertemplate": "album=%{x}<br>Acousticness=%{y}<extra></extra>",
         "legendgroup": "",
         "marker": {
          "color": "#636efa"
         },
         "name": "",
         "notched": false,
         "offsetgroup": "",
         "orientation": "v",
         "showlegend": false,
         "type": "box",
         "x": [
          "The Tortured Poets Department: The Anthology",
          "The Tortured Poets Department: The Anthology",
          "The Tortured Poets Department: The Anthology",
          "The Tortured Poets Department: The Anthology",
          "The Tortured Poets Department: The Anthology",
          "The Tortured Poets Department: The Anthology",
          "The Tortured Poets Department: The Anthology",
          "The Tortured Poets Department: The Anthology",
          "The Tortured Poets Department: The Anthology",
          "The Tortured Poets Department: The Anthology",
          "The Tortured Poets Department: The Anthology",
          "The Tortured Poets Department: The Anthology",
          "The Tortured Poets Department: The Anthology",
          "The Tortured Poets Department: The Anthology",
          "The Tortured Poets Department: The Anthology",
          "The Tortured Poets Department: The Anthology",
          "The Tortured Poets Department: The Anthology",
          "The Tortured Poets Department: The Anthology",
          "The Tortured Poets Department: The Anthology",
          "The Tortured Poets Department: The Anthology",
          "The Tortured Poets Department: The Anthology",
          "The Tortured Poets Department: The Anthology",
          "The Tortured Poets Department: The Anthology",
          "The Tortured Poets Department: The Anthology",
          "The Tortured Poets Department: The Anthology",
          "The Tortured Poets Department: The Anthology",
          "The Tortured Poets Department: The Anthology",
          "The Tortured Poets Department: The Anthology",
          "The Tortured Poets Department: The Anthology",
          "The Tortured Poets Department: The Anthology",
          "The Tortured Poets Department: The Anthology",
          "The Tortured Poets Department",
          "The Tortured Poets Department",
          "The Tortured Poets Department",
          "The Tortured Poets Department",
          "The Tortured Poets Department",
          "The Tortured Poets Department",
          "The Tortured Poets Department",
          "The Tortured Poets Department",
          "The Tortured Poets Department",
          "The Tortured Poets Department",
          "The Tortured Poets Department",
          "The Tortured Poets Department",
          "The Tortured Poets Department",
          "The Tortured Poets Department",
          "The Tortured Poets Department",
          "The Tortured Poets Department",
          "1989 (Taylor's Version) [Deluxe]",
          "1989 (Taylor's Version) [Deluxe]",
          "1989 (Taylor's Version) [Deluxe]",
          "1989 (Taylor's Version) [Deluxe]",
          "1989 (Taylor's Version) [Deluxe]",
          "1989 (Taylor's Version) [Deluxe]",
          "1989 (Taylor's Version) [Deluxe]",
          "1989 (Taylor's Version) [Deluxe]",
          "1989 (Taylor's Version) [Deluxe]",
          "1989 (Taylor's Version) [Deluxe]",
          "1989 (Taylor's Version) [Deluxe]",
          "1989 (Taylor's Version) [Deluxe]",
          "1989 (Taylor's Version) [Deluxe]",
          "1989 (Taylor's Version) [Deluxe]",
          "1989 (Taylor's Version) [Deluxe]",
          "1989 (Taylor's Version) [Deluxe]",
          "1989 (Taylor's Version) [Deluxe]",
          "1989 (Taylor's Version) [Deluxe]",
          "1989 (Taylor's Version) [Deluxe]",
          "1989 (Taylor's Version) [Deluxe]",
          "1989 (Taylor's Version) [Deluxe]",
          "1989 (Taylor's Version) [Deluxe]",
          "1989 (Taylor's Version)",
          "1989 (Taylor's Version)",
          "1989 (Taylor's Version)",
          "1989 (Taylor's Version)",
          "1989 (Taylor's Version)",
          "1989 (Taylor's Version)",
          "1989 (Taylor's Version)",
          "1989 (Taylor's Version)",
          "1989 (Taylor's Version)",
          "1989 (Taylor's Version)",
          "1989 (Taylor's Version)",
          "1989 (Taylor's Version)",
          "1989 (Taylor's Version)",
          "1989 (Taylor's Version)",
          "1989 (Taylor's Version)",
          "1989 (Taylor's Version)",
          "1989 (Taylor's Version)",
          "1989 (Taylor's Version)",
          "1989 (Taylor's Version)",
          "1989 (Taylor's Version)",
          "1989 (Taylor's Version)",
          "Speak Now (Taylor's Version)",
          "Speak Now (Taylor's Version)",
          "Speak Now (Taylor's Version)",
          "Speak Now (Taylor's Version)",
          "Speak Now (Taylor's Version)",
          "Speak Now (Taylor's Version)",
          "Speak Now (Taylor's Version)",
          "Speak Now (Taylor's Version)",
          "Speak Now (Taylor's Version)",
          "Speak Now (Taylor's Version)",
          "Speak Now (Taylor's Version)",
          "Speak Now (Taylor's Version)",
          "Speak Now (Taylor's Version)",
          "Speak Now (Taylor's Version)",
          "Speak Now (Taylor's Version)",
          "Speak Now (Taylor's Version)",
          "Speak Now (Taylor's Version)",
          "Speak Now (Taylor's Version)",
          "Speak Now (Taylor's Version)",
          "Speak Now (Taylor's Version)",
          "Speak Now (Taylor's Version)",
          "Speak Now (Taylor's Version)",
          "Midnights (The Til Dawn Edition)",
          "Midnights (The Til Dawn Edition)",
          "Midnights (The Til Dawn Edition)",
          "Midnights (The Til Dawn Edition)",
          "Midnights (The Til Dawn Edition)",
          "Midnights (The Til Dawn Edition)",
          "Midnights (The Til Dawn Edition)",
          "Midnights (The Til Dawn Edition)",
          "Midnights (The Til Dawn Edition)",
          "Midnights (The Til Dawn Edition)",
          "Midnights (The Til Dawn Edition)",
          "Midnights (The Til Dawn Edition)",
          "Midnights (The Til Dawn Edition)",
          "Midnights (The Til Dawn Edition)",
          "Midnights (The Til Dawn Edition)",
          "Midnights (The Til Dawn Edition)",
          "Midnights (The Til Dawn Edition)",
          "Midnights (The Til Dawn Edition)",
          "Midnights (The Til Dawn Edition)",
          "Midnights (The Til Dawn Edition)",
          "Midnights (The Til Dawn Edition)",
          "Midnights (The Til Dawn Edition)",
          "Midnights (The Til Dawn Edition)",
          "Midnights (3am Edition)",
          "Midnights (3am Edition)",
          "Midnights (3am Edition)",
          "Midnights (3am Edition)",
          "Midnights (3am Edition)",
          "Midnights (3am Edition)",
          "Midnights (3am Edition)",
          "Midnights (3am Edition)",
          "Midnights (3am Edition)",
          "Midnights (3am Edition)",
          "Midnights (3am Edition)",
          "Midnights (3am Edition)",
          "Midnights (3am Edition)",
          "Midnights (3am Edition)",
          "Midnights (3am Edition)",
          "Midnights (3am Edition)",
          "Midnights (3am Edition)",
          "Midnights (3am Edition)",
          "Midnights (3am Edition)",
          "Midnights (3am Edition)",
          "Midnights",
          "Midnights",
          "Midnights",
          "Midnights",
          "Midnights",
          "Midnights",
          "Midnights",
          "Midnights",
          "Midnights",
          "Midnights",
          "Midnights",
          "Midnights",
          "Midnights",
          "Red (Taylor's Version)",
          "Red (Taylor's Version)",
          "Red (Taylor's Version)",
          "Red (Taylor's Version)",
          "Red (Taylor's Version)",
          "Red (Taylor's Version)",
          "Red (Taylor's Version)",
          "Red (Taylor's Version)",
          "Red (Taylor's Version)",
          "Red (Taylor's Version)",
          "Red (Taylor's Version)",
          "Red (Taylor's Version)",
          "Red (Taylor's Version)",
          "Red (Taylor's Version)",
          "Red (Taylor's Version)",
          "Red (Taylor's Version)",
          "Red (Taylor's Version)",
          "Red (Taylor's Version)",
          "Red (Taylor's Version)",
          "Red (Taylor's Version)",
          "Red (Taylor's Version)",
          "Red (Taylor's Version)",
          "Red (Taylor's Version)",
          "Red (Taylor's Version)",
          "Red (Taylor's Version)",
          "Red (Taylor's Version)",
          "Red (Taylor's Version)",
          "Red (Taylor's Version)",
          "Red (Taylor's Version)",
          "Red (Taylor's Version)",
          "Fearless (Taylor's Version)",
          "Fearless (Taylor's Version)",
          "Fearless (Taylor's Version)",
          "Fearless (Taylor's Version)",
          "Fearless (Taylor's Version)",
          "Fearless (Taylor's Version)",
          "Fearless (Taylor's Version)",
          "Fearless (Taylor's Version)",
          "Fearless (Taylor's Version)",
          "Fearless (Taylor's Version)",
          "Fearless (Taylor's Version)",
          "Fearless (Taylor's Version)",
          "Fearless (Taylor's Version)",
          "Fearless (Taylor's Version)",
          "Fearless (Taylor's Version)",
          "Fearless (Taylor's Version)",
          "Fearless (Taylor's Version)",
          "Fearless (Taylor's Version)",
          "Fearless (Taylor's Version)",
          "Fearless (Taylor's Version)",
          "Fearless (Taylor's Version)",
          "Fearless (Taylor's Version)",
          "Fearless (Taylor's Version)",
          "Fearless (Taylor's Version)",
          "Fearless (Taylor's Version)",
          "Fearless (Taylor's Version)",
          "evermore (deluxe version)",
          "evermore (deluxe version)",
          "evermore (deluxe version)",
          "evermore (deluxe version)",
          "evermore (deluxe version)",
          "evermore (deluxe version)",
          "evermore (deluxe version)",
          "evermore (deluxe version)",
          "evermore (deluxe version)",
          "evermore (deluxe version)",
          "evermore (deluxe version)",
          "evermore (deluxe version)",
          "evermore (deluxe version)",
          "evermore (deluxe version)",
          "evermore (deluxe version)",
          "evermore (deluxe version)",
          "evermore (deluxe version)",
          "evermore",
          "evermore",
          "evermore",
          "evermore",
          "evermore",
          "evermore",
          "evermore",
          "evermore",
          "evermore",
          "evermore",
          "evermore",
          "evermore",
          "evermore",
          "evermore",
          "evermore",
          "folklore: the long pond studio sessions (from the Disney+ special) [deluxe edition]",
          "folklore: the long pond studio sessions (from the Disney+ special) [deluxe edition]",
          "folklore: the long pond studio sessions (from the Disney+ special) [deluxe edition]",
          "folklore: the long pond studio sessions (from the Disney+ special) [deluxe edition]",
          "folklore: the long pond studio sessions (from the Disney+ special) [deluxe edition]",
          "folklore: the long pond studio sessions (from the Disney+ special) [deluxe edition]",
          "folklore: the long pond studio sessions (from the Disney+ special) [deluxe edition]",
          "folklore: the long pond studio sessions (from the Disney+ special) [deluxe edition]",
          "folklore: the long pond studio sessions (from the Disney+ special) [deluxe edition]",
          "folklore: the long pond studio sessions (from the Disney+ special) [deluxe edition]",
          "folklore: the long pond studio sessions (from the Disney+ special) [deluxe edition]",
          "folklore: the long pond studio sessions (from the Disney+ special) [deluxe edition]",
          "folklore: the long pond studio sessions (from the Disney+ special) [deluxe edition]",
          "folklore: the long pond studio sessions (from the Disney+ special) [deluxe edition]",
          "folklore: the long pond studio sessions (from the Disney+ special) [deluxe edition]",
          "folklore: the long pond studio sessions (from the Disney+ special) [deluxe edition]",
          "folklore: the long pond studio sessions (from the Disney+ special) [deluxe edition]",
          "folklore: the long pond studio sessions (from the Disney+ special) [deluxe edition]",
          "folklore: the long pond studio sessions (from the Disney+ special) [deluxe edition]",
          "folklore: the long pond studio sessions (from the Disney+ special) [deluxe edition]",
          "folklore: the long pond studio sessions (from the Disney+ special) [deluxe edition]",
          "folklore: the long pond studio sessions (from the Disney+ special) [deluxe edition]",
          "folklore: the long pond studio sessions (from the Disney+ special) [deluxe edition]",
          "folklore: the long pond studio sessions (from the Disney+ special) [deluxe edition]",
          "folklore: the long pond studio sessions (from the Disney+ special) [deluxe edition]",
          "folklore: the long pond studio sessions (from the Disney+ special) [deluxe edition]",
          "folklore: the long pond studio sessions (from the Disney+ special) [deluxe edition]",
          "folklore: the long pond studio sessions (from the Disney+ special) [deluxe edition]",
          "folklore: the long pond studio sessions (from the Disney+ special) [deluxe edition]",
          "folklore: the long pond studio sessions (from the Disney+ special) [deluxe edition]",
          "folklore: the long pond studio sessions (from the Disney+ special) [deluxe edition]",
          "folklore: the long pond studio sessions (from the Disney+ special) [deluxe edition]",
          "folklore: the long pond studio sessions (from the Disney+ special) [deluxe edition]",
          "folklore: the long pond studio sessions (from the Disney+ special) [deluxe edition]",
          "folklore (deluxe version)",
          "folklore (deluxe version)",
          "folklore (deluxe version)",
          "folklore (deluxe version)",
          "folklore (deluxe version)",
          "folklore (deluxe version)",
          "folklore (deluxe version)",
          "folklore (deluxe version)",
          "folklore (deluxe version)",
          "folklore (deluxe version)",
          "folklore (deluxe version)",
          "folklore (deluxe version)",
          "folklore (deluxe version)",
          "folklore (deluxe version)",
          "folklore (deluxe version)",
          "folklore (deluxe version)",
          "folklore (deluxe version)",
          "folklore",
          "folklore",
          "folklore",
          "folklore",
          "folklore",
          "folklore",
          "folklore",
          "folklore",
          "folklore",
          "folklore",
          "folklore",
          "folklore",
          "folklore",
          "folklore",
          "folklore",
          "folklore",
          "Lover",
          "Lover",
          "Lover",
          "Lover",
          "Lover",
          "Lover",
          "Lover",
          "Lover",
          "Lover",
          "Lover",
          "Lover",
          "Lover",
          "Lover",
          "Lover",
          "Lover",
          "Lover",
          "Lover",
          "Lover",
          "reputation",
          "reputation",
          "reputation",
          "reputation",
          "reputation",
          "reputation",
          "reputation",
          "reputation",
          "reputation",
          "reputation",
          "reputation",
          "reputation",
          "reputation",
          "reputation",
          "reputation",
          "reputation Stadium Tour Surprise Song Playlist",
          "reputation Stadium Tour Surprise Song Playlist",
          "reputation Stadium Tour Surprise Song Playlist",
          "reputation Stadium Tour Surprise Song Playlist",
          "reputation Stadium Tour Surprise Song Playlist",
          "reputation Stadium Tour Surprise Song Playlist",
          "reputation Stadium Tour Surprise Song Playlist",
          "reputation Stadium Tour Surprise Song Playlist",
          "reputation Stadium Tour Surprise Song Playlist",
          "reputation Stadium Tour Surprise Song Playlist",
          "reputation Stadium Tour Surprise Song Playlist",
          "reputation Stadium Tour Surprise Song Playlist",
          "reputation Stadium Tour Surprise Song Playlist",
          "reputation Stadium Tour Surprise Song Playlist",
          "reputation Stadium Tour Surprise Song Playlist",
          "reputation Stadium Tour Surprise Song Playlist",
          "reputation Stadium Tour Surprise Song Playlist",
          "reputation Stadium Tour Surprise Song Playlist",
          "reputation Stadium Tour Surprise Song Playlist",
          "reputation Stadium Tour Surprise Song Playlist",
          "reputation Stadium Tour Surprise Song Playlist",
          "reputation Stadium Tour Surprise Song Playlist",
          "reputation Stadium Tour Surprise Song Playlist",
          "reputation Stadium Tour Surprise Song Playlist",
          "reputation Stadium Tour Surprise Song Playlist",
          "reputation Stadium Tour Surprise Song Playlist",
          "reputation Stadium Tour Surprise Song Playlist",
          "reputation Stadium Tour Surprise Song Playlist",
          "reputation Stadium Tour Surprise Song Playlist",
          "reputation Stadium Tour Surprise Song Playlist",
          "reputation Stadium Tour Surprise Song Playlist",
          "reputation Stadium Tour Surprise Song Playlist",
          "reputation Stadium Tour Surprise Song Playlist",
          "reputation Stadium Tour Surprise Song Playlist",
          "reputation Stadium Tour Surprise Song Playlist",
          "reputation Stadium Tour Surprise Song Playlist",
          "reputation Stadium Tour Surprise Song Playlist",
          "reputation Stadium Tour Surprise Song Playlist",
          "reputation Stadium Tour Surprise Song Playlist",
          "reputation Stadium Tour Surprise Song Playlist",
          "reputation Stadium Tour Surprise Song Playlist",
          "reputation Stadium Tour Surprise Song Playlist",
          "reputation Stadium Tour Surprise Song Playlist",
          "reputation Stadium Tour Surprise Song Playlist",
          "reputation Stadium Tour Surprise Song Playlist",
          "reputation Stadium Tour Surprise Song Playlist",
          "1989 (Deluxe Edition)",
          "1989 (Deluxe Edition)",
          "1989 (Deluxe Edition)",
          "1989 (Deluxe Edition)",
          "1989 (Deluxe Edition)",
          "1989 (Deluxe Edition)",
          "1989 (Deluxe Edition)",
          "1989 (Deluxe Edition)",
          "1989 (Deluxe Edition)",
          "1989 (Deluxe Edition)",
          "1989 (Deluxe Edition)",
          "1989 (Deluxe Edition)",
          "1989 (Deluxe Edition)",
          "1989 (Deluxe Edition)",
          "1989 (Deluxe Edition)",
          "1989 (Deluxe Edition)",
          "1989 (Deluxe Edition)",
          "1989 (Deluxe Edition)",
          "1989 (Deluxe Edition)",
          "1989",
          "1989",
          "1989",
          "1989",
          "1989",
          "1989",
          "1989",
          "1989",
          "1989",
          "1989",
          "1989",
          "1989",
          "1989",
          "Red (Deluxe Edition)",
          "Red (Deluxe Edition)",
          "Red (Deluxe Edition)",
          "Red (Deluxe Edition)",
          "Red (Deluxe Edition)",
          "Red (Deluxe Edition)",
          "Red (Deluxe Edition)",
          "Red (Deluxe Edition)",
          "Red (Deluxe Edition)",
          "Red (Deluxe Edition)",
          "Red (Deluxe Edition)",
          "Red (Deluxe Edition)",
          "Red (Deluxe Edition)",
          "Red (Deluxe Edition)",
          "Red (Deluxe Edition)",
          "Red (Deluxe Edition)",
          "Red (Deluxe Edition)",
          "Red (Deluxe Edition)",
          "Red (Deluxe Edition)",
          "Red (Deluxe Edition)",
          "Red (Deluxe Edition)",
          "Red (Deluxe Edition)",
          "Red",
          "Red",
          "Red",
          "Red",
          "Red",
          "Red",
          "Red",
          "Red",
          "Red",
          "Red",
          "Red",
          "Red",
          "Red",
          "Red",
          "Red",
          "Red",
          "Speak Now World Tour Live",
          "Speak Now World Tour Live",
          "Speak Now World Tour Live",
          "Speak Now World Tour Live",
          "Speak Now World Tour Live",
          "Speak Now World Tour Live",
          "Speak Now World Tour Live",
          "Speak Now World Tour Live",
          "Speak Now World Tour Live",
          "Speak Now World Tour Live",
          "Speak Now World Tour Live",
          "Speak Now World Tour Live",
          "Speak Now World Tour Live",
          "Speak Now World Tour Live",
          "Speak Now World Tour Live",
          "Speak Now World Tour Live",
          "Speak Now (Deluxe Edition)",
          "Speak Now (Deluxe Edition)",
          "Speak Now (Deluxe Edition)",
          "Speak Now (Deluxe Edition)",
          "Speak Now (Deluxe Edition)",
          "Speak Now (Deluxe Edition)",
          "Speak Now (Deluxe Edition)",
          "Speak Now (Deluxe Edition)",
          "Speak Now (Deluxe Edition)",
          "Speak Now (Deluxe Edition)",
          "Speak Now (Deluxe Edition)",
          "Speak Now (Deluxe Edition)",
          "Speak Now (Deluxe Edition)",
          "Speak Now (Deluxe Edition)",
          "Speak Now (Deluxe Edition)",
          "Speak Now (Deluxe Edition)",
          "Speak Now (Deluxe Edition)",
          "Speak Now (Deluxe Edition)",
          "Speak Now (Deluxe Edition)",
          "Speak Now (Deluxe Edition)",
          "Speak Now",
          "Speak Now",
          "Speak Now",
          "Speak Now",
          "Speak Now",
          "Speak Now",
          "Speak Now",
          "Speak Now",
          "Speak Now",
          "Speak Now",
          "Speak Now",
          "Speak Now",
          "Speak Now",
          "Speak Now",
          "Fearless Platinum Edition",
          "Fearless Platinum Edition",
          "Fearless Platinum Edition",
          "Fearless Platinum Edition",
          "Fearless Platinum Edition",
          "Fearless Platinum Edition",
          "Fearless Platinum Edition",
          "Fearless Platinum Edition",
          "Fearless Platinum Edition",
          "Fearless Platinum Edition",
          "Fearless Platinum Edition",
          "Fearless Platinum Edition",
          "Fearless Platinum Edition",
          "Fearless Platinum Edition",
          "Fearless Platinum Edition",
          "Fearless Platinum Edition",
          "Fearless Platinum Edition",
          "Fearless Platinum Edition",
          "Fearless Platinum Edition",
          "Fearless",
          "Fearless",
          "Fearless",
          "Fearless",
          "Fearless",
          "Fearless",
          "Fearless",
          "Fearless",
          "Fearless",
          "Fearless",
          "Fearless",
          "Fearless",
          "Fearless",
          "Live From Clear Channel Stripped 2008",
          "Live From Clear Channel Stripped 2008",
          "Live From Clear Channel Stripped 2008",
          "Live From Clear Channel Stripped 2008",
          "Live From Clear Channel Stripped 2008",
          "Live From Clear Channel Stripped 2008",
          "Live From Clear Channel Stripped 2008",
          "Live From Clear Channel Stripped 2008",
          "Taylor Swift",
          "Taylor Swift",
          "Taylor Swift",
          "Taylor Swift",
          "Taylor Swift",
          "Taylor Swift",
          "Taylor Swift",
          "Taylor Swift",
          "Taylor Swift",
          "Taylor Swift",
          "Taylor Swift",
          "Taylor Swift",
          "Taylor Swift",
          "Taylor Swift",
          "Taylor Swift"
         ],
         "x0": " ",
         "xaxis": "x",
         "y": [
          0.502,
          0.0483,
          0.137,
          0.56,
          0.73,
          0.384,
          0.624,
          0.178,
          0.607,
          0.315,
          0.768,
          0.858,
          0.123,
          0.52,
          0.422,
          0.636,
          0.707,
          0.608,
          0.655,
          0.78,
          0.785,
          0.0274,
          0.717,
          0.609,
          0.69,
          0.825,
          0.806,
          0.805,
          0.638,
          0.791,
          0.901,
          0.502,
          0.0483,
          0.137,
          0.56,
          0.73,
          0.384,
          0.624,
          0.178,
          0.607,
          0.315,
          0.768,
          0.858,
          0.123,
          0.52,
          0.422,
          0.636,
          0.00942,
          0.0885,
          0.000421,
          0.000537,
          0.000656,
          0.0121,
          0.00354,
          0.0362,
          0.0436,
          0.00196,
          0.316,
          0.0999,
          0.25,
          0.00976,
          0.61,
          0.00675,
          0.309,
          0.066,
          0.16,
          0.207,
          0.041,
          0.0104,
          0.00961,
          0.0976,
          0.000418,
          0.000512,
          0.000718,
          0.0103,
          0.00357,
          0.0385,
          0.0411,
          0.00209,
          0.299,
          0.087,
          0.276,
          0.00933,
          0.609,
          0.0068,
          0.345,
          0.0656,
          0.186,
          0.198,
          0.0504,
          0.00444,
          0.0251,
          0.00621,
          0.248,
          0.0236,
          0.311,
          0.00192,
          0.851,
          0.012,
          0.000886,
          0.101,
          0.00667,
          0.447,
          0.0122,
          0.449,
          0.0031,
          0.0164,
          0.159,
          0.0586,
          0.362,
          0.617,
          0.3,
          0.236,
          0.0609,
          0.115,
          0.705,
          0.423,
          0.705,
          0.205,
          0.157,
          0.0648,
          0.804,
          0.0782,
          0.967,
          0.545,
          0.203,
          0.837,
          0.116,
          0.726,
          0.318,
          0.435,
          0.497,
          0.148,
          0.806,
          0.0623,
          0.204,
          0.0593,
          0.133,
          0.735,
          0.416,
          0.71,
          0.226,
          0.16,
          0.0661,
          0.791,
          0.074,
          0.967,
          0.571,
          0.219,
          0.826,
          0.112,
          0.723,
          0.361,
          0.43,
          0.481,
          0.258,
          0.0573,
          0.13,
          0.69,
          0.401,
          0.69,
          0.2,
          0.173,
          0.0618,
          0.785,
          0.0734,
          0.964,
          0.553,
          0.000328,
          0.00108,
          0.0344,
          0.0129,
          0.0171,
          0.000443,
          0.0167,
          0.0317,
          0.0848,
          0.0399,
          0.0288,
          0.622,
          0.066,
          0.271,
          0.00324,
          0.075,
          0.0494,
          0.0158,
          0.00955,
          0.663,
          0.661,
          0.214,
          0.817,
          0.0538,
          0.00188,
          0.167,
          0.256,
          0.817,
          0.00115,
          0.274,
          0.0122,
          0.116,
          0.13,
          0.106,
          0.369,
          0.0623,
          0.156,
          0.0222,
          0.0538,
          0.0033,
          0.0231,
          0.488,
          0.000191,
          0.0474,
          0.0181,
          0.819,
          0.0406,
          0.157,
          0.0279,
          0.0135,
          0.816,
          0.162,
          0.849,
          0.225,
          0.514,
          0.334,
          0.833,
          0.92,
          0.83,
          0.735,
          0.878,
          0.418,
          0.87,
          0.696,
          0.819,
          0.855,
          0.768,
          0.66,
          0.876,
          0.835,
          0.937,
          0.769,
          0.801,
          0.833,
          0.92,
          0.83,
          0.735,
          0.878,
          0.418,
          0.87,
          0.696,
          0.819,
          0.855,
          0.768,
          0.66,
          0.876,
          0.835,
          0.937,
          0.75,
          0.525,
          0.481,
          0.761,
          0.814,
          0.686,
          0.888,
          0.553,
          0.312,
          0.862,
          0.859,
          0.67,
          0.727,
          0.589,
          0.916,
          0.964,
          0.842,
          0.898,
          0.88,
          0.743,
          0.848,
          0.946,
          0.78,
          0.914,
          0.5,
          0.928,
          0.883,
          0.942,
          0.887,
          0.916,
          0.841,
          0.93,
          0.962,
          0.794,
          0.75,
          0.525,
          0.481,
          0.761,
          0.814,
          0.686,
          0.888,
          0.553,
          0.312,
          0.862,
          0.859,
          0.67,
          0.727,
          0.589,
          0.916,
          0.964,
          0.842,
          0.757,
          0.537,
          0.467,
          0.778,
          0.806,
          0.687,
          0.9,
          0.538,
          0.314,
          0.881,
          0.838,
          0.655,
          0.731,
          0.6,
          0.918,
          0.966,
          0.298,
          0.117,
          0.492,
          0.0767,
          0.12,
          0.00889,
          0.028,
          0.0129,
          0.781,
          0.454,
          0.0246,
          0.907,
          0.736,
          0.00929,
          0.13,
          0.033,
          0.971,
          0.808,
          0.0527,
          0.00845,
          0.0679,
          0.106,
          0.216,
          0.204,
          0.122,
          0.0713,
          0.00465,
          0.00882,
          0.0604,
          0.0329,
          0.0156,
          0.186,
          0.921,
          0.0448,
          0.0692,
          0.639,
          0.0779,
          0.0162,
          0.313,
          0.114,
          0.00254,
          0.00476,
          0.0586,
          0.451,
          0.00364,
          0.122,
          0.0717,
          0.00302,
          0.041,
          0.000184,
          0.0648,
          0.824,
          0.101,
          0.0221,
          0.0348,
          0.0377,
          0.0717,
          0.00418,
          0.469,
          0.000743,
          0.00471,
          0.0577,
          0.678,
          0.0352,
          0.56,
          0.416,
          0.123,
          0.113,
          0.199,
          0.521,
          0.00556,
          0.0806,
          0.191,
          0.0991,
          0.0493,
          0.314,
          0.00454,
          0.0192,
          0.245,
          0.0348,
          0.103,
          0.00245,
          0.000743,
          0.00201,
          0.0647,
          0.0158,
          0.0885,
          0.0692,
          0.00364,
          0.678,
          0.245,
          0.232,
          0.0493,
          0.707,
          0.00463,
          0.829,
          0.717,
          0.801,
          0.038,
          0.085,
          0.00253,
          0.00103,
          0.00196,
          0.0561,
          0.016,
          0.0871,
          0.0702,
          0.00461,
          0.635,
          0.231,
          0.241,
          0.000197,
          0.0773,
          0.101,
          0.00454,
          0.0382,
          0.00215,
          0.0173,
          0.00957,
          0.307,
          0.035,
          0.0162,
          0.632,
          0.0371,
          0.36,
          0.0213,
          0.199,
          0.187,
          0.00471,
          0.272,
          0.175,
          0.113,
          0.664,
          0.000197,
          0.0773,
          0.101,
          0.00454,
          0.0382,
          0.00215,
          0.0173,
          0.00957,
          0.307,
          0.035,
          0.0162,
          0.632,
          0.0371,
          0.36,
          0.0213,
          0.199,
          0.00917,
          0.00233,
          0.00048,
          0.154,
          0.715,
          0.155,
          0.00306,
          0.0636,
          0.205,
          0.806,
          0.713,
          0.794,
          0.0157,
          0.0747,
          0.0245,
          0.0053,
          0.00265,
          0.0396,
          0.117,
          0.095,
          0.166,
          0.452,
          0.00478,
          0.819,
          0.0739,
          0.0139,
          0.186,
          0.0826,
          0.57,
          0.036,
          0.537,
          0.166,
          0.0268,
          0.748,
          0.842,
          0.00727,
          0.00265,
          0.0396,
          0.117,
          0.095,
          0.166,
          0.452,
          0.00478,
          0.819,
          0.0739,
          0.0139,
          0.186,
          0.0826,
          0.57,
          0.036,
          0.111,
          0.0583,
          0.852,
          0.0868,
          0.367,
          0.169,
          0.0364,
          0.0728,
          0.157,
          0.168,
          0.302,
          0.164,
          0.373,
          0.0606,
          0.13,
          0.0322,
          0.0907,
          0.611,
          0.00471,
          0.04,
          0.067,
          0.17,
          0.194,
          0.305,
          0.162,
          0.379,
          0.0571,
          0.146,
          0.0408,
          0.0752,
          0.647,
          0.00408,
          0.659,
          0.814,
          0.596,
          0.856,
          0.664,
          0.266,
          0.399,
          0.156,
          0.575,
          0.173,
          0.288,
          0.051,
          0.217,
          0.00491,
          0.525,
          0.0868,
          0.0103,
          0.0177,
          0.111,
          0.00452,
          0.637,
          0.00349,
          0.0402
         ],
         "y0": " ",
         "yaxis": "y"
        }
       ],
       "layout": {
        "boxmode": "group",
        "legend": {
         "tracegroupgap": 0
        },
        "template": {
         "data": {
          "bar": [
           {
            "error_x": {
             "color": "#2a3f5f"
            },
            "error_y": {
             "color": "#2a3f5f"
            },
            "marker": {
             "line": {
              "color": "#E5ECF6",
              "width": 0.5
             },
             "pattern": {
              "fillmode": "overlay",
              "size": 10,
              "solidity": 0.2
             }
            },
            "type": "bar"
           }
          ],
          "barpolar": [
           {
            "marker": {
             "line": {
              "color": "#E5ECF6",
              "width": 0.5
             },
             "pattern": {
              "fillmode": "overlay",
              "size": 10,
              "solidity": 0.2
             }
            },
            "type": "barpolar"
           }
          ],
          "carpet": [
           {
            "aaxis": {
             "endlinecolor": "#2a3f5f",
             "gridcolor": "white",
             "linecolor": "white",
             "minorgridcolor": "white",
             "startlinecolor": "#2a3f5f"
            },
            "baxis": {
             "endlinecolor": "#2a3f5f",
             "gridcolor": "white",
             "linecolor": "white",
             "minorgridcolor": "white",
             "startlinecolor": "#2a3f5f"
            },
            "type": "carpet"
           }
          ],
          "choropleth": [
           {
            "colorbar": {
             "outlinewidth": 0,
             "ticks": ""
            },
            "type": "choropleth"
           }
          ],
          "contour": [
           {
            "colorbar": {
             "outlinewidth": 0,
             "ticks": ""
            },
            "colorscale": [
             [
              0,
              "#0d0887"
             ],
             [
              0.1111111111111111,
              "#46039f"
             ],
             [
              0.2222222222222222,
              "#7201a8"
             ],
             [
              0.3333333333333333,
              "#9c179e"
             ],
             [
              0.4444444444444444,
              "#bd3786"
             ],
             [
              0.5555555555555556,
              "#d8576b"
             ],
             [
              0.6666666666666666,
              "#ed7953"
             ],
             [
              0.7777777777777778,
              "#fb9f3a"
             ],
             [
              0.8888888888888888,
              "#fdca26"
             ],
             [
              1,
              "#f0f921"
             ]
            ],
            "type": "contour"
           }
          ],
          "contourcarpet": [
           {
            "colorbar": {
             "outlinewidth": 0,
             "ticks": ""
            },
            "type": "contourcarpet"
           }
          ],
          "heatmap": [
           {
            "colorbar": {
             "outlinewidth": 0,
             "ticks": ""
            },
            "colorscale": [
             [
              0,
              "#0d0887"
             ],
             [
              0.1111111111111111,
              "#46039f"
             ],
             [
              0.2222222222222222,
              "#7201a8"
             ],
             [
              0.3333333333333333,
              "#9c179e"
             ],
             [
              0.4444444444444444,
              "#bd3786"
             ],
             [
              0.5555555555555556,
              "#d8576b"
             ],
             [
              0.6666666666666666,
              "#ed7953"
             ],
             [
              0.7777777777777778,
              "#fb9f3a"
             ],
             [
              0.8888888888888888,
              "#fdca26"
             ],
             [
              1,
              "#f0f921"
             ]
            ],
            "type": "heatmap"
           }
          ],
          "heatmapgl": [
           {
            "colorbar": {
             "outlinewidth": 0,
             "ticks": ""
            },
            "colorscale": [
             [
              0,
              "#0d0887"
             ],
             [
              0.1111111111111111,
              "#46039f"
             ],
             [
              0.2222222222222222,
              "#7201a8"
             ],
             [
              0.3333333333333333,
              "#9c179e"
             ],
             [
              0.4444444444444444,
              "#bd3786"
             ],
             [
              0.5555555555555556,
              "#d8576b"
             ],
             [
              0.6666666666666666,
              "#ed7953"
             ],
             [
              0.7777777777777778,
              "#fb9f3a"
             ],
             [
              0.8888888888888888,
              "#fdca26"
             ],
             [
              1,
              "#f0f921"
             ]
            ],
            "type": "heatmapgl"
           }
          ],
          "histogram": [
           {
            "marker": {
             "pattern": {
              "fillmode": "overlay",
              "size": 10,
              "solidity": 0.2
             }
            },
            "type": "histogram"
           }
          ],
          "histogram2d": [
           {
            "colorbar": {
             "outlinewidth": 0,
             "ticks": ""
            },
            "colorscale": [
             [
              0,
              "#0d0887"
             ],
             [
              0.1111111111111111,
              "#46039f"
             ],
             [
              0.2222222222222222,
              "#7201a8"
             ],
             [
              0.3333333333333333,
              "#9c179e"
             ],
             [
              0.4444444444444444,
              "#bd3786"
             ],
             [
              0.5555555555555556,
              "#d8576b"
             ],
             [
              0.6666666666666666,
              "#ed7953"
             ],
             [
              0.7777777777777778,
              "#fb9f3a"
             ],
             [
              0.8888888888888888,
              "#fdca26"
             ],
             [
              1,
              "#f0f921"
             ]
            ],
            "type": "histogram2d"
           }
          ],
          "histogram2dcontour": [
           {
            "colorbar": {
             "outlinewidth": 0,
             "ticks": ""
            },
            "colorscale": [
             [
              0,
              "#0d0887"
             ],
             [
              0.1111111111111111,
              "#46039f"
             ],
             [
              0.2222222222222222,
              "#7201a8"
             ],
             [
              0.3333333333333333,
              "#9c179e"
             ],
             [
              0.4444444444444444,
              "#bd3786"
             ],
             [
              0.5555555555555556,
              "#d8576b"
             ],
             [
              0.6666666666666666,
              "#ed7953"
             ],
             [
              0.7777777777777778,
              "#fb9f3a"
             ],
             [
              0.8888888888888888,
              "#fdca26"
             ],
             [
              1,
              "#f0f921"
             ]
            ],
            "type": "histogram2dcontour"
           }
          ],
          "mesh3d": [
           {
            "colorbar": {
             "outlinewidth": 0,
             "ticks": ""
            },
            "type": "mesh3d"
           }
          ],
          "parcoords": [
           {
            "line": {
             "colorbar": {
              "outlinewidth": 0,
              "ticks": ""
             }
            },
            "type": "parcoords"
           }
          ],
          "pie": [
           {
            "automargin": true,
            "type": "pie"
           }
          ],
          "scatter": [
           {
            "fillpattern": {
             "fillmode": "overlay",
             "size": 10,
             "solidity": 0.2
            },
            "type": "scatter"
           }
          ],
          "scatter3d": [
           {
            "line": {
             "colorbar": {
              "outlinewidth": 0,
              "ticks": ""
             }
            },
            "marker": {
             "colorbar": {
              "outlinewidth": 0,
              "ticks": ""
             }
            },
            "type": "scatter3d"
           }
          ],
          "scattercarpet": [
           {
            "marker": {
             "colorbar": {
              "outlinewidth": 0,
              "ticks": ""
             }
            },
            "type": "scattercarpet"
           }
          ],
          "scattergeo": [
           {
            "marker": {
             "colorbar": {
              "outlinewidth": 0,
              "ticks": ""
             }
            },
            "type": "scattergeo"
           }
          ],
          "scattergl": [
           {
            "marker": {
             "colorbar": {
              "outlinewidth": 0,
              "ticks": ""
             }
            },
            "type": "scattergl"
           }
          ],
          "scattermapbox": [
           {
            "marker": {
             "colorbar": {
              "outlinewidth": 0,
              "ticks": ""
             }
            },
            "type": "scattermapbox"
           }
          ],
          "scatterpolar": [
           {
            "marker": {
             "colorbar": {
              "outlinewidth": 0,
              "ticks": ""
             }
            },
            "type": "scatterpolar"
           }
          ],
          "scatterpolargl": [
           {
            "marker": {
             "colorbar": {
              "outlinewidth": 0,
              "ticks": ""
             }
            },
            "type": "scatterpolargl"
           }
          ],
          "scatterternary": [
           {
            "marker": {
             "colorbar": {
              "outlinewidth": 0,
              "ticks": ""
             }
            },
            "type": "scatterternary"
           }
          ],
          "surface": [
           {
            "colorbar": {
             "outlinewidth": 0,
             "ticks": ""
            },
            "colorscale": [
             [
              0,
              "#0d0887"
             ],
             [
              0.1111111111111111,
              "#46039f"
             ],
             [
              0.2222222222222222,
              "#7201a8"
             ],
             [
              0.3333333333333333,
              "#9c179e"
             ],
             [
              0.4444444444444444,
              "#bd3786"
             ],
             [
              0.5555555555555556,
              "#d8576b"
             ],
             [
              0.6666666666666666,
              "#ed7953"
             ],
             [
              0.7777777777777778,
              "#fb9f3a"
             ],
             [
              0.8888888888888888,
              "#fdca26"
             ],
             [
              1,
              "#f0f921"
             ]
            ],
            "type": "surface"
           }
          ],
          "table": [
           {
            "cells": {
             "fill": {
              "color": "#EBF0F8"
             },
             "line": {
              "color": "white"
             }
            },
            "header": {
             "fill": {
              "color": "#C8D4E3"
             },
             "line": {
              "color": "white"
             }
            },
            "type": "table"
           }
          ]
         },
         "layout": {
          "annotationdefaults": {
           "arrowcolor": "#2a3f5f",
           "arrowhead": 0,
           "arrowwidth": 1
          },
          "autotypenumbers": "strict",
          "coloraxis": {
           "colorbar": {
            "outlinewidth": 0,
            "ticks": ""
           }
          },
          "colorscale": {
           "diverging": [
            [
             0,
             "#8e0152"
            ],
            [
             0.1,
             "#c51b7d"
            ],
            [
             0.2,
             "#de77ae"
            ],
            [
             0.3,
             "#f1b6da"
            ],
            [
             0.4,
             "#fde0ef"
            ],
            [
             0.5,
             "#f7f7f7"
            ],
            [
             0.6,
             "#e6f5d0"
            ],
            [
             0.7,
             "#b8e186"
            ],
            [
             0.8,
             "#7fbc41"
            ],
            [
             0.9,
             "#4d9221"
            ],
            [
             1,
             "#276419"
            ]
           ],
           "sequential": [
            [
             0,
             "#0d0887"
            ],
            [
             0.1111111111111111,
             "#46039f"
            ],
            [
             0.2222222222222222,
             "#7201a8"
            ],
            [
             0.3333333333333333,
             "#9c179e"
            ],
            [
             0.4444444444444444,
             "#bd3786"
            ],
            [
             0.5555555555555556,
             "#d8576b"
            ],
            [
             0.6666666666666666,
             "#ed7953"
            ],
            [
             0.7777777777777778,
             "#fb9f3a"
            ],
            [
             0.8888888888888888,
             "#fdca26"
            ],
            [
             1,
             "#f0f921"
            ]
           ],
           "sequentialminus": [
            [
             0,
             "#0d0887"
            ],
            [
             0.1111111111111111,
             "#46039f"
            ],
            [
             0.2222222222222222,
             "#7201a8"
            ],
            [
             0.3333333333333333,
             "#9c179e"
            ],
            [
             0.4444444444444444,
             "#bd3786"
            ],
            [
             0.5555555555555556,
             "#d8576b"
            ],
            [
             0.6666666666666666,
             "#ed7953"
            ],
            [
             0.7777777777777778,
             "#fb9f3a"
            ],
            [
             0.8888888888888888,
             "#fdca26"
            ],
            [
             1,
             "#f0f921"
            ]
           ]
          },
          "colorway": [
           "#636efa",
           "#EF553B",
           "#00cc96",
           "#ab63fa",
           "#FFA15A",
           "#19d3f3",
           "#FF6692",
           "#B6E880",
           "#FF97FF",
           "#FECB52"
          ],
          "font": {
           "color": "#2a3f5f"
          },
          "geo": {
           "bgcolor": "white",
           "lakecolor": "white",
           "landcolor": "#E5ECF6",
           "showlakes": true,
           "showland": true,
           "subunitcolor": "white"
          },
          "hoverlabel": {
           "align": "left"
          },
          "hovermode": "closest",
          "mapbox": {
           "style": "light"
          },
          "paper_bgcolor": "white",
          "plot_bgcolor": "#E5ECF6",
          "polar": {
           "angularaxis": {
            "gridcolor": "white",
            "linecolor": "white",
            "ticks": ""
           },
           "bgcolor": "#E5ECF6",
           "radialaxis": {
            "gridcolor": "white",
            "linecolor": "white",
            "ticks": ""
           }
          },
          "scene": {
           "xaxis": {
            "backgroundcolor": "#E5ECF6",
            "gridcolor": "white",
            "gridwidth": 2,
            "linecolor": "white",
            "showbackground": true,
            "ticks": "",
            "zerolinecolor": "white"
           },
           "yaxis": {
            "backgroundcolor": "#E5ECF6",
            "gridcolor": "white",
            "gridwidth": 2,
            "linecolor": "white",
            "showbackground": true,
            "ticks": "",
            "zerolinecolor": "white"
           },
           "zaxis": {
            "backgroundcolor": "#E5ECF6",
            "gridcolor": "white",
            "gridwidth": 2,
            "linecolor": "white",
            "showbackground": true,
            "ticks": "",
            "zerolinecolor": "white"
           }
          },
          "shapedefaults": {
           "line": {
            "color": "#2a3f5f"
           }
          },
          "ternary": {
           "aaxis": {
            "gridcolor": "white",
            "linecolor": "white",
            "ticks": ""
           },
           "baxis": {
            "gridcolor": "white",
            "linecolor": "white",
            "ticks": ""
           },
           "bgcolor": "#E5ECF6",
           "caxis": {
            "gridcolor": "white",
            "linecolor": "white",
            "ticks": ""
           }
          },
          "title": {
           "x": 0.05
          },
          "xaxis": {
           "automargin": true,
           "gridcolor": "white",
           "linecolor": "white",
           "ticks": "",
           "title": {
            "standoff": 15
           },
           "zerolinecolor": "white",
           "zerolinewidth": 2
          },
          "yaxis": {
           "automargin": true,
           "gridcolor": "white",
           "linecolor": "white",
           "ticks": "",
           "title": {
            "standoff": 15
           },
           "zerolinecolor": "white",
           "zerolinewidth": 2
          }
         }
        },
        "title": {
         "text": "Acousticness Across Albums"
        },
        "xaxis": {
         "anchor": "y",
         "domain": [
          0,
          1
         ],
         "title": {
          "text": "album"
         }
        },
        "yaxis": {
         "anchor": "x",
         "domain": [
          0,
          1
         ],
         "title": {
          "text": "Acousticness"
         }
        }
       }
      }
     },
     "metadata": {},
     "output_type": "display_data"
    }
   ],
   "source": [
    "# Box plot for Acousticness across albums\n",
    "fig_acousticness = px.box(df, x='album', y='acousticness', title='Acousticness Across Albums',\n",
    "                          labels={'acousticness': 'Acousticness'})\n",
    "fig_acousticness.show()"
   ]
  },
  {
   "cell_type": "code",
   "execution_count": 49,
   "metadata": {},
   "outputs": [
    {
     "data": {
      "application/vnd.plotly.v1+json": {
       "config": {
        "plotlyServerURL": "https://plot.ly"
       },
       "data": [
        {
         "alignmentgroup": "True",
         "hovertemplate": "album=%{x}<br>danceability=%{y}<extra></extra>",
         "legendgroup": "",
         "marker": {
          "color": "#636efa"
         },
         "name": "",
         "notched": false,
         "offsetgroup": "",
         "orientation": "v",
         "showlegend": false,
         "type": "box",
         "x": [
          "The Tortured Poets Department: The Anthology",
          "The Tortured Poets Department: The Anthology",
          "The Tortured Poets Department: The Anthology",
          "The Tortured Poets Department: The Anthology",
          "The Tortured Poets Department: The Anthology",
          "The Tortured Poets Department: The Anthology",
          "The Tortured Poets Department: The Anthology",
          "The Tortured Poets Department: The Anthology",
          "The Tortured Poets Department: The Anthology",
          "The Tortured Poets Department: The Anthology",
          "The Tortured Poets Department: The Anthology",
          "The Tortured Poets Department: The Anthology",
          "The Tortured Poets Department: The Anthology",
          "The Tortured Poets Department: The Anthology",
          "The Tortured Poets Department: The Anthology",
          "The Tortured Poets Department: The Anthology",
          "The Tortured Poets Department: The Anthology",
          "The Tortured Poets Department: The Anthology",
          "The Tortured Poets Department: The Anthology",
          "The Tortured Poets Department: The Anthology",
          "The Tortured Poets Department: The Anthology",
          "The Tortured Poets Department: The Anthology",
          "The Tortured Poets Department: The Anthology",
          "The Tortured Poets Department: The Anthology",
          "The Tortured Poets Department: The Anthology",
          "The Tortured Poets Department: The Anthology",
          "The Tortured Poets Department: The Anthology",
          "The Tortured Poets Department: The Anthology",
          "The Tortured Poets Department: The Anthology",
          "The Tortured Poets Department: The Anthology",
          "The Tortured Poets Department: The Anthology",
          "The Tortured Poets Department",
          "The Tortured Poets Department",
          "The Tortured Poets Department",
          "The Tortured Poets Department",
          "The Tortured Poets Department",
          "The Tortured Poets Department",
          "The Tortured Poets Department",
          "The Tortured Poets Department",
          "The Tortured Poets Department",
          "The Tortured Poets Department",
          "The Tortured Poets Department",
          "The Tortured Poets Department",
          "The Tortured Poets Department",
          "The Tortured Poets Department",
          "The Tortured Poets Department",
          "The Tortured Poets Department",
          "1989 (Taylor's Version) [Deluxe]",
          "1989 (Taylor's Version) [Deluxe]",
          "1989 (Taylor's Version) [Deluxe]",
          "1989 (Taylor's Version) [Deluxe]",
          "1989 (Taylor's Version) [Deluxe]",
          "1989 (Taylor's Version) [Deluxe]",
          "1989 (Taylor's Version) [Deluxe]",
          "1989 (Taylor's Version) [Deluxe]",
          "1989 (Taylor's Version) [Deluxe]",
          "1989 (Taylor's Version) [Deluxe]",
          "1989 (Taylor's Version) [Deluxe]",
          "1989 (Taylor's Version) [Deluxe]",
          "1989 (Taylor's Version) [Deluxe]",
          "1989 (Taylor's Version) [Deluxe]",
          "1989 (Taylor's Version) [Deluxe]",
          "1989 (Taylor's Version) [Deluxe]",
          "1989 (Taylor's Version) [Deluxe]",
          "1989 (Taylor's Version) [Deluxe]",
          "1989 (Taylor's Version) [Deluxe]",
          "1989 (Taylor's Version) [Deluxe]",
          "1989 (Taylor's Version) [Deluxe]",
          "1989 (Taylor's Version) [Deluxe]",
          "1989 (Taylor's Version)",
          "1989 (Taylor's Version)",
          "1989 (Taylor's Version)",
          "1989 (Taylor's Version)",
          "1989 (Taylor's Version)",
          "1989 (Taylor's Version)",
          "1989 (Taylor's Version)",
          "1989 (Taylor's Version)",
          "1989 (Taylor's Version)",
          "1989 (Taylor's Version)",
          "1989 (Taylor's Version)",
          "1989 (Taylor's Version)",
          "1989 (Taylor's Version)",
          "1989 (Taylor's Version)",
          "1989 (Taylor's Version)",
          "1989 (Taylor's Version)",
          "1989 (Taylor's Version)",
          "1989 (Taylor's Version)",
          "1989 (Taylor's Version)",
          "1989 (Taylor's Version)",
          "1989 (Taylor's Version)",
          "Speak Now (Taylor's Version)",
          "Speak Now (Taylor's Version)",
          "Speak Now (Taylor's Version)",
          "Speak Now (Taylor's Version)",
          "Speak Now (Taylor's Version)",
          "Speak Now (Taylor's Version)",
          "Speak Now (Taylor's Version)",
          "Speak Now (Taylor's Version)",
          "Speak Now (Taylor's Version)",
          "Speak Now (Taylor's Version)",
          "Speak Now (Taylor's Version)",
          "Speak Now (Taylor's Version)",
          "Speak Now (Taylor's Version)",
          "Speak Now (Taylor's Version)",
          "Speak Now (Taylor's Version)",
          "Speak Now (Taylor's Version)",
          "Speak Now (Taylor's Version)",
          "Speak Now (Taylor's Version)",
          "Speak Now (Taylor's Version)",
          "Speak Now (Taylor's Version)",
          "Speak Now (Taylor's Version)",
          "Speak Now (Taylor's Version)",
          "Midnights (The Til Dawn Edition)",
          "Midnights (The Til Dawn Edition)",
          "Midnights (The Til Dawn Edition)",
          "Midnights (The Til Dawn Edition)",
          "Midnights (The Til Dawn Edition)",
          "Midnights (The Til Dawn Edition)",
          "Midnights (The Til Dawn Edition)",
          "Midnights (The Til Dawn Edition)",
          "Midnights (The Til Dawn Edition)",
          "Midnights (The Til Dawn Edition)",
          "Midnights (The Til Dawn Edition)",
          "Midnights (The Til Dawn Edition)",
          "Midnights (The Til Dawn Edition)",
          "Midnights (The Til Dawn Edition)",
          "Midnights (The Til Dawn Edition)",
          "Midnights (The Til Dawn Edition)",
          "Midnights (The Til Dawn Edition)",
          "Midnights (The Til Dawn Edition)",
          "Midnights (The Til Dawn Edition)",
          "Midnights (The Til Dawn Edition)",
          "Midnights (The Til Dawn Edition)",
          "Midnights (The Til Dawn Edition)",
          "Midnights (The Til Dawn Edition)",
          "Midnights (3am Edition)",
          "Midnights (3am Edition)",
          "Midnights (3am Edition)",
          "Midnights (3am Edition)",
          "Midnights (3am Edition)",
          "Midnights (3am Edition)",
          "Midnights (3am Edition)",
          "Midnights (3am Edition)",
          "Midnights (3am Edition)",
          "Midnights (3am Edition)",
          "Midnights (3am Edition)",
          "Midnights (3am Edition)",
          "Midnights (3am Edition)",
          "Midnights (3am Edition)",
          "Midnights (3am Edition)",
          "Midnights (3am Edition)",
          "Midnights (3am Edition)",
          "Midnights (3am Edition)",
          "Midnights (3am Edition)",
          "Midnights (3am Edition)",
          "Midnights",
          "Midnights",
          "Midnights",
          "Midnights",
          "Midnights",
          "Midnights",
          "Midnights",
          "Midnights",
          "Midnights",
          "Midnights",
          "Midnights",
          "Midnights",
          "Midnights",
          "Red (Taylor's Version)",
          "Red (Taylor's Version)",
          "Red (Taylor's Version)",
          "Red (Taylor's Version)",
          "Red (Taylor's Version)",
          "Red (Taylor's Version)",
          "Red (Taylor's Version)",
          "Red (Taylor's Version)",
          "Red (Taylor's Version)",
          "Red (Taylor's Version)",
          "Red (Taylor's Version)",
          "Red (Taylor's Version)",
          "Red (Taylor's Version)",
          "Red (Taylor's Version)",
          "Red (Taylor's Version)",
          "Red (Taylor's Version)",
          "Red (Taylor's Version)",
          "Red (Taylor's Version)",
          "Red (Taylor's Version)",
          "Red (Taylor's Version)",
          "Red (Taylor's Version)",
          "Red (Taylor's Version)",
          "Red (Taylor's Version)",
          "Red (Taylor's Version)",
          "Red (Taylor's Version)",
          "Red (Taylor's Version)",
          "Red (Taylor's Version)",
          "Red (Taylor's Version)",
          "Red (Taylor's Version)",
          "Red (Taylor's Version)",
          "Fearless (Taylor's Version)",
          "Fearless (Taylor's Version)",
          "Fearless (Taylor's Version)",
          "Fearless (Taylor's Version)",
          "Fearless (Taylor's Version)",
          "Fearless (Taylor's Version)",
          "Fearless (Taylor's Version)",
          "Fearless (Taylor's Version)",
          "Fearless (Taylor's Version)",
          "Fearless (Taylor's Version)",
          "Fearless (Taylor's Version)",
          "Fearless (Taylor's Version)",
          "Fearless (Taylor's Version)",
          "Fearless (Taylor's Version)",
          "Fearless (Taylor's Version)",
          "Fearless (Taylor's Version)",
          "Fearless (Taylor's Version)",
          "Fearless (Taylor's Version)",
          "Fearless (Taylor's Version)",
          "Fearless (Taylor's Version)",
          "Fearless (Taylor's Version)",
          "Fearless (Taylor's Version)",
          "Fearless (Taylor's Version)",
          "Fearless (Taylor's Version)",
          "Fearless (Taylor's Version)",
          "Fearless (Taylor's Version)",
          "evermore (deluxe version)",
          "evermore (deluxe version)",
          "evermore (deluxe version)",
          "evermore (deluxe version)",
          "evermore (deluxe version)",
          "evermore (deluxe version)",
          "evermore (deluxe version)",
          "evermore (deluxe version)",
          "evermore (deluxe version)",
          "evermore (deluxe version)",
          "evermore (deluxe version)",
          "evermore (deluxe version)",
          "evermore (deluxe version)",
          "evermore (deluxe version)",
          "evermore (deluxe version)",
          "evermore (deluxe version)",
          "evermore (deluxe version)",
          "evermore",
          "evermore",
          "evermore",
          "evermore",
          "evermore",
          "evermore",
          "evermore",
          "evermore",
          "evermore",
          "evermore",
          "evermore",
          "evermore",
          "evermore",
          "evermore",
          "evermore",
          "folklore: the long pond studio sessions (from the Disney+ special) [deluxe edition]",
          "folklore: the long pond studio sessions (from the Disney+ special) [deluxe edition]",
          "folklore: the long pond studio sessions (from the Disney+ special) [deluxe edition]",
          "folklore: the long pond studio sessions (from the Disney+ special) [deluxe edition]",
          "folklore: the long pond studio sessions (from the Disney+ special) [deluxe edition]",
          "folklore: the long pond studio sessions (from the Disney+ special) [deluxe edition]",
          "folklore: the long pond studio sessions (from the Disney+ special) [deluxe edition]",
          "folklore: the long pond studio sessions (from the Disney+ special) [deluxe edition]",
          "folklore: the long pond studio sessions (from the Disney+ special) [deluxe edition]",
          "folklore: the long pond studio sessions (from the Disney+ special) [deluxe edition]",
          "folklore: the long pond studio sessions (from the Disney+ special) [deluxe edition]",
          "folklore: the long pond studio sessions (from the Disney+ special) [deluxe edition]",
          "folklore: the long pond studio sessions (from the Disney+ special) [deluxe edition]",
          "folklore: the long pond studio sessions (from the Disney+ special) [deluxe edition]",
          "folklore: the long pond studio sessions (from the Disney+ special) [deluxe edition]",
          "folklore: the long pond studio sessions (from the Disney+ special) [deluxe edition]",
          "folklore: the long pond studio sessions (from the Disney+ special) [deluxe edition]",
          "folklore: the long pond studio sessions (from the Disney+ special) [deluxe edition]",
          "folklore: the long pond studio sessions (from the Disney+ special) [deluxe edition]",
          "folklore: the long pond studio sessions (from the Disney+ special) [deluxe edition]",
          "folklore: the long pond studio sessions (from the Disney+ special) [deluxe edition]",
          "folklore: the long pond studio sessions (from the Disney+ special) [deluxe edition]",
          "folklore: the long pond studio sessions (from the Disney+ special) [deluxe edition]",
          "folklore: the long pond studio sessions (from the Disney+ special) [deluxe edition]",
          "folklore: the long pond studio sessions (from the Disney+ special) [deluxe edition]",
          "folklore: the long pond studio sessions (from the Disney+ special) [deluxe edition]",
          "folklore: the long pond studio sessions (from the Disney+ special) [deluxe edition]",
          "folklore: the long pond studio sessions (from the Disney+ special) [deluxe edition]",
          "folklore: the long pond studio sessions (from the Disney+ special) [deluxe edition]",
          "folklore: the long pond studio sessions (from the Disney+ special) [deluxe edition]",
          "folklore: the long pond studio sessions (from the Disney+ special) [deluxe edition]",
          "folklore: the long pond studio sessions (from the Disney+ special) [deluxe edition]",
          "folklore: the long pond studio sessions (from the Disney+ special) [deluxe edition]",
          "folklore: the long pond studio sessions (from the Disney+ special) [deluxe edition]",
          "folklore (deluxe version)",
          "folklore (deluxe version)",
          "folklore (deluxe version)",
          "folklore (deluxe version)",
          "folklore (deluxe version)",
          "folklore (deluxe version)",
          "folklore (deluxe version)",
          "folklore (deluxe version)",
          "folklore (deluxe version)",
          "folklore (deluxe version)",
          "folklore (deluxe version)",
          "folklore (deluxe version)",
          "folklore (deluxe version)",
          "folklore (deluxe version)",
          "folklore (deluxe version)",
          "folklore (deluxe version)",
          "folklore (deluxe version)",
          "folklore",
          "folklore",
          "folklore",
          "folklore",
          "folklore",
          "folklore",
          "folklore",
          "folklore",
          "folklore",
          "folklore",
          "folklore",
          "folklore",
          "folklore",
          "folklore",
          "folklore",
          "folklore",
          "Lover",
          "Lover",
          "Lover",
          "Lover",
          "Lover",
          "Lover",
          "Lover",
          "Lover",
          "Lover",
          "Lover",
          "Lover",
          "Lover",
          "Lover",
          "Lover",
          "Lover",
          "Lover",
          "Lover",
          "Lover",
          "reputation",
          "reputation",
          "reputation",
          "reputation",
          "reputation",
          "reputation",
          "reputation",
          "reputation",
          "reputation",
          "reputation",
          "reputation",
          "reputation",
          "reputation",
          "reputation",
          "reputation",
          "reputation Stadium Tour Surprise Song Playlist",
          "reputation Stadium Tour Surprise Song Playlist",
          "reputation Stadium Tour Surprise Song Playlist",
          "reputation Stadium Tour Surprise Song Playlist",
          "reputation Stadium Tour Surprise Song Playlist",
          "reputation Stadium Tour Surprise Song Playlist",
          "reputation Stadium Tour Surprise Song Playlist",
          "reputation Stadium Tour Surprise Song Playlist",
          "reputation Stadium Tour Surprise Song Playlist",
          "reputation Stadium Tour Surprise Song Playlist",
          "reputation Stadium Tour Surprise Song Playlist",
          "reputation Stadium Tour Surprise Song Playlist",
          "reputation Stadium Tour Surprise Song Playlist",
          "reputation Stadium Tour Surprise Song Playlist",
          "reputation Stadium Tour Surprise Song Playlist",
          "reputation Stadium Tour Surprise Song Playlist",
          "reputation Stadium Tour Surprise Song Playlist",
          "reputation Stadium Tour Surprise Song Playlist",
          "reputation Stadium Tour Surprise Song Playlist",
          "reputation Stadium Tour Surprise Song Playlist",
          "reputation Stadium Tour Surprise Song Playlist",
          "reputation Stadium Tour Surprise Song Playlist",
          "reputation Stadium Tour Surprise Song Playlist",
          "reputation Stadium Tour Surprise Song Playlist",
          "reputation Stadium Tour Surprise Song Playlist",
          "reputation Stadium Tour Surprise Song Playlist",
          "reputation Stadium Tour Surprise Song Playlist",
          "reputation Stadium Tour Surprise Song Playlist",
          "reputation Stadium Tour Surprise Song Playlist",
          "reputation Stadium Tour Surprise Song Playlist",
          "reputation Stadium Tour Surprise Song Playlist",
          "reputation Stadium Tour Surprise Song Playlist",
          "reputation Stadium Tour Surprise Song Playlist",
          "reputation Stadium Tour Surprise Song Playlist",
          "reputation Stadium Tour Surprise Song Playlist",
          "reputation Stadium Tour Surprise Song Playlist",
          "reputation Stadium Tour Surprise Song Playlist",
          "reputation Stadium Tour Surprise Song Playlist",
          "reputation Stadium Tour Surprise Song Playlist",
          "reputation Stadium Tour Surprise Song Playlist",
          "reputation Stadium Tour Surprise Song Playlist",
          "reputation Stadium Tour Surprise Song Playlist",
          "reputation Stadium Tour Surprise Song Playlist",
          "reputation Stadium Tour Surprise Song Playlist",
          "reputation Stadium Tour Surprise Song Playlist",
          "reputation Stadium Tour Surprise Song Playlist",
          "1989 (Deluxe Edition)",
          "1989 (Deluxe Edition)",
          "1989 (Deluxe Edition)",
          "1989 (Deluxe Edition)",
          "1989 (Deluxe Edition)",
          "1989 (Deluxe Edition)",
          "1989 (Deluxe Edition)",
          "1989 (Deluxe Edition)",
          "1989 (Deluxe Edition)",
          "1989 (Deluxe Edition)",
          "1989 (Deluxe Edition)",
          "1989 (Deluxe Edition)",
          "1989 (Deluxe Edition)",
          "1989 (Deluxe Edition)",
          "1989 (Deluxe Edition)",
          "1989 (Deluxe Edition)",
          "1989 (Deluxe Edition)",
          "1989 (Deluxe Edition)",
          "1989 (Deluxe Edition)",
          "1989",
          "1989",
          "1989",
          "1989",
          "1989",
          "1989",
          "1989",
          "1989",
          "1989",
          "1989",
          "1989",
          "1989",
          "1989",
          "Red (Deluxe Edition)",
          "Red (Deluxe Edition)",
          "Red (Deluxe Edition)",
          "Red (Deluxe Edition)",
          "Red (Deluxe Edition)",
          "Red (Deluxe Edition)",
          "Red (Deluxe Edition)",
          "Red (Deluxe Edition)",
          "Red (Deluxe Edition)",
          "Red (Deluxe Edition)",
          "Red (Deluxe Edition)",
          "Red (Deluxe Edition)",
          "Red (Deluxe Edition)",
          "Red (Deluxe Edition)",
          "Red (Deluxe Edition)",
          "Red (Deluxe Edition)",
          "Red (Deluxe Edition)",
          "Red (Deluxe Edition)",
          "Red (Deluxe Edition)",
          "Red (Deluxe Edition)",
          "Red (Deluxe Edition)",
          "Red (Deluxe Edition)",
          "Red",
          "Red",
          "Red",
          "Red",
          "Red",
          "Red",
          "Red",
          "Red",
          "Red",
          "Red",
          "Red",
          "Red",
          "Red",
          "Red",
          "Red",
          "Red",
          "Speak Now World Tour Live",
          "Speak Now World Tour Live",
          "Speak Now World Tour Live",
          "Speak Now World Tour Live",
          "Speak Now World Tour Live",
          "Speak Now World Tour Live",
          "Speak Now World Tour Live",
          "Speak Now World Tour Live",
          "Speak Now World Tour Live",
          "Speak Now World Tour Live",
          "Speak Now World Tour Live",
          "Speak Now World Tour Live",
          "Speak Now World Tour Live",
          "Speak Now World Tour Live",
          "Speak Now World Tour Live",
          "Speak Now World Tour Live",
          "Speak Now (Deluxe Edition)",
          "Speak Now (Deluxe Edition)",
          "Speak Now (Deluxe Edition)",
          "Speak Now (Deluxe Edition)",
          "Speak Now (Deluxe Edition)",
          "Speak Now (Deluxe Edition)",
          "Speak Now (Deluxe Edition)",
          "Speak Now (Deluxe Edition)",
          "Speak Now (Deluxe Edition)",
          "Speak Now (Deluxe Edition)",
          "Speak Now (Deluxe Edition)",
          "Speak Now (Deluxe Edition)",
          "Speak Now (Deluxe Edition)",
          "Speak Now (Deluxe Edition)",
          "Speak Now (Deluxe Edition)",
          "Speak Now (Deluxe Edition)",
          "Speak Now (Deluxe Edition)",
          "Speak Now (Deluxe Edition)",
          "Speak Now (Deluxe Edition)",
          "Speak Now (Deluxe Edition)",
          "Speak Now",
          "Speak Now",
          "Speak Now",
          "Speak Now",
          "Speak Now",
          "Speak Now",
          "Speak Now",
          "Speak Now",
          "Speak Now",
          "Speak Now",
          "Speak Now",
          "Speak Now",
          "Speak Now",
          "Speak Now",
          "Fearless Platinum Edition",
          "Fearless Platinum Edition",
          "Fearless Platinum Edition",
          "Fearless Platinum Edition",
          "Fearless Platinum Edition",
          "Fearless Platinum Edition",
          "Fearless Platinum Edition",
          "Fearless Platinum Edition",
          "Fearless Platinum Edition",
          "Fearless Platinum Edition",
          "Fearless Platinum Edition",
          "Fearless Platinum Edition",
          "Fearless Platinum Edition",
          "Fearless Platinum Edition",
          "Fearless Platinum Edition",
          "Fearless Platinum Edition",
          "Fearless Platinum Edition",
          "Fearless Platinum Edition",
          "Fearless Platinum Edition",
          "Fearless",
          "Fearless",
          "Fearless",
          "Fearless",
          "Fearless",
          "Fearless",
          "Fearless",
          "Fearless",
          "Fearless",
          "Fearless",
          "Fearless",
          "Fearless",
          "Fearless",
          "Live From Clear Channel Stripped 2008",
          "Live From Clear Channel Stripped 2008",
          "Live From Clear Channel Stripped 2008",
          "Live From Clear Channel Stripped 2008",
          "Live From Clear Channel Stripped 2008",
          "Live From Clear Channel Stripped 2008",
          "Live From Clear Channel Stripped 2008",
          "Live From Clear Channel Stripped 2008",
          "Taylor Swift",
          "Taylor Swift",
          "Taylor Swift",
          "Taylor Swift",
          "Taylor Swift",
          "Taylor Swift",
          "Taylor Swift",
          "Taylor Swift",
          "Taylor Swift",
          "Taylor Swift",
          "Taylor Swift",
          "Taylor Swift",
          "Taylor Swift",
          "Taylor Swift",
          "Taylor Swift"
         ],
         "x0": " ",
         "xaxis": "x",
         "y": [
          0.504,
          0.604,
          0.596,
          0.541,
          0.423,
          0.521,
          0.33,
          0.533,
          0.626,
          0.606,
          0.661,
          0.423,
          0.701,
          0.426,
          0.64,
          0.686,
          0.527,
          0.784,
          0.352,
          0.516,
          0.492,
          0.366,
          0.485,
          0.609,
          0.763,
          0.421,
          0.587,
          0.342,
          0.455,
          0.476,
          0.509,
          0.504,
          0.604,
          0.596,
          0.541,
          0.423,
          0.521,
          0.33,
          0.533,
          0.626,
          0.606,
          0.661,
          0.423,
          0.701,
          0.426,
          0.64,
          0.686,
          0.757,
          0.733,
          0.511,
          0.545,
          0.588,
          0.636,
          0.67,
          0.618,
          0.589,
          0.758,
          0.471,
          0.582,
          0.772,
          0.464,
          0.363,
          0.649,
          0.591,
          0.633,
          0.8,
          0.701,
          0.595,
          0.602,
          0.761,
          0.737,
          0.575,
          0.547,
          0.586,
          0.632,
          0.669,
          0.619,
          0.581,
          0.754,
          0.474,
          0.575,
          0.771,
          0.462,
          0.537,
          0.651,
          0.629,
          0.626,
          0.793,
          0.699,
          0.596,
          0.646,
          0.588,
          0.497,
          0.727,
          0.419,
          0.524,
          0.515,
          0.685,
          0.505,
          0.496,
          0.522,
          0.427,
          0.55,
          0.375,
          0.535,
          0.533,
          0.547,
          0.474,
          0.694,
          0.576,
          0.671,
          0.624,
          0.735,
          0.65,
          0.637,
          0.653,
          0.694,
          0.654,
          0.741,
          0.867,
          0.695,
          0.493,
          0.647,
          0.335,
          0.661,
          0.573,
          0.48,
          0.691,
          0.564,
          0.677,
          0.482,
          0.475,
          0.672,
          0.664,
          0.615,
          0.735,
          0.658,
          0.638,
          0.659,
          0.694,
          0.636,
          0.751,
          0.87,
          0.7,
          0.487,
          0.649,
          0.334,
          0.661,
          0.573,
          0.422,
          0.7,
          0.646,
          0.675,
          0.483,
          0.562,
          0.733,
          0.637,
          0.637,
          0.663,
          0.696,
          0.643,
          0.751,
          0.798,
          0.696,
          0.406,
          0.642,
          0.337,
          0.662,
          0.594,
          0.516,
          0.645,
          0.584,
          0.44,
          0.642,
          0.511,
          0.567,
          0.693,
          0.502,
          0.622,
          0.601,
          0.686,
          0.498,
          0.628,
          0.519,
          0.636,
          0.46,
          0.691,
          0.445,
          0.623,
          0.473,
          0.606,
          0.584,
          0.622,
          0.391,
          0.611,
          0.61,
          0.678,
          0.631,
          0.569,
          0.559,
          0.627,
          0.788,
          0.423,
          0.632,
          0.506,
          0.578,
          0.506,
          0.402,
          0.598,
          0.642,
          0.499,
          0.572,
          0.393,
          0.546,
          0.476,
          0.454,
          0.432,
          0.482,
          0.599,
          0.66,
          0.609,
          0.588,
          0.563,
          0.624,
          0.392,
          0.462,
          0.512,
          0.575,
          0.316,
          0.546,
          0.559,
          0.605,
          0.537,
          0.515,
          0.604,
          0.546,
          0.535,
          0.689,
          0.39,
          0.581,
          0.592,
          0.392,
          0.462,
          0.512,
          0.575,
          0.316,
          0.546,
          0.559,
          0.605,
          0.537,
          0.515,
          0.604,
          0.546,
          0.535,
          0.689,
          0.39,
          0.78,
          0.612,
          0.688,
          0.31,
          0.456,
          0.549,
          0.602,
          0.387,
          0.511,
          0.529,
          0.651,
          0.593,
          0.317,
          0.595,
          0.644,
          0.676,
          0.313,
          0.708,
          0.395,
          0.64,
          0.359,
          0.531,
          0.509,
          0.694,
          0.554,
          0.435,
          0.489,
          0.59,
          0.663,
          0.524,
          0.538,
          0.619,
          0.682,
          0.606,
          0.78,
          0.612,
          0.688,
          0.31,
          0.456,
          0.549,
          0.602,
          0.387,
          0.511,
          0.529,
          0.651,
          0.593,
          0.317,
          0.595,
          0.644,
          0.676,
          0.313,
          0.777,
          0.613,
          0.686,
          0.298,
          0.456,
          0.553,
          0.596,
          0.532,
          0.515,
          0.559,
          0.653,
          0.592,
          0.354,
          0.593,
          0.647,
          0.662,
          0.664,
          0.552,
          0.359,
          0.777,
          0.292,
          0.897,
          0.662,
          0.811,
          0.824,
          0.712,
          0.695,
          0.433,
          0.739,
          0.771,
          0.756,
          0.61,
          0.737,
          0.557,
          0.613,
          0.649,
          0.696,
          0.615,
          0.75,
          0.766,
          0.574,
          0.8,
          0.562,
          0.675,
          0.624,
          0.719,
          0.567,
          0.598,
          0.661,
          0.602,
          0.55,
          0.669,
          0.605,
          0.627,
          0.626,
          0.545,
          0.66,
          0.536,
          0.731,
          0.576,
          0.765,
          0.574,
          0.55,
          0.621,
          0.61,
          0.591,
          0.431,
          0.714,
          0.704,
          0.577,
          0.789,
          0.603,
          0.535,
          0.543,
          0.61,
          0.553,
          0.483,
          0.573,
          0.481,
          0.706,
          0.609,
          0.442,
          0.502,
          0.617,
          0.53,
          0.479,
          0.547,
          0.607,
          0.843,
          0.712,
          0.422,
          0.578,
          0.556,
          0.649,
          0.602,
          0.789,
          0.76,
          0.588,
          0.553,
          0.605,
          0.647,
          0.653,
          0.646,
          0.55,
          0.765,
          0.481,
          0.602,
          0.815,
          0.422,
          0.474,
          0.633,
          0.592,
          0.781,
          0.675,
          0.793,
          0.753,
          0.598,
          0.552,
          0.602,
          0.647,
          0.648,
          0.65,
          0.554,
          0.764,
          0.475,
          0.596,
          0.81,
          0.588,
          0.602,
          0.705,
          0.622,
          0.602,
          0.658,
          0.567,
          0.628,
          0.729,
          0.505,
          0.627,
          0.624,
          0.706,
          0.624,
          0.649,
          0.53,
          0.62,
          0.483,
          0.733,
          0.828,
          0.678,
          0.626,
          0.588,
          0.602,
          0.705,
          0.622,
          0.602,
          0.658,
          0.567,
          0.628,
          0.729,
          0.505,
          0.627,
          0.624,
          0.706,
          0.624,
          0.649,
          0.53,
          0.455,
          0.496,
          0.419,
          0.429,
          0.421,
          0.374,
          0.445,
          0.615,
          0.427,
          0.374,
          0.327,
          0.536,
          0.521,
          0.34,
          0.338,
          0.544,
          0.624,
          0.605,
          0.529,
          0.709,
          0.589,
          0.568,
          0.543,
          0.714,
          0.455,
          0.516,
          0.552,
          0.436,
          0.371,
          0.418,
          0.608,
          0.511,
          0.582,
          0.541,
          0.563,
          0.695,
          0.624,
          0.605,
          0.529,
          0.709,
          0.589,
          0.568,
          0.543,
          0.714,
          0.455,
          0.516,
          0.552,
          0.436,
          0.371,
          0.418,
          0.618,
          0.419,
          0.592,
          0.527,
          0.61,
          0.476,
          0.598,
          0.559,
          0.618,
          0.843,
          0.585,
          0.687,
          0.498,
          0.601,
          0.459,
          0.436,
          0.605,
          0.664,
          0.548,
          0.594,
          0.556,
          0.618,
          0.841,
          0.578,
          0.687,
          0.505,
          0.604,
          0.475,
          0.433,
          0.608,
          0.666,
          0.541,
          0.741,
          0.623,
          0.627,
          0.731,
          0.344,
          0.647,
          0.429,
          0.243,
          0.58,
          0.658,
          0.621,
          0.576,
          0.418,
          0.589,
          0.479,
          0.594,
          0.476,
          0.403,
          0.668,
          0.563,
          0.612,
          0.483,
          0.459
         ],
         "y0": " ",
         "yaxis": "y"
        }
       ],
       "layout": {
        "boxmode": "group",
        "legend": {
         "tracegroupgap": 0
        },
        "template": {
         "data": {
          "bar": [
           {
            "error_x": {
             "color": "#2a3f5f"
            },
            "error_y": {
             "color": "#2a3f5f"
            },
            "marker": {
             "line": {
              "color": "#E5ECF6",
              "width": 0.5
             },
             "pattern": {
              "fillmode": "overlay",
              "size": 10,
              "solidity": 0.2
             }
            },
            "type": "bar"
           }
          ],
          "barpolar": [
           {
            "marker": {
             "line": {
              "color": "#E5ECF6",
              "width": 0.5
             },
             "pattern": {
              "fillmode": "overlay",
              "size": 10,
              "solidity": 0.2
             }
            },
            "type": "barpolar"
           }
          ],
          "carpet": [
           {
            "aaxis": {
             "endlinecolor": "#2a3f5f",
             "gridcolor": "white",
             "linecolor": "white",
             "minorgridcolor": "white",
             "startlinecolor": "#2a3f5f"
            },
            "baxis": {
             "endlinecolor": "#2a3f5f",
             "gridcolor": "white",
             "linecolor": "white",
             "minorgridcolor": "white",
             "startlinecolor": "#2a3f5f"
            },
            "type": "carpet"
           }
          ],
          "choropleth": [
           {
            "colorbar": {
             "outlinewidth": 0,
             "ticks": ""
            },
            "type": "choropleth"
           }
          ],
          "contour": [
           {
            "colorbar": {
             "outlinewidth": 0,
             "ticks": ""
            },
            "colorscale": [
             [
              0,
              "#0d0887"
             ],
             [
              0.1111111111111111,
              "#46039f"
             ],
             [
              0.2222222222222222,
              "#7201a8"
             ],
             [
              0.3333333333333333,
              "#9c179e"
             ],
             [
              0.4444444444444444,
              "#bd3786"
             ],
             [
              0.5555555555555556,
              "#d8576b"
             ],
             [
              0.6666666666666666,
              "#ed7953"
             ],
             [
              0.7777777777777778,
              "#fb9f3a"
             ],
             [
              0.8888888888888888,
              "#fdca26"
             ],
             [
              1,
              "#f0f921"
             ]
            ],
            "type": "contour"
           }
          ],
          "contourcarpet": [
           {
            "colorbar": {
             "outlinewidth": 0,
             "ticks": ""
            },
            "type": "contourcarpet"
           }
          ],
          "heatmap": [
           {
            "colorbar": {
             "outlinewidth": 0,
             "ticks": ""
            },
            "colorscale": [
             [
              0,
              "#0d0887"
             ],
             [
              0.1111111111111111,
              "#46039f"
             ],
             [
              0.2222222222222222,
              "#7201a8"
             ],
             [
              0.3333333333333333,
              "#9c179e"
             ],
             [
              0.4444444444444444,
              "#bd3786"
             ],
             [
              0.5555555555555556,
              "#d8576b"
             ],
             [
              0.6666666666666666,
              "#ed7953"
             ],
             [
              0.7777777777777778,
              "#fb9f3a"
             ],
             [
              0.8888888888888888,
              "#fdca26"
             ],
             [
              1,
              "#f0f921"
             ]
            ],
            "type": "heatmap"
           }
          ],
          "heatmapgl": [
           {
            "colorbar": {
             "outlinewidth": 0,
             "ticks": ""
            },
            "colorscale": [
             [
              0,
              "#0d0887"
             ],
             [
              0.1111111111111111,
              "#46039f"
             ],
             [
              0.2222222222222222,
              "#7201a8"
             ],
             [
              0.3333333333333333,
              "#9c179e"
             ],
             [
              0.4444444444444444,
              "#bd3786"
             ],
             [
              0.5555555555555556,
              "#d8576b"
             ],
             [
              0.6666666666666666,
              "#ed7953"
             ],
             [
              0.7777777777777778,
              "#fb9f3a"
             ],
             [
              0.8888888888888888,
              "#fdca26"
             ],
             [
              1,
              "#f0f921"
             ]
            ],
            "type": "heatmapgl"
           }
          ],
          "histogram": [
           {
            "marker": {
             "pattern": {
              "fillmode": "overlay",
              "size": 10,
              "solidity": 0.2
             }
            },
            "type": "histogram"
           }
          ],
          "histogram2d": [
           {
            "colorbar": {
             "outlinewidth": 0,
             "ticks": ""
            },
            "colorscale": [
             [
              0,
              "#0d0887"
             ],
             [
              0.1111111111111111,
              "#46039f"
             ],
             [
              0.2222222222222222,
              "#7201a8"
             ],
             [
              0.3333333333333333,
              "#9c179e"
             ],
             [
              0.4444444444444444,
              "#bd3786"
             ],
             [
              0.5555555555555556,
              "#d8576b"
             ],
             [
              0.6666666666666666,
              "#ed7953"
             ],
             [
              0.7777777777777778,
              "#fb9f3a"
             ],
             [
              0.8888888888888888,
              "#fdca26"
             ],
             [
              1,
              "#f0f921"
             ]
            ],
            "type": "histogram2d"
           }
          ],
          "histogram2dcontour": [
           {
            "colorbar": {
             "outlinewidth": 0,
             "ticks": ""
            },
            "colorscale": [
             [
              0,
              "#0d0887"
             ],
             [
              0.1111111111111111,
              "#46039f"
             ],
             [
              0.2222222222222222,
              "#7201a8"
             ],
             [
              0.3333333333333333,
              "#9c179e"
             ],
             [
              0.4444444444444444,
              "#bd3786"
             ],
             [
              0.5555555555555556,
              "#d8576b"
             ],
             [
              0.6666666666666666,
              "#ed7953"
             ],
             [
              0.7777777777777778,
              "#fb9f3a"
             ],
             [
              0.8888888888888888,
              "#fdca26"
             ],
             [
              1,
              "#f0f921"
             ]
            ],
            "type": "histogram2dcontour"
           }
          ],
          "mesh3d": [
           {
            "colorbar": {
             "outlinewidth": 0,
             "ticks": ""
            },
            "type": "mesh3d"
           }
          ],
          "parcoords": [
           {
            "line": {
             "colorbar": {
              "outlinewidth": 0,
              "ticks": ""
             }
            },
            "type": "parcoords"
           }
          ],
          "pie": [
           {
            "automargin": true,
            "type": "pie"
           }
          ],
          "scatter": [
           {
            "fillpattern": {
             "fillmode": "overlay",
             "size": 10,
             "solidity": 0.2
            },
            "type": "scatter"
           }
          ],
          "scatter3d": [
           {
            "line": {
             "colorbar": {
              "outlinewidth": 0,
              "ticks": ""
             }
            },
            "marker": {
             "colorbar": {
              "outlinewidth": 0,
              "ticks": ""
             }
            },
            "type": "scatter3d"
           }
          ],
          "scattercarpet": [
           {
            "marker": {
             "colorbar": {
              "outlinewidth": 0,
              "ticks": ""
             }
            },
            "type": "scattercarpet"
           }
          ],
          "scattergeo": [
           {
            "marker": {
             "colorbar": {
              "outlinewidth": 0,
              "ticks": ""
             }
            },
            "type": "scattergeo"
           }
          ],
          "scattergl": [
           {
            "marker": {
             "colorbar": {
              "outlinewidth": 0,
              "ticks": ""
             }
            },
            "type": "scattergl"
           }
          ],
          "scattermapbox": [
           {
            "marker": {
             "colorbar": {
              "outlinewidth": 0,
              "ticks": ""
             }
            },
            "type": "scattermapbox"
           }
          ],
          "scatterpolar": [
           {
            "marker": {
             "colorbar": {
              "outlinewidth": 0,
              "ticks": ""
             }
            },
            "type": "scatterpolar"
           }
          ],
          "scatterpolargl": [
           {
            "marker": {
             "colorbar": {
              "outlinewidth": 0,
              "ticks": ""
             }
            },
            "type": "scatterpolargl"
           }
          ],
          "scatterternary": [
           {
            "marker": {
             "colorbar": {
              "outlinewidth": 0,
              "ticks": ""
             }
            },
            "type": "scatterternary"
           }
          ],
          "surface": [
           {
            "colorbar": {
             "outlinewidth": 0,
             "ticks": ""
            },
            "colorscale": [
             [
              0,
              "#0d0887"
             ],
             [
              0.1111111111111111,
              "#46039f"
             ],
             [
              0.2222222222222222,
              "#7201a8"
             ],
             [
              0.3333333333333333,
              "#9c179e"
             ],
             [
              0.4444444444444444,
              "#bd3786"
             ],
             [
              0.5555555555555556,
              "#d8576b"
             ],
             [
              0.6666666666666666,
              "#ed7953"
             ],
             [
              0.7777777777777778,
              "#fb9f3a"
             ],
             [
              0.8888888888888888,
              "#fdca26"
             ],
             [
              1,
              "#f0f921"
             ]
            ],
            "type": "surface"
           }
          ],
          "table": [
           {
            "cells": {
             "fill": {
              "color": "#EBF0F8"
             },
             "line": {
              "color": "white"
             }
            },
            "header": {
             "fill": {
              "color": "#C8D4E3"
             },
             "line": {
              "color": "white"
             }
            },
            "type": "table"
           }
          ]
         },
         "layout": {
          "annotationdefaults": {
           "arrowcolor": "#2a3f5f",
           "arrowhead": 0,
           "arrowwidth": 1
          },
          "autotypenumbers": "strict",
          "coloraxis": {
           "colorbar": {
            "outlinewidth": 0,
            "ticks": ""
           }
          },
          "colorscale": {
           "diverging": [
            [
             0,
             "#8e0152"
            ],
            [
             0.1,
             "#c51b7d"
            ],
            [
             0.2,
             "#de77ae"
            ],
            [
             0.3,
             "#f1b6da"
            ],
            [
             0.4,
             "#fde0ef"
            ],
            [
             0.5,
             "#f7f7f7"
            ],
            [
             0.6,
             "#e6f5d0"
            ],
            [
             0.7,
             "#b8e186"
            ],
            [
             0.8,
             "#7fbc41"
            ],
            [
             0.9,
             "#4d9221"
            ],
            [
             1,
             "#276419"
            ]
           ],
           "sequential": [
            [
             0,
             "#0d0887"
            ],
            [
             0.1111111111111111,
             "#46039f"
            ],
            [
             0.2222222222222222,
             "#7201a8"
            ],
            [
             0.3333333333333333,
             "#9c179e"
            ],
            [
             0.4444444444444444,
             "#bd3786"
            ],
            [
             0.5555555555555556,
             "#d8576b"
            ],
            [
             0.6666666666666666,
             "#ed7953"
            ],
            [
             0.7777777777777778,
             "#fb9f3a"
            ],
            [
             0.8888888888888888,
             "#fdca26"
            ],
            [
             1,
             "#f0f921"
            ]
           ],
           "sequentialminus": [
            [
             0,
             "#0d0887"
            ],
            [
             0.1111111111111111,
             "#46039f"
            ],
            [
             0.2222222222222222,
             "#7201a8"
            ],
            [
             0.3333333333333333,
             "#9c179e"
            ],
            [
             0.4444444444444444,
             "#bd3786"
            ],
            [
             0.5555555555555556,
             "#d8576b"
            ],
            [
             0.6666666666666666,
             "#ed7953"
            ],
            [
             0.7777777777777778,
             "#fb9f3a"
            ],
            [
             0.8888888888888888,
             "#fdca26"
            ],
            [
             1,
             "#f0f921"
            ]
           ]
          },
          "colorway": [
           "#636efa",
           "#EF553B",
           "#00cc96",
           "#ab63fa",
           "#FFA15A",
           "#19d3f3",
           "#FF6692",
           "#B6E880",
           "#FF97FF",
           "#FECB52"
          ],
          "font": {
           "color": "#2a3f5f"
          },
          "geo": {
           "bgcolor": "white",
           "lakecolor": "white",
           "landcolor": "#E5ECF6",
           "showlakes": true,
           "showland": true,
           "subunitcolor": "white"
          },
          "hoverlabel": {
           "align": "left"
          },
          "hovermode": "closest",
          "mapbox": {
           "style": "light"
          },
          "paper_bgcolor": "white",
          "plot_bgcolor": "#E5ECF6",
          "polar": {
           "angularaxis": {
            "gridcolor": "white",
            "linecolor": "white",
            "ticks": ""
           },
           "bgcolor": "#E5ECF6",
           "radialaxis": {
            "gridcolor": "white",
            "linecolor": "white",
            "ticks": ""
           }
          },
          "scene": {
           "xaxis": {
            "backgroundcolor": "#E5ECF6",
            "gridcolor": "white",
            "gridwidth": 2,
            "linecolor": "white",
            "showbackground": true,
            "ticks": "",
            "zerolinecolor": "white"
           },
           "yaxis": {
            "backgroundcolor": "#E5ECF6",
            "gridcolor": "white",
            "gridwidth": 2,
            "linecolor": "white",
            "showbackground": true,
            "ticks": "",
            "zerolinecolor": "white"
           },
           "zaxis": {
            "backgroundcolor": "#E5ECF6",
            "gridcolor": "white",
            "gridwidth": 2,
            "linecolor": "white",
            "showbackground": true,
            "ticks": "",
            "zerolinecolor": "white"
           }
          },
          "shapedefaults": {
           "line": {
            "color": "#2a3f5f"
           }
          },
          "ternary": {
           "aaxis": {
            "gridcolor": "white",
            "linecolor": "white",
            "ticks": ""
           },
           "baxis": {
            "gridcolor": "white",
            "linecolor": "white",
            "ticks": ""
           },
           "bgcolor": "#E5ECF6",
           "caxis": {
            "gridcolor": "white",
            "linecolor": "white",
            "ticks": ""
           }
          },
          "title": {
           "x": 0.05
          },
          "xaxis": {
           "automargin": true,
           "gridcolor": "white",
           "linecolor": "white",
           "ticks": "",
           "title": {
            "standoff": 15
           },
           "zerolinecolor": "white",
           "zerolinewidth": 2
          },
          "yaxis": {
           "automargin": true,
           "gridcolor": "white",
           "linecolor": "white",
           "ticks": "",
           "title": {
            "standoff": 15
           },
           "zerolinecolor": "white",
           "zerolinewidth": 2
          }
         }
        },
        "title": {
         "text": "danceability  Across Albums"
        },
        "xaxis": {
         "anchor": "y",
         "domain": [
          0,
          1
         ],
         "title": {
          "text": "album"
         }
        },
        "yaxis": {
         "anchor": "x",
         "domain": [
          0,
          1
         ],
         "title": {
          "text": "danceability"
         }
        }
       }
      }
     },
     "metadata": {},
     "output_type": "display_data"
    }
   ],
   "source": [
    "# Box plot for danceability across albums\n",
    "fig_danceability  = px.box(df, x='album', y='danceability', title='danceability  Across Albums',\n",
    "                          labels={'danceability ': 'danceability '})\n",
    "fig_danceability.show()"
   ]
  },
  {
   "cell_type": "markdown",
   "metadata": {},
   "source": [
    "How does the number of video clip views vary by track type?"
   ]
  },
  {
   "cell_type": "code",
   "execution_count": 50,
   "metadata": {},
   "outputs": [
    {
     "data": {
      "application/vnd.plotly.v1+json": {
       "config": {
        "plotlyServerURL": "https://plot.ly"
       },
       "data": [
        {
         "alignmentgroup": "True",
         "hovertemplate": "Track Type=%{x}<br>Video Clip Views=%{y}<extra></extra>",
         "legendgroup": "Single",
         "marker": {
          "color": "#636efa",
          "pattern": {
           "shape": ""
          }
         },
         "name": "Single",
         "offsetgroup": "Single",
         "orientation": "v",
         "showlegend": true,
         "textposition": "auto",
         "type": "bar",
         "x": [
          "Single",
          "Single",
          "Single",
          "Single",
          "Single",
          "Single",
          "Single",
          "Single",
          "Single",
          "Single",
          "Single",
          "Single",
          "Single",
          "Single",
          "Single",
          "Single",
          "Single",
          "Single",
          "Single",
          "Single",
          "Single",
          "Single",
          "Single",
          "Single",
          "Single",
          "Single",
          "Single",
          "Single",
          "Single",
          "Single",
          "Single",
          "Single",
          "Single",
          "Single",
          "Single",
          "Single",
          "Single",
          "Single",
          "Single",
          "Single",
          "Single",
          "Single",
          "Single",
          "Single",
          "Single",
          "Single",
          "Single",
          "Single",
          "Single",
          "Single",
          "Single",
          "Single",
          "Single",
          "Single",
          "Single",
          "Single",
          "Single",
          "Single",
          "Single",
          "Single",
          "Single",
          "Single",
          "Single",
          "Single",
          "Single",
          "Single",
          "Single",
          "Single",
          "Single",
          "Single",
          "Single",
          "Single",
          "Single",
          "Single",
          "Single",
          "Single",
          "Single",
          "Single",
          "Single",
          "Single",
          "Single",
          "Single",
          "Single",
          "Single",
          "Single",
          "Single",
          "Single",
          "Single",
          "Single",
          "Single",
          "Single",
          "Single",
          "Single",
          "Single",
          "Single",
          "Single",
          "Single",
          "Single",
          "Single",
          "Single",
          "Single",
          "Single",
          "Single",
          "Single",
          "Single",
          "Single",
          "Single",
          "Single",
          "Single",
          "Single",
          "Single",
          "Single",
          "Single",
          "Single",
          "Single",
          "Single"
         ],
         "xaxis": "x",
         "y": [
          "0",
          "0",
          "110.247.980",
          "17.518.982",
          "0",
          "0",
          "0",
          "0",
          "0",
          "0",
          "0",
          "0",
          "58.428.792",
          "0",
          "0",
          "0",
          "0",
          "61.176.401",
          "196.209.548",
          "80.419.990",
          "0",
          "0",
          "62.363.611",
          "0",
          "0",
          "0",
          "141.858.279",
          "0",
          "0",
          "0",
          "0",
          "0",
          "0",
          "0",
          "0",
          "171.276.182",
          "0",
          "0",
          "0",
          "288.631.707",
          "99.326.658",
          "341.950.455",
          "427.608.924",
          "350.707.005",
          "292.230.111",
          "546.059.048",
          "1.473.563.482",
          "0",
          "0",
          "0",
          "0",
          "0",
          "0",
          "0",
          "0",
          "0",
          "0",
          "0",
          "0",
          "0",
          "0",
          "0",
          "0",
          "0",
          "0",
          "0",
          "0",
          "0",
          "0",
          "0",
          "1.606.759.517",
          "0",
          "3.404.289.651",
          "839.014.027",
          "200.449.904",
          "3.423.261.000",
          "0",
          "923.981.958",
          "0",
          "0",
          "0",
          "0",
          "0",
          "0",
          "0",
          "0",
          "521.467.284",
          "670.545.775",
          "773.535.494",
          "0",
          "408.670.685",
          "205.053.985",
          "0",
          "0",
          "0",
          "0",
          "0",
          "319.358.547",
          "97.248.044",
          "328.789.172",
          "226.387.269",
          "148.669.134",
          "0",
          "0",
          "0",
          "0",
          "0",
          "62.768.448",
          "167.903.020",
          "733.081.856",
          "159.809.830",
          "1.580.778.473",
          "52.176.564",
          "121.536.872",
          "0",
          "214.767.237"
         ],
         "yaxis": "y"
        },
        {
         "alignmentgroup": "True",
         "hovertemplate": "Track Type=%{x}<br>Video Clip Views=%{y}<extra></extra>",
         "legendgroup": "B-Side",
         "marker": {
          "color": "#EF553B",
          "pattern": {
           "shape": ""
          }
         },
         "name": "B-Side",
         "offsetgroup": "B-Side",
         "orientation": "v",
         "showlegend": true,
         "textposition": "auto",
         "type": "bar",
         "x": [
          "B-Side",
          "B-Side",
          "B-Side",
          "B-Side",
          "B-Side",
          "B-Side",
          "B-Side",
          "B-Side",
          "B-Side",
          "B-Side",
          "B-Side",
          "B-Side",
          "B-Side",
          "B-Side",
          "B-Side",
          "B-Side",
          "B-Side",
          "B-Side",
          "B-Side",
          "B-Side",
          "B-Side",
          "B-Side",
          "B-Side",
          "B-Side",
          "B-Side",
          "B-Side",
          "B-Side",
          "B-Side",
          "B-Side",
          "B-Side",
          "B-Side",
          "B-Side",
          "B-Side",
          "B-Side",
          "B-Side",
          "B-Side",
          "B-Side",
          "B-Side",
          "B-Side",
          "B-Side",
          "B-Side",
          "B-Side",
          "B-Side",
          "B-Side",
          "B-Side",
          "B-Side",
          "B-Side",
          "B-Side",
          "B-Side",
          "B-Side",
          "B-Side",
          "B-Side",
          "B-Side",
          "B-Side",
          "B-Side",
          "B-Side",
          "B-Side",
          "B-Side",
          "B-Side",
          "B-Side",
          "B-Side",
          "B-Side",
          "B-Side",
          "B-Side",
          "B-Side",
          "B-Side",
          "B-Side",
          "B-Side",
          "B-Side",
          "B-Side",
          "B-Side",
          "B-Side",
          "B-Side",
          "B-Side",
          "B-Side",
          "B-Side",
          "B-Side",
          "B-Side",
          "B-Side",
          "B-Side",
          "B-Side",
          "B-Side",
          "B-Side",
          "B-Side",
          "B-Side",
          "B-Side",
          "B-Side",
          "B-Side",
          "B-Side",
          "B-Side",
          "B-Side",
          "B-Side",
          "B-Side",
          "B-Side",
          "B-Side",
          "B-Side",
          "B-Side",
          "B-Side",
          "B-Side",
          "B-Side",
          "B-Side",
          "B-Side",
          "B-Side",
          "B-Side",
          "B-Side",
          "B-Side",
          "B-Side",
          "B-Side",
          "B-Side",
          "B-Side",
          "B-Side",
          "B-Side",
          "B-Side",
          "B-Side",
          "B-Side",
          "B-Side",
          "B-Side",
          "B-Side",
          "B-Side",
          "B-Side",
          "B-Side",
          "B-Side",
          "B-Side",
          "B-Side",
          "B-Side",
          "B-Side",
          "B-Side",
          "B-Side",
          "B-Side",
          "B-Side",
          "B-Side",
          "B-Side",
          "B-Side",
          "B-Side",
          "B-Side",
          "B-Side",
          "B-Side",
          "B-Side",
          "B-Side",
          "B-Side",
          "B-Side",
          "B-Side",
          "B-Side",
          "B-Side",
          "B-Side",
          "B-Side",
          "B-Side",
          "B-Side",
          "B-Side",
          "B-Side",
          "B-Side",
          "B-Side",
          "B-Side",
          "B-Side",
          "B-Side",
          "B-Side",
          "B-Side",
          "B-Side",
          "B-Side",
          "B-Side",
          "B-Side",
          "B-Side",
          "B-Side",
          "B-Side",
          "B-Side",
          "B-Side",
          "B-Side",
          "B-Side",
          "B-Side",
          "B-Side",
          "B-Side",
          "B-Side",
          "B-Side",
          "B-Side",
          "B-Side",
          "B-Side",
          "B-Side",
          "B-Side",
          "B-Side",
          "B-Side",
          "B-Side",
          "B-Side",
          "B-Side",
          "B-Side",
          "B-Side",
          "B-Side",
          "B-Side",
          "B-Side",
          "B-Side",
          "B-Side",
          "B-Side",
          "B-Side",
          "B-Side",
          "B-Side",
          "B-Side",
          "B-Side",
          "B-Side",
          "B-Side",
          "B-Side",
          "B-Side",
          "B-Side",
          "B-Side",
          "B-Side",
          "B-Side",
          "B-Side",
          "B-Side",
          "B-Side",
          "B-Side",
          "B-Side",
          "B-Side",
          "B-Side",
          "B-Side",
          "B-Side",
          "B-Side",
          "B-Side",
          "B-Side",
          "B-Side",
          "B-Side",
          "B-Side",
          "B-Side",
          "B-Side",
          "B-Side",
          "B-Side",
          "B-Side",
          "B-Side",
          "B-Side",
          "B-Side",
          "B-Side",
          "B-Side",
          "B-Side",
          "B-Side",
          "B-Side",
          "B-Side",
          "B-Side",
          "B-Side",
          "B-Side",
          "B-Side",
          "B-Side",
          "B-Side",
          "B-Side",
          "B-Side",
          "B-Side",
          "B-Side",
          "B-Side",
          "B-Side",
          "B-Side",
          "B-Side",
          "B-Side",
          "B-Side",
          "B-Side",
          "B-Side",
          "B-Side",
          "B-Side",
          "B-Side",
          "B-Side",
          "B-Side",
          "B-Side",
          "B-Side",
          "B-Side",
          "B-Side",
          "B-Side",
          "B-Side",
          "B-Side",
          "B-Side",
          "B-Side",
          "B-Side",
          "B-Side",
          "B-Side",
          "B-Side",
          "B-Side",
          "B-Side",
          "B-Side",
          "B-Side",
          "B-Side",
          "B-Side",
          "B-Side",
          "B-Side",
          "B-Side",
          "B-Side",
          "B-Side",
          "B-Side",
          "B-Side",
          "B-Side",
          "B-Side",
          "B-Side",
          "B-Side",
          "B-Side",
          "B-Side",
          "B-Side",
          "B-Side",
          "B-Side",
          "B-Side",
          "B-Side",
          "B-Side",
          "B-Side",
          "B-Side",
          "B-Side",
          "B-Side",
          "B-Side",
          "B-Side",
          "B-Side",
          "B-Side",
          "B-Side",
          "B-Side",
          "B-Side",
          "B-Side",
          "B-Side",
          "B-Side",
          "B-Side",
          "B-Side",
          "B-Side",
          "B-Side",
          "B-Side",
          "B-Side",
          "B-Side",
          "B-Side",
          "B-Side",
          "B-Side",
          "B-Side",
          "B-Side",
          "B-Side",
          "B-Side",
          "B-Side",
          "B-Side",
          "B-Side",
          "B-Side",
          "B-Side",
          "B-Side",
          "B-Side",
          "B-Side",
          "B-Side",
          "B-Side",
          "B-Side",
          "B-Side",
          "B-Side",
          "B-Side",
          "B-Side",
          "B-Side",
          "B-Side",
          "B-Side",
          "B-Side",
          "B-Side",
          "B-Side",
          "B-Side",
          "B-Side",
          "B-Side",
          "B-Side",
          "B-Side",
          "B-Side",
          "B-Side",
          "B-Side",
          "B-Side",
          "B-Side",
          "B-Side",
          "B-Side",
          "B-Side",
          "B-Side",
          "B-Side",
          "B-Side",
          "B-Side",
          "B-Side",
          "B-Side",
          "B-Side",
          "B-Side",
          "B-Side",
          "B-Side",
          "B-Side",
          "B-Side",
          "B-Side",
          "B-Side",
          "B-Side"
         ],
         "xaxis": "x",
         "y": [
          "0",
          "0",
          "0",
          "0",
          "0",
          "0",
          "0",
          "0",
          "0",
          "0",
          "0",
          "0",
          "0",
          "0",
          "0",
          "0",
          "0",
          "0",
          "0",
          "0",
          "0",
          "0",
          "0",
          "0",
          "0",
          "0",
          "0",
          "0",
          "0",
          "0",
          "0",
          "0",
          "0",
          "0",
          "0",
          "0",
          "0",
          "0",
          "0",
          "0",
          "0",
          "0",
          "0",
          "0",
          "0",
          "0",
          "0",
          "0",
          "0",
          "0",
          "0",
          "0",
          "0",
          "0",
          "0",
          "0",
          "0",
          "0",
          "0",
          "0",
          "0",
          "0",
          "0",
          "0",
          "0",
          "0",
          "0",
          "0",
          "0",
          "0",
          "0",
          "0",
          "0",
          "0",
          "0",
          "0",
          "0",
          "0",
          "0",
          "0",
          "0",
          "0",
          "0",
          "0",
          "0",
          "0",
          "0",
          "0",
          "0",
          "0",
          "0",
          "0",
          "0",
          "0",
          "0",
          "0",
          "0",
          "0",
          "0",
          "40.077.178",
          "0",
          "0",
          "0",
          "0",
          "0",
          "0",
          "0",
          "0",
          "0",
          "0",
          "0",
          "0",
          "0",
          "0",
          "0",
          "0",
          "0",
          "0",
          "0",
          "0",
          "0",
          "0",
          "0",
          "0",
          "0",
          "0",
          "0",
          "0",
          "0",
          "0",
          "0",
          "0",
          "0",
          "0",
          "0",
          "0",
          "0",
          "0",
          "0",
          "0",
          "0",
          "0",
          "0",
          "0",
          "0",
          "0",
          "0",
          "0",
          "0",
          "0",
          "0",
          "0",
          "0",
          "0",
          "0",
          "0",
          "97.812.352",
          "0",
          "0",
          "0",
          "0",
          "0",
          "0",
          "0",
          "0",
          "0",
          "0",
          "0",
          "0",
          "0",
          "0",
          "0",
          "0",
          "0",
          "0",
          "0",
          "0",
          "0",
          "0",
          "0",
          "0",
          "0",
          "0",
          "0",
          "0",
          "0",
          "0",
          "0",
          "0",
          "0",
          "0",
          "0",
          "0",
          "0",
          "0",
          "0",
          "0",
          "0",
          "0",
          "0",
          "0",
          "0",
          "0",
          "0",
          "0",
          "0",
          "0",
          "0",
          "0",
          "0",
          "0",
          "0",
          "0",
          "0",
          "0",
          "0",
          "0",
          "0",
          "0",
          "0",
          "0",
          "0",
          "0",
          "0",
          "0",
          "0",
          "0",
          "0",
          "0",
          "0",
          "0",
          "0",
          "0",
          "0",
          "0",
          "0",
          "0",
          "0",
          "0",
          "0",
          "0",
          "0",
          "0",
          "0",
          "0",
          "0",
          "0",
          "0",
          "0",
          "0",
          "0",
          "0",
          "0",
          "0",
          "0",
          "0",
          "0",
          "0",
          "0",
          "0",
          "0",
          "0",
          "0",
          "0",
          "0",
          "0",
          "0",
          "0",
          "0",
          "0",
          "0",
          "0",
          "0",
          "0",
          "0",
          "0",
          "0",
          "0",
          "0",
          "0",
          "0",
          "0",
          "0",
          "0",
          "0",
          "0",
          "0",
          "0",
          "0",
          "0",
          "0",
          "0",
          "0",
          "0",
          "0",
          "0",
          "0",
          "0",
          "0",
          "0",
          "0",
          "0",
          "0",
          "0",
          "0",
          "0",
          "0",
          "0",
          "0",
          "0",
          "0",
          "0",
          "0",
          "0",
          "0",
          "0",
          "0",
          "0",
          "0",
          "0",
          "0",
          "0",
          "0",
          "0",
          "0",
          "0",
          "0",
          "0",
          "0",
          "0",
          "0",
          "0",
          "0",
          "0",
          "0",
          "0",
          "0",
          "0",
          "0",
          "0",
          "0",
          "0",
          "0",
          "0",
          "0",
          "0",
          "0",
          "0",
          "0",
          "0",
          "0",
          "0",
          "0",
          "0",
          "0",
          "0",
          "0",
          "0",
          "0",
          "25.490.474",
          "51.076.215",
          "0",
          "0",
          "0",
          "0",
          "0",
          "0",
          "41.410.315",
          "0",
          "0",
          "0"
         ],
         "yaxis": "y"
        },
        {
         "alignmentgroup": "True",
         "hovertemplate": "Track Type=%{x}<br>Video Clip Views=%{y}<extra></extra>",
         "legendgroup": "Special Deluxe",
         "marker": {
          "color": "#00cc96",
          "pattern": {
           "shape": ""
          }
         },
         "name": "Special Deluxe",
         "offsetgroup": "Special Deluxe",
         "orientation": "v",
         "showlegend": true,
         "textposition": "auto",
         "type": "bar",
         "x": [
          "Special Deluxe",
          "Special Deluxe",
          "Special Deluxe",
          "Special Deluxe",
          "Special Deluxe",
          "Special Deluxe",
          "Special Deluxe",
          "Special Deluxe",
          "Special Deluxe",
          "Special Deluxe",
          "Special Deluxe",
          "Special Deluxe",
          "Special Deluxe",
          "Special Deluxe",
          "Special Deluxe",
          "Special Deluxe",
          "Special Deluxe",
          "Special Deluxe",
          "Special Deluxe",
          "Special Deluxe",
          "Special Deluxe",
          "Special Deluxe",
          "Special Deluxe",
          "Special Deluxe",
          "Special Deluxe",
          "Special Deluxe",
          "Special Deluxe",
          "Special Deluxe",
          "Special Deluxe",
          "Special Deluxe",
          "Special Deluxe",
          "Special Deluxe",
          "Special Deluxe",
          "Special Deluxe",
          "Special Deluxe",
          "Special Deluxe",
          "Special Deluxe",
          "Special Deluxe"
         ],
         "xaxis": "x",
         "y": [
          "0",
          "0",
          "0",
          "0",
          "0",
          "0",
          "0",
          "0",
          "0",
          "0",
          "0",
          "0",
          "0",
          "0",
          "0",
          "0",
          "0",
          "0",
          "0",
          "0",
          "0",
          "0",
          "0",
          "0",
          "124.530.280",
          "0",
          "0",
          "0",
          "0",
          "111.125.916",
          "0",
          "0",
          "0",
          "0",
          "0",
          "0",
          "0",
          "0"
         ],
         "yaxis": "y"
        },
        {
         "alignmentgroup": "True",
         "hovertemplate": "Track Type=%{x}<br>Video Clip Views=%{y}<extra></extra>",
         "legendgroup": "Acoustic Version",
         "marker": {
          "color": "#ab63fa",
          "pattern": {
           "shape": ""
          }
         },
         "name": "Acoustic Version",
         "offsetgroup": "Acoustic Version",
         "orientation": "v",
         "showlegend": true,
         "textposition": "auto",
         "type": "bar",
         "x": [
          "Acoustic Version",
          "Acoustic Version",
          "Acoustic Version",
          "Acoustic Version"
         ],
         "xaxis": "x",
         "y": [
          "0",
          "0",
          "0",
          "0"
         ],
         "yaxis": "y"
        },
        {
         "alignmentgroup": "True",
         "hovertemplate": "Track Type=%{x}<br>Video Clip Views=%{y}<extra></extra>",
         "legendgroup": "Live",
         "marker": {
          "color": "#FFA15A",
          "pattern": {
           "shape": ""
          }
         },
         "name": "Live",
         "offsetgroup": "Live",
         "orientation": "v",
         "showlegend": true,
         "textposition": "auto",
         "type": "bar",
         "x": [
          "Live",
          "Live",
          "Live",
          "Live",
          "Live",
          "Live",
          "Live",
          "Live",
          "Live",
          "Live",
          "Live",
          "Live",
          "Live",
          "Live",
          "Live",
          "Live",
          "Live",
          "Live",
          "Live",
          "Live",
          "Live",
          "Live",
          "Live",
          "Live",
          "Live",
          "Live",
          "Live",
          "Live",
          "Live",
          "Live",
          "Live",
          "Live",
          "Live",
          "Live",
          "Live",
          "Live",
          "Live",
          "Live",
          "Live",
          "Live",
          "Live"
         ],
         "xaxis": "x",
         "y": [
          "0",
          "0",
          "0",
          "0",
          "0",
          "0",
          "0",
          "0",
          "0",
          "0",
          "0",
          "0",
          "0",
          "0",
          "0",
          "0",
          "0",
          "0",
          "0",
          "0",
          "0",
          "0",
          "0",
          "0",
          "0",
          "0",
          "0",
          "0",
          "0",
          "0",
          "0",
          "0",
          "0",
          "0",
          "0",
          "0",
          "0",
          "0",
          "0",
          "0",
          "0"
         ],
         "yaxis": "y"
        },
        {
         "alignmentgroup": "True",
         "hovertemplate": "Track Type=%{x}<br>Video Clip Views=%{y}<extra></extra>",
         "legendgroup": "Soundtrack",
         "marker": {
          "color": "#19d3f3",
          "pattern": {
           "shape": ""
          }
         },
         "name": "Soundtrack",
         "offsetgroup": "Soundtrack",
         "orientation": "v",
         "showlegend": true,
         "textposition": "auto",
         "type": "bar",
         "x": [
          "Soundtrack"
         ],
         "xaxis": "x",
         "y": [
          "724.603.915"
         ],
         "yaxis": "y"
        },
        {
         "alignmentgroup": "True",
         "hovertemplate": "Track Type=%{x}<br>Video Clip Views=%{y}<extra></extra>",
         "legendgroup": "Voice Memo",
         "marker": {
          "color": "#FF6692",
          "pattern": {
           "shape": ""
          }
         },
         "name": "Voice Memo",
         "offsetgroup": "Voice Memo",
         "orientation": "v",
         "showlegend": true,
         "textposition": "auto",
         "type": "bar",
         "x": [
          "Voice Memo",
          "Voice Memo",
          "Voice Memo",
          "Voice Memo"
         ],
         "xaxis": "x",
         "y": [
          "0",
          "0",
          "0",
          "0"
         ],
         "yaxis": "y"
        },
        {
         "alignmentgroup": "True",
         "hovertemplate": "Track Type=%{x}<br>Video Clip Views=%{y}<extra></extra>",
         "legendgroup": "Remix",
         "marker": {
          "color": "#B6E880",
          "pattern": {
           "shape": ""
          }
         },
         "name": "Remix",
         "offsetgroup": "Remix",
         "orientation": "v",
         "showlegend": true,
         "textposition": "auto",
         "type": "bar",
         "x": [
          "Remix",
          "Remix"
         ],
         "xaxis": "x",
         "y": [
          "0",
          "170.366.264"
         ],
         "yaxis": "y"
        }
       ],
       "layout": {
        "barmode": "relative",
        "legend": {
         "title": {
          "text": "Track Type"
         },
         "tracegroupgap": 0
        },
        "template": {
         "data": {
          "bar": [
           {
            "error_x": {
             "color": "#2a3f5f"
            },
            "error_y": {
             "color": "#2a3f5f"
            },
            "marker": {
             "line": {
              "color": "#E5ECF6",
              "width": 0.5
             },
             "pattern": {
              "fillmode": "overlay",
              "size": 10,
              "solidity": 0.2
             }
            },
            "type": "bar"
           }
          ],
          "barpolar": [
           {
            "marker": {
             "line": {
              "color": "#E5ECF6",
              "width": 0.5
             },
             "pattern": {
              "fillmode": "overlay",
              "size": 10,
              "solidity": 0.2
             }
            },
            "type": "barpolar"
           }
          ],
          "carpet": [
           {
            "aaxis": {
             "endlinecolor": "#2a3f5f",
             "gridcolor": "white",
             "linecolor": "white",
             "minorgridcolor": "white",
             "startlinecolor": "#2a3f5f"
            },
            "baxis": {
             "endlinecolor": "#2a3f5f",
             "gridcolor": "white",
             "linecolor": "white",
             "minorgridcolor": "white",
             "startlinecolor": "#2a3f5f"
            },
            "type": "carpet"
           }
          ],
          "choropleth": [
           {
            "colorbar": {
             "outlinewidth": 0,
             "ticks": ""
            },
            "type": "choropleth"
           }
          ],
          "contour": [
           {
            "colorbar": {
             "outlinewidth": 0,
             "ticks": ""
            },
            "colorscale": [
             [
              0,
              "#0d0887"
             ],
             [
              0.1111111111111111,
              "#46039f"
             ],
             [
              0.2222222222222222,
              "#7201a8"
             ],
             [
              0.3333333333333333,
              "#9c179e"
             ],
             [
              0.4444444444444444,
              "#bd3786"
             ],
             [
              0.5555555555555556,
              "#d8576b"
             ],
             [
              0.6666666666666666,
              "#ed7953"
             ],
             [
              0.7777777777777778,
              "#fb9f3a"
             ],
             [
              0.8888888888888888,
              "#fdca26"
             ],
             [
              1,
              "#f0f921"
             ]
            ],
            "type": "contour"
           }
          ],
          "contourcarpet": [
           {
            "colorbar": {
             "outlinewidth": 0,
             "ticks": ""
            },
            "type": "contourcarpet"
           }
          ],
          "heatmap": [
           {
            "colorbar": {
             "outlinewidth": 0,
             "ticks": ""
            },
            "colorscale": [
             [
              0,
              "#0d0887"
             ],
             [
              0.1111111111111111,
              "#46039f"
             ],
             [
              0.2222222222222222,
              "#7201a8"
             ],
             [
              0.3333333333333333,
              "#9c179e"
             ],
             [
              0.4444444444444444,
              "#bd3786"
             ],
             [
              0.5555555555555556,
              "#d8576b"
             ],
             [
              0.6666666666666666,
              "#ed7953"
             ],
             [
              0.7777777777777778,
              "#fb9f3a"
             ],
             [
              0.8888888888888888,
              "#fdca26"
             ],
             [
              1,
              "#f0f921"
             ]
            ],
            "type": "heatmap"
           }
          ],
          "heatmapgl": [
           {
            "colorbar": {
             "outlinewidth": 0,
             "ticks": ""
            },
            "colorscale": [
             [
              0,
              "#0d0887"
             ],
             [
              0.1111111111111111,
              "#46039f"
             ],
             [
              0.2222222222222222,
              "#7201a8"
             ],
             [
              0.3333333333333333,
              "#9c179e"
             ],
             [
              0.4444444444444444,
              "#bd3786"
             ],
             [
              0.5555555555555556,
              "#d8576b"
             ],
             [
              0.6666666666666666,
              "#ed7953"
             ],
             [
              0.7777777777777778,
              "#fb9f3a"
             ],
             [
              0.8888888888888888,
              "#fdca26"
             ],
             [
              1,
              "#f0f921"
             ]
            ],
            "type": "heatmapgl"
           }
          ],
          "histogram": [
           {
            "marker": {
             "pattern": {
              "fillmode": "overlay",
              "size": 10,
              "solidity": 0.2
             }
            },
            "type": "histogram"
           }
          ],
          "histogram2d": [
           {
            "colorbar": {
             "outlinewidth": 0,
             "ticks": ""
            },
            "colorscale": [
             [
              0,
              "#0d0887"
             ],
             [
              0.1111111111111111,
              "#46039f"
             ],
             [
              0.2222222222222222,
              "#7201a8"
             ],
             [
              0.3333333333333333,
              "#9c179e"
             ],
             [
              0.4444444444444444,
              "#bd3786"
             ],
             [
              0.5555555555555556,
              "#d8576b"
             ],
             [
              0.6666666666666666,
              "#ed7953"
             ],
             [
              0.7777777777777778,
              "#fb9f3a"
             ],
             [
              0.8888888888888888,
              "#fdca26"
             ],
             [
              1,
              "#f0f921"
             ]
            ],
            "type": "histogram2d"
           }
          ],
          "histogram2dcontour": [
           {
            "colorbar": {
             "outlinewidth": 0,
             "ticks": ""
            },
            "colorscale": [
             [
              0,
              "#0d0887"
             ],
             [
              0.1111111111111111,
              "#46039f"
             ],
             [
              0.2222222222222222,
              "#7201a8"
             ],
             [
              0.3333333333333333,
              "#9c179e"
             ],
             [
              0.4444444444444444,
              "#bd3786"
             ],
             [
              0.5555555555555556,
              "#d8576b"
             ],
             [
              0.6666666666666666,
              "#ed7953"
             ],
             [
              0.7777777777777778,
              "#fb9f3a"
             ],
             [
              0.8888888888888888,
              "#fdca26"
             ],
             [
              1,
              "#f0f921"
             ]
            ],
            "type": "histogram2dcontour"
           }
          ],
          "mesh3d": [
           {
            "colorbar": {
             "outlinewidth": 0,
             "ticks": ""
            },
            "type": "mesh3d"
           }
          ],
          "parcoords": [
           {
            "line": {
             "colorbar": {
              "outlinewidth": 0,
              "ticks": ""
             }
            },
            "type": "parcoords"
           }
          ],
          "pie": [
           {
            "automargin": true,
            "type": "pie"
           }
          ],
          "scatter": [
           {
            "fillpattern": {
             "fillmode": "overlay",
             "size": 10,
             "solidity": 0.2
            },
            "type": "scatter"
           }
          ],
          "scatter3d": [
           {
            "line": {
             "colorbar": {
              "outlinewidth": 0,
              "ticks": ""
             }
            },
            "marker": {
             "colorbar": {
              "outlinewidth": 0,
              "ticks": ""
             }
            },
            "type": "scatter3d"
           }
          ],
          "scattercarpet": [
           {
            "marker": {
             "colorbar": {
              "outlinewidth": 0,
              "ticks": ""
             }
            },
            "type": "scattercarpet"
           }
          ],
          "scattergeo": [
           {
            "marker": {
             "colorbar": {
              "outlinewidth": 0,
              "ticks": ""
             }
            },
            "type": "scattergeo"
           }
          ],
          "scattergl": [
           {
            "marker": {
             "colorbar": {
              "outlinewidth": 0,
              "ticks": ""
             }
            },
            "type": "scattergl"
           }
          ],
          "scattermapbox": [
           {
            "marker": {
             "colorbar": {
              "outlinewidth": 0,
              "ticks": ""
             }
            },
            "type": "scattermapbox"
           }
          ],
          "scatterpolar": [
           {
            "marker": {
             "colorbar": {
              "outlinewidth": 0,
              "ticks": ""
             }
            },
            "type": "scatterpolar"
           }
          ],
          "scatterpolargl": [
           {
            "marker": {
             "colorbar": {
              "outlinewidth": 0,
              "ticks": ""
             }
            },
            "type": "scatterpolargl"
           }
          ],
          "scatterternary": [
           {
            "marker": {
             "colorbar": {
              "outlinewidth": 0,
              "ticks": ""
             }
            },
            "type": "scatterternary"
           }
          ],
          "surface": [
           {
            "colorbar": {
             "outlinewidth": 0,
             "ticks": ""
            },
            "colorscale": [
             [
              0,
              "#0d0887"
             ],
             [
              0.1111111111111111,
              "#46039f"
             ],
             [
              0.2222222222222222,
              "#7201a8"
             ],
             [
              0.3333333333333333,
              "#9c179e"
             ],
             [
              0.4444444444444444,
              "#bd3786"
             ],
             [
              0.5555555555555556,
              "#d8576b"
             ],
             [
              0.6666666666666666,
              "#ed7953"
             ],
             [
              0.7777777777777778,
              "#fb9f3a"
             ],
             [
              0.8888888888888888,
              "#fdca26"
             ],
             [
              1,
              "#f0f921"
             ]
            ],
            "type": "surface"
           }
          ],
          "table": [
           {
            "cells": {
             "fill": {
              "color": "#EBF0F8"
             },
             "line": {
              "color": "white"
             }
            },
            "header": {
             "fill": {
              "color": "#C8D4E3"
             },
             "line": {
              "color": "white"
             }
            },
            "type": "table"
           }
          ]
         },
         "layout": {
          "annotationdefaults": {
           "arrowcolor": "#2a3f5f",
           "arrowhead": 0,
           "arrowwidth": 1
          },
          "autotypenumbers": "strict",
          "coloraxis": {
           "colorbar": {
            "outlinewidth": 0,
            "ticks": ""
           }
          },
          "colorscale": {
           "diverging": [
            [
             0,
             "#8e0152"
            ],
            [
             0.1,
             "#c51b7d"
            ],
            [
             0.2,
             "#de77ae"
            ],
            [
             0.3,
             "#f1b6da"
            ],
            [
             0.4,
             "#fde0ef"
            ],
            [
             0.5,
             "#f7f7f7"
            ],
            [
             0.6,
             "#e6f5d0"
            ],
            [
             0.7,
             "#b8e186"
            ],
            [
             0.8,
             "#7fbc41"
            ],
            [
             0.9,
             "#4d9221"
            ],
            [
             1,
             "#276419"
            ]
           ],
           "sequential": [
            [
             0,
             "#0d0887"
            ],
            [
             0.1111111111111111,
             "#46039f"
            ],
            [
             0.2222222222222222,
             "#7201a8"
            ],
            [
             0.3333333333333333,
             "#9c179e"
            ],
            [
             0.4444444444444444,
             "#bd3786"
            ],
            [
             0.5555555555555556,
             "#d8576b"
            ],
            [
             0.6666666666666666,
             "#ed7953"
            ],
            [
             0.7777777777777778,
             "#fb9f3a"
            ],
            [
             0.8888888888888888,
             "#fdca26"
            ],
            [
             1,
             "#f0f921"
            ]
           ],
           "sequentialminus": [
            [
             0,
             "#0d0887"
            ],
            [
             0.1111111111111111,
             "#46039f"
            ],
            [
             0.2222222222222222,
             "#7201a8"
            ],
            [
             0.3333333333333333,
             "#9c179e"
            ],
            [
             0.4444444444444444,
             "#bd3786"
            ],
            [
             0.5555555555555556,
             "#d8576b"
            ],
            [
             0.6666666666666666,
             "#ed7953"
            ],
            [
             0.7777777777777778,
             "#fb9f3a"
            ],
            [
             0.8888888888888888,
             "#fdca26"
            ],
            [
             1,
             "#f0f921"
            ]
           ]
          },
          "colorway": [
           "#636efa",
           "#EF553B",
           "#00cc96",
           "#ab63fa",
           "#FFA15A",
           "#19d3f3",
           "#FF6692",
           "#B6E880",
           "#FF97FF",
           "#FECB52"
          ],
          "font": {
           "color": "#2a3f5f"
          },
          "geo": {
           "bgcolor": "white",
           "lakecolor": "white",
           "landcolor": "#E5ECF6",
           "showlakes": true,
           "showland": true,
           "subunitcolor": "white"
          },
          "hoverlabel": {
           "align": "left"
          },
          "hovermode": "closest",
          "mapbox": {
           "style": "light"
          },
          "paper_bgcolor": "white",
          "plot_bgcolor": "#E5ECF6",
          "polar": {
           "angularaxis": {
            "gridcolor": "white",
            "linecolor": "white",
            "ticks": ""
           },
           "bgcolor": "#E5ECF6",
           "radialaxis": {
            "gridcolor": "white",
            "linecolor": "white",
            "ticks": ""
           }
          },
          "scene": {
           "xaxis": {
            "backgroundcolor": "#E5ECF6",
            "gridcolor": "white",
            "gridwidth": 2,
            "linecolor": "white",
            "showbackground": true,
            "ticks": "",
            "zerolinecolor": "white"
           },
           "yaxis": {
            "backgroundcolor": "#E5ECF6",
            "gridcolor": "white",
            "gridwidth": 2,
            "linecolor": "white",
            "showbackground": true,
            "ticks": "",
            "zerolinecolor": "white"
           },
           "zaxis": {
            "backgroundcolor": "#E5ECF6",
            "gridcolor": "white",
            "gridwidth": 2,
            "linecolor": "white",
            "showbackground": true,
            "ticks": "",
            "zerolinecolor": "white"
           }
          },
          "shapedefaults": {
           "line": {
            "color": "#2a3f5f"
           }
          },
          "ternary": {
           "aaxis": {
            "gridcolor": "white",
            "linecolor": "white",
            "ticks": ""
           },
           "baxis": {
            "gridcolor": "white",
            "linecolor": "white",
            "ticks": ""
           },
           "bgcolor": "#E5ECF6",
           "caxis": {
            "gridcolor": "white",
            "linecolor": "white",
            "ticks": ""
           }
          },
          "title": {
           "x": 0.05
          },
          "xaxis": {
           "automargin": true,
           "gridcolor": "white",
           "linecolor": "white",
           "ticks": "",
           "title": {
            "standoff": 15
           },
           "zerolinecolor": "white",
           "zerolinewidth": 2
          },
          "yaxis": {
           "automargin": true,
           "gridcolor": "white",
           "linecolor": "white",
           "ticks": "",
           "title": {
            "standoff": 15
           },
           "zerolinecolor": "white",
           "zerolinewidth": 2
          }
         }
        },
        "title": {
         "text": "Video Clip Views by Track Type"
        },
        "xaxis": {
         "anchor": "y",
         "categoryarray": [
          "Single",
          "B-Side",
          "Special Deluxe",
          "Acoustic Version",
          "Live",
          "Soundtrack",
          "Voice Memo",
          "Remix"
         ],
         "categoryorder": "array",
         "domain": [
          0,
          1
         ],
         "title": {
          "text": "Track Type"
         }
        },
        "yaxis": {
         "anchor": "x",
         "domain": [
          0,
          1
         ],
         "title": {
          "text": "Video Clip Views"
         }
        }
       }
      }
     },
     "metadata": {},
     "output_type": "display_data"
    }
   ],
   "source": [
    "# Bar plot for video clip views by track type\n",
    "fig_videoclip_views = px.bar(df, x='track_type', y='videoclip_views', color='track_type', title='Video Clip Views by Track Type',\n",
    "            labels={'videoclip_views': 'Video Clip Views', 'track_type': 'Track Type'})\n",
    "fig_videoclip_views.show()"
   ]
  },
  {
   "cell_type": "markdown",
   "metadata": {},
   "source": [
    "What is the correlation between Spotify streams and global peak rank of tracks?"
   ]
  },
  {
   "cell_type": "code",
   "execution_count": 51,
   "metadata": {},
   "outputs": [
    {
     "data": {
      "application/vnd.plotly.v1+json": {
       "config": {
        "plotlyServerURL": "https://plot.ly"
       },
       "data": [
        {
         "alignmentgroup": "True",
         "hovertemplate": "Global Peak Rank=%{marker.color}<br>Spotify Streams=%{y}<extra></extra>",
         "legendgroup": "",
         "marker": {
          "color": [
           1,
           6,
           7,
           2,
           4,
           9,
           18,
           10,
           14,
           12,
           22,
           19,
           5,
           20,
           21,
           23,
           26,
           28,
           35,
           40,
           39,
           29,
           41,
           31,
           47,
           36,
           54,
           53,
           58,
           68,
           62,
           1,
           6,
           7,
           2,
           4,
           9,
           18,
           10,
           14,
           12,
           22,
           19,
           5,
           20,
           21,
           23,
           6,
           3,
           1,
           8,
           10,
           11,
           14,
           13,
           12,
           17,
           22,
           19,
           16,
           21,
           25,
           15,
           2,
           4,
           2,
           9,
           1,
           40,
           6,
           3,
           1,
           8,
           10,
           11,
           14,
           13,
           12,
           17,
           22,
           19,
           16,
           21,
           25,
           15,
           2,
           4,
           2,
           9,
           1,
           1,
           4,
           2,
           6,
           7,
           10,
           9,
           19,
           3,
           5,
           23,
           17,
           18,
           20,
           26,
           34,
           12,
           14,
           4,
           16,
           21,
           24,
           2,
           4,
           1,
           3,
           5,
           4,
           8,
           7,
           9,
           11,
           8,
           12,
           12,
           22,
           23,
           27,
           30,
           34,
           21,
           37,
           8,
           6,
           5,
           2,
           4,
           1,
           3,
           5,
           4,
           8,
           7,
           9,
           11,
           8,
           12,
           12,
           22,
           23,
           27,
           30,
           34,
           21,
           37,
           2,
           4,
           1,
           3,
           5,
           4,
           8,
           7,
           9,
           11,
           8,
           12,
           12,
           12,
           4,
           18,
           9,
           7,
           13,
           21,
           15,
           26,
           29,
           33,
           43,
           41,
           24,
           47,
           36,
           51,
           48,
           59,
           73,
           70,
           28,
           20,
           37,
           35,
           33,
           56,
           23,
           55,
           1,
           13,
           24,
           2,
           26,
           28,
           16,
           33,
           42,
           44,
           29,
           36,
           63,
           70,
           72,
           82,
           79,
           98,
           107,
           104,
           87,
           11,
           6,
           66,
           60,
           69,
           81,
           1,
           10,
           19,
           6,
           24,
           5,
           28,
           38,
           39,
           34,
           53,
           18,
           57,
           70,
           43,
           0,
           0,
           1,
           10,
           19,
           6,
           24,
           5,
           28,
           38,
           39,
           34,
           53,
           18,
           57,
           70,
           43,
           2,
           1,
           4,
           3,
           5,
           8,
           10,
           4,
           12,
           13,
           14,
           16,
           19,
           17,
           20,
           23,
           0,
           0,
           0,
           0,
           0,
           0,
           0,
           0,
           0,
           0,
           0,
           0,
           0,
           0,
           0,
           0,
           0,
           0,
           2,
           1,
           4,
           3,
           5,
           8,
           10,
           4,
           12,
           13,
           14,
           16,
           19,
           17,
           20,
           23,
           0,
           2,
           1,
           4,
           3,
           5,
           8,
           10,
           4,
           12,
           13,
           14,
           16,
           19,
           17,
           20,
           23,
           6,
           2,
           2,
           4,
           9,
           13,
           15,
           16,
           23,
           26,
           25,
           31,
           34,
           3,
           38,
           1,
           44,
           42,
           3,
           46,
           130,
           68,
           24,
           1,
           0,
           7,
           197,
           0,
           0,
           0,
           0,
           37,
           44,
           0,
           120,
           0,
           34,
           0,
           0,
           0,
           0,
           22,
           2,
           0,
           0,
           0,
           0,
           0,
           0,
           0,
           0,
           0,
           38,
           0,
           0,
           0,
           55,
           0,
           0,
           154,
           0,
           0,
           0,
           0,
           0,
           0,
           0,
           0,
           0,
           0,
           0,
           0,
           0,
           0,
           0,
           0,
           0,
           0,
           0,
           0,
           14,
           12,
           154,
           0,
           54,
           0,
           118,
           120,
           0,
           0,
           0,
           0,
           0,
           0,
           112,
           0,
           0,
           0,
           0,
           14,
           12,
           154,
           0,
           54,
           0,
           118,
           120,
           0,
           0,
           0,
           0,
           0,
           34,
           38,
           22,
           0,
           0,
           0,
           0,
           0,
           0,
           0,
           0,
           0,
           0,
           0,
           0,
           0,
           0,
           0,
           0,
           0,
           0,
           0,
           34,
           38,
           22,
           0,
           0,
           0,
           0,
           0,
           0,
           0,
           0,
           0,
           0,
           0,
           0,
           0,
           0,
           0,
           0,
           0,
           0,
           0,
           0,
           0,
           0,
           0,
           0,
           0,
           0,
           0,
           0,
           0,
           0,
           0,
           0,
           0,
           0,
           0,
           0,
           55,
           0,
           0,
           0,
           0,
           0,
           0,
           0,
           0,
           0,
           0,
           0,
           0,
           0,
           0,
           0,
           0,
           0,
           0,
           0,
           55,
           0,
           0,
           0,
           0,
           0,
           0,
           0,
           0,
           0,
           0,
           0,
           0,
           0,
           0,
           0,
           0,
           0,
           0,
           0,
           0,
           0,
           0,
           0,
           0,
           0,
           0,
           0,
           0,
           0,
           0,
           0,
           0,
           0,
           0,
           0,
           0,
           0,
           0,
           0,
           0,
           0,
           0,
           0,
           0,
           0,
           0,
           0,
           0,
           0,
           0,
           0,
           0,
           0,
           0,
           0,
           0,
           0,
           0,
           0,
           0
          ],
          "coloraxis": "coloraxis",
          "pattern": {
           "shape": ""
          }
         },
         "name": "",
         "offsetgroup": "",
         "orientation": "h",
         "showlegend": false,
         "textposition": "auto",
         "type": "bar",
         "x": [
          1,
          6,
          7,
          2,
          4,
          9,
          18,
          10,
          14,
          12,
          22,
          19,
          5,
          20,
          21,
          23,
          26,
          28,
          35,
          40,
          39,
          29,
          41,
          31,
          47,
          36,
          54,
          53,
          58,
          68,
          62,
          1,
          6,
          7,
          2,
          4,
          9,
          18,
          10,
          14,
          12,
          22,
          19,
          5,
          20,
          21,
          23,
          6,
          3,
          1,
          8,
          10,
          11,
          14,
          13,
          12,
          17,
          22,
          19,
          16,
          21,
          25,
          15,
          2,
          4,
          2,
          9,
          1,
          40,
          6,
          3,
          1,
          8,
          10,
          11,
          14,
          13,
          12,
          17,
          22,
          19,
          16,
          21,
          25,
          15,
          2,
          4,
          2,
          9,
          1,
          1,
          4,
          2,
          6,
          7,
          10,
          9,
          19,
          3,
          5,
          23,
          17,
          18,
          20,
          26,
          34,
          12,
          14,
          4,
          16,
          21,
          24,
          2,
          4,
          1,
          3,
          5,
          4,
          8,
          7,
          9,
          11,
          8,
          12,
          12,
          22,
          23,
          27,
          30,
          34,
          21,
          37,
          8,
          6,
          5,
          2,
          4,
          1,
          3,
          5,
          4,
          8,
          7,
          9,
          11,
          8,
          12,
          12,
          22,
          23,
          27,
          30,
          34,
          21,
          37,
          2,
          4,
          1,
          3,
          5,
          4,
          8,
          7,
          9,
          11,
          8,
          12,
          12,
          12,
          4,
          18,
          9,
          7,
          13,
          21,
          15,
          26,
          29,
          33,
          43,
          41,
          24,
          47,
          36,
          51,
          48,
          59,
          73,
          70,
          28,
          20,
          37,
          35,
          33,
          56,
          23,
          55,
          1,
          13,
          24,
          2,
          26,
          28,
          16,
          33,
          42,
          44,
          29,
          36,
          63,
          70,
          72,
          82,
          79,
          98,
          107,
          104,
          87,
          11,
          6,
          66,
          60,
          69,
          81,
          1,
          10,
          19,
          6,
          24,
          5,
          28,
          38,
          39,
          34,
          53,
          18,
          57,
          70,
          43,
          0,
          0,
          1,
          10,
          19,
          6,
          24,
          5,
          28,
          38,
          39,
          34,
          53,
          18,
          57,
          70,
          43,
          2,
          1,
          4,
          3,
          5,
          8,
          10,
          4,
          12,
          13,
          14,
          16,
          19,
          17,
          20,
          23,
          0,
          0,
          0,
          0,
          0,
          0,
          0,
          0,
          0,
          0,
          0,
          0,
          0,
          0,
          0,
          0,
          0,
          0,
          2,
          1,
          4,
          3,
          5,
          8,
          10,
          4,
          12,
          13,
          14,
          16,
          19,
          17,
          20,
          23,
          0,
          2,
          1,
          4,
          3,
          5,
          8,
          10,
          4,
          12,
          13,
          14,
          16,
          19,
          17,
          20,
          23,
          6,
          2,
          2,
          4,
          9,
          13,
          15,
          16,
          23,
          26,
          25,
          31,
          34,
          3,
          38,
          1,
          44,
          42,
          3,
          46,
          130,
          68,
          24,
          1,
          0,
          7,
          197,
          0,
          0,
          0,
          0,
          37,
          44,
          0,
          120,
          0,
          34,
          0,
          0,
          0,
          0,
          22,
          2,
          0,
          0,
          0,
          0,
          0,
          0,
          0,
          0,
          0,
          38,
          0,
          0,
          0,
          55,
          0,
          0,
          154,
          0,
          0,
          0,
          0,
          0,
          0,
          0,
          0,
          0,
          0,
          0,
          0,
          0,
          0,
          0,
          0,
          0,
          0,
          0,
          0,
          14,
          12,
          154,
          0,
          54,
          0,
          118,
          120,
          0,
          0,
          0,
          0,
          0,
          0,
          112,
          0,
          0,
          0,
          0,
          14,
          12,
          154,
          0,
          54,
          0,
          118,
          120,
          0,
          0,
          0,
          0,
          0,
          34,
          38,
          22,
          0,
          0,
          0,
          0,
          0,
          0,
          0,
          0,
          0,
          0,
          0,
          0,
          0,
          0,
          0,
          0,
          0,
          0,
          0,
          34,
          38,
          22,
          0,
          0,
          0,
          0,
          0,
          0,
          0,
          0,
          0,
          0,
          0,
          0,
          0,
          0,
          0,
          0,
          0,
          0,
          0,
          0,
          0,
          0,
          0,
          0,
          0,
          0,
          0,
          0,
          0,
          0,
          0,
          0,
          0,
          0,
          0,
          0,
          55,
          0,
          0,
          0,
          0,
          0,
          0,
          0,
          0,
          0,
          0,
          0,
          0,
          0,
          0,
          0,
          0,
          0,
          0,
          0,
          55,
          0,
          0,
          0,
          0,
          0,
          0,
          0,
          0,
          0,
          0,
          0,
          0,
          0,
          0,
          0,
          0,
          0,
          0,
          0,
          0,
          0,
          0,
          0,
          0,
          0,
          0,
          0,
          0,
          0,
          0,
          0,
          0,
          0,
          0,
          0,
          0,
          0,
          0,
          0,
          0,
          0,
          0,
          0,
          0,
          0,
          0,
          0,
          0,
          0,
          0,
          0,
          0,
          0,
          0,
          0,
          0,
          0,
          0,
          0,
          0
         ],
         "xaxis": "x",
         "y": [
          "648525069",
          "206954130",
          "238016975",
          "318375377",
          "253712712",
          "229410536",
          "145088911",
          "201272168",
          "280299504",
          "257244561",
          "122878845",
          "179031701",
          "439965329",
          "191947901",
          "157878683",
          "113440986",
          "119787774",
          "136690436",
          "91354584",
          "90567202",
          "113619226",
          "169310310",
          "96310552",
          "90107041",
          "79690190",
          "129808268",
          "77285946",
          "89714513",
          "84927177",
          "56603972",
          "62462362",
          "648525069",
          "206954130",
          "238016975",
          "318375377",
          "253712712",
          "229410536",
          "145088911",
          "201272168",
          "280299504",
          "257244561",
          "122878845",
          "179031701",
          "439965329",
          "191947901",
          "157878683",
          "113440986",
          "102.221.045",
          "151.282.408",
          "182.418.311",
          "118.458.965",
          "88.205.974",
          "101.800.187",
          "77.667.730",
          "75.816.684",
          "695.045.271",
          "64.895.368",
          "238.858.492",
          "66.435.115",
          "86.966.267",
          "65.608.381",
          "67.947.237",
          "106.436.747",
          "239.579.759",
          "161.739.029",
          "243.929.951",
          "97.666.137",
          "327.037.965",
          "57.248.658",
          "102.221.045",
          "151.282.408",
          "182.418.311",
          "118.458.965",
          "88.205.974",
          "101.800.187",
          "77.667.730",
          "75.816.684",
          "695.045.271",
          "64.895.368",
          "238.858.492",
          "66.435.115",
          "86.966.267",
          "65.608.381",
          "67.947.237",
          "106.436.747",
          "239.579.759",
          "161.739.029",
          "243.929.951",
          "97.666.137",
          "327.037.965",
          "161.201.338",
          "111.149.636",
          "180.262.965",
          "95.341.130",
          "99.582.468",
          "91.554.198",
          "89.206.080",
          "52.613.223",
          "256.720.162",
          "116.688.485",
          "44.117.403",
          "72.179.901",
          "72.138.383",
          "119.043.402",
          "50.628.387",
          "37.442.081",
          "79.599.951",
          "75.501.290",
          "233.537.019",
          "77.280.948",
          "85.579.355",
          "78.097.730",
          "685.569.376",
          "442.240.497",
          "1.497.861.842",
          "418.499.855",
          "558.461.539",
          "631.931.332",
          "289.677.180",
          "379.998.152",
          "511.571.475",
          "263.703.912",
          "737.680.743",
          "265.543.423",
          "328.656.338",
          "269.420.309",
          "175.821.082",
          "176.277.983",
          "148.303.282",
          "118.355.491",
          "257.804.372",
          "123.378.107",
          "177.054.741",
          "172.680.008",
          "86.528.064",
          "685.569.376",
          "442.240.497",
          "1.497.861.842",
          "418.499.855",
          "558.461.539",
          "631.931.332",
          "289.677.180",
          "379.998.152",
          "511.571.475",
          "263.703.912",
          "737.680.743",
          "265.543.423",
          "328.656.338",
          "269.420.309",
          "175.821.082",
          "176.277.983",
          "148.303.282",
          "118.355.491",
          "257.804.372",
          "123.378.107",
          "685.569.376",
          "442.240.497",
          "1.497.861.842",
          "418.499.855",
          "558.461.539",
          "631.931.332",
          "289.677.180",
          "379.998.152",
          "511.571.475",
          "263.703.912",
          "737.680.743",
          "265.543.423",
          "328.656.338",
          "119.887.717",
          "276.457.730",
          "107.168.641",
          "331.115.790",
          "249.885.271",
          "265.698.765",
          "89.369.701",
          "315.588.138",
          "86.371.415",
          "108.741.392",
          "84.058.644",
          "93.349.578",
          "74.802.137",
          "144.156.621",
          "68.667.868",
          "98.591.643",
          "69.027.319",
          "108.053.400",
          "56.901.647",
          "51.126.307",
          "42.569.086",
          "139.140.884",
          "209.924.444",
          "118.151.653",
          "185.024.136",
          "206.457.482",
          "90.351.777",
          "135.457.781",
          "166.946.516",
          "810.542.565",
          "276.701.835",
          "97.490.294",
          "714.184.368",
          "86.368.640",
          "94.810.816",
          "619.978.693",
          "64.707.634",
          "55.729.532",
          "70.295.638",
          "397.666.679",
          "107.430.716",
          "50.543.835",
          "43.303.976",
          "54.359.548",
          "55.397.353",
          "50.407.943",
          "39.608.696",
          "35.505.550",
          "69.531.567",
          "51.835.918",
          "109.187.805",
          "358.733.130",
          "57.957.104",
          "76.512.224",
          "68.743.624",
          "53.973.432",
          "814.114.651",
          "588.394.719",
          "279.044.935",
          "260.055.245",
          "297.807.837",
          "266.696.518",
          "180.744.525",
          "168.010.057",
          "174.430.479",
          "211.246.717",
          "180.507.774",
          "190.498.817",
          "205.207.043",
          "119.250.347",
          "208.212.731",
          "315.084.417",
          "105.356.578",
          "814.114.651",
          "588.394.719",
          "279.044.935",
          "260.055.245",
          "297.807.837",
          "266.696.518",
          "180.744.525",
          "168.010.057",
          "174.430.479",
          "211.246.717",
          "180.507.774",
          "190.498.817",
          "205.207.043",
          "119.250.347",
          "208.212.731",
          "552.789.777",
          "1.240.468.789",
          "350.113.872",
          "732.129.402",
          "456.830.802",
          "401.624.104",
          "298.361.936",
          "1.039.423.219",
          "375.813.987",
          "389.023.820",
          "351.443.321",
          "206.915.468",
          "179.012.062",
          "339.198.629",
          "202.357.820",
          "180.324.854",
          "147.911.887",
          "17.256.353",
          "22.319.608",
          "13.105.439",
          "44.782.909",
          "21.032.667",
          "16.067.602",
          "12.738.080",
          "20.062.707",
          "18.997.642",
          "14.930.318",
          "12.187.198",
          "10.113.780",
          "9.431.619",
          "12.112.084",
          "10.237.759",
          "11.466.753",
          "14.461.249",
          "552.789.777",
          "1.240.468.789",
          "350.113.872",
          "732.129.402",
          "456.830.802",
          "401.624.104",
          "298.361.936",
          "1.039.423.219",
          "375.813.987",
          "389.023.820",
          "351.443.321",
          "206.915.468",
          "179.012.062",
          "339.198.629",
          "202.357.820",
          "180.324.854",
          "147.911.887",
          "552.789.777",
          "1.240.468.789",
          "350.113.872",
          "732.129.402",
          "456.830.802",
          "401.624.104",
          "298.361.936",
          "1.039.423.219",
          "375.813.987",
          "389.023.820",
          "351.443.321",
          "206.915.468",
          "179.012.062",
          "339.198.629",
          "202.357.820",
          "180.324.854",
          "329.817.595",
          "1.993.770.030",
          "1.337.934.671",
          "728.980.010",
          "382.363.955",
          "266.772.382",
          "356.974.249",
          "624.943.370",
          "318.912.167",
          "279.089.879",
          "318.393.019",
          "140.953.878",
          "226.705.140",
          "905.599.541",
          "368.409.481",
          "844.254.273",
          "128.678.253",
          "379.786.759",
          "695.895.392",
          "485.674.511",
          "427.923.904",
          "1.066.236.494",
          "957.363.618",
          "1.119.518.781",
          "176.212.321",
          "579.204.888",
          "640.936.966",
          "260.615.846",
          "243.124.768",
          "313.580.941",
          "215.037.292",
          "389.833.661",
          "189.251.406",
          "245.010.202",
          "941.509.249",
          "39.494.267",
          "251.775.054",
          "54.079.110",
          "210.533.930",
          "328.676.348",
          "383.038.883",
          "815.642.450",
          "1.625.559.303",
          "227.152.677",
          "168.171.382",
          "176.212.321",
          "114.830.649",
          "220.866.384",
          "180.160.266",
          "60.819.145",
          "102.177.470",
          "84.836.384",
          "54.965.296",
          "111.448.042",
          "245.267.622",
          "118.010.086",
          "786.707.238",
          "26.816.334",
          "71.272.101",
          "321.275.673",
          "42.188.665",
          "40.680.546",
          "107.233.550",
          "43.654.609",
          "34.315.147",
          "67.933.033",
          "169.198.132",
          "25.320.079",
          "126.123.248",
          "32.760.917",
          "151.182.001",
          "53.323.977",
          "48.880.134",
          "142.918.741",
          "148.096.466",
          "109.508.324",
          "49.912.790",
          "43.339.936",
          "133.109.196",
          "245.267.622",
          "1.779.730.252",
          "1.178.776.162",
          "321.275.673",
          "218.240.636",
          "1.367.910.021",
          "151.139.886",
          "587.682.030",
          "941.509.249",
          "168.171.382",
          "107.233.550",
          "133.109.196",
          "193.699.978",
          "148.096.466",
          "141.420.809",
          "275.669.626",
          "5.951.108",
          "4.547.418",
          "4.829.873",
          "245.267.622",
          "1.779.730.252",
          "1.178.776.162",
          "321.275.673",
          "218.240.636",
          "1.367.910.021",
          "151.139.886",
          "587.682.030",
          "941.509.249",
          "168.171.382",
          "107.233.550",
          "133.109.196",
          "193.699.978",
          "60.819.145",
          "251.775.054",
          "54.965.296",
          "815.642.450",
          "245.010.202",
          "383.038.883",
          "61.821.545",
          "657.308.948",
          "57.098.497",
          "66.262.839",
          "54.079.110",
          "39.546.954",
          "43.654.609",
          "271.708.452",
          "43.339.936",
          "126.123.248",
          "31.857.392",
          "42.188.665",
          "22.927.653",
          "16.536.933",
          "17.531.943",
          "23.767.799",
          "60.819.145",
          "251.775.054",
          "54.965.296",
          "815.642.450",
          "245.010.202",
          "383.038.883",
          "61.821.545",
          "657.308.948",
          "57.098.497",
          "66.262.839",
          "54.079.110",
          "39.546.954",
          "43.654.609",
          "271.708.452",
          "43.339.936",
          "126.123.248",
          "8.880.736",
          "6.857.903",
          "6.938.597",
          "6.867.055",
          "6.480.720",
          "11.878.503",
          "6.446.611",
          "5.968.934",
          "5.940.738",
          "11.778.196",
          "8.177.318",
          "6.656.463",
          "6.492.948",
          "7.694.389",
          "5.843.535",
          "6.197.605",
          "220.866.384",
          "180.160.266",
          "386.437.949",
          "142.918.741",
          "140.397.028",
          "227.152.677",
          "45.573.588",
          "84.836.384",
          "786.707.238",
          "190.349.987",
          "51.675.352",
          "102.177.470",
          "121.851.870",
          "99.552.792",
          "71.272.101",
          "43.516.280",
          "25.511.421",
          "75.444.294",
          "24.014.122",
          "51.765.213",
          "220.866.384",
          "180.160.266",
          "386.437.949",
          "142.918.741",
          "140.397.028",
          "227.152.677",
          "45.573.588",
          "84.836.384",
          "786.707.238",
          "190.349.987",
          "51.675.352",
          "102.177.470",
          "121.851.870",
          "99.552.792",
          "25.320.079",
          "22.566.446",
          "27.080.983",
          "16.666.446",
          "13.738.576",
          "14.901.473",
          "118.010.096",
          "114.830.649",
          "868.938.537",
          "48.880.134",
          "109.508.324",
          "628.076.118",
          "67.933.033",
          "31.186.337",
          "45.929.391",
          "69.526.656",
          "53.323.977",
          "39.494.267",
          "26.816.334",
          "118.010.096",
          "114.830.649",
          "868.938.537",
          "48.880.134",
          "109.508.324",
          "628.076.118",
          "67.933.033",
          "31.186.337",
          "45.929.391",
          "69.526.656",
          "53.323.977",
          "39.494.267",
          "26.816.334",
          "2.147.295",
          "1.178.447",
          "1.733.340",
          "721.537",
          "746.505",
          "717.043",
          "750.284",
          "525.701",
          "127.256.142",
          "188.216.746",
          "210.533.930",
          "40.680.546",
          "42.081.074",
          "29.460.945",
          "32.760.917",
          "34.268.716",
          "118.497.374",
          "44.299.678",
          "328.676.348",
          "49.912.790",
          "34.315.147",
          "25.204.096",
          "32.775.607"
         ],
         "yaxis": "y"
        }
       ],
       "layout": {
        "barmode": "relative",
        "coloraxis": {
         "colorbar": {
          "title": {
           "text": "Global Peak Rank"
          }
         },
         "colorscale": [
          [
           0,
           "#0d0887"
          ],
          [
           0.1111111111111111,
           "#46039f"
          ],
          [
           0.2222222222222222,
           "#7201a8"
          ],
          [
           0.3333333333333333,
           "#9c179e"
          ],
          [
           0.4444444444444444,
           "#bd3786"
          ],
          [
           0.5555555555555556,
           "#d8576b"
          ],
          [
           0.6666666666666666,
           "#ed7953"
          ],
          [
           0.7777777777777778,
           "#fb9f3a"
          ],
          [
           0.8888888888888888,
           "#fdca26"
          ],
          [
           1,
           "#f0f921"
          ]
         ]
        },
        "legend": {
         "tracegroupgap": 0
        },
        "template": {
         "data": {
          "bar": [
           {
            "error_x": {
             "color": "#2a3f5f"
            },
            "error_y": {
             "color": "#2a3f5f"
            },
            "marker": {
             "line": {
              "color": "#E5ECF6",
              "width": 0.5
             },
             "pattern": {
              "fillmode": "overlay",
              "size": 10,
              "solidity": 0.2
             }
            },
            "type": "bar"
           }
          ],
          "barpolar": [
           {
            "marker": {
             "line": {
              "color": "#E5ECF6",
              "width": 0.5
             },
             "pattern": {
              "fillmode": "overlay",
              "size": 10,
              "solidity": 0.2
             }
            },
            "type": "barpolar"
           }
          ],
          "carpet": [
           {
            "aaxis": {
             "endlinecolor": "#2a3f5f",
             "gridcolor": "white",
             "linecolor": "white",
             "minorgridcolor": "white",
             "startlinecolor": "#2a3f5f"
            },
            "baxis": {
             "endlinecolor": "#2a3f5f",
             "gridcolor": "white",
             "linecolor": "white",
             "minorgridcolor": "white",
             "startlinecolor": "#2a3f5f"
            },
            "type": "carpet"
           }
          ],
          "choropleth": [
           {
            "colorbar": {
             "outlinewidth": 0,
             "ticks": ""
            },
            "type": "choropleth"
           }
          ],
          "contour": [
           {
            "colorbar": {
             "outlinewidth": 0,
             "ticks": ""
            },
            "colorscale": [
             [
              0,
              "#0d0887"
             ],
             [
              0.1111111111111111,
              "#46039f"
             ],
             [
              0.2222222222222222,
              "#7201a8"
             ],
             [
              0.3333333333333333,
              "#9c179e"
             ],
             [
              0.4444444444444444,
              "#bd3786"
             ],
             [
              0.5555555555555556,
              "#d8576b"
             ],
             [
              0.6666666666666666,
              "#ed7953"
             ],
             [
              0.7777777777777778,
              "#fb9f3a"
             ],
             [
              0.8888888888888888,
              "#fdca26"
             ],
             [
              1,
              "#f0f921"
             ]
            ],
            "type": "contour"
           }
          ],
          "contourcarpet": [
           {
            "colorbar": {
             "outlinewidth": 0,
             "ticks": ""
            },
            "type": "contourcarpet"
           }
          ],
          "heatmap": [
           {
            "colorbar": {
             "outlinewidth": 0,
             "ticks": ""
            },
            "colorscale": [
             [
              0,
              "#0d0887"
             ],
             [
              0.1111111111111111,
              "#46039f"
             ],
             [
              0.2222222222222222,
              "#7201a8"
             ],
             [
              0.3333333333333333,
              "#9c179e"
             ],
             [
              0.4444444444444444,
              "#bd3786"
             ],
             [
              0.5555555555555556,
              "#d8576b"
             ],
             [
              0.6666666666666666,
              "#ed7953"
             ],
             [
              0.7777777777777778,
              "#fb9f3a"
             ],
             [
              0.8888888888888888,
              "#fdca26"
             ],
             [
              1,
              "#f0f921"
             ]
            ],
            "type": "heatmap"
           }
          ],
          "heatmapgl": [
           {
            "colorbar": {
             "outlinewidth": 0,
             "ticks": ""
            },
            "colorscale": [
             [
              0,
              "#0d0887"
             ],
             [
              0.1111111111111111,
              "#46039f"
             ],
             [
              0.2222222222222222,
              "#7201a8"
             ],
             [
              0.3333333333333333,
              "#9c179e"
             ],
             [
              0.4444444444444444,
              "#bd3786"
             ],
             [
              0.5555555555555556,
              "#d8576b"
             ],
             [
              0.6666666666666666,
              "#ed7953"
             ],
             [
              0.7777777777777778,
              "#fb9f3a"
             ],
             [
              0.8888888888888888,
              "#fdca26"
             ],
             [
              1,
              "#f0f921"
             ]
            ],
            "type": "heatmapgl"
           }
          ],
          "histogram": [
           {
            "marker": {
             "pattern": {
              "fillmode": "overlay",
              "size": 10,
              "solidity": 0.2
             }
            },
            "type": "histogram"
           }
          ],
          "histogram2d": [
           {
            "colorbar": {
             "outlinewidth": 0,
             "ticks": ""
            },
            "colorscale": [
             [
              0,
              "#0d0887"
             ],
             [
              0.1111111111111111,
              "#46039f"
             ],
             [
              0.2222222222222222,
              "#7201a8"
             ],
             [
              0.3333333333333333,
              "#9c179e"
             ],
             [
              0.4444444444444444,
              "#bd3786"
             ],
             [
              0.5555555555555556,
              "#d8576b"
             ],
             [
              0.6666666666666666,
              "#ed7953"
             ],
             [
              0.7777777777777778,
              "#fb9f3a"
             ],
             [
              0.8888888888888888,
              "#fdca26"
             ],
             [
              1,
              "#f0f921"
             ]
            ],
            "type": "histogram2d"
           }
          ],
          "histogram2dcontour": [
           {
            "colorbar": {
             "outlinewidth": 0,
             "ticks": ""
            },
            "colorscale": [
             [
              0,
              "#0d0887"
             ],
             [
              0.1111111111111111,
              "#46039f"
             ],
             [
              0.2222222222222222,
              "#7201a8"
             ],
             [
              0.3333333333333333,
              "#9c179e"
             ],
             [
              0.4444444444444444,
              "#bd3786"
             ],
             [
              0.5555555555555556,
              "#d8576b"
             ],
             [
              0.6666666666666666,
              "#ed7953"
             ],
             [
              0.7777777777777778,
              "#fb9f3a"
             ],
             [
              0.8888888888888888,
              "#fdca26"
             ],
             [
              1,
              "#f0f921"
             ]
            ],
            "type": "histogram2dcontour"
           }
          ],
          "mesh3d": [
           {
            "colorbar": {
             "outlinewidth": 0,
             "ticks": ""
            },
            "type": "mesh3d"
           }
          ],
          "parcoords": [
           {
            "line": {
             "colorbar": {
              "outlinewidth": 0,
              "ticks": ""
             }
            },
            "type": "parcoords"
           }
          ],
          "pie": [
           {
            "automargin": true,
            "type": "pie"
           }
          ],
          "scatter": [
           {
            "fillpattern": {
             "fillmode": "overlay",
             "size": 10,
             "solidity": 0.2
            },
            "type": "scatter"
           }
          ],
          "scatter3d": [
           {
            "line": {
             "colorbar": {
              "outlinewidth": 0,
              "ticks": ""
             }
            },
            "marker": {
             "colorbar": {
              "outlinewidth": 0,
              "ticks": ""
             }
            },
            "type": "scatter3d"
           }
          ],
          "scattercarpet": [
           {
            "marker": {
             "colorbar": {
              "outlinewidth": 0,
              "ticks": ""
             }
            },
            "type": "scattercarpet"
           }
          ],
          "scattergeo": [
           {
            "marker": {
             "colorbar": {
              "outlinewidth": 0,
              "ticks": ""
             }
            },
            "type": "scattergeo"
           }
          ],
          "scattergl": [
           {
            "marker": {
             "colorbar": {
              "outlinewidth": 0,
              "ticks": ""
             }
            },
            "type": "scattergl"
           }
          ],
          "scattermapbox": [
           {
            "marker": {
             "colorbar": {
              "outlinewidth": 0,
              "ticks": ""
             }
            },
            "type": "scattermapbox"
           }
          ],
          "scatterpolar": [
           {
            "marker": {
             "colorbar": {
              "outlinewidth": 0,
              "ticks": ""
             }
            },
            "type": "scatterpolar"
           }
          ],
          "scatterpolargl": [
           {
            "marker": {
             "colorbar": {
              "outlinewidth": 0,
              "ticks": ""
             }
            },
            "type": "scatterpolargl"
           }
          ],
          "scatterternary": [
           {
            "marker": {
             "colorbar": {
              "outlinewidth": 0,
              "ticks": ""
             }
            },
            "type": "scatterternary"
           }
          ],
          "surface": [
           {
            "colorbar": {
             "outlinewidth": 0,
             "ticks": ""
            },
            "colorscale": [
             [
              0,
              "#0d0887"
             ],
             [
              0.1111111111111111,
              "#46039f"
             ],
             [
              0.2222222222222222,
              "#7201a8"
             ],
             [
              0.3333333333333333,
              "#9c179e"
             ],
             [
              0.4444444444444444,
              "#bd3786"
             ],
             [
              0.5555555555555556,
              "#d8576b"
             ],
             [
              0.6666666666666666,
              "#ed7953"
             ],
             [
              0.7777777777777778,
              "#fb9f3a"
             ],
             [
              0.8888888888888888,
              "#fdca26"
             ],
             [
              1,
              "#f0f921"
             ]
            ],
            "type": "surface"
           }
          ],
          "table": [
           {
            "cells": {
             "fill": {
              "color": "#EBF0F8"
             },
             "line": {
              "color": "white"
             }
            },
            "header": {
             "fill": {
              "color": "#C8D4E3"
             },
             "line": {
              "color": "white"
             }
            },
            "type": "table"
           }
          ]
         },
         "layout": {
          "annotationdefaults": {
           "arrowcolor": "#2a3f5f",
           "arrowhead": 0,
           "arrowwidth": 1
          },
          "autotypenumbers": "strict",
          "coloraxis": {
           "colorbar": {
            "outlinewidth": 0,
            "ticks": ""
           }
          },
          "colorscale": {
           "diverging": [
            [
             0,
             "#8e0152"
            ],
            [
             0.1,
             "#c51b7d"
            ],
            [
             0.2,
             "#de77ae"
            ],
            [
             0.3,
             "#f1b6da"
            ],
            [
             0.4,
             "#fde0ef"
            ],
            [
             0.5,
             "#f7f7f7"
            ],
            [
             0.6,
             "#e6f5d0"
            ],
            [
             0.7,
             "#b8e186"
            ],
            [
             0.8,
             "#7fbc41"
            ],
            [
             0.9,
             "#4d9221"
            ],
            [
             1,
             "#276419"
            ]
           ],
           "sequential": [
            [
             0,
             "#0d0887"
            ],
            [
             0.1111111111111111,
             "#46039f"
            ],
            [
             0.2222222222222222,
             "#7201a8"
            ],
            [
             0.3333333333333333,
             "#9c179e"
            ],
            [
             0.4444444444444444,
             "#bd3786"
            ],
            [
             0.5555555555555556,
             "#d8576b"
            ],
            [
             0.6666666666666666,
             "#ed7953"
            ],
            [
             0.7777777777777778,
             "#fb9f3a"
            ],
            [
             0.8888888888888888,
             "#fdca26"
            ],
            [
             1,
             "#f0f921"
            ]
           ],
           "sequentialminus": [
            [
             0,
             "#0d0887"
            ],
            [
             0.1111111111111111,
             "#46039f"
            ],
            [
             0.2222222222222222,
             "#7201a8"
            ],
            [
             0.3333333333333333,
             "#9c179e"
            ],
            [
             0.4444444444444444,
             "#bd3786"
            ],
            [
             0.5555555555555556,
             "#d8576b"
            ],
            [
             0.6666666666666666,
             "#ed7953"
            ],
            [
             0.7777777777777778,
             "#fb9f3a"
            ],
            [
             0.8888888888888888,
             "#fdca26"
            ],
            [
             1,
             "#f0f921"
            ]
           ]
          },
          "colorway": [
           "#636efa",
           "#EF553B",
           "#00cc96",
           "#ab63fa",
           "#FFA15A",
           "#19d3f3",
           "#FF6692",
           "#B6E880",
           "#FF97FF",
           "#FECB52"
          ],
          "font": {
           "color": "#2a3f5f"
          },
          "geo": {
           "bgcolor": "white",
           "lakecolor": "white",
           "landcolor": "#E5ECF6",
           "showlakes": true,
           "showland": true,
           "subunitcolor": "white"
          },
          "hoverlabel": {
           "align": "left"
          },
          "hovermode": "closest",
          "mapbox": {
           "style": "light"
          },
          "paper_bgcolor": "white",
          "plot_bgcolor": "#E5ECF6",
          "polar": {
           "angularaxis": {
            "gridcolor": "white",
            "linecolor": "white",
            "ticks": ""
           },
           "bgcolor": "#E5ECF6",
           "radialaxis": {
            "gridcolor": "white",
            "linecolor": "white",
            "ticks": ""
           }
          },
          "scene": {
           "xaxis": {
            "backgroundcolor": "#E5ECF6",
            "gridcolor": "white",
            "gridwidth": 2,
            "linecolor": "white",
            "showbackground": true,
            "ticks": "",
            "zerolinecolor": "white"
           },
           "yaxis": {
            "backgroundcolor": "#E5ECF6",
            "gridcolor": "white",
            "gridwidth": 2,
            "linecolor": "white",
            "showbackground": true,
            "ticks": "",
            "zerolinecolor": "white"
           },
           "zaxis": {
            "backgroundcolor": "#E5ECF6",
            "gridcolor": "white",
            "gridwidth": 2,
            "linecolor": "white",
            "showbackground": true,
            "ticks": "",
            "zerolinecolor": "white"
           }
          },
          "shapedefaults": {
           "line": {
            "color": "#2a3f5f"
           }
          },
          "ternary": {
           "aaxis": {
            "gridcolor": "white",
            "linecolor": "white",
            "ticks": ""
           },
           "baxis": {
            "gridcolor": "white",
            "linecolor": "white",
            "ticks": ""
           },
           "bgcolor": "#E5ECF6",
           "caxis": {
            "gridcolor": "white",
            "linecolor": "white",
            "ticks": ""
           }
          },
          "title": {
           "x": 0.05
          },
          "xaxis": {
           "automargin": true,
           "gridcolor": "white",
           "linecolor": "white",
           "ticks": "",
           "title": {
            "standoff": 15
           },
           "zerolinecolor": "white",
           "zerolinewidth": 2
          },
          "yaxis": {
           "automargin": true,
           "gridcolor": "white",
           "linecolor": "white",
           "ticks": "",
           "title": {
            "standoff": 15
           },
           "zerolinecolor": "white",
           "zerolinewidth": 2
          }
         }
        },
        "title": {
         "text": "Spotify Streams by Global Peak Rank"
        },
        "xaxis": {
         "anchor": "y",
         "domain": [
          0,
          1
         ],
         "title": {
          "text": "Global Peak Rank"
         }
        },
        "yaxis": {
         "anchor": "x",
         "domain": [
          0,
          1
         ],
         "title": {
          "text": "Spotify Streams"
         }
        }
       }
      }
     },
     "metadata": {},
     "output_type": "display_data"
    }
   ],
   "source": [
    "# Bar plot for Spotify streams by global peak rank\n",
    "fig_peak_streams = px.bar(df, x='spotify_global_peak', y='spotify_streams', color='spotify_global_peak', \n",
    "                            title='Spotify Streams by Global Peak Rank',\n",
    "                            labels={'spotify_streams': 'Spotify Streams', 'spotify_global_peak': 'Global Peak Rank'})\n",
    "fig_peak_streams.show()"
   ]
  },
  {
   "cell_type": "markdown",
   "metadata": {},
   "source": [
    "How do track themes compare in terms of Spotify streams?"
   ]
  },
  {
   "cell_type": "code",
   "execution_count": 52,
   "metadata": {},
   "outputs": [
    {
     "data": {
      "application/vnd.plotly.v1+json": {
       "config": {
        "plotlyServerURL": "https://plot.ly"
       },
       "data": [
        {
         "alignmentgroup": "True",
         "hovertemplate": "Track Theme=%{x}<br>Spotify Streams=%{y}<extra></extra>",
         "legendgroup": "Complicated love/Looking for love",
         "marker": {
          "color": "#636efa",
          "pattern": {
           "shape": ""
          }
         },
         "name": "Complicated love/Looking for love",
         "offsetgroup": "Complicated love/Looking for love",
         "orientation": "v",
         "showlegend": true,
         "textposition": "auto",
         "type": "bar",
         "x": [
          "Complicated love/Looking for love",
          "Complicated love/Looking for love",
          "Complicated love/Looking for love",
          "Complicated love/Looking for love",
          "Complicated love/Looking for love",
          "Complicated love/Looking for love",
          "Complicated love/Looking for love",
          "Complicated love/Looking for love",
          "Complicated love/Looking for love",
          "Complicated love/Looking for love",
          "Complicated love/Looking for love",
          "Complicated love/Looking for love",
          "Complicated love/Looking for love",
          "Complicated love/Looking for love",
          "Complicated love/Looking for love",
          "Complicated love/Looking for love",
          "Complicated love/Looking for love",
          "Complicated love/Looking for love",
          "Complicated love/Looking for love",
          "Complicated love/Looking for love",
          "Complicated love/Looking for love",
          "Complicated love/Looking for love",
          "Complicated love/Looking for love",
          "Complicated love/Looking for love",
          "Complicated love/Looking for love",
          "Complicated love/Looking for love",
          "Complicated love/Looking for love",
          "Complicated love/Looking for love",
          "Complicated love/Looking for love",
          "Complicated love/Looking for love",
          "Complicated love/Looking for love",
          "Complicated love/Looking for love",
          "Complicated love/Looking for love",
          "Complicated love/Looking for love",
          "Complicated love/Looking for love",
          "Complicated love/Looking for love",
          "Complicated love/Looking for love",
          "Complicated love/Looking for love",
          "Complicated love/Looking for love",
          "Complicated love/Looking for love",
          "Complicated love/Looking for love",
          "Complicated love/Looking for love",
          "Complicated love/Looking for love",
          "Complicated love/Looking for love",
          "Complicated love/Looking for love",
          "Complicated love/Looking for love",
          "Complicated love/Looking for love",
          "Complicated love/Looking for love",
          "Complicated love/Looking for love",
          "Complicated love/Looking for love",
          "Complicated love/Looking for love",
          "Complicated love/Looking for love",
          "Complicated love/Looking for love",
          "Complicated love/Looking for love",
          "Complicated love/Looking for love",
          "Complicated love/Looking for love",
          "Complicated love/Looking for love",
          "Complicated love/Looking for love",
          "Complicated love/Looking for love",
          "Complicated love/Looking for love",
          "Complicated love/Looking for love",
          "Complicated love/Looking for love"
         ],
         "xaxis": "x",
         "y": [
          "648525069",
          "206954130",
          "229410536",
          "280299504",
          "122878845",
          "136690436",
          "648525069",
          "206954130",
          "229410536",
          "280299504",
          "122878845",
          "238.858.492",
          "66.435.115",
          "239.579.759",
          "161.739.029",
          "238.858.492",
          "66.435.115",
          "239.579.759",
          "161.739.029",
          "37.442.081",
          "85.579.355",
          "118.355.491",
          "118.355.491",
          "276.457.730",
          "86.371.415",
          "108.053.400",
          "139.140.884",
          "39.608.696",
          "109.187.805",
          "279.044.935",
          "260.055.245",
          "180.507.774",
          "279.044.935",
          "260.055.245",
          "180.507.774",
          "180.324.854",
          "11.466.753",
          "180.324.854",
          "180.324.854",
          "368.409.481",
          "251.775.054",
          "1.625.559.303",
          "42.188.665",
          "107.233.550",
          "34.315.147",
          "169.198.132",
          "133.109.196",
          "107.233.550",
          "133.109.196",
          "5.951.108",
          "107.233.550",
          "133.109.196",
          "251.775.054",
          "57.098.497",
          "42.188.665",
          "17.531.943",
          "251.775.054",
          "57.098.497",
          "25.511.421",
          "16.666.446",
          "34.268.716",
          "34.315.147"
         ],
         "yaxis": "y"
        },
        {
         "alignmentgroup": "True",
         "hovertemplate": "Track Theme=%{x}<br>Spotify Streams=%{y}<extra></extra>",
         "legendgroup": "Broken heart/Sadness",
         "marker": {
          "color": "#EF553B",
          "pattern": {
           "shape": ""
          }
         },
         "name": "Broken heart/Sadness",
         "offsetgroup": "Broken heart/Sadness",
         "orientation": "v",
         "showlegend": true,
         "textposition": "auto",
         "type": "bar",
         "x": [
          "Broken heart/Sadness",
          "Broken heart/Sadness",
          "Broken heart/Sadness",
          "Broken heart/Sadness",
          "Broken heart/Sadness",
          "Broken heart/Sadness",
          "Broken heart/Sadness",
          "Broken heart/Sadness",
          "Broken heart/Sadness",
          "Broken heart/Sadness",
          "Broken heart/Sadness",
          "Broken heart/Sadness",
          "Broken heart/Sadness",
          "Broken heart/Sadness",
          "Broken heart/Sadness",
          "Broken heart/Sadness",
          "Broken heart/Sadness",
          "Broken heart/Sadness",
          "Broken heart/Sadness",
          "Broken heart/Sadness",
          "Broken heart/Sadness",
          "Broken heart/Sadness",
          "Broken heart/Sadness",
          "Broken heart/Sadness",
          "Broken heart/Sadness",
          "Broken heart/Sadness",
          "Broken heart/Sadness",
          "Broken heart/Sadness",
          "Broken heart/Sadness",
          "Broken heart/Sadness",
          "Broken heart/Sadness",
          "Broken heart/Sadness",
          "Broken heart/Sadness",
          "Broken heart/Sadness",
          "Broken heart/Sadness",
          "Broken heart/Sadness",
          "Broken heart/Sadness",
          "Broken heart/Sadness",
          "Broken heart/Sadness",
          "Broken heart/Sadness",
          "Broken heart/Sadness",
          "Broken heart/Sadness",
          "Broken heart/Sadness",
          "Broken heart/Sadness",
          "Broken heart/Sadness",
          "Broken heart/Sadness",
          "Broken heart/Sadness",
          "Broken heart/Sadness",
          "Broken heart/Sadness",
          "Broken heart/Sadness",
          "Broken heart/Sadness",
          "Broken heart/Sadness",
          "Broken heart/Sadness",
          "Broken heart/Sadness",
          "Broken heart/Sadness",
          "Broken heart/Sadness",
          "Broken heart/Sadness",
          "Broken heart/Sadness",
          "Broken heart/Sadness",
          "Broken heart/Sadness",
          "Broken heart/Sadness",
          "Broken heart/Sadness",
          "Broken heart/Sadness",
          "Broken heart/Sadness",
          "Broken heart/Sadness",
          "Broken heart/Sadness",
          "Broken heart/Sadness",
          "Broken heart/Sadness",
          "Broken heart/Sadness",
          "Broken heart/Sadness",
          "Broken heart/Sadness",
          "Broken heart/Sadness",
          "Broken heart/Sadness",
          "Broken heart/Sadness",
          "Broken heart/Sadness",
          "Broken heart/Sadness",
          "Broken heart/Sadness",
          "Broken heart/Sadness",
          "Broken heart/Sadness",
          "Broken heart/Sadness",
          "Broken heart/Sadness"
         ],
         "xaxis": "x",
         "y": [
          "238016975",
          "318375377",
          "253712712",
          "179031701",
          "113619226",
          "79690190",
          "129808268",
          "84927177",
          "238016975",
          "318375377",
          "253712712",
          "179031701",
          "99.582.468",
          "72.138.383",
          "249.885.271",
          "89.369.701",
          "93.349.578",
          "69.027.319",
          "90.351.777",
          "810.542.565",
          "94.810.816",
          "64.707.634",
          "55.397.353",
          "57.957.104",
          "588.394.719",
          "297.807.837",
          "174.430.479",
          "208.212.731",
          "588.394.719",
          "297.807.837",
          "174.430.479",
          "208.212.731",
          "552.789.777",
          "1.240.468.789",
          "732.129.402",
          "456.830.802",
          "1.039.423.219",
          "17.256.353",
          "22.319.608",
          "44.782.909",
          "21.032.667",
          "20.062.707",
          "552.789.777",
          "1.240.468.789",
          "732.129.402",
          "456.830.802",
          "1.039.423.219",
          "552.789.777",
          "1.240.468.789",
          "732.129.402",
          "456.830.802",
          "1.039.423.219",
          "245.010.202",
          "210.533.930",
          "67.933.033",
          "109.508.324",
          "245.010.202",
          "61.821.545",
          "39.546.954",
          "31.857.392",
          "245.010.202",
          "61.821.545",
          "39.546.954",
          "5.940.738",
          "6.492.948",
          "140.397.028",
          "121.851.870",
          "43.516.280",
          "140.397.028",
          "121.851.870",
          "22.566.446",
          "109.508.324",
          "67.933.033",
          "109.508.324",
          "67.933.033",
          "721.537",
          "746.505",
          "127.256.142",
          "210.533.930",
          "25.204.096",
          "32.775.607"
         ],
         "yaxis": "y"
        },
        {
         "alignmentgroup": "True",
         "hovertemplate": "Track Theme=%{x}<br>Spotify Streams=%{y}<extra></extra>",
         "legendgroup": "Complicated love/Losing love",
         "marker": {
          "color": "#00cc96",
          "pattern": {
           "shape": ""
          }
         },
         "name": "Complicated love/Losing love",
         "offsetgroup": "Complicated love/Losing love",
         "orientation": "v",
         "showlegend": true,
         "textposition": "auto",
         "type": "bar",
         "x": [
          "Complicated love/Losing love",
          "Complicated love/Losing love",
          "Complicated love/Losing love",
          "Complicated love/Losing love",
          "Complicated love/Losing love",
          "Complicated love/Losing love",
          "Complicated love/Losing love",
          "Complicated love/Losing love",
          "Complicated love/Losing love",
          "Complicated love/Losing love",
          "Complicated love/Losing love",
          "Complicated love/Losing love",
          "Complicated love/Losing love",
          "Complicated love/Losing love",
          "Complicated love/Losing love",
          "Complicated love/Losing love",
          "Complicated love/Losing love",
          "Complicated love/Losing love",
          "Complicated love/Losing love",
          "Complicated love/Losing love",
          "Complicated love/Losing love",
          "Complicated love/Losing love",
          "Complicated love/Losing love",
          "Complicated love/Losing love",
          "Complicated love/Losing love",
          "Complicated love/Losing love",
          "Complicated love/Losing love",
          "Complicated love/Losing love",
          "Complicated love/Losing love",
          "Complicated love/Losing love",
          "Complicated love/Losing love",
          "Complicated love/Losing love",
          "Complicated love/Losing love",
          "Complicated love/Losing love",
          "Complicated love/Losing love",
          "Complicated love/Losing love",
          "Complicated love/Losing love",
          "Complicated love/Losing love",
          "Complicated love/Losing love",
          "Complicated love/Losing love",
          "Complicated love/Losing love",
          "Complicated love/Losing love",
          "Complicated love/Losing love",
          "Complicated love/Losing love",
          "Complicated love/Losing love",
          "Complicated love/Losing love",
          "Complicated love/Losing love"
         ],
         "xaxis": "x",
         "y": [
          "145088911",
          "145088911",
          "118.458.965",
          "77.667.730",
          "695.045.271",
          "64.895.368",
          "118.458.965",
          "77.667.730",
          "695.045.271",
          "64.895.368",
          "95.341.130",
          "269.420.309",
          "269.420.309",
          "108.741.392",
          "56.901.647",
          "209.924.444",
          "397.666.679",
          "76.512.224",
          "68.743.624",
          "53.973.432",
          "211.246.717",
          "211.246.717",
          "1.993.770.030",
          "640.936.966",
          "243.124.768",
          "941.509.249",
          "168.171.382",
          "321.275.673",
          "142.918.741",
          "321.275.673",
          "151.139.886",
          "941.509.249",
          "168.171.382",
          "4.547.418",
          "321.275.673",
          "151.139.886",
          "941.509.249",
          "168.171.382",
          "66.262.839",
          "22.927.653",
          "66.262.839",
          "5.968.934",
          "142.918.741",
          "142.918.741",
          "69.526.656",
          "69.526.656",
          "42.081.074"
         ],
         "yaxis": "y"
        },
        {
         "alignmentgroup": "True",
         "hovertemplate": "Track Theme=%{x}<br>Spotify Streams=%{y}<extra></extra>",
         "legendgroup": "Overcoming",
         "marker": {
          "color": "#ab63fa",
          "pattern": {
           "shape": ""
          }
         },
         "name": "Overcoming",
         "offsetgroup": "Overcoming",
         "orientation": "v",
         "showlegend": true,
         "textposition": "auto",
         "type": "bar",
         "x": [
          "Overcoming",
          "Overcoming",
          "Overcoming",
          "Overcoming",
          "Overcoming",
          "Overcoming",
          "Overcoming",
          "Overcoming",
          "Overcoming",
          "Overcoming",
          "Overcoming",
          "Overcoming",
          "Overcoming",
          "Overcoming",
          "Overcoming",
          "Overcoming",
          "Overcoming",
          "Overcoming",
          "Overcoming",
          "Overcoming",
          "Overcoming",
          "Overcoming",
          "Overcoming",
          "Overcoming",
          "Overcoming",
          "Overcoming",
          "Overcoming",
          "Overcoming",
          "Overcoming",
          "Overcoming",
          "Overcoming",
          "Overcoming",
          "Overcoming",
          "Overcoming",
          "Overcoming",
          "Overcoming"
         ],
         "xaxis": "x",
         "y": [
          "201272168",
          "439965329",
          "91354584",
          "201272168",
          "439965329",
          "86.966.267",
          "243.929.951",
          "86.966.267",
          "243.929.951",
          "44.117.403",
          "558.461.539",
          "511.571.475",
          "737.680.743",
          "86.528.064",
          "558.461.539",
          "511.571.475",
          "737.680.743",
          "558.461.539",
          "511.571.475",
          "737.680.743",
          "135.457.781",
          "276.701.835",
          "119.250.347",
          "105.356.578",
          "119.250.347",
          "329.817.595",
          "427.923.904",
          "1.119.518.781",
          "118.010.086",
          "193.699.978",
          "193.699.978",
          "51.675.352",
          "51.675.352",
          "118.010.096",
          "118.010.096",
          "1.178.447"
         ],
         "yaxis": "y"
        },
        {
         "alignmentgroup": "True",
         "hovertemplate": "Track Theme=%{x}<br>Spotify Streams=%{y}<extra></extra>",
         "legendgroup": "Betrayal/Anger",
         "marker": {
          "color": "#FFA15A",
          "pattern": {
           "shape": ""
          }
         },
         "name": "Betrayal/Anger",
         "offsetgroup": "Betrayal/Anger",
         "orientation": "v",
         "showlegend": true,
         "textposition": "auto",
         "type": "bar",
         "x": [
          "Betrayal/Anger",
          "Betrayal/Anger",
          "Betrayal/Anger",
          "Betrayal/Anger",
          "Betrayal/Anger",
          "Betrayal/Anger",
          "Betrayal/Anger",
          "Betrayal/Anger",
          "Betrayal/Anger",
          "Betrayal/Anger",
          "Betrayal/Anger",
          "Betrayal/Anger",
          "Betrayal/Anger",
          "Betrayal/Anger",
          "Betrayal/Anger",
          "Betrayal/Anger",
          "Betrayal/Anger",
          "Betrayal/Anger",
          "Betrayal/Anger",
          "Betrayal/Anger",
          "Betrayal/Anger",
          "Betrayal/Anger",
          "Betrayal/Anger",
          "Betrayal/Anger",
          "Betrayal/Anger",
          "Betrayal/Anger",
          "Betrayal/Anger",
          "Betrayal/Anger",
          "Betrayal/Anger",
          "Betrayal/Anger",
          "Betrayal/Anger",
          "Betrayal/Anger",
          "Betrayal/Anger",
          "Betrayal/Anger",
          "Betrayal/Anger",
          "Betrayal/Anger",
          "Betrayal/Anger",
          "Betrayal/Anger",
          "Betrayal/Anger",
          "Betrayal/Anger",
          "Betrayal/Anger",
          "Betrayal/Anger",
          "Betrayal/Anger",
          "Betrayal/Anger",
          "Betrayal/Anger",
          "Betrayal/Anger"
         ],
         "xaxis": "x",
         "y": [
          "257244561",
          "90107041",
          "77285946",
          "257244561",
          "75.816.684",
          "327.037.965",
          "57.248.658",
          "75.816.684",
          "327.037.965",
          "91.554.198",
          "116.688.485",
          "289.677.180",
          "379.998.152",
          "148.303.282",
          "257.804.372",
          "289.677.180",
          "379.998.152",
          "148.303.282",
          "257.804.372",
          "289.677.180",
          "379.998.152",
          "118.151.653",
          "358.733.130",
          "266.696.518",
          "266.696.518",
          "389.023.820",
          "206.915.468",
          "14.930.318",
          "10.113.780",
          "389.023.820",
          "206.915.468",
          "389.023.820",
          "206.915.468",
          "728.980.010",
          "905.599.541",
          "215.037.292",
          "227.152.677",
          "111.448.042",
          "587.682.030",
          "587.682.030",
          "6.867.055",
          "6.446.611",
          "227.152.677",
          "190.349.987",
          "227.152.677",
          "190.349.987"
         ],
         "yaxis": "y"
        },
        {
         "alignmentgroup": "True",
         "hovertemplate": "Track Theme=%{x}<br>Spotify Streams=%{y}<extra></extra>",
         "legendgroup": "Broken heart/Anger",
         "marker": {
          "color": "#19d3f3",
          "pattern": {
           "shape": ""
          }
         },
         "name": "Broken heart/Anger",
         "offsetgroup": "Broken heart/Anger",
         "orientation": "v",
         "showlegend": true,
         "textposition": "auto",
         "type": "bar",
         "x": [
          "Broken heart/Anger",
          "Broken heart/Anger",
          "Broken heart/Anger",
          "Broken heart/Anger",
          "Broken heart/Anger",
          "Broken heart/Anger",
          "Broken heart/Anger",
          "Broken heart/Anger",
          "Broken heart/Anger",
          "Broken heart/Anger",
          "Broken heart/Anger",
          "Broken heart/Anger",
          "Broken heart/Anger",
          "Broken heart/Anger",
          "Broken heart/Anger",
          "Broken heart/Anger",
          "Broken heart/Anger",
          "Broken heart/Anger",
          "Broken heart/Anger",
          "Broken heart/Anger",
          "Broken heart/Anger",
          "Broken heart/Anger",
          "Broken heart/Anger",
          "Broken heart/Anger",
          "Broken heart/Anger",
          "Broken heart/Anger",
          "Broken heart/Anger",
          "Broken heart/Anger",
          "Broken heart/Anger",
          "Broken heart/Anger",
          "Broken heart/Anger",
          "Broken heart/Anger",
          "Broken heart/Anger",
          "Broken heart/Anger",
          "Broken heart/Anger",
          "Broken heart/Anger",
          "Broken heart/Anger",
          "Broken heart/Anger",
          "Broken heart/Anger",
          "Broken heart/Anger",
          "Broken heart/Anger",
          "Broken heart/Anger",
          "Broken heart/Anger",
          "Broken heart/Anger",
          "Broken heart/Anger",
          "Broken heart/Anger",
          "Broken heart/Anger",
          "Broken heart/Anger"
         ],
         "xaxis": "x",
         "y": [
          "191947901",
          "119787774",
          "62462362",
          "88.205.974",
          "106.436.747",
          "88.205.974",
          "106.436.747",
          "89.206.080",
          "72.179.901",
          "331.115.790",
          "315.588.138",
          "206.457.482",
          "55.729.532",
          "70.295.638",
          "107.430.716",
          "50.407.943",
          "69.531.567",
          "279.089.879",
          "815.642.450",
          "102.177.470",
          "151.182.001",
          "53.323.977",
          "218.240.636",
          "275.669.626",
          "218.240.636",
          "815.642.450",
          "657.308.948",
          "815.642.450",
          "657.308.948",
          "6.938.597",
          "5.843.535",
          "45.573.588",
          "102.177.470",
          "24.014.122",
          "45.573.588",
          "102.177.470",
          "27.080.983",
          "14.901.473",
          "31.186.337",
          "45.929.391",
          "53.323.977",
          "31.186.337",
          "45.929.391",
          "53.323.977",
          "717.043",
          "750.284",
          "188.216.746",
          "118.497.374"
         ],
         "yaxis": "y"
        },
        {
         "alignmentgroup": "True",
         "hovertemplate": "Track Theme=%{x}<br>Spotify Streams=%{y}<extra></extra>",
         "legendgroup": "New love",
         "marker": {
          "color": "#FF6692",
          "pattern": {
           "shape": ""
          }
         },
         "name": "New love",
         "offsetgroup": "New love",
         "orientation": "v",
         "showlegend": true,
         "textposition": "auto",
         "type": "bar",
         "x": [
          "New love",
          "New love",
          "New love",
          "New love",
          "New love",
          "New love",
          "New love",
          "New love",
          "New love",
          "New love",
          "New love",
          "New love",
          "New love",
          "New love",
          "New love",
          "New love",
          "New love",
          "New love",
          "New love",
          "New love",
          "New love",
          "New love",
          "New love",
          "New love",
          "New love",
          "New love",
          "New love",
          "New love",
          "New love",
          "New love",
          "New love",
          "New love",
          "New love",
          "New love",
          "New love",
          "New love",
          "New love",
          "New love",
          "New love",
          "New love",
          "New love",
          "New love",
          "New love",
          "New love",
          "New love",
          "New love",
          "New love",
          "New love",
          "New love",
          "New love",
          "New love",
          "New love",
          "New love",
          "New love",
          "New love",
          "New love",
          "New love",
          "New love",
          "New love",
          "New love",
          "New love"
         ],
         "xaxis": "x",
         "y": [
          "157878683",
          "151.282.408",
          "182.418.311",
          "97.666.137",
          "151.282.408",
          "182.418.311",
          "97.666.137",
          "111.149.636",
          "256.720.162",
          "263.703.912",
          "328.656.338",
          "263.703.912",
          "328.656.338",
          "263.703.912",
          "328.656.338",
          "119.887.717",
          "107.168.641",
          "98.591.643",
          "51.126.307",
          "185.024.136",
          "86.368.640",
          "54.359.548",
          "35.505.550",
          "51.835.918",
          "814.114.651",
          "814.114.651",
          "695.895.392",
          "176.212.321",
          "328.676.348",
          "176.212.321",
          "180.160.266",
          "60.819.145",
          "54.965.296",
          "786.707.238",
          "25.320.079",
          "126.123.248",
          "48.880.134",
          "1.779.730.252",
          "1.178.776.162",
          "4.829.873",
          "1.779.730.252",
          "1.178.776.162",
          "60.819.145",
          "54.965.296",
          "126.123.248",
          "16.536.933",
          "23.767.799",
          "60.819.145",
          "54.965.296",
          "126.123.248",
          "8.880.736",
          "7.694.389",
          "180.160.266",
          "786.707.238",
          "180.160.266",
          "786.707.238",
          "25.320.079",
          "13.738.576",
          "48.880.134",
          "48.880.134",
          "328.676.348"
         ],
         "yaxis": "y"
        },
        {
         "alignmentgroup": "True",
         "hovertemplate": "Track Theme=%{x}<br>Spotify Streams=%{y}<extra></extra>",
         "legendgroup": "Insecurities",
         "marker": {
          "color": "#B6E880",
          "pattern": {
           "shape": ""
          }
         },
         "name": "Insecurities",
         "offsetgroup": "Insecurities",
         "orientation": "v",
         "showlegend": true,
         "textposition": "auto",
         "type": "bar",
         "x": [
          "Insecurities",
          "Insecurities",
          "Insecurities",
          "Insecurities",
          "Insecurities",
          "Insecurities",
          "Insecurities",
          "Insecurities",
          "Insecurities",
          "Insecurities",
          "Insecurities",
          "Insecurities",
          "Insecurities",
          "Insecurities",
          "Insecurities",
          "Insecurities",
          "Insecurities",
          "Insecurities",
          "Insecurities",
          "Insecurities",
          "Insecurities",
          "Insecurities",
          "Insecurities",
          "Insecurities",
          "Insecurities"
         ],
         "xaxis": "x",
         "y": [
          "113440986",
          "96310552",
          "77.280.948",
          "1.497.861.842",
          "177.054.741",
          "1.497.861.842",
          "1.497.861.842",
          "74.802.137",
          "401.624.104",
          "375.813.987",
          "16.067.602",
          "18.997.642",
          "401.624.104",
          "375.813.987",
          "401.624.104",
          "375.813.987",
          "382.363.955",
          "40.680.546",
          "43.654.609",
          "32.760.917",
          "43.654.609",
          "43.654.609",
          "40.680.546",
          "29.460.945",
          "32.760.917"
         ],
         "yaxis": "y"
        },
        {
         "alignmentgroup": "True",
         "hovertemplate": "Track Theme=%{x}<br>Spotify Streams=%{y}<extra></extra>",
         "legendgroup": "Nostalgia",
         "marker": {
          "color": "#FF97FF",
          "pattern": {
           "shape": ""
          }
         },
         "name": "Nostalgia",
         "offsetgroup": "Nostalgia",
         "orientation": "v",
         "showlegend": true,
         "textposition": "auto",
         "type": "bar",
         "x": [
          "Nostalgia",
          "Nostalgia",
          "Nostalgia",
          "Nostalgia",
          "Nostalgia",
          "Nostalgia",
          "Nostalgia",
          "Nostalgia",
          "Nostalgia",
          "Nostalgia",
          "Nostalgia",
          "Nostalgia",
          "Nostalgia",
          "Nostalgia",
          "Nostalgia",
          "Nostalgia",
          "Nostalgia",
          "Nostalgia",
          "Nostalgia",
          "Nostalgia",
          "Nostalgia",
          "Nostalgia",
          "Nostalgia",
          "Nostalgia",
          "Nostalgia",
          "Nostalgia",
          "Nostalgia",
          "Nostalgia",
          "Nostalgia",
          "Nostalgia",
          "Nostalgia",
          "Nostalgia",
          "Nostalgia",
          "Nostalgia",
          "Nostalgia",
          "Nostalgia",
          "Nostalgia",
          "Nostalgia",
          "Nostalgia",
          "Nostalgia",
          "Nostalgia",
          "Nostalgia",
          "Nostalgia",
          "Nostalgia",
          "Nostalgia",
          "Nostalgia",
          "Nostalgia"
         ],
         "xaxis": "x",
         "y": [
          "90567202",
          "56603972",
          "52.613.223",
          "119.043.402",
          "631.931.332",
          "175.821.082",
          "631.931.332",
          "175.821.082",
          "631.931.332",
          "144.156.621",
          "42.569.086",
          "166.946.516",
          "97.490.294",
          "50.543.835",
          "43.303.976",
          "180.744.525",
          "205.207.043",
          "315.084.417",
          "180.744.525",
          "205.207.043",
          "298.361.936",
          "179.012.062",
          "12.738.080",
          "9.431.619",
          "298.361.936",
          "179.012.062",
          "298.361.936",
          "179.012.062",
          "39.494.267",
          "114.830.649",
          "84.836.384",
          "26.816.334",
          "271.708.452",
          "271.708.452",
          "6.197.605",
          "84.836.384",
          "99.552.792",
          "84.836.384",
          "99.552.792",
          "114.830.649",
          "39.494.267",
          "26.816.334",
          "114.830.649",
          "39.494.267",
          "26.816.334",
          "525.701",
          "44.299.678"
         ],
         "yaxis": "y"
        },
        {
         "alignmentgroup": "True",
         "hovertemplate": "Track Theme=%{x}<br>Spotify Streams=%{y}<extra></extra>",
         "legendgroup": "Fall in love",
         "marker": {
          "color": "#FECB52",
          "pattern": {
           "shape": ""
          }
         },
         "name": "Fall in love",
         "offsetgroup": "Fall in love",
         "orientation": "v",
         "showlegend": true,
         "textposition": "auto",
         "type": "bar",
         "x": [
          "Fall in love",
          "Fall in love",
          "Fall in love",
          "Fall in love",
          "Fall in love",
          "Fall in love",
          "Fall in love",
          "Fall in love",
          "Fall in love",
          "Fall in love",
          "Fall in love",
          "Fall in love",
          "Fall in love",
          "Fall in love",
          "Fall in love",
          "Fall in love",
          "Fall in love",
          "Fall in love",
          "Fall in love",
          "Fall in love",
          "Fall in love",
          "Fall in love",
          "Fall in love",
          "Fall in love",
          "Fall in love",
          "Fall in love",
          "Fall in love",
          "Fall in love",
          "Fall in love",
          "Fall in love",
          "Fall in love",
          "Fall in love",
          "Fall in love",
          "Fall in love",
          "Fall in love",
          "Fall in love",
          "Fall in love",
          "Fall in love",
          "Fall in love",
          "Fall in love",
          "Fall in love",
          "Fall in love",
          "Fall in love",
          "Fall in love",
          "Fall in love",
          "Fall in love",
          "Fall in love",
          "Fall in love",
          "Fall in love",
          "Fall in love",
          "Fall in love",
          "Fall in love",
          "Fall in love",
          "Fall in love",
          "Fall in love",
          "Fall in love",
          "Fall in love",
          "Fall in love",
          "Fall in love",
          "Fall in love",
          "Fall in love",
          "Fall in love",
          "Fall in love",
          "Fall in love",
          "Fall in love",
          "Fall in love",
          "Fall in love",
          "Fall in love",
          "Fall in love",
          "Fall in love",
          "Fall in love",
          "Fall in love",
          "Fall in love",
          "Fall in love",
          "Fall in love",
          "Fall in love",
          "Fall in love",
          "Fall in love",
          "Fall in love",
          "Fall in love",
          "Fall in love",
          "Fall in love",
          "Fall in love",
          "Fall in love",
          "Fall in love"
         ],
         "xaxis": "x",
         "y": [
          "169310310",
          "65.608.381",
          "67.947.237",
          "65.608.381",
          "67.947.237",
          "161.201.338",
          "50.628.387",
          "79.599.951",
          "233.537.019",
          "78.097.730",
          "685.569.376",
          "442.240.497",
          "418.499.855",
          "265.543.423",
          "176.277.983",
          "172.680.008",
          "685.569.376",
          "442.240.497",
          "418.499.855",
          "265.543.423",
          "176.277.983",
          "685.569.376",
          "442.240.497",
          "418.499.855",
          "265.543.423",
          "84.058.644",
          "68.667.868",
          "714.184.368",
          "619.978.693",
          "190.498.817",
          "190.498.817",
          "350.113.872",
          "351.443.321",
          "202.357.820",
          "147.911.887",
          "13.105.439",
          "12.187.198",
          "10.237.759",
          "14.461.249",
          "350.113.872",
          "351.443.321",
          "202.357.820",
          "147.911.887",
          "350.113.872",
          "351.443.321",
          "202.357.820",
          "1.337.934.671",
          "266.772.382",
          "624.943.370",
          "318.912.167",
          "318.393.019",
          "226.705.140",
          "844.254.273",
          "379.786.759",
          "485.674.511",
          "1.066.236.494",
          "957.363.618",
          "579.204.888",
          "260.615.846",
          "313.580.941",
          "389.833.661",
          "189.251.406",
          "54.079.110",
          "220.866.384",
          "71.272.101",
          "148.096.466",
          "43.339.936",
          "148.096.466",
          "141.420.809",
          "54.079.110",
          "43.339.936",
          "54.079.110",
          "43.339.936",
          "6.857.903",
          "6.480.720",
          "220.866.384",
          "71.272.101",
          "51.765.213",
          "220.866.384",
          "868.938.537",
          "628.076.118",
          "868.938.537",
          "628.076.118",
          "2.147.295",
          "1.733.340"
         ],
         "yaxis": "y"
        },
        {
         "alignmentgroup": "True",
         "hovertemplate": "Track Theme=%{x}<br>Spotify Streams=%{y}<extra></extra>",
         "legendgroup": "Repentance",
         "marker": {
          "color": "#636efa",
          "pattern": {
           "shape": ""
          }
         },
         "name": "Repentance",
         "offsetgroup": "Repentance",
         "orientation": "v",
         "showlegend": true,
         "textposition": "auto",
         "type": "bar",
         "x": [
          "Repentance",
          "Repentance",
          "Repentance",
          "Repentance",
          "Repentance",
          "Repentance",
          "Repentance",
          "Repentance",
          "Repentance",
          "Repentance"
         ],
         "xaxis": "x",
         "y": [
          "89714513",
          "180.262.965",
          "339.198.629",
          "12.112.084",
          "339.198.629",
          "339.198.629",
          "11.878.503",
          "386.437.949",
          "75.444.294",
          "386.437.949"
         ],
         "yaxis": "y"
        },
        {
         "alignmentgroup": "True",
         "hovertemplate": "Track Theme=%{x}<br>Spotify Streams=%{y}<extra></extra>",
         "legendgroup": "Happiness",
         "marker": {
          "color": "#00cc96",
          "pattern": {
           "shape": ""
          }
         },
         "name": "Happiness",
         "offsetgroup": "Happiness",
         "orientation": "v",
         "showlegend": true,
         "textposition": "auto",
         "type": "bar",
         "x": [
          "Happiness",
          "Happiness",
          "Happiness",
          "Happiness",
          "Happiness",
          "Happiness",
          "Happiness",
          "Happiness",
          "Happiness",
          "Happiness",
          "Happiness",
          "Happiness",
          "Happiness"
         ],
         "xaxis": "x",
         "y": [
          "102.221.045",
          "101.800.187",
          "102.221.045",
          "101.800.187",
          "265.698.765",
          "383.038.883",
          "245.267.622",
          "245.267.622",
          "1.367.910.021",
          "245.267.622",
          "1.367.910.021",
          "383.038.883",
          "383.038.883"
         ],
         "yaxis": "y"
        },
        {
         "alignmentgroup": "True",
         "hovertemplate": "Track Theme=%{x}<br>Spotify Streams=%{y}<extra></extra>",
         "legendgroup": "Friendship",
         "marker": {
          "color": "#ab63fa",
          "pattern": {
           "shape": ""
          }
         },
         "name": "Friendship",
         "offsetgroup": "Friendship",
         "orientation": "v",
         "showlegend": true,
         "textposition": "auto",
         "type": "bar",
         "x": [
          "Friendship",
          "Friendship",
          "Friendship",
          "Friendship",
          "Friendship",
          "Friendship",
          "Friendship",
          "Friendship",
          "Friendship"
         ],
         "xaxis": "x",
         "y": [
          "75.501.290",
          "123.378.107",
          "123.378.107",
          "168.010.057",
          "168.010.057",
          "140.953.878",
          "128.678.253",
          "49.912.790",
          "49.912.790"
         ],
         "yaxis": "y"
        },
        {
         "alignmentgroup": "True",
         "hovertemplate": "Track Theme=%{x}<br>Spotify Streams=%{y}<extra></extra>",
         "legendgroup": "Social issues",
         "marker": {
          "color": "#FFA15A",
          "pattern": {
           "shape": ""
          }
         },
         "name": "Social issues",
         "offsetgroup": "Social issues",
         "orientation": "v",
         "showlegend": true,
         "textposition": "auto",
         "type": "bar",
         "x": [
          "Social issues"
         ],
         "xaxis": "x",
         "y": [
          "356.974.249"
         ],
         "yaxis": "y"
        },
        {
         "alignmentgroup": "True",
         "hovertemplate": "Track Theme=%{x}<br>Spotify Streams=%{y}<extra></extra>",
         "legendgroup": "-",
         "marker": {
          "color": "#19d3f3",
          "pattern": {
           "shape": ""
          }
         },
         "name": "-",
         "offsetgroup": "-",
         "orientation": "v",
         "showlegend": true,
         "textposition": "auto",
         "type": "bar",
         "x": [
          "-",
          "-",
          "-"
         ],
         "xaxis": "x",
         "y": [
          "11.778.196",
          "8.177.318",
          "6.656.463"
         ],
         "yaxis": "y"
        }
       ],
       "layout": {
        "barmode": "relative",
        "legend": {
         "title": {
          "text": "Track Theme"
         },
         "tracegroupgap": 0
        },
        "template": {
         "data": {
          "bar": [
           {
            "error_x": {
             "color": "#2a3f5f"
            },
            "error_y": {
             "color": "#2a3f5f"
            },
            "marker": {
             "line": {
              "color": "#E5ECF6",
              "width": 0.5
             },
             "pattern": {
              "fillmode": "overlay",
              "size": 10,
              "solidity": 0.2
             }
            },
            "type": "bar"
           }
          ],
          "barpolar": [
           {
            "marker": {
             "line": {
              "color": "#E5ECF6",
              "width": 0.5
             },
             "pattern": {
              "fillmode": "overlay",
              "size": 10,
              "solidity": 0.2
             }
            },
            "type": "barpolar"
           }
          ],
          "carpet": [
           {
            "aaxis": {
             "endlinecolor": "#2a3f5f",
             "gridcolor": "white",
             "linecolor": "white",
             "minorgridcolor": "white",
             "startlinecolor": "#2a3f5f"
            },
            "baxis": {
             "endlinecolor": "#2a3f5f",
             "gridcolor": "white",
             "linecolor": "white",
             "minorgridcolor": "white",
             "startlinecolor": "#2a3f5f"
            },
            "type": "carpet"
           }
          ],
          "choropleth": [
           {
            "colorbar": {
             "outlinewidth": 0,
             "ticks": ""
            },
            "type": "choropleth"
           }
          ],
          "contour": [
           {
            "colorbar": {
             "outlinewidth": 0,
             "ticks": ""
            },
            "colorscale": [
             [
              0,
              "#0d0887"
             ],
             [
              0.1111111111111111,
              "#46039f"
             ],
             [
              0.2222222222222222,
              "#7201a8"
             ],
             [
              0.3333333333333333,
              "#9c179e"
             ],
             [
              0.4444444444444444,
              "#bd3786"
             ],
             [
              0.5555555555555556,
              "#d8576b"
             ],
             [
              0.6666666666666666,
              "#ed7953"
             ],
             [
              0.7777777777777778,
              "#fb9f3a"
             ],
             [
              0.8888888888888888,
              "#fdca26"
             ],
             [
              1,
              "#f0f921"
             ]
            ],
            "type": "contour"
           }
          ],
          "contourcarpet": [
           {
            "colorbar": {
             "outlinewidth": 0,
             "ticks": ""
            },
            "type": "contourcarpet"
           }
          ],
          "heatmap": [
           {
            "colorbar": {
             "outlinewidth": 0,
             "ticks": ""
            },
            "colorscale": [
             [
              0,
              "#0d0887"
             ],
             [
              0.1111111111111111,
              "#46039f"
             ],
             [
              0.2222222222222222,
              "#7201a8"
             ],
             [
              0.3333333333333333,
              "#9c179e"
             ],
             [
              0.4444444444444444,
              "#bd3786"
             ],
             [
              0.5555555555555556,
              "#d8576b"
             ],
             [
              0.6666666666666666,
              "#ed7953"
             ],
             [
              0.7777777777777778,
              "#fb9f3a"
             ],
             [
              0.8888888888888888,
              "#fdca26"
             ],
             [
              1,
              "#f0f921"
             ]
            ],
            "type": "heatmap"
           }
          ],
          "heatmapgl": [
           {
            "colorbar": {
             "outlinewidth": 0,
             "ticks": ""
            },
            "colorscale": [
             [
              0,
              "#0d0887"
             ],
             [
              0.1111111111111111,
              "#46039f"
             ],
             [
              0.2222222222222222,
              "#7201a8"
             ],
             [
              0.3333333333333333,
              "#9c179e"
             ],
             [
              0.4444444444444444,
              "#bd3786"
             ],
             [
              0.5555555555555556,
              "#d8576b"
             ],
             [
              0.6666666666666666,
              "#ed7953"
             ],
             [
              0.7777777777777778,
              "#fb9f3a"
             ],
             [
              0.8888888888888888,
              "#fdca26"
             ],
             [
              1,
              "#f0f921"
             ]
            ],
            "type": "heatmapgl"
           }
          ],
          "histogram": [
           {
            "marker": {
             "pattern": {
              "fillmode": "overlay",
              "size": 10,
              "solidity": 0.2
             }
            },
            "type": "histogram"
           }
          ],
          "histogram2d": [
           {
            "colorbar": {
             "outlinewidth": 0,
             "ticks": ""
            },
            "colorscale": [
             [
              0,
              "#0d0887"
             ],
             [
              0.1111111111111111,
              "#46039f"
             ],
             [
              0.2222222222222222,
              "#7201a8"
             ],
             [
              0.3333333333333333,
              "#9c179e"
             ],
             [
              0.4444444444444444,
              "#bd3786"
             ],
             [
              0.5555555555555556,
              "#d8576b"
             ],
             [
              0.6666666666666666,
              "#ed7953"
             ],
             [
              0.7777777777777778,
              "#fb9f3a"
             ],
             [
              0.8888888888888888,
              "#fdca26"
             ],
             [
              1,
              "#f0f921"
             ]
            ],
            "type": "histogram2d"
           }
          ],
          "histogram2dcontour": [
           {
            "colorbar": {
             "outlinewidth": 0,
             "ticks": ""
            },
            "colorscale": [
             [
              0,
              "#0d0887"
             ],
             [
              0.1111111111111111,
              "#46039f"
             ],
             [
              0.2222222222222222,
              "#7201a8"
             ],
             [
              0.3333333333333333,
              "#9c179e"
             ],
             [
              0.4444444444444444,
              "#bd3786"
             ],
             [
              0.5555555555555556,
              "#d8576b"
             ],
             [
              0.6666666666666666,
              "#ed7953"
             ],
             [
              0.7777777777777778,
              "#fb9f3a"
             ],
             [
              0.8888888888888888,
              "#fdca26"
             ],
             [
              1,
              "#f0f921"
             ]
            ],
            "type": "histogram2dcontour"
           }
          ],
          "mesh3d": [
           {
            "colorbar": {
             "outlinewidth": 0,
             "ticks": ""
            },
            "type": "mesh3d"
           }
          ],
          "parcoords": [
           {
            "line": {
             "colorbar": {
              "outlinewidth": 0,
              "ticks": ""
             }
            },
            "type": "parcoords"
           }
          ],
          "pie": [
           {
            "automargin": true,
            "type": "pie"
           }
          ],
          "scatter": [
           {
            "fillpattern": {
             "fillmode": "overlay",
             "size": 10,
             "solidity": 0.2
            },
            "type": "scatter"
           }
          ],
          "scatter3d": [
           {
            "line": {
             "colorbar": {
              "outlinewidth": 0,
              "ticks": ""
             }
            },
            "marker": {
             "colorbar": {
              "outlinewidth": 0,
              "ticks": ""
             }
            },
            "type": "scatter3d"
           }
          ],
          "scattercarpet": [
           {
            "marker": {
             "colorbar": {
              "outlinewidth": 0,
              "ticks": ""
             }
            },
            "type": "scattercarpet"
           }
          ],
          "scattergeo": [
           {
            "marker": {
             "colorbar": {
              "outlinewidth": 0,
              "ticks": ""
             }
            },
            "type": "scattergeo"
           }
          ],
          "scattergl": [
           {
            "marker": {
             "colorbar": {
              "outlinewidth": 0,
              "ticks": ""
             }
            },
            "type": "scattergl"
           }
          ],
          "scattermapbox": [
           {
            "marker": {
             "colorbar": {
              "outlinewidth": 0,
              "ticks": ""
             }
            },
            "type": "scattermapbox"
           }
          ],
          "scatterpolar": [
           {
            "marker": {
             "colorbar": {
              "outlinewidth": 0,
              "ticks": ""
             }
            },
            "type": "scatterpolar"
           }
          ],
          "scatterpolargl": [
           {
            "marker": {
             "colorbar": {
              "outlinewidth": 0,
              "ticks": ""
             }
            },
            "type": "scatterpolargl"
           }
          ],
          "scatterternary": [
           {
            "marker": {
             "colorbar": {
              "outlinewidth": 0,
              "ticks": ""
             }
            },
            "type": "scatterternary"
           }
          ],
          "surface": [
           {
            "colorbar": {
             "outlinewidth": 0,
             "ticks": ""
            },
            "colorscale": [
             [
              0,
              "#0d0887"
             ],
             [
              0.1111111111111111,
              "#46039f"
             ],
             [
              0.2222222222222222,
              "#7201a8"
             ],
             [
              0.3333333333333333,
              "#9c179e"
             ],
             [
              0.4444444444444444,
              "#bd3786"
             ],
             [
              0.5555555555555556,
              "#d8576b"
             ],
             [
              0.6666666666666666,
              "#ed7953"
             ],
             [
              0.7777777777777778,
              "#fb9f3a"
             ],
             [
              0.8888888888888888,
              "#fdca26"
             ],
             [
              1,
              "#f0f921"
             ]
            ],
            "type": "surface"
           }
          ],
          "table": [
           {
            "cells": {
             "fill": {
              "color": "#EBF0F8"
             },
             "line": {
              "color": "white"
             }
            },
            "header": {
             "fill": {
              "color": "#C8D4E3"
             },
             "line": {
              "color": "white"
             }
            },
            "type": "table"
           }
          ]
         },
         "layout": {
          "annotationdefaults": {
           "arrowcolor": "#2a3f5f",
           "arrowhead": 0,
           "arrowwidth": 1
          },
          "autotypenumbers": "strict",
          "coloraxis": {
           "colorbar": {
            "outlinewidth": 0,
            "ticks": ""
           }
          },
          "colorscale": {
           "diverging": [
            [
             0,
             "#8e0152"
            ],
            [
             0.1,
             "#c51b7d"
            ],
            [
             0.2,
             "#de77ae"
            ],
            [
             0.3,
             "#f1b6da"
            ],
            [
             0.4,
             "#fde0ef"
            ],
            [
             0.5,
             "#f7f7f7"
            ],
            [
             0.6,
             "#e6f5d0"
            ],
            [
             0.7,
             "#b8e186"
            ],
            [
             0.8,
             "#7fbc41"
            ],
            [
             0.9,
             "#4d9221"
            ],
            [
             1,
             "#276419"
            ]
           ],
           "sequential": [
            [
             0,
             "#0d0887"
            ],
            [
             0.1111111111111111,
             "#46039f"
            ],
            [
             0.2222222222222222,
             "#7201a8"
            ],
            [
             0.3333333333333333,
             "#9c179e"
            ],
            [
             0.4444444444444444,
             "#bd3786"
            ],
            [
             0.5555555555555556,
             "#d8576b"
            ],
            [
             0.6666666666666666,
             "#ed7953"
            ],
            [
             0.7777777777777778,
             "#fb9f3a"
            ],
            [
             0.8888888888888888,
             "#fdca26"
            ],
            [
             1,
             "#f0f921"
            ]
           ],
           "sequentialminus": [
            [
             0,
             "#0d0887"
            ],
            [
             0.1111111111111111,
             "#46039f"
            ],
            [
             0.2222222222222222,
             "#7201a8"
            ],
            [
             0.3333333333333333,
             "#9c179e"
            ],
            [
             0.4444444444444444,
             "#bd3786"
            ],
            [
             0.5555555555555556,
             "#d8576b"
            ],
            [
             0.6666666666666666,
             "#ed7953"
            ],
            [
             0.7777777777777778,
             "#fb9f3a"
            ],
            [
             0.8888888888888888,
             "#fdca26"
            ],
            [
             1,
             "#f0f921"
            ]
           ]
          },
          "colorway": [
           "#636efa",
           "#EF553B",
           "#00cc96",
           "#ab63fa",
           "#FFA15A",
           "#19d3f3",
           "#FF6692",
           "#B6E880",
           "#FF97FF",
           "#FECB52"
          ],
          "font": {
           "color": "#2a3f5f"
          },
          "geo": {
           "bgcolor": "white",
           "lakecolor": "white",
           "landcolor": "#E5ECF6",
           "showlakes": true,
           "showland": true,
           "subunitcolor": "white"
          },
          "hoverlabel": {
           "align": "left"
          },
          "hovermode": "closest",
          "mapbox": {
           "style": "light"
          },
          "paper_bgcolor": "white",
          "plot_bgcolor": "#E5ECF6",
          "polar": {
           "angularaxis": {
            "gridcolor": "white",
            "linecolor": "white",
            "ticks": ""
           },
           "bgcolor": "#E5ECF6",
           "radialaxis": {
            "gridcolor": "white",
            "linecolor": "white",
            "ticks": ""
           }
          },
          "scene": {
           "xaxis": {
            "backgroundcolor": "#E5ECF6",
            "gridcolor": "white",
            "gridwidth": 2,
            "linecolor": "white",
            "showbackground": true,
            "ticks": "",
            "zerolinecolor": "white"
           },
           "yaxis": {
            "backgroundcolor": "#E5ECF6",
            "gridcolor": "white",
            "gridwidth": 2,
            "linecolor": "white",
            "showbackground": true,
            "ticks": "",
            "zerolinecolor": "white"
           },
           "zaxis": {
            "backgroundcolor": "#E5ECF6",
            "gridcolor": "white",
            "gridwidth": 2,
            "linecolor": "white",
            "showbackground": true,
            "ticks": "",
            "zerolinecolor": "white"
           }
          },
          "shapedefaults": {
           "line": {
            "color": "#2a3f5f"
           }
          },
          "ternary": {
           "aaxis": {
            "gridcolor": "white",
            "linecolor": "white",
            "ticks": ""
           },
           "baxis": {
            "gridcolor": "white",
            "linecolor": "white",
            "ticks": ""
           },
           "bgcolor": "#E5ECF6",
           "caxis": {
            "gridcolor": "white",
            "linecolor": "white",
            "ticks": ""
           }
          },
          "title": {
           "x": 0.05
          },
          "xaxis": {
           "automargin": true,
           "gridcolor": "white",
           "linecolor": "white",
           "ticks": "",
           "title": {
            "standoff": 15
           },
           "zerolinecolor": "white",
           "zerolinewidth": 2
          },
          "yaxis": {
           "automargin": true,
           "gridcolor": "white",
           "linecolor": "white",
           "ticks": "",
           "title": {
            "standoff": 15
           },
           "zerolinecolor": "white",
           "zerolinewidth": 2
          }
         }
        },
        "title": {
         "text": "Spotify Streams by Track Theme"
        },
        "xaxis": {
         "anchor": "y",
         "categoryarray": [
          "Complicated love/Looking for love",
          "Broken heart/Sadness",
          "Complicated love/Losing love",
          "Overcoming",
          "Betrayal/Anger",
          "Broken heart/Anger",
          "New love",
          "Insecurities",
          "Nostalgia",
          "Fall in love",
          "Repentance",
          null,
          "Happiness",
          "Friendship",
          "Social issues",
          "-"
         ],
         "categoryorder": "array",
         "domain": [
          0,
          1
         ],
         "title": {
          "text": "Track Theme"
         }
        },
        "yaxis": {
         "anchor": "x",
         "domain": [
          0,
          1
         ],
         "title": {
          "text": "Spotify Streams"
         }
        }
       }
      }
     },
     "metadata": {},
     "output_type": "display_data"
    }
   ],
   "source": [
    "# Bar plot for Spotify streams by track theme\n",
    "fig_theme_streams = px.bar(df, x='track_theme', y='spotify_streams', color='track_theme', \n",
    "                           title='Spotify Streams by Track Theme',\n",
    "                           labels={'spotify_streams': 'Spotify Streams', 'track_theme': 'Track Theme'})\n",
    "fig_theme_streams.show()"
   ]
  },
  {
   "cell_type": "markdown",
   "metadata": {},
   "source": [
    "How do different track types contribute to album physical sales?"
   ]
  },
  {
   "cell_type": "code",
   "execution_count": 53,
   "metadata": {},
   "outputs": [
    {
     "data": {
      "application/vnd.plotly.v1+json": {
       "config": {
        "plotlyServerURL": "https://plot.ly"
       },
       "data": [
        {
         "alignmentgroup": "True",
         "hovertemplate": "Track Type=%{x}<br>Album Physical Sales=%{y}<extra></extra>",
         "legendgroup": "Single",
         "marker": {
          "color": "#636efa",
          "pattern": {
           "shape": ""
          }
         },
         "name": "Single",
         "offsetgroup": "Single",
         "orientation": "v",
         "showlegend": true,
         "textposition": "auto",
         "type": "bar",
         "x": [
          "Single",
          "Single",
          "Single",
          "Single",
          "Single",
          "Single",
          "Single",
          "Single",
          "Single",
          "Single",
          "Single",
          "Single",
          "Single",
          "Single",
          "Single",
          "Single",
          "Single",
          "Single",
          "Single",
          "Single",
          "Single",
          "Single",
          "Single",
          "Single",
          "Single",
          "Single",
          "Single",
          "Single",
          "Single",
          "Single",
          "Single",
          "Single",
          "Single",
          "Single",
          "Single",
          "Single",
          "Single",
          "Single",
          "Single",
          "Single",
          "Single",
          "Single",
          "Single",
          "Single",
          "Single",
          "Single",
          "Single",
          "Single",
          "Single",
          "Single",
          "Single",
          "Single",
          "Single",
          "Single",
          "Single",
          "Single",
          "Single",
          "Single",
          "Single",
          "Single",
          "Single",
          "Single",
          "Single",
          "Single",
          "Single",
          "Single",
          "Single",
          "Single",
          "Single",
          "Single",
          "Single",
          "Single",
          "Single",
          "Single",
          "Single",
          "Single",
          "Single",
          "Single",
          "Single",
          "Single",
          "Single",
          "Single",
          "Single",
          "Single",
          "Single",
          "Single",
          "Single",
          "Single",
          "Single",
          "Single",
          "Single",
          "Single",
          "Single",
          "Single",
          "Single",
          "Single",
          "Single",
          "Single",
          "Single",
          "Single",
          "Single",
          "Single",
          "Single",
          "Single",
          "Single",
          "Single",
          "Single",
          "Single",
          "Single",
          "Single",
          "Single",
          "Single",
          "Single",
          "Single",
          "Single",
          "Single"
         ],
         "xaxis": "x",
         "y": [
          "0",
          "0",
          "2.853.000",
          "2.853.000",
          "0",
          "0",
          "4.999.000",
          "4.999.000",
          "282.000",
          "282.000",
          "282.000",
          "282.000",
          "270.000",
          "270.000",
          "270.000",
          "270.000",
          "270.000",
          "3.049.000",
          "3.049.000",
          "3.049.000",
          "3.049.000",
          "974.000",
          "974.000",
          "0",
          "0",
          "0",
          "944.000",
          "944.000",
          "944.000",
          "75.000",
          "75.000",
          "75.000",
          "0",
          "0",
          "0",
          "2.352.000",
          "2.352.000",
          "2.352.000",
          "2.061.000",
          "2.061.000",
          "2.061.000",
          "2.061.000",
          "2.061.000",
          "2.478.000",
          "2.478.000",
          "2.478.000",
          "2.478.000",
          "2.478.000",
          "2.478.000",
          null,
          null,
          "0",
          "0",
          "0",
          "0",
          "0",
          "0",
          "0",
          "0",
          "0",
          "0",
          "0",
          "0",
          "0",
          "0",
          "0",
          "555.000",
          "555.000",
          "555.000",
          "555.000",
          "555.000",
          "555.000",
          "8.158.000",
          "8.158.000",
          "8.158.000",
          "8.158.000",
          "8.158.000",
          "8.158.000",
          "650.000",
          "650.000",
          "650.000",
          "650.000",
          "650.000",
          "650.000",
          "650.000",
          "4.551.000",
          "4.551.000",
          "4.551.000",
          "4.551.000",
          "4.551.000",
          "4.551.000",
          "4.551.000",
          "855.000",
          "855.000",
          "855.000",
          "855.000",
          "855.000",
          "855.000",
          "3.962.000",
          "3.962.000",
          "3.962.000",
          "3.962.000",
          "1.150.000",
          "1.150.000",
          "1.150.000",
          "1.150.000",
          "1.150.000",
          "6.636.000",
          "6.636.000",
          "6.636.000",
          "6.636.000",
          "6.636.000",
          "5.871.000",
          "5.871.000",
          "5.871.000",
          "5.871.000"
         ],
         "yaxis": "y"
        },
        {
         "alignmentgroup": "True",
         "hovertemplate": "Track Type=%{x}<br>Album Physical Sales=%{y}<extra></extra>",
         "legendgroup": "B-Side",
         "marker": {
          "color": "#EF553B",
          "pattern": {
           "shape": ""
          }
         },
         "name": "B-Side",
         "offsetgroup": "B-Side",
         "orientation": "v",
         "showlegend": true,
         "textposition": "auto",
         "type": "bar",
         "x": [
          "B-Side",
          "B-Side",
          "B-Side",
          "B-Side",
          "B-Side",
          "B-Side",
          "B-Side",
          "B-Side",
          "B-Side",
          "B-Side",
          "B-Side",
          "B-Side",
          "B-Side",
          "B-Side",
          "B-Side",
          "B-Side",
          "B-Side",
          "B-Side",
          "B-Side",
          "B-Side",
          "B-Side",
          "B-Side",
          "B-Side",
          "B-Side",
          "B-Side",
          "B-Side",
          "B-Side",
          "B-Side",
          "B-Side",
          "B-Side",
          "B-Side",
          "B-Side",
          "B-Side",
          "B-Side",
          "B-Side",
          "B-Side",
          "B-Side",
          "B-Side",
          "B-Side",
          "B-Side",
          "B-Side",
          "B-Side",
          "B-Side",
          "B-Side",
          "B-Side",
          "B-Side",
          "B-Side",
          "B-Side",
          "B-Side",
          "B-Side",
          "B-Side",
          "B-Side",
          "B-Side",
          "B-Side",
          "B-Side",
          "B-Side",
          "B-Side",
          "B-Side",
          "B-Side",
          "B-Side",
          "B-Side",
          "B-Side",
          "B-Side",
          "B-Side",
          "B-Side",
          "B-Side",
          "B-Side",
          "B-Side",
          "B-Side",
          "B-Side",
          "B-Side",
          "B-Side",
          "B-Side",
          "B-Side",
          "B-Side",
          "B-Side",
          "B-Side",
          "B-Side",
          "B-Side",
          "B-Side",
          "B-Side",
          "B-Side",
          "B-Side",
          "B-Side",
          "B-Side",
          "B-Side",
          "B-Side",
          "B-Side",
          "B-Side",
          "B-Side",
          "B-Side",
          "B-Side",
          "B-Side",
          "B-Side",
          "B-Side",
          "B-Side",
          "B-Side",
          "B-Side",
          "B-Side",
          "B-Side",
          "B-Side",
          "B-Side",
          "B-Side",
          "B-Side",
          "B-Side",
          "B-Side",
          "B-Side",
          "B-Side",
          "B-Side",
          "B-Side",
          "B-Side",
          "B-Side",
          "B-Side",
          "B-Side",
          "B-Side",
          "B-Side",
          "B-Side",
          "B-Side",
          "B-Side",
          "B-Side",
          "B-Side",
          "B-Side",
          "B-Side",
          "B-Side",
          "B-Side",
          "B-Side",
          "B-Side",
          "B-Side",
          "B-Side",
          "B-Side",
          "B-Side",
          "B-Side",
          "B-Side",
          "B-Side",
          "B-Side",
          "B-Side",
          "B-Side",
          "B-Side",
          "B-Side",
          "B-Side",
          "B-Side",
          "B-Side",
          "B-Side",
          "B-Side",
          "B-Side",
          "B-Side",
          "B-Side",
          "B-Side",
          "B-Side",
          "B-Side",
          "B-Side",
          "B-Side",
          "B-Side",
          "B-Side",
          "B-Side",
          "B-Side",
          "B-Side",
          "B-Side",
          "B-Side",
          "B-Side",
          "B-Side",
          "B-Side",
          "B-Side",
          "B-Side",
          "B-Side",
          "B-Side",
          "B-Side",
          "B-Side",
          "B-Side",
          "B-Side",
          "B-Side",
          "B-Side",
          "B-Side",
          "B-Side",
          "B-Side",
          "B-Side",
          "B-Side",
          "B-Side",
          "B-Side",
          "B-Side",
          "B-Side",
          "B-Side",
          "B-Side",
          "B-Side",
          "B-Side",
          "B-Side",
          "B-Side",
          "B-Side",
          "B-Side",
          "B-Side",
          "B-Side",
          "B-Side",
          "B-Side",
          "B-Side",
          "B-Side",
          "B-Side",
          "B-Side",
          "B-Side",
          "B-Side",
          "B-Side",
          "B-Side",
          "B-Side",
          "B-Side",
          "B-Side",
          "B-Side",
          "B-Side",
          "B-Side",
          "B-Side",
          "B-Side",
          "B-Side",
          "B-Side",
          "B-Side",
          "B-Side",
          "B-Side",
          "B-Side",
          "B-Side",
          "B-Side",
          "B-Side",
          "B-Side",
          "B-Side",
          "B-Side",
          "B-Side",
          "B-Side",
          "B-Side",
          "B-Side",
          "B-Side",
          "B-Side",
          "B-Side",
          "B-Side",
          "B-Side",
          "B-Side",
          "B-Side",
          "B-Side",
          "B-Side",
          "B-Side",
          "B-Side",
          "B-Side",
          "B-Side",
          "B-Side",
          "B-Side",
          "B-Side",
          "B-Side",
          "B-Side",
          "B-Side",
          "B-Side",
          "B-Side",
          "B-Side",
          "B-Side",
          "B-Side",
          "B-Side",
          "B-Side",
          "B-Side",
          "B-Side",
          "B-Side",
          "B-Side",
          "B-Side",
          "B-Side",
          "B-Side",
          "B-Side",
          "B-Side",
          "B-Side",
          "B-Side",
          "B-Side",
          "B-Side",
          "B-Side",
          "B-Side",
          "B-Side",
          "B-Side",
          "B-Side",
          "B-Side",
          "B-Side",
          "B-Side",
          "B-Side",
          "B-Side",
          "B-Side",
          "B-Side",
          "B-Side",
          "B-Side",
          "B-Side",
          "B-Side",
          "B-Side",
          "B-Side",
          "B-Side",
          "B-Side",
          "B-Side",
          "B-Side",
          "B-Side",
          "B-Side",
          "B-Side",
          "B-Side",
          "B-Side",
          "B-Side",
          "B-Side",
          "B-Side",
          "B-Side",
          "B-Side",
          "B-Side",
          "B-Side",
          "B-Side",
          "B-Side",
          "B-Side",
          "B-Side",
          "B-Side",
          "B-Side",
          "B-Side",
          "B-Side",
          "B-Side",
          "B-Side",
          "B-Side",
          "B-Side",
          "B-Side",
          "B-Side",
          "B-Side",
          "B-Side",
          "B-Side",
          "B-Side",
          "B-Side",
          "B-Side",
          "B-Side",
          "B-Side",
          "B-Side",
          "B-Side",
          "B-Side",
          "B-Side",
          "B-Side",
          "B-Side",
          "B-Side",
          "B-Side",
          "B-Side",
          "B-Side",
          "B-Side",
          "B-Side",
          "B-Side",
          "B-Side",
          "B-Side",
          "B-Side",
          "B-Side",
          "B-Side",
          "B-Side",
          "B-Side",
          "B-Side",
          "B-Side",
          "B-Side",
          "B-Side",
          "B-Side",
          "B-Side",
          "B-Side",
          "B-Side",
          "B-Side",
          "B-Side",
          "B-Side",
          "B-Side",
          "B-Side",
          "B-Side",
          "B-Side",
          "B-Side",
          "B-Side",
          "B-Side",
          "B-Side",
          "B-Side",
          "B-Side",
          "B-Side",
          "B-Side",
          "B-Side",
          "B-Side",
          "B-Side",
          "B-Side",
          "B-Side",
          "B-Side",
          "B-Side",
          "B-Side"
         ],
         "xaxis": "x",
         "y": [
          "0",
          "0",
          "0",
          "0",
          "0",
          "0",
          "0",
          "0",
          "0",
          "0",
          "0",
          "0",
          "0",
          "0",
          "0",
          "0",
          "0",
          "0",
          "0",
          "0",
          "0",
          "0",
          "0",
          "0",
          "0",
          "0",
          "0",
          "0",
          "0",
          "2.853.000",
          "2.853.000",
          "2.853.000",
          "2.853.000",
          "2.853.000",
          "2.853.000",
          "2.853.000",
          "2.853.000",
          "2.853.000",
          "2.853.000",
          "2.853.000",
          "2.853.000",
          "2.853.000",
          "2.853.000",
          "0",
          "0",
          "0",
          "0",
          "0",
          "0",
          "0",
          "0",
          "0",
          "0",
          "0",
          "0",
          "0",
          "0",
          "0",
          "0",
          "0",
          "0",
          "0",
          "4.999.000",
          "4.999.000",
          "4.999.000",
          "4.999.000",
          "4.999.000",
          "4.999.000",
          "4.999.000",
          "4.999.000",
          "4.999.000",
          "4.999.000",
          "4.999.000",
          "4.999.000",
          "4.999.000",
          "4.999.000",
          "4.999.000",
          "4.999.000",
          "4.999.000",
          "4.999.000",
          "4.999.000",
          "908.000",
          "908.000",
          "908.000",
          "908.000",
          "908.000",
          "908.000",
          "908.000",
          "908.000",
          "908.000",
          "908.000",
          "908.000",
          "908.000",
          "908.000",
          "908.000",
          "908.000",
          "908.000",
          "908.000",
          "908.000",
          "908.000",
          "908.000",
          "908.000",
          "908.000",
          "282.000",
          "282.000",
          "282.000",
          "282.000",
          "282.000",
          "282.000",
          "282.000",
          "282.000",
          "282.000",
          "270.000",
          "270.000",
          "270.000",
          "270.000",
          "270.000",
          "270.000",
          "270.000",
          "270.000",
          "270.000",
          "3.049.000",
          "3.049.000",
          "3.049.000",
          "3.049.000",
          "3.049.000",
          "3.049.000",
          "3.049.000",
          "3.049.000",
          "3.049.000",
          "974.000",
          "974.000",
          "974.000",
          "974.000",
          "974.000",
          "974.000",
          "974.000",
          "974.000",
          "974.000",
          "974.000",
          "974.000",
          "974.000",
          "974.000",
          "974.000",
          "974.000",
          "974.000",
          "974.000",
          "974.000",
          "974.000",
          "974.000",
          "974.000",
          "974.000",
          "974.000",
          "974.000",
          "974.000",
          "974.000",
          "974.000",
          "755.000",
          "755.000",
          "755.000",
          "755.000",
          "755.000",
          "755.000",
          "755.000",
          "755.000",
          "755.000",
          "755.000",
          "755.000",
          "755.000",
          "755.000",
          "755.000",
          "755.000",
          "755.000",
          "755.000",
          "755.000",
          "755.000",
          "755.000",
          "755.000",
          "755.000",
          "755.000",
          "755.000",
          "755.000",
          "755.000",
          "0",
          "0",
          "0",
          "0",
          "0",
          "0",
          "0",
          "0",
          "0",
          "0",
          "0",
          "0",
          "944.000",
          "944.000",
          "944.000",
          "944.000",
          "944.000",
          "944.000",
          "944.000",
          "944.000",
          "944.000",
          "944.000",
          "944.000",
          "944.000",
          "75.000",
          "75.000",
          "75.000",
          "75.000",
          "75.000",
          "75.000",
          "75.000",
          "75.000",
          "75.000",
          "75.000",
          "75.000",
          "75.000",
          "75.000",
          "0",
          "0",
          "0",
          "0",
          "0",
          "0",
          "0",
          "0",
          "0",
          "0",
          "0",
          "0",
          "0",
          "2.352.000",
          "2.352.000",
          "2.352.000",
          "2.352.000",
          "2.352.000",
          "2.352.000",
          "2.352.000",
          "2.352.000",
          "2.352.000",
          "2.352.000",
          "2.352.000",
          "2.352.000",
          "2.352.000",
          "2.061.000",
          "2.061.000",
          "2.061.000",
          "2.061.000",
          "2.061.000",
          "2.061.000",
          "2.061.000",
          "2.061.000",
          "2.061.000",
          "2.061.000",
          "2.061.000",
          "2.061.000",
          "2.061.000",
          "2.478.000",
          "2.478.000",
          "2.478.000",
          "2.478.000",
          "2.478.000",
          "2.478.000",
          "2.478.000",
          "2.478.000",
          "2.478.000",
          "0",
          "0",
          "0",
          "0",
          "0",
          "0",
          "0",
          "0",
          "0",
          "0",
          "0",
          "0",
          "0",
          "0",
          "0",
          "0",
          "0",
          "0",
          "0",
          "0",
          "0",
          "0",
          "0",
          "0",
          "0",
          "0",
          "0",
          "555.000",
          "555.000",
          "555.000",
          "555.000",
          "555.000",
          "555.000",
          "555.000",
          "8.158.000",
          "8.158.000",
          "8.158.000",
          "8.158.000",
          "8.158.000",
          "8.158.000",
          "8.158.000",
          "650.000",
          "650.000",
          "650.000",
          "650.000",
          "650.000",
          "650.000",
          "650.000",
          "650.000",
          "650.000",
          "4.551.000",
          "4.551.000",
          "4.551.000",
          "4.551.000",
          "4.551.000",
          "4.551.000",
          "4.551.000",
          "4.551.000",
          "4.551.000",
          "855.000",
          "855.000",
          "855.000",
          "855.000",
          "855.000",
          "855.000",
          "855.000",
          "855.000",
          "855.000",
          "3.962.000",
          "3.962.000",
          "3.962.000",
          "3.962.000",
          "3.962.000",
          "3.962.000",
          "3.962.000",
          "3.962.000",
          "3.962.000",
          "1.150.000",
          "1.150.000",
          "1.150.000",
          "1.150.000",
          "1.150.000",
          "1.150.000",
          "1.150.000",
          "1.150.000",
          "6.636.000",
          "6.636.000",
          "6.636.000",
          "6.636.000",
          "6.636.000",
          "6.636.000",
          "6.636.000",
          "6.636.000",
          "5.871.000",
          "5.871.000",
          "5.871.000",
          "5.871.000",
          "5.871.000",
          "5.871.000",
          "5.871.000",
          "5.871.000",
          "5.871.000",
          "5.871.000"
         ],
         "yaxis": "y"
        },
        {
         "alignmentgroup": "True",
         "hovertemplate": "Track Type=%{x}<br>Album Physical Sales=%{y}<extra></extra>",
         "legendgroup": "Special Deluxe",
         "marker": {
          "color": "#00cc96",
          "pattern": {
           "shape": ""
          }
         },
         "name": "Special Deluxe",
         "offsetgroup": "Special Deluxe",
         "orientation": "v",
         "showlegend": true,
         "textposition": "auto",
         "type": "bar",
         "x": [
          "Special Deluxe",
          "Special Deluxe",
          "Special Deluxe",
          "Special Deluxe",
          "Special Deluxe",
          "Special Deluxe",
          "Special Deluxe",
          "Special Deluxe",
          "Special Deluxe",
          "Special Deluxe",
          "Special Deluxe",
          "Special Deluxe",
          "Special Deluxe",
          "Special Deluxe",
          "Special Deluxe",
          "Special Deluxe",
          "Special Deluxe",
          "Special Deluxe",
          "Special Deluxe",
          "Special Deluxe",
          "Special Deluxe",
          "Special Deluxe",
          "Special Deluxe",
          "Special Deluxe",
          "Special Deluxe",
          "Special Deluxe",
          "Special Deluxe",
          "Special Deluxe",
          "Special Deluxe",
          "Special Deluxe",
          "Special Deluxe",
          "Special Deluxe",
          "Special Deluxe",
          "Special Deluxe",
          "Special Deluxe",
          "Special Deluxe",
          "Special Deluxe",
          "Special Deluxe"
         ],
         "xaxis": "x",
         "y": [
          "0",
          "270.000",
          "270.000",
          "270.000",
          "270.000",
          "270.000",
          "270.000",
          "270.000",
          "270.000",
          "270.000",
          "270.000",
          "270.000",
          "270.000",
          "270.000",
          "270.000",
          "270.000",
          "270.000",
          "0",
          "0",
          "75.000",
          "0",
          "0",
          "555.000",
          "555.000",
          "555.000",
          "650.000",
          "650.000",
          "650.000",
          "650.000",
          "855.000",
          "855.000",
          "855.000",
          "1.150.000",
          "1.150.000",
          "1.150.000",
          "1.150.000",
          "1.150.000",
          "1.150.000"
         ],
         "yaxis": "y"
        },
        {
         "alignmentgroup": "True",
         "hovertemplate": "Track Type=%{x}<br>Album Physical Sales=%{y}<extra></extra>",
         "legendgroup": "Acoustic Version",
         "marker": {
          "color": "#ab63fa",
          "pattern": {
           "shape": ""
          }
         },
         "name": "Acoustic Version",
         "offsetgroup": "Acoustic Version",
         "orientation": "v",
         "showlegend": true,
         "textposition": "auto",
         "type": "bar",
         "x": [
          "Acoustic Version",
          "Acoustic Version",
          "Acoustic Version",
          "Acoustic Version"
         ],
         "xaxis": "x",
         "y": [
          "974.000",
          "650.000",
          "855.000",
          "855.000"
         ],
         "yaxis": "y"
        },
        {
         "alignmentgroup": "True",
         "hovertemplate": "Track Type=%{x}<br>Album Physical Sales=%{y}<extra></extra>",
         "legendgroup": "Live",
         "marker": {
          "color": "#FFA15A",
          "pattern": {
           "shape": ""
          }
         },
         "name": "Live",
         "offsetgroup": "Live",
         "orientation": "v",
         "showlegend": true,
         "textposition": "auto",
         "type": "bar",
         "x": [
          "Live",
          "Live",
          "Live",
          "Live",
          "Live",
          "Live",
          "Live",
          "Live",
          "Live",
          "Live",
          "Live",
          "Live",
          "Live",
          "Live",
          "Live",
          "Live",
          "Live",
          "Live",
          "Live",
          "Live",
          "Live",
          "Live",
          "Live",
          "Live",
          "Live",
          "Live",
          "Live",
          "Live",
          "Live",
          "Live",
          "Live",
          "Live",
          "Live",
          "Live",
          "Live",
          "Live",
          "Live",
          "Live",
          "Live",
          "Live",
          "Live"
         ],
         "xaxis": "x",
         "y": [
          "75.000",
          "75.000",
          "75.000",
          "75.000",
          "75.000",
          "75.000",
          "75.000",
          "75.000",
          "75.000",
          "75.000",
          "75.000",
          "75.000",
          "75.000",
          "75.000",
          "75.000",
          "75.000",
          "75.000",
          "376.000",
          "376.000",
          "376.000",
          "376.000",
          "376.000",
          "376.000",
          "376.000",
          "376.000",
          "376.000",
          "376.000",
          "376.000",
          "376.000",
          "376.000",
          "376.000",
          "376.000",
          "376.000",
          "0",
          "0",
          "0",
          "0",
          "0",
          "0",
          "0",
          "0"
         ],
         "yaxis": "y"
        },
        {
         "alignmentgroup": "True",
         "hovertemplate": "Track Type=%{x}<br>Album Physical Sales=%{y}<extra></extra>",
         "legendgroup": "Soundtrack",
         "marker": {
          "color": "#19d3f3",
          "pattern": {
           "shape": ""
          }
         },
         "name": "Soundtrack",
         "offsetgroup": "Soundtrack",
         "orientation": "v",
         "showlegend": true,
         "textposition": "auto",
         "type": "bar",
         "x": [
          "Soundtrack"
         ],
         "xaxis": "x",
         "y": [
          "0"
         ],
         "yaxis": "y"
        },
        {
         "alignmentgroup": "True",
         "hovertemplate": "Track Type=%{x}<br>Album Physical Sales=%{y}<extra></extra>",
         "legendgroup": "Voice Memo",
         "marker": {
          "color": "#FF6692",
          "pattern": {
           "shape": ""
          }
         },
         "name": "Voice Memo",
         "offsetgroup": "Voice Memo",
         "orientation": "v",
         "showlegend": true,
         "textposition": "auto",
         "type": "bar",
         "x": [
          "Voice Memo",
          "Voice Memo",
          "Voice Memo",
          "Voice Memo"
         ],
         "xaxis": "x",
         "y": [
          "555.000",
          "555.000",
          "555.000",
          "650.000"
         ],
         "yaxis": "y"
        },
        {
         "alignmentgroup": "True",
         "hovertemplate": "Track Type=%{x}<br>Album Physical Sales=%{y}<extra></extra>",
         "legendgroup": "Remix",
         "marker": {
          "color": "#B6E880",
          "pattern": {
           "shape": ""
          }
         },
         "name": "Remix",
         "offsetgroup": "Remix",
         "orientation": "v",
         "showlegend": true,
         "textposition": "auto",
         "type": "bar",
         "x": [
          "Remix",
          "Remix"
         ],
         "xaxis": "x",
         "y": [
          "855.000",
          "5.871.000"
         ],
         "yaxis": "y"
        }
       ],
       "layout": {
        "barmode": "relative",
        "legend": {
         "title": {
          "text": "Track Type"
         },
         "tracegroupgap": 0
        },
        "template": {
         "data": {
          "bar": [
           {
            "error_x": {
             "color": "#2a3f5f"
            },
            "error_y": {
             "color": "#2a3f5f"
            },
            "marker": {
             "line": {
              "color": "#E5ECF6",
              "width": 0.5
             },
             "pattern": {
              "fillmode": "overlay",
              "size": 10,
              "solidity": 0.2
             }
            },
            "type": "bar"
           }
          ],
          "barpolar": [
           {
            "marker": {
             "line": {
              "color": "#E5ECF6",
              "width": 0.5
             },
             "pattern": {
              "fillmode": "overlay",
              "size": 10,
              "solidity": 0.2
             }
            },
            "type": "barpolar"
           }
          ],
          "carpet": [
           {
            "aaxis": {
             "endlinecolor": "#2a3f5f",
             "gridcolor": "white",
             "linecolor": "white",
             "minorgridcolor": "white",
             "startlinecolor": "#2a3f5f"
            },
            "baxis": {
             "endlinecolor": "#2a3f5f",
             "gridcolor": "white",
             "linecolor": "white",
             "minorgridcolor": "white",
             "startlinecolor": "#2a3f5f"
            },
            "type": "carpet"
           }
          ],
          "choropleth": [
           {
            "colorbar": {
             "outlinewidth": 0,
             "ticks": ""
            },
            "type": "choropleth"
           }
          ],
          "contour": [
           {
            "colorbar": {
             "outlinewidth": 0,
             "ticks": ""
            },
            "colorscale": [
             [
              0,
              "#0d0887"
             ],
             [
              0.1111111111111111,
              "#46039f"
             ],
             [
              0.2222222222222222,
              "#7201a8"
             ],
             [
              0.3333333333333333,
              "#9c179e"
             ],
             [
              0.4444444444444444,
              "#bd3786"
             ],
             [
              0.5555555555555556,
              "#d8576b"
             ],
             [
              0.6666666666666666,
              "#ed7953"
             ],
             [
              0.7777777777777778,
              "#fb9f3a"
             ],
             [
              0.8888888888888888,
              "#fdca26"
             ],
             [
              1,
              "#f0f921"
             ]
            ],
            "type": "contour"
           }
          ],
          "contourcarpet": [
           {
            "colorbar": {
             "outlinewidth": 0,
             "ticks": ""
            },
            "type": "contourcarpet"
           }
          ],
          "heatmap": [
           {
            "colorbar": {
             "outlinewidth": 0,
             "ticks": ""
            },
            "colorscale": [
             [
              0,
              "#0d0887"
             ],
             [
              0.1111111111111111,
              "#46039f"
             ],
             [
              0.2222222222222222,
              "#7201a8"
             ],
             [
              0.3333333333333333,
              "#9c179e"
             ],
             [
              0.4444444444444444,
              "#bd3786"
             ],
             [
              0.5555555555555556,
              "#d8576b"
             ],
             [
              0.6666666666666666,
              "#ed7953"
             ],
             [
              0.7777777777777778,
              "#fb9f3a"
             ],
             [
              0.8888888888888888,
              "#fdca26"
             ],
             [
              1,
              "#f0f921"
             ]
            ],
            "type": "heatmap"
           }
          ],
          "heatmapgl": [
           {
            "colorbar": {
             "outlinewidth": 0,
             "ticks": ""
            },
            "colorscale": [
             [
              0,
              "#0d0887"
             ],
             [
              0.1111111111111111,
              "#46039f"
             ],
             [
              0.2222222222222222,
              "#7201a8"
             ],
             [
              0.3333333333333333,
              "#9c179e"
             ],
             [
              0.4444444444444444,
              "#bd3786"
             ],
             [
              0.5555555555555556,
              "#d8576b"
             ],
             [
              0.6666666666666666,
              "#ed7953"
             ],
             [
              0.7777777777777778,
              "#fb9f3a"
             ],
             [
              0.8888888888888888,
              "#fdca26"
             ],
             [
              1,
              "#f0f921"
             ]
            ],
            "type": "heatmapgl"
           }
          ],
          "histogram": [
           {
            "marker": {
             "pattern": {
              "fillmode": "overlay",
              "size": 10,
              "solidity": 0.2
             }
            },
            "type": "histogram"
           }
          ],
          "histogram2d": [
           {
            "colorbar": {
             "outlinewidth": 0,
             "ticks": ""
            },
            "colorscale": [
             [
              0,
              "#0d0887"
             ],
             [
              0.1111111111111111,
              "#46039f"
             ],
             [
              0.2222222222222222,
              "#7201a8"
             ],
             [
              0.3333333333333333,
              "#9c179e"
             ],
             [
              0.4444444444444444,
              "#bd3786"
             ],
             [
              0.5555555555555556,
              "#d8576b"
             ],
             [
              0.6666666666666666,
              "#ed7953"
             ],
             [
              0.7777777777777778,
              "#fb9f3a"
             ],
             [
              0.8888888888888888,
              "#fdca26"
             ],
             [
              1,
              "#f0f921"
             ]
            ],
            "type": "histogram2d"
           }
          ],
          "histogram2dcontour": [
           {
            "colorbar": {
             "outlinewidth": 0,
             "ticks": ""
            },
            "colorscale": [
             [
              0,
              "#0d0887"
             ],
             [
              0.1111111111111111,
              "#46039f"
             ],
             [
              0.2222222222222222,
              "#7201a8"
             ],
             [
              0.3333333333333333,
              "#9c179e"
             ],
             [
              0.4444444444444444,
              "#bd3786"
             ],
             [
              0.5555555555555556,
              "#d8576b"
             ],
             [
              0.6666666666666666,
              "#ed7953"
             ],
             [
              0.7777777777777778,
              "#fb9f3a"
             ],
             [
              0.8888888888888888,
              "#fdca26"
             ],
             [
              1,
              "#f0f921"
             ]
            ],
            "type": "histogram2dcontour"
           }
          ],
          "mesh3d": [
           {
            "colorbar": {
             "outlinewidth": 0,
             "ticks": ""
            },
            "type": "mesh3d"
           }
          ],
          "parcoords": [
           {
            "line": {
             "colorbar": {
              "outlinewidth": 0,
              "ticks": ""
             }
            },
            "type": "parcoords"
           }
          ],
          "pie": [
           {
            "automargin": true,
            "type": "pie"
           }
          ],
          "scatter": [
           {
            "fillpattern": {
             "fillmode": "overlay",
             "size": 10,
             "solidity": 0.2
            },
            "type": "scatter"
           }
          ],
          "scatter3d": [
           {
            "line": {
             "colorbar": {
              "outlinewidth": 0,
              "ticks": ""
             }
            },
            "marker": {
             "colorbar": {
              "outlinewidth": 0,
              "ticks": ""
             }
            },
            "type": "scatter3d"
           }
          ],
          "scattercarpet": [
           {
            "marker": {
             "colorbar": {
              "outlinewidth": 0,
              "ticks": ""
             }
            },
            "type": "scattercarpet"
           }
          ],
          "scattergeo": [
           {
            "marker": {
             "colorbar": {
              "outlinewidth": 0,
              "ticks": ""
             }
            },
            "type": "scattergeo"
           }
          ],
          "scattergl": [
           {
            "marker": {
             "colorbar": {
              "outlinewidth": 0,
              "ticks": ""
             }
            },
            "type": "scattergl"
           }
          ],
          "scattermapbox": [
           {
            "marker": {
             "colorbar": {
              "outlinewidth": 0,
              "ticks": ""
             }
            },
            "type": "scattermapbox"
           }
          ],
          "scatterpolar": [
           {
            "marker": {
             "colorbar": {
              "outlinewidth": 0,
              "ticks": ""
             }
            },
            "type": "scatterpolar"
           }
          ],
          "scatterpolargl": [
           {
            "marker": {
             "colorbar": {
              "outlinewidth": 0,
              "ticks": ""
             }
            },
            "type": "scatterpolargl"
           }
          ],
          "scatterternary": [
           {
            "marker": {
             "colorbar": {
              "outlinewidth": 0,
              "ticks": ""
             }
            },
            "type": "scatterternary"
           }
          ],
          "surface": [
           {
            "colorbar": {
             "outlinewidth": 0,
             "ticks": ""
            },
            "colorscale": [
             [
              0,
              "#0d0887"
             ],
             [
              0.1111111111111111,
              "#46039f"
             ],
             [
              0.2222222222222222,
              "#7201a8"
             ],
             [
              0.3333333333333333,
              "#9c179e"
             ],
             [
              0.4444444444444444,
              "#bd3786"
             ],
             [
              0.5555555555555556,
              "#d8576b"
             ],
             [
              0.6666666666666666,
              "#ed7953"
             ],
             [
              0.7777777777777778,
              "#fb9f3a"
             ],
             [
              0.8888888888888888,
              "#fdca26"
             ],
             [
              1,
              "#f0f921"
             ]
            ],
            "type": "surface"
           }
          ],
          "table": [
           {
            "cells": {
             "fill": {
              "color": "#EBF0F8"
             },
             "line": {
              "color": "white"
             }
            },
            "header": {
             "fill": {
              "color": "#C8D4E3"
             },
             "line": {
              "color": "white"
             }
            },
            "type": "table"
           }
          ]
         },
         "layout": {
          "annotationdefaults": {
           "arrowcolor": "#2a3f5f",
           "arrowhead": 0,
           "arrowwidth": 1
          },
          "autotypenumbers": "strict",
          "coloraxis": {
           "colorbar": {
            "outlinewidth": 0,
            "ticks": ""
           }
          },
          "colorscale": {
           "diverging": [
            [
             0,
             "#8e0152"
            ],
            [
             0.1,
             "#c51b7d"
            ],
            [
             0.2,
             "#de77ae"
            ],
            [
             0.3,
             "#f1b6da"
            ],
            [
             0.4,
             "#fde0ef"
            ],
            [
             0.5,
             "#f7f7f7"
            ],
            [
             0.6,
             "#e6f5d0"
            ],
            [
             0.7,
             "#b8e186"
            ],
            [
             0.8,
             "#7fbc41"
            ],
            [
             0.9,
             "#4d9221"
            ],
            [
             1,
             "#276419"
            ]
           ],
           "sequential": [
            [
             0,
             "#0d0887"
            ],
            [
             0.1111111111111111,
             "#46039f"
            ],
            [
             0.2222222222222222,
             "#7201a8"
            ],
            [
             0.3333333333333333,
             "#9c179e"
            ],
            [
             0.4444444444444444,
             "#bd3786"
            ],
            [
             0.5555555555555556,
             "#d8576b"
            ],
            [
             0.6666666666666666,
             "#ed7953"
            ],
            [
             0.7777777777777778,
             "#fb9f3a"
            ],
            [
             0.8888888888888888,
             "#fdca26"
            ],
            [
             1,
             "#f0f921"
            ]
           ],
           "sequentialminus": [
            [
             0,
             "#0d0887"
            ],
            [
             0.1111111111111111,
             "#46039f"
            ],
            [
             0.2222222222222222,
             "#7201a8"
            ],
            [
             0.3333333333333333,
             "#9c179e"
            ],
            [
             0.4444444444444444,
             "#bd3786"
            ],
            [
             0.5555555555555556,
             "#d8576b"
            ],
            [
             0.6666666666666666,
             "#ed7953"
            ],
            [
             0.7777777777777778,
             "#fb9f3a"
            ],
            [
             0.8888888888888888,
             "#fdca26"
            ],
            [
             1,
             "#f0f921"
            ]
           ]
          },
          "colorway": [
           "#636efa",
           "#EF553B",
           "#00cc96",
           "#ab63fa",
           "#FFA15A",
           "#19d3f3",
           "#FF6692",
           "#B6E880",
           "#FF97FF",
           "#FECB52"
          ],
          "font": {
           "color": "#2a3f5f"
          },
          "geo": {
           "bgcolor": "white",
           "lakecolor": "white",
           "landcolor": "#E5ECF6",
           "showlakes": true,
           "showland": true,
           "subunitcolor": "white"
          },
          "hoverlabel": {
           "align": "left"
          },
          "hovermode": "closest",
          "mapbox": {
           "style": "light"
          },
          "paper_bgcolor": "white",
          "plot_bgcolor": "#E5ECF6",
          "polar": {
           "angularaxis": {
            "gridcolor": "white",
            "linecolor": "white",
            "ticks": ""
           },
           "bgcolor": "#E5ECF6",
           "radialaxis": {
            "gridcolor": "white",
            "linecolor": "white",
            "ticks": ""
           }
          },
          "scene": {
           "xaxis": {
            "backgroundcolor": "#E5ECF6",
            "gridcolor": "white",
            "gridwidth": 2,
            "linecolor": "white",
            "showbackground": true,
            "ticks": "",
            "zerolinecolor": "white"
           },
           "yaxis": {
            "backgroundcolor": "#E5ECF6",
            "gridcolor": "white",
            "gridwidth": 2,
            "linecolor": "white",
            "showbackground": true,
            "ticks": "",
            "zerolinecolor": "white"
           },
           "zaxis": {
            "backgroundcolor": "#E5ECF6",
            "gridcolor": "white",
            "gridwidth": 2,
            "linecolor": "white",
            "showbackground": true,
            "ticks": "",
            "zerolinecolor": "white"
           }
          },
          "shapedefaults": {
           "line": {
            "color": "#2a3f5f"
           }
          },
          "ternary": {
           "aaxis": {
            "gridcolor": "white",
            "linecolor": "white",
            "ticks": ""
           },
           "baxis": {
            "gridcolor": "white",
            "linecolor": "white",
            "ticks": ""
           },
           "bgcolor": "#E5ECF6",
           "caxis": {
            "gridcolor": "white",
            "linecolor": "white",
            "ticks": ""
           }
          },
          "title": {
           "x": 0.05
          },
          "xaxis": {
           "automargin": true,
           "gridcolor": "white",
           "linecolor": "white",
           "ticks": "",
           "title": {
            "standoff": 15
           },
           "zerolinecolor": "white",
           "zerolinewidth": 2
          },
          "yaxis": {
           "automargin": true,
           "gridcolor": "white",
           "linecolor": "white",
           "ticks": "",
           "title": {
            "standoff": 15
           },
           "zerolinecolor": "white",
           "zerolinewidth": 2
          }
         }
        },
        "title": {
         "text": "Album Physical Sales by Track Type"
        },
        "xaxis": {
         "anchor": "y",
         "categoryarray": [
          "Single",
          "B-Side",
          "Special Deluxe",
          "Acoustic Version",
          "Live",
          "Soundtrack",
          "Voice Memo",
          "Remix"
         ],
         "categoryorder": "array",
         "domain": [
          0,
          1
         ],
         "title": {
          "text": "Track Type"
         }
        },
        "yaxis": {
         "anchor": "x",
         "domain": [
          0,
          1
         ],
         "title": {
          "text": "Album Physical Sales"
         }
        }
       }
      }
     },
     "metadata": {},
     "output_type": "display_data"
    }
   ],
   "source": [
    "# Bar plot for album physical sales by track type\n",
    "fig_sales_by_track_type = px.bar(df, x='track_type', y='album_physical_sales', color='track_type', \n",
    "                                 title='Album Physical Sales by Track Type',\n",
    "                                 labels={'album_physical_sales': 'Album Physical Sales', 'track_type': 'Track Type'})\n",
    "fig_sales_by_track_type.show()"
   ]
  },
  {
   "cell_type": "markdown",
   "metadata": {},
   "source": [
    "What are the average acousticness levels of tracks per album?"
   ]
  },
  {
   "cell_type": "code",
   "execution_count": 54,
   "metadata": {},
   "outputs": [
    {
     "data": {
      "application/vnd.plotly.v1+json": {
       "config": {
        "plotlyServerURL": "https://plot.ly"
       },
       "data": [
        {
         "alignmentgroup": "True",
         "hovertemplate": "Album=%{x}<br>Average Acousticness=%{y}<extra></extra>",
         "legendgroup": "1989",
         "marker": {
          "color": "#636efa",
          "pattern": {
           "shape": ""
          }
         },
         "name": "1989",
         "offsetgroup": "1989",
         "orientation": "v",
         "showlegend": true,
         "textposition": "auto",
         "type": "bar",
         "x": [
          "1989"
         ],
         "xaxis": "x",
         "y": [
          0.11304076923076924
         ],
         "yaxis": "y"
        },
        {
         "alignmentgroup": "True",
         "hovertemplate": "Album=%{x}<br>Average Acousticness=%{y}<extra></extra>",
         "legendgroup": "1989 (Deluxe Edition)",
         "marker": {
          "color": "#EF553B",
          "pattern": {
           "shape": ""
          }
         },
         "name": "1989 (Deluxe Edition)",
         "offsetgroup": "1989 (Deluxe Edition)",
         "orientation": "v",
         "showlegend": true,
         "textposition": "auto",
         "type": "bar",
         "x": [
          "1989 (Deluxe Edition)"
         ],
         "xaxis": "x",
         "y": [
          0.24461963157894737
         ],
         "yaxis": "y"
        },
        {
         "alignmentgroup": "True",
         "hovertemplate": "Album=%{x}<br>Average Acousticness=%{y}<extra></extra>",
         "legendgroup": "1989 (Taylor's Version)",
         "marker": {
          "color": "#00cc96",
          "pattern": {
           "shape": ""
          }
         },
         "name": "1989 (Taylor's Version)",
         "offsetgroup": "1989 (Taylor's Version)",
         "orientation": "v",
         "showlegend": true,
         "textposition": "auto",
         "type": "bar",
         "x": [
          "1989 (Taylor's Version)"
         ],
         "xaxis": "x",
         "y": [
          0.11126419047619047
         ],
         "yaxis": "y"
        },
        {
         "alignmentgroup": "True",
         "hovertemplate": "Album=%{x}<br>Average Acousticness=%{y}<extra></extra>",
         "legendgroup": "1989 (Taylor's Version) [Deluxe]",
         "marker": {
          "color": "#ab63fa",
          "pattern": {
           "shape": ""
          }
         },
         "name": "1989 (Taylor's Version) [Deluxe]",
         "offsetgroup": "1989 (Taylor's Version) [Deluxe]",
         "orientation": "v",
         "showlegend": true,
         "textposition": "auto",
         "type": "bar",
         "x": [
          "1989 (Taylor's Version) [Deluxe]"
         ],
         "xaxis": "x",
         "y": [
          0.10376109090909091
         ],
         "yaxis": "y"
        },
        {
         "alignmentgroup": "True",
         "hovertemplate": "Album=%{x}<br>Average Acousticness=%{y}<extra></extra>",
         "legendgroup": "Fearless",
         "marker": {
          "color": "#FFA15A",
          "pattern": {
           "shape": ""
          }
         },
         "name": "Fearless",
         "offsetgroup": "Fearless",
         "orientation": "v",
         "showlegend": true,
         "textposition": "auto",
         "type": "bar",
         "x": [
          "Fearless"
         ],
         "xaxis": "x",
         "y": [
          0.1759369230769231
         ],
         "yaxis": "y"
        },
        {
         "alignmentgroup": "True",
         "hovertemplate": "Album=%{x}<br>Average Acousticness=%{y}<extra></extra>",
         "legendgroup": "Fearless (Taylor's Version)",
         "marker": {
          "color": "#19d3f3",
          "pattern": {
           "shape": ""
          }
         },
         "name": "Fearless (Taylor's Version)",
         "offsetgroup": "Fearless (Taylor's Version)",
         "orientation": "v",
         "showlegend": true,
         "textposition": "auto",
         "type": "bar",
         "x": [
          "Fearless (Taylor's Version)"
         ],
         "xaxis": "x",
         "y": [
          0.2140611923076923
         ],
         "yaxis": "y"
        },
        {
         "alignmentgroup": "True",
         "hovertemplate": "Album=%{x}<br>Average Acousticness=%{y}<extra></extra>",
         "legendgroup": "Fearless Platinum Edition",
         "marker": {
          "color": "#FF6692",
          "pattern": {
           "shape": ""
          }
         },
         "name": "Fearless Platinum Edition",
         "offsetgroup": "Fearless Platinum Edition",
         "orientation": "v",
         "showlegend": true,
         "textposition": "auto",
         "type": "bar",
         "x": [
          "Fearless Platinum Edition"
         ],
         "xaxis": "x",
         "y": [
          0.2024478947368421
         ],
         "yaxis": "y"
        },
        {
         "alignmentgroup": "True",
         "hovertemplate": "Album=%{x}<br>Average Acousticness=%{y}<extra></extra>",
         "legendgroup": "Live From Clear Channel Stripped 2008",
         "marker": {
          "color": "#B6E880",
          "pattern": {
           "shape": ""
          }
         },
         "name": "Live From Clear Channel Stripped 2008",
         "offsetgroup": "Live From Clear Channel Stripped 2008",
         "orientation": "v",
         "showlegend": true,
         "textposition": "auto",
         "type": "bar",
         "x": [
          "Live From Clear Channel Stripped 2008"
         ],
         "xaxis": "x",
         "y": [
          0.55125
         ],
         "yaxis": "y"
        },
        {
         "alignmentgroup": "True",
         "hovertemplate": "Album=%{x}<br>Average Acousticness=%{y}<extra></extra>",
         "legendgroup": "Lover",
         "marker": {
          "color": "#FF97FF",
          "pattern": {
           "shape": ""
          }
         },
         "name": "Lover",
         "offsetgroup": "Lover",
         "orientation": "v",
         "showlegend": true,
         "textposition": "auto",
         "type": "bar",
         "x": [
          "Lover"
         ],
         "xaxis": "x",
         "y": [
          0.33374333333333334
         ],
         "yaxis": "y"
        },
        {
         "alignmentgroup": "True",
         "hovertemplate": "Album=%{x}<br>Average Acousticness=%{y}<extra></extra>",
         "legendgroup": "Midnights",
         "marker": {
          "color": "#FECB52",
          "pattern": {
           "shape": ""
          }
         },
         "name": "Midnights",
         "offsetgroup": "Midnights",
         "orientation": "v",
         "showlegend": true,
         "textposition": "auto",
         "type": "bar",
         "x": [
          "Midnights"
         ],
         "xaxis": "x",
         "y": [
          0.3874230769230769
         ],
         "yaxis": "y"
        },
        {
         "alignmentgroup": "True",
         "hovertemplate": "Album=%{x}<br>Average Acousticness=%{y}<extra></extra>",
         "legendgroup": "Midnights (3am Edition)",
         "marker": {
          "color": "#636efa",
          "pattern": {
           "shape": ""
          }
         },
         "name": "Midnights (3am Edition)",
         "offsetgroup": "Midnights (3am Edition)",
         "orientation": "v",
         "showlegend": true,
         "textposition": "auto",
         "type": "bar",
         "x": [
          "Midnights (3am Edition)"
         ],
         "xaxis": "x",
         "y": [
          0.41322000000000003
         ],
         "yaxis": "y"
        },
        {
         "alignmentgroup": "True",
         "hovertemplate": "Album=%{x}<br>Average Acousticness=%{y}<extra></extra>",
         "legendgroup": "Midnights (The Til Dawn Edition)",
         "marker": {
          "color": "#EF553B",
          "pattern": {
           "shape": ""
          }
         },
         "name": "Midnights (The Til Dawn Edition)",
         "offsetgroup": "Midnights (The Til Dawn Edition)",
         "orientation": "v",
         "showlegend": true,
         "textposition": "auto",
         "type": "bar",
         "x": [
          "Midnights (The Til Dawn Edition)"
         ],
         "xaxis": "x",
         "y": [
          0.4006173913043478
         ],
         "yaxis": "y"
        },
        {
         "alignmentgroup": "True",
         "hovertemplate": "Album=%{x}<br>Average Acousticness=%{y}<extra></extra>",
         "legendgroup": "Red",
         "marker": {
          "color": "#00cc96",
          "pattern": {
           "shape": ""
          }
         },
         "name": "Red",
         "offsetgroup": "Red",
         "orientation": "v",
         "showlegend": true,
         "textposition": "auto",
         "type": "bar",
         "x": [
          "Red"
         ],
         "xaxis": "x",
         "y": [
          0.1161160625
         ],
         "yaxis": "y"
        },
        {
         "alignmentgroup": "True",
         "hovertemplate": "Album=%{x}<br>Average Acousticness=%{y}<extra></extra>",
         "legendgroup": "Red (Deluxe Edition)",
         "marker": {
          "color": "#ab63fa",
          "pattern": {
           "shape": ""
          }
         },
         "name": "Red (Deluxe Edition)",
         "offsetgroup": "Red (Deluxe Edition)",
         "orientation": "v",
         "showlegend": true,
         "textposition": "auto",
         "type": "bar",
         "x": [
          "Red (Deluxe Edition)"
         ],
         "xaxis": "x",
         "y": [
          0.1487985
         ],
         "yaxis": "y"
        },
        {
         "alignmentgroup": "True",
         "hovertemplate": "Album=%{x}<br>Average Acousticness=%{y}<extra></extra>",
         "legendgroup": "Red (Taylor's Version)",
         "marker": {
          "color": "#FFA15A",
          "pattern": {
           "shape": ""
          }
         },
         "name": "Red (Taylor's Version)",
         "offsetgroup": "Red (Taylor's Version)",
         "orientation": "v",
         "showlegend": true,
         "textposition": "auto",
         "type": "bar",
         "x": [
          "Red (Taylor's Version)"
         ],
         "xaxis": "x",
         "y": [
          0.1768657
         ],
         "yaxis": "y"
        },
        {
         "alignmentgroup": "True",
         "hovertemplate": "Album=%{x}<br>Average Acousticness=%{y}<extra></extra>",
         "legendgroup": "Speak Now",
         "marker": {
          "color": "#19d3f3",
          "pattern": {
           "shape": ""
          }
         },
         "name": "Speak Now",
         "offsetgroup": "Speak Now",
         "orientation": "v",
         "showlegend": true,
         "textposition": "auto",
         "type": "bar",
         "x": [
          "Speak Now"
         ],
         "xaxis": "x",
         "y": [
          0.1898878571428571
         ],
         "yaxis": "y"
        },
        {
         "alignmentgroup": "True",
         "hovertemplate": "Album=%{x}<br>Average Acousticness=%{y}<extra></extra>",
         "legendgroup": "Speak Now (Deluxe Edition)",
         "marker": {
          "color": "#FF6692",
          "pattern": {
           "shape": ""
          }
         },
         "name": "Speak Now (Deluxe Edition)",
         "offsetgroup": "Speak Now (Deluxe Edition)",
         "orientation": "v",
         "showlegend": true,
         "textposition": "auto",
         "type": "bar",
         "x": [
          "Speak Now (Deluxe Edition)"
         ],
         "xaxis": "x",
         "y": [
          0.249275
         ],
         "yaxis": "y"
        },
        {
         "alignmentgroup": "True",
         "hovertemplate": "Album=%{x}<br>Average Acousticness=%{y}<extra></extra>",
         "legendgroup": "Speak Now (Taylor's Version)",
         "marker": {
          "color": "#B6E880",
          "pattern": {
           "shape": ""
          }
         },
         "name": "Speak Now (Taylor's Version)",
         "offsetgroup": "Speak Now (Taylor's Version)",
         "orientation": "v",
         "showlegend": true,
         "textposition": "auto",
         "type": "bar",
         "x": [
          "Speak Now (Taylor's Version)"
         ],
         "xaxis": "x",
         "y": [
          0.1825511818181818
         ],
         "yaxis": "y"
        },
        {
         "alignmentgroup": "True",
         "hovertemplate": "Album=%{x}<br>Average Acousticness=%{y}<extra></extra>",
         "legendgroup": "Speak Now World Tour Live",
         "marker": {
          "color": "#FF97FF",
          "pattern": {
           "shape": ""
          }
         },
         "name": "Speak Now World Tour Live",
         "offsetgroup": "Speak Now World Tour Live",
         "orientation": "v",
         "showlegend": true,
         "textposition": "auto",
         "type": "bar",
         "x": [
          "Speak Now World Tour Live"
         ],
         "xaxis": "x",
         "y": [
          0.2338025
         ],
         "yaxis": "y"
        },
        {
         "alignmentgroup": "True",
         "hovertemplate": "Album=%{x}<br>Average Acousticness=%{y}<extra></extra>",
         "legendgroup": "Taylor Swift",
         "marker": {
          "color": "#FECB52",
          "pattern": {
           "shape": ""
          }
         },
         "name": "Taylor Swift",
         "offsetgroup": "Taylor Swift",
         "orientation": "v",
         "showlegend": true,
         "textposition": "auto",
         "type": "bar",
         "x": [
          "Taylor Swift"
         ],
         "xaxis": "x",
         "y": [
          0.18299466666666667
         ],
         "yaxis": "y"
        },
        {
         "alignmentgroup": "True",
         "hovertemplate": "Album=%{x}<br>Average Acousticness=%{y}<extra></extra>",
         "legendgroup": "The Tortured Poets Department",
         "marker": {
          "color": "#636efa",
          "pattern": {
           "shape": ""
          }
         },
         "name": "The Tortured Poets Department",
         "offsetgroup": "The Tortured Poets Department",
         "orientation": "v",
         "showlegend": true,
         "textposition": "auto",
         "type": "bar",
         "x": [
          "The Tortured Poets Department"
         ],
         "xaxis": "x",
         "y": [
          0.46326875
         ],
         "yaxis": "y"
        },
        {
         "alignmentgroup": "True",
         "hovertemplate": "Album=%{x}<br>Average Acousticness=%{y}<extra></extra>",
         "legendgroup": "The Tortured Poets Department: The Anthology",
         "marker": {
          "color": "#EF553B",
          "pattern": {
           "shape": ""
          }
         },
         "name": "The Tortured Poets Department: The Anthology",
         "offsetgroup": "The Tortured Poets Department: The Anthology",
         "orientation": "v",
         "showlegend": true,
         "textposition": "auto",
         "type": "bar",
         "x": [
          "The Tortured Poets Department: The Anthology"
         ],
         "xaxis": "x",
         "y": [
          0.5727967741935484
         ],
         "yaxis": "y"
        },
        {
         "alignmentgroup": "True",
         "hovertemplate": "Album=%{x}<br>Average Acousticness=%{y}<extra></extra>",
         "legendgroup": "evermore",
         "marker": {
          "color": "#00cc96",
          "pattern": {
           "shape": ""
          }
         },
         "name": "evermore",
         "offsetgroup": "evermore",
         "orientation": "v",
         "showlegend": true,
         "textposition": "auto",
         "type": "bar",
         "x": [
          "evermore"
         ],
         "xaxis": "x",
         "y": [
          0.7953333333333333
         ],
         "yaxis": "y"
        },
        {
         "alignmentgroup": "True",
         "hovertemplate": "Album=%{x}<br>Average Acousticness=%{y}<extra></extra>",
         "legendgroup": "evermore (deluxe version)",
         "marker": {
          "color": "#ab63fa",
          "pattern": {
           "shape": ""
          }
         },
         "name": "evermore (deluxe version)",
         "offsetgroup": "evermore (deluxe version)",
         "orientation": "v",
         "showlegend": true,
         "textposition": "auto",
         "type": "bar",
         "x": [
          "evermore (deluxe version)"
         ],
         "xaxis": "x",
         "y": [
          0.7941176470588235
         ],
         "yaxis": "y"
        },
        {
         "alignmentgroup": "True",
         "hovertemplate": "Album=%{x}<br>Average Acousticness=%{y}<extra></extra>",
         "legendgroup": "folklore",
         "marker": {
          "color": "#FFA15A",
          "pattern": {
           "shape": ""
          }
         },
         "name": "folklore",
         "offsetgroup": "folklore",
         "orientation": "v",
         "showlegend": true,
         "textposition": "auto",
         "type": "bar",
         "x": [
          "folklore"
         ],
         "xaxis": "x",
         "y": [
          0.7108125000000001
         ],
         "yaxis": "y"
        },
        {
         "alignmentgroup": "True",
         "hovertemplate": "Album=%{x}<br>Average Acousticness=%{y}<extra></extra>",
         "legendgroup": "folklore (deluxe version)",
         "marker": {
          "color": "#19d3f3",
          "pattern": {
           "shape": ""
          }
         },
         "name": "folklore (deluxe version)",
         "offsetgroup": "folklore (deluxe version)",
         "orientation": "v",
         "showlegend": true,
         "textposition": "auto",
         "type": "bar",
         "x": [
          "folklore (deluxe version)"
         ],
         "xaxis": "x",
         "y": [
          0.7175882352941176
         ],
         "yaxis": "y"
        },
        {
         "alignmentgroup": "True",
         "hovertemplate": "Album=%{x}<br>Average Acousticness=%{y}<extra></extra>",
         "legendgroup": "folklore: the long pond studio sessions (from the Disney+ special) [deluxe edition]",
         "marker": {
          "color": "#FF6692",
          "pattern": {
           "shape": ""
          }
         },
         "name": "folklore: the long pond studio sessions (from the Disney+ special) [deluxe edition]",
         "offsetgroup": "folklore: the long pond studio sessions (from the Disney+ special) [deluxe edition]",
         "orientation": "v",
         "showlegend": true,
         "textposition": "auto",
         "type": "bar",
         "x": [
          "folklore: the long pond studio sessions (from the Disney+ special) [deluxe edition]"
         ],
         "xaxis": "x",
         "y": [
          0.7879705882352941
         ],
         "yaxis": "y"
        },
        {
         "alignmentgroup": "True",
         "hovertemplate": "Album=%{x}<br>Average Acousticness=%{y}<extra></extra>",
         "legendgroup": "reputation",
         "marker": {
          "color": "#B6E880",
          "pattern": {
           "shape": ""
          }
         },
         "name": "reputation",
         "offsetgroup": "reputation",
         "orientation": "v",
         "showlegend": true,
         "textposition": "auto",
         "type": "bar",
         "x": [
          "reputation"
         ],
         "xaxis": "x",
         "y": [
          0.13851466666666667
         ],
         "yaxis": "y"
        },
        {
         "alignmentgroup": "True",
         "hovertemplate": "Album=%{x}<br>Average Acousticness=%{y}<extra></extra>",
         "legendgroup": "reputation Stadium Tour Surprise Song Playlist",
         "marker": {
          "color": "#FF97FF",
          "pattern": {
           "shape": ""
          }
         },
         "name": "reputation Stadium Tour Surprise Song Playlist",
         "offsetgroup": "reputation Stadium Tour Surprise Song Playlist",
         "orientation": "v",
         "showlegend": true,
         "textposition": "auto",
         "type": "bar",
         "x": [
          "reputation Stadium Tour Surprise Song Playlist"
         ],
         "xaxis": "x",
         "y": [
          0.16040167391304347
         ],
         "yaxis": "y"
        }
       ],
       "layout": {
        "barmode": "relative",
        "legend": {
         "title": {
          "text": "Album"
         },
         "tracegroupgap": 0
        },
        "template": {
         "data": {
          "bar": [
           {
            "error_x": {
             "color": "#2a3f5f"
            },
            "error_y": {
             "color": "#2a3f5f"
            },
            "marker": {
             "line": {
              "color": "#E5ECF6",
              "width": 0.5
             },
             "pattern": {
              "fillmode": "overlay",
              "size": 10,
              "solidity": 0.2
             }
            },
            "type": "bar"
           }
          ],
          "barpolar": [
           {
            "marker": {
             "line": {
              "color": "#E5ECF6",
              "width": 0.5
             },
             "pattern": {
              "fillmode": "overlay",
              "size": 10,
              "solidity": 0.2
             }
            },
            "type": "barpolar"
           }
          ],
          "carpet": [
           {
            "aaxis": {
             "endlinecolor": "#2a3f5f",
             "gridcolor": "white",
             "linecolor": "white",
             "minorgridcolor": "white",
             "startlinecolor": "#2a3f5f"
            },
            "baxis": {
             "endlinecolor": "#2a3f5f",
             "gridcolor": "white",
             "linecolor": "white",
             "minorgridcolor": "white",
             "startlinecolor": "#2a3f5f"
            },
            "type": "carpet"
           }
          ],
          "choropleth": [
           {
            "colorbar": {
             "outlinewidth": 0,
             "ticks": ""
            },
            "type": "choropleth"
           }
          ],
          "contour": [
           {
            "colorbar": {
             "outlinewidth": 0,
             "ticks": ""
            },
            "colorscale": [
             [
              0,
              "#0d0887"
             ],
             [
              0.1111111111111111,
              "#46039f"
             ],
             [
              0.2222222222222222,
              "#7201a8"
             ],
             [
              0.3333333333333333,
              "#9c179e"
             ],
             [
              0.4444444444444444,
              "#bd3786"
             ],
             [
              0.5555555555555556,
              "#d8576b"
             ],
             [
              0.6666666666666666,
              "#ed7953"
             ],
             [
              0.7777777777777778,
              "#fb9f3a"
             ],
             [
              0.8888888888888888,
              "#fdca26"
             ],
             [
              1,
              "#f0f921"
             ]
            ],
            "type": "contour"
           }
          ],
          "contourcarpet": [
           {
            "colorbar": {
             "outlinewidth": 0,
             "ticks": ""
            },
            "type": "contourcarpet"
           }
          ],
          "heatmap": [
           {
            "colorbar": {
             "outlinewidth": 0,
             "ticks": ""
            },
            "colorscale": [
             [
              0,
              "#0d0887"
             ],
             [
              0.1111111111111111,
              "#46039f"
             ],
             [
              0.2222222222222222,
              "#7201a8"
             ],
             [
              0.3333333333333333,
              "#9c179e"
             ],
             [
              0.4444444444444444,
              "#bd3786"
             ],
             [
              0.5555555555555556,
              "#d8576b"
             ],
             [
              0.6666666666666666,
              "#ed7953"
             ],
             [
              0.7777777777777778,
              "#fb9f3a"
             ],
             [
              0.8888888888888888,
              "#fdca26"
             ],
             [
              1,
              "#f0f921"
             ]
            ],
            "type": "heatmap"
           }
          ],
          "heatmapgl": [
           {
            "colorbar": {
             "outlinewidth": 0,
             "ticks": ""
            },
            "colorscale": [
             [
              0,
              "#0d0887"
             ],
             [
              0.1111111111111111,
              "#46039f"
             ],
             [
              0.2222222222222222,
              "#7201a8"
             ],
             [
              0.3333333333333333,
              "#9c179e"
             ],
             [
              0.4444444444444444,
              "#bd3786"
             ],
             [
              0.5555555555555556,
              "#d8576b"
             ],
             [
              0.6666666666666666,
              "#ed7953"
             ],
             [
              0.7777777777777778,
              "#fb9f3a"
             ],
             [
              0.8888888888888888,
              "#fdca26"
             ],
             [
              1,
              "#f0f921"
             ]
            ],
            "type": "heatmapgl"
           }
          ],
          "histogram": [
           {
            "marker": {
             "pattern": {
              "fillmode": "overlay",
              "size": 10,
              "solidity": 0.2
             }
            },
            "type": "histogram"
           }
          ],
          "histogram2d": [
           {
            "colorbar": {
             "outlinewidth": 0,
             "ticks": ""
            },
            "colorscale": [
             [
              0,
              "#0d0887"
             ],
             [
              0.1111111111111111,
              "#46039f"
             ],
             [
              0.2222222222222222,
              "#7201a8"
             ],
             [
              0.3333333333333333,
              "#9c179e"
             ],
             [
              0.4444444444444444,
              "#bd3786"
             ],
             [
              0.5555555555555556,
              "#d8576b"
             ],
             [
              0.6666666666666666,
              "#ed7953"
             ],
             [
              0.7777777777777778,
              "#fb9f3a"
             ],
             [
              0.8888888888888888,
              "#fdca26"
             ],
             [
              1,
              "#f0f921"
             ]
            ],
            "type": "histogram2d"
           }
          ],
          "histogram2dcontour": [
           {
            "colorbar": {
             "outlinewidth": 0,
             "ticks": ""
            },
            "colorscale": [
             [
              0,
              "#0d0887"
             ],
             [
              0.1111111111111111,
              "#46039f"
             ],
             [
              0.2222222222222222,
              "#7201a8"
             ],
             [
              0.3333333333333333,
              "#9c179e"
             ],
             [
              0.4444444444444444,
              "#bd3786"
             ],
             [
              0.5555555555555556,
              "#d8576b"
             ],
             [
              0.6666666666666666,
              "#ed7953"
             ],
             [
              0.7777777777777778,
              "#fb9f3a"
             ],
             [
              0.8888888888888888,
              "#fdca26"
             ],
             [
              1,
              "#f0f921"
             ]
            ],
            "type": "histogram2dcontour"
           }
          ],
          "mesh3d": [
           {
            "colorbar": {
             "outlinewidth": 0,
             "ticks": ""
            },
            "type": "mesh3d"
           }
          ],
          "parcoords": [
           {
            "line": {
             "colorbar": {
              "outlinewidth": 0,
              "ticks": ""
             }
            },
            "type": "parcoords"
           }
          ],
          "pie": [
           {
            "automargin": true,
            "type": "pie"
           }
          ],
          "scatter": [
           {
            "fillpattern": {
             "fillmode": "overlay",
             "size": 10,
             "solidity": 0.2
            },
            "type": "scatter"
           }
          ],
          "scatter3d": [
           {
            "line": {
             "colorbar": {
              "outlinewidth": 0,
              "ticks": ""
             }
            },
            "marker": {
             "colorbar": {
              "outlinewidth": 0,
              "ticks": ""
             }
            },
            "type": "scatter3d"
           }
          ],
          "scattercarpet": [
           {
            "marker": {
             "colorbar": {
              "outlinewidth": 0,
              "ticks": ""
             }
            },
            "type": "scattercarpet"
           }
          ],
          "scattergeo": [
           {
            "marker": {
             "colorbar": {
              "outlinewidth": 0,
              "ticks": ""
             }
            },
            "type": "scattergeo"
           }
          ],
          "scattergl": [
           {
            "marker": {
             "colorbar": {
              "outlinewidth": 0,
              "ticks": ""
             }
            },
            "type": "scattergl"
           }
          ],
          "scattermapbox": [
           {
            "marker": {
             "colorbar": {
              "outlinewidth": 0,
              "ticks": ""
             }
            },
            "type": "scattermapbox"
           }
          ],
          "scatterpolar": [
           {
            "marker": {
             "colorbar": {
              "outlinewidth": 0,
              "ticks": ""
             }
            },
            "type": "scatterpolar"
           }
          ],
          "scatterpolargl": [
           {
            "marker": {
             "colorbar": {
              "outlinewidth": 0,
              "ticks": ""
             }
            },
            "type": "scatterpolargl"
           }
          ],
          "scatterternary": [
           {
            "marker": {
             "colorbar": {
              "outlinewidth": 0,
              "ticks": ""
             }
            },
            "type": "scatterternary"
           }
          ],
          "surface": [
           {
            "colorbar": {
             "outlinewidth": 0,
             "ticks": ""
            },
            "colorscale": [
             [
              0,
              "#0d0887"
             ],
             [
              0.1111111111111111,
              "#46039f"
             ],
             [
              0.2222222222222222,
              "#7201a8"
             ],
             [
              0.3333333333333333,
              "#9c179e"
             ],
             [
              0.4444444444444444,
              "#bd3786"
             ],
             [
              0.5555555555555556,
              "#d8576b"
             ],
             [
              0.6666666666666666,
              "#ed7953"
             ],
             [
              0.7777777777777778,
              "#fb9f3a"
             ],
             [
              0.8888888888888888,
              "#fdca26"
             ],
             [
              1,
              "#f0f921"
             ]
            ],
            "type": "surface"
           }
          ],
          "table": [
           {
            "cells": {
             "fill": {
              "color": "#EBF0F8"
             },
             "line": {
              "color": "white"
             }
            },
            "header": {
             "fill": {
              "color": "#C8D4E3"
             },
             "line": {
              "color": "white"
             }
            },
            "type": "table"
           }
          ]
         },
         "layout": {
          "annotationdefaults": {
           "arrowcolor": "#2a3f5f",
           "arrowhead": 0,
           "arrowwidth": 1
          },
          "autotypenumbers": "strict",
          "coloraxis": {
           "colorbar": {
            "outlinewidth": 0,
            "ticks": ""
           }
          },
          "colorscale": {
           "diverging": [
            [
             0,
             "#8e0152"
            ],
            [
             0.1,
             "#c51b7d"
            ],
            [
             0.2,
             "#de77ae"
            ],
            [
             0.3,
             "#f1b6da"
            ],
            [
             0.4,
             "#fde0ef"
            ],
            [
             0.5,
             "#f7f7f7"
            ],
            [
             0.6,
             "#e6f5d0"
            ],
            [
             0.7,
             "#b8e186"
            ],
            [
             0.8,
             "#7fbc41"
            ],
            [
             0.9,
             "#4d9221"
            ],
            [
             1,
             "#276419"
            ]
           ],
           "sequential": [
            [
             0,
             "#0d0887"
            ],
            [
             0.1111111111111111,
             "#46039f"
            ],
            [
             0.2222222222222222,
             "#7201a8"
            ],
            [
             0.3333333333333333,
             "#9c179e"
            ],
            [
             0.4444444444444444,
             "#bd3786"
            ],
            [
             0.5555555555555556,
             "#d8576b"
            ],
            [
             0.6666666666666666,
             "#ed7953"
            ],
            [
             0.7777777777777778,
             "#fb9f3a"
            ],
            [
             0.8888888888888888,
             "#fdca26"
            ],
            [
             1,
             "#f0f921"
            ]
           ],
           "sequentialminus": [
            [
             0,
             "#0d0887"
            ],
            [
             0.1111111111111111,
             "#46039f"
            ],
            [
             0.2222222222222222,
             "#7201a8"
            ],
            [
             0.3333333333333333,
             "#9c179e"
            ],
            [
             0.4444444444444444,
             "#bd3786"
            ],
            [
             0.5555555555555556,
             "#d8576b"
            ],
            [
             0.6666666666666666,
             "#ed7953"
            ],
            [
             0.7777777777777778,
             "#fb9f3a"
            ],
            [
             0.8888888888888888,
             "#fdca26"
            ],
            [
             1,
             "#f0f921"
            ]
           ]
          },
          "colorway": [
           "#636efa",
           "#EF553B",
           "#00cc96",
           "#ab63fa",
           "#FFA15A",
           "#19d3f3",
           "#FF6692",
           "#B6E880",
           "#FF97FF",
           "#FECB52"
          ],
          "font": {
           "color": "#2a3f5f"
          },
          "geo": {
           "bgcolor": "white",
           "lakecolor": "white",
           "landcolor": "#E5ECF6",
           "showlakes": true,
           "showland": true,
           "subunitcolor": "white"
          },
          "hoverlabel": {
           "align": "left"
          },
          "hovermode": "closest",
          "mapbox": {
           "style": "light"
          },
          "paper_bgcolor": "white",
          "plot_bgcolor": "#E5ECF6",
          "polar": {
           "angularaxis": {
            "gridcolor": "white",
            "linecolor": "white",
            "ticks": ""
           },
           "bgcolor": "#E5ECF6",
           "radialaxis": {
            "gridcolor": "white",
            "linecolor": "white",
            "ticks": ""
           }
          },
          "scene": {
           "xaxis": {
            "backgroundcolor": "#E5ECF6",
            "gridcolor": "white",
            "gridwidth": 2,
            "linecolor": "white",
            "showbackground": true,
            "ticks": "",
            "zerolinecolor": "white"
           },
           "yaxis": {
            "backgroundcolor": "#E5ECF6",
            "gridcolor": "white",
            "gridwidth": 2,
            "linecolor": "white",
            "showbackground": true,
            "ticks": "",
            "zerolinecolor": "white"
           },
           "zaxis": {
            "backgroundcolor": "#E5ECF6",
            "gridcolor": "white",
            "gridwidth": 2,
            "linecolor": "white",
            "showbackground": true,
            "ticks": "",
            "zerolinecolor": "white"
           }
          },
          "shapedefaults": {
           "line": {
            "color": "#2a3f5f"
           }
          },
          "ternary": {
           "aaxis": {
            "gridcolor": "white",
            "linecolor": "white",
            "ticks": ""
           },
           "baxis": {
            "gridcolor": "white",
            "linecolor": "white",
            "ticks": ""
           },
           "bgcolor": "#E5ECF6",
           "caxis": {
            "gridcolor": "white",
            "linecolor": "white",
            "ticks": ""
           }
          },
          "title": {
           "x": 0.05
          },
          "xaxis": {
           "automargin": true,
           "gridcolor": "white",
           "linecolor": "white",
           "ticks": "",
           "title": {
            "standoff": 15
           },
           "zerolinecolor": "white",
           "zerolinewidth": 2
          },
          "yaxis": {
           "automargin": true,
           "gridcolor": "white",
           "linecolor": "white",
           "ticks": "",
           "title": {
            "standoff": 15
           },
           "zerolinecolor": "white",
           "zerolinewidth": 2
          }
         }
        },
        "title": {
         "text": "Average Acousticness Per Album"
        },
        "xaxis": {
         "anchor": "y",
         "categoryarray": [
          "1989",
          "1989 (Deluxe Edition)",
          "1989 (Taylor's Version)",
          "1989 (Taylor's Version) [Deluxe]",
          "Fearless",
          "Fearless (Taylor's Version)",
          "Fearless Platinum Edition",
          "Live From Clear Channel Stripped 2008",
          "Lover",
          "Midnights",
          "Midnights (3am Edition)",
          "Midnights (The Til Dawn Edition)",
          "Red",
          "Red (Deluxe Edition)",
          "Red (Taylor's Version)",
          "Speak Now",
          "Speak Now (Deluxe Edition)",
          "Speak Now (Taylor's Version)",
          "Speak Now World Tour Live",
          "Taylor Swift",
          "The Tortured Poets Department",
          "The Tortured Poets Department: The Anthology",
          "evermore",
          "evermore (deluxe version)",
          "folklore",
          "folklore (deluxe version)",
          "folklore: the long pond studio sessions (from the Disney+ special) [deluxe edition]",
          "reputation",
          "reputation Stadium Tour Surprise Song Playlist"
         ],
         "categoryorder": "array",
         "domain": [
          0,
          1
         ],
         "title": {
          "text": "Album"
         }
        },
        "yaxis": {
         "anchor": "x",
         "domain": [
          0,
          1
         ],
         "title": {
          "text": "Average Acousticness"
         }
        }
       }
      }
     },
     "metadata": {},
     "output_type": "display_data"
    }
   ],
   "source": [
    "# Calculate average acousticness per album\n",
    "avg_acousticness = df.groupby('album')['acousticness'].mean().reset_index()\n",
    "\n",
    "# Bar plot for average acousticness per album\n",
    "fig_avg_acousticness = px.bar(avg_acousticness, x='album', y='acousticness', color='album', \n",
    "                              title='Average Acousticness Per Album',\n",
    "                              labels={'acousticness': 'Average Acousticness', 'album': 'Album'})\n",
    "fig_avg_acousticness.show()"
   ]
  },
  {
   "cell_type": "markdown",
   "metadata": {},
   "source": [
    "How do the average energy levels of tracks differ across albums?"
   ]
  },
  {
   "cell_type": "code",
   "execution_count": 55,
   "metadata": {},
   "outputs": [
    {
     "data": {
      "application/vnd.plotly.v1+json": {
       "config": {
        "plotlyServerURL": "https://plot.ly"
       },
       "data": [
        {
         "alignmentgroup": "True",
         "hovertemplate": "Album=%{x}<br>Average Acousticness=%{y}<extra></extra>",
         "legendgroup": "1989",
         "marker": {
          "color": "#636efa",
          "pattern": {
           "shape": ""
          }
         },
         "name": "1989",
         "offsetgroup": "1989",
         "orientation": "v",
         "showlegend": true,
         "textposition": "auto",
         "type": "bar",
         "x": [
          "1989"
         ],
         "xaxis": "x",
         "y": [
          0.11304076923076924
         ],
         "yaxis": "y"
        },
        {
         "alignmentgroup": "True",
         "hovertemplate": "Album=%{x}<br>Average Acousticness=%{y}<extra></extra>",
         "legendgroup": "1989 (Deluxe Edition)",
         "marker": {
          "color": "#EF553B",
          "pattern": {
           "shape": ""
          }
         },
         "name": "1989 (Deluxe Edition)",
         "offsetgroup": "1989 (Deluxe Edition)",
         "orientation": "v",
         "showlegend": true,
         "textposition": "auto",
         "type": "bar",
         "x": [
          "1989 (Deluxe Edition)"
         ],
         "xaxis": "x",
         "y": [
          0.24461963157894737
         ],
         "yaxis": "y"
        },
        {
         "alignmentgroup": "True",
         "hovertemplate": "Album=%{x}<br>Average Acousticness=%{y}<extra></extra>",
         "legendgroup": "1989 (Taylor's Version)",
         "marker": {
          "color": "#00cc96",
          "pattern": {
           "shape": ""
          }
         },
         "name": "1989 (Taylor's Version)",
         "offsetgroup": "1989 (Taylor's Version)",
         "orientation": "v",
         "showlegend": true,
         "textposition": "auto",
         "type": "bar",
         "x": [
          "1989 (Taylor's Version)"
         ],
         "xaxis": "x",
         "y": [
          0.11126419047619047
         ],
         "yaxis": "y"
        },
        {
         "alignmentgroup": "True",
         "hovertemplate": "Album=%{x}<br>Average Acousticness=%{y}<extra></extra>",
         "legendgroup": "1989 (Taylor's Version) [Deluxe]",
         "marker": {
          "color": "#ab63fa",
          "pattern": {
           "shape": ""
          }
         },
         "name": "1989 (Taylor's Version) [Deluxe]",
         "offsetgroup": "1989 (Taylor's Version) [Deluxe]",
         "orientation": "v",
         "showlegend": true,
         "textposition": "auto",
         "type": "bar",
         "x": [
          "1989 (Taylor's Version) [Deluxe]"
         ],
         "xaxis": "x",
         "y": [
          0.10376109090909091
         ],
         "yaxis": "y"
        },
        {
         "alignmentgroup": "True",
         "hovertemplate": "Album=%{x}<br>Average Acousticness=%{y}<extra></extra>",
         "legendgroup": "Fearless",
         "marker": {
          "color": "#FFA15A",
          "pattern": {
           "shape": ""
          }
         },
         "name": "Fearless",
         "offsetgroup": "Fearless",
         "orientation": "v",
         "showlegend": true,
         "textposition": "auto",
         "type": "bar",
         "x": [
          "Fearless"
         ],
         "xaxis": "x",
         "y": [
          0.1759369230769231
         ],
         "yaxis": "y"
        },
        {
         "alignmentgroup": "True",
         "hovertemplate": "Album=%{x}<br>Average Acousticness=%{y}<extra></extra>",
         "legendgroup": "Fearless (Taylor's Version)",
         "marker": {
          "color": "#19d3f3",
          "pattern": {
           "shape": ""
          }
         },
         "name": "Fearless (Taylor's Version)",
         "offsetgroup": "Fearless (Taylor's Version)",
         "orientation": "v",
         "showlegend": true,
         "textposition": "auto",
         "type": "bar",
         "x": [
          "Fearless (Taylor's Version)"
         ],
         "xaxis": "x",
         "y": [
          0.2140611923076923
         ],
         "yaxis": "y"
        },
        {
         "alignmentgroup": "True",
         "hovertemplate": "Album=%{x}<br>Average Acousticness=%{y}<extra></extra>",
         "legendgroup": "Fearless Platinum Edition",
         "marker": {
          "color": "#FF6692",
          "pattern": {
           "shape": ""
          }
         },
         "name": "Fearless Platinum Edition",
         "offsetgroup": "Fearless Platinum Edition",
         "orientation": "v",
         "showlegend": true,
         "textposition": "auto",
         "type": "bar",
         "x": [
          "Fearless Platinum Edition"
         ],
         "xaxis": "x",
         "y": [
          0.2024478947368421
         ],
         "yaxis": "y"
        },
        {
         "alignmentgroup": "True",
         "hovertemplate": "Album=%{x}<br>Average Acousticness=%{y}<extra></extra>",
         "legendgroup": "Live From Clear Channel Stripped 2008",
         "marker": {
          "color": "#B6E880",
          "pattern": {
           "shape": ""
          }
         },
         "name": "Live From Clear Channel Stripped 2008",
         "offsetgroup": "Live From Clear Channel Stripped 2008",
         "orientation": "v",
         "showlegend": true,
         "textposition": "auto",
         "type": "bar",
         "x": [
          "Live From Clear Channel Stripped 2008"
         ],
         "xaxis": "x",
         "y": [
          0.55125
         ],
         "yaxis": "y"
        },
        {
         "alignmentgroup": "True",
         "hovertemplate": "Album=%{x}<br>Average Acousticness=%{y}<extra></extra>",
         "legendgroup": "Lover",
         "marker": {
          "color": "#FF97FF",
          "pattern": {
           "shape": ""
          }
         },
         "name": "Lover",
         "offsetgroup": "Lover",
         "orientation": "v",
         "showlegend": true,
         "textposition": "auto",
         "type": "bar",
         "x": [
          "Lover"
         ],
         "xaxis": "x",
         "y": [
          0.33374333333333334
         ],
         "yaxis": "y"
        },
        {
         "alignmentgroup": "True",
         "hovertemplate": "Album=%{x}<br>Average Acousticness=%{y}<extra></extra>",
         "legendgroup": "Midnights",
         "marker": {
          "color": "#FECB52",
          "pattern": {
           "shape": ""
          }
         },
         "name": "Midnights",
         "offsetgroup": "Midnights",
         "orientation": "v",
         "showlegend": true,
         "textposition": "auto",
         "type": "bar",
         "x": [
          "Midnights"
         ],
         "xaxis": "x",
         "y": [
          0.3874230769230769
         ],
         "yaxis": "y"
        },
        {
         "alignmentgroup": "True",
         "hovertemplate": "Album=%{x}<br>Average Acousticness=%{y}<extra></extra>",
         "legendgroup": "Midnights (3am Edition)",
         "marker": {
          "color": "#636efa",
          "pattern": {
           "shape": ""
          }
         },
         "name": "Midnights (3am Edition)",
         "offsetgroup": "Midnights (3am Edition)",
         "orientation": "v",
         "showlegend": true,
         "textposition": "auto",
         "type": "bar",
         "x": [
          "Midnights (3am Edition)"
         ],
         "xaxis": "x",
         "y": [
          0.41322000000000003
         ],
         "yaxis": "y"
        },
        {
         "alignmentgroup": "True",
         "hovertemplate": "Album=%{x}<br>Average Acousticness=%{y}<extra></extra>",
         "legendgroup": "Midnights (The Til Dawn Edition)",
         "marker": {
          "color": "#EF553B",
          "pattern": {
           "shape": ""
          }
         },
         "name": "Midnights (The Til Dawn Edition)",
         "offsetgroup": "Midnights (The Til Dawn Edition)",
         "orientation": "v",
         "showlegend": true,
         "textposition": "auto",
         "type": "bar",
         "x": [
          "Midnights (The Til Dawn Edition)"
         ],
         "xaxis": "x",
         "y": [
          0.4006173913043478
         ],
         "yaxis": "y"
        },
        {
         "alignmentgroup": "True",
         "hovertemplate": "Album=%{x}<br>Average Acousticness=%{y}<extra></extra>",
         "legendgroup": "Red",
         "marker": {
          "color": "#00cc96",
          "pattern": {
           "shape": ""
          }
         },
         "name": "Red",
         "offsetgroup": "Red",
         "orientation": "v",
         "showlegend": true,
         "textposition": "auto",
         "type": "bar",
         "x": [
          "Red"
         ],
         "xaxis": "x",
         "y": [
          0.1161160625
         ],
         "yaxis": "y"
        },
        {
         "alignmentgroup": "True",
         "hovertemplate": "Album=%{x}<br>Average Acousticness=%{y}<extra></extra>",
         "legendgroup": "Red (Deluxe Edition)",
         "marker": {
          "color": "#ab63fa",
          "pattern": {
           "shape": ""
          }
         },
         "name": "Red (Deluxe Edition)",
         "offsetgroup": "Red (Deluxe Edition)",
         "orientation": "v",
         "showlegend": true,
         "textposition": "auto",
         "type": "bar",
         "x": [
          "Red (Deluxe Edition)"
         ],
         "xaxis": "x",
         "y": [
          0.1487985
         ],
         "yaxis": "y"
        },
        {
         "alignmentgroup": "True",
         "hovertemplate": "Album=%{x}<br>Average Acousticness=%{y}<extra></extra>",
         "legendgroup": "Red (Taylor's Version)",
         "marker": {
          "color": "#FFA15A",
          "pattern": {
           "shape": ""
          }
         },
         "name": "Red (Taylor's Version)",
         "offsetgroup": "Red (Taylor's Version)",
         "orientation": "v",
         "showlegend": true,
         "textposition": "auto",
         "type": "bar",
         "x": [
          "Red (Taylor's Version)"
         ],
         "xaxis": "x",
         "y": [
          0.1768657
         ],
         "yaxis": "y"
        },
        {
         "alignmentgroup": "True",
         "hovertemplate": "Album=%{x}<br>Average Acousticness=%{y}<extra></extra>",
         "legendgroup": "Speak Now",
         "marker": {
          "color": "#19d3f3",
          "pattern": {
           "shape": ""
          }
         },
         "name": "Speak Now",
         "offsetgroup": "Speak Now",
         "orientation": "v",
         "showlegend": true,
         "textposition": "auto",
         "type": "bar",
         "x": [
          "Speak Now"
         ],
         "xaxis": "x",
         "y": [
          0.1898878571428571
         ],
         "yaxis": "y"
        },
        {
         "alignmentgroup": "True",
         "hovertemplate": "Album=%{x}<br>Average Acousticness=%{y}<extra></extra>",
         "legendgroup": "Speak Now (Deluxe Edition)",
         "marker": {
          "color": "#FF6692",
          "pattern": {
           "shape": ""
          }
         },
         "name": "Speak Now (Deluxe Edition)",
         "offsetgroup": "Speak Now (Deluxe Edition)",
         "orientation": "v",
         "showlegend": true,
         "textposition": "auto",
         "type": "bar",
         "x": [
          "Speak Now (Deluxe Edition)"
         ],
         "xaxis": "x",
         "y": [
          0.249275
         ],
         "yaxis": "y"
        },
        {
         "alignmentgroup": "True",
         "hovertemplate": "Album=%{x}<br>Average Acousticness=%{y}<extra></extra>",
         "legendgroup": "Speak Now (Taylor's Version)",
         "marker": {
          "color": "#B6E880",
          "pattern": {
           "shape": ""
          }
         },
         "name": "Speak Now (Taylor's Version)",
         "offsetgroup": "Speak Now (Taylor's Version)",
         "orientation": "v",
         "showlegend": true,
         "textposition": "auto",
         "type": "bar",
         "x": [
          "Speak Now (Taylor's Version)"
         ],
         "xaxis": "x",
         "y": [
          0.1825511818181818
         ],
         "yaxis": "y"
        },
        {
         "alignmentgroup": "True",
         "hovertemplate": "Album=%{x}<br>Average Acousticness=%{y}<extra></extra>",
         "legendgroup": "Speak Now World Tour Live",
         "marker": {
          "color": "#FF97FF",
          "pattern": {
           "shape": ""
          }
         },
         "name": "Speak Now World Tour Live",
         "offsetgroup": "Speak Now World Tour Live",
         "orientation": "v",
         "showlegend": true,
         "textposition": "auto",
         "type": "bar",
         "x": [
          "Speak Now World Tour Live"
         ],
         "xaxis": "x",
         "y": [
          0.2338025
         ],
         "yaxis": "y"
        },
        {
         "alignmentgroup": "True",
         "hovertemplate": "Album=%{x}<br>Average Acousticness=%{y}<extra></extra>",
         "legendgroup": "Taylor Swift",
         "marker": {
          "color": "#FECB52",
          "pattern": {
           "shape": ""
          }
         },
         "name": "Taylor Swift",
         "offsetgroup": "Taylor Swift",
         "orientation": "v",
         "showlegend": true,
         "textposition": "auto",
         "type": "bar",
         "x": [
          "Taylor Swift"
         ],
         "xaxis": "x",
         "y": [
          0.18299466666666667
         ],
         "yaxis": "y"
        },
        {
         "alignmentgroup": "True",
         "hovertemplate": "Album=%{x}<br>Average Acousticness=%{y}<extra></extra>",
         "legendgroup": "The Tortured Poets Department",
         "marker": {
          "color": "#636efa",
          "pattern": {
           "shape": ""
          }
         },
         "name": "The Tortured Poets Department",
         "offsetgroup": "The Tortured Poets Department",
         "orientation": "v",
         "showlegend": true,
         "textposition": "auto",
         "type": "bar",
         "x": [
          "The Tortured Poets Department"
         ],
         "xaxis": "x",
         "y": [
          0.46326875
         ],
         "yaxis": "y"
        },
        {
         "alignmentgroup": "True",
         "hovertemplate": "Album=%{x}<br>Average Acousticness=%{y}<extra></extra>",
         "legendgroup": "The Tortured Poets Department: The Anthology",
         "marker": {
          "color": "#EF553B",
          "pattern": {
           "shape": ""
          }
         },
         "name": "The Tortured Poets Department: The Anthology",
         "offsetgroup": "The Tortured Poets Department: The Anthology",
         "orientation": "v",
         "showlegend": true,
         "textposition": "auto",
         "type": "bar",
         "x": [
          "The Tortured Poets Department: The Anthology"
         ],
         "xaxis": "x",
         "y": [
          0.5727967741935484
         ],
         "yaxis": "y"
        },
        {
         "alignmentgroup": "True",
         "hovertemplate": "Album=%{x}<br>Average Acousticness=%{y}<extra></extra>",
         "legendgroup": "evermore",
         "marker": {
          "color": "#00cc96",
          "pattern": {
           "shape": ""
          }
         },
         "name": "evermore",
         "offsetgroup": "evermore",
         "orientation": "v",
         "showlegend": true,
         "textposition": "auto",
         "type": "bar",
         "x": [
          "evermore"
         ],
         "xaxis": "x",
         "y": [
          0.7953333333333333
         ],
         "yaxis": "y"
        },
        {
         "alignmentgroup": "True",
         "hovertemplate": "Album=%{x}<br>Average Acousticness=%{y}<extra></extra>",
         "legendgroup": "evermore (deluxe version)",
         "marker": {
          "color": "#ab63fa",
          "pattern": {
           "shape": ""
          }
         },
         "name": "evermore (deluxe version)",
         "offsetgroup": "evermore (deluxe version)",
         "orientation": "v",
         "showlegend": true,
         "textposition": "auto",
         "type": "bar",
         "x": [
          "evermore (deluxe version)"
         ],
         "xaxis": "x",
         "y": [
          0.7941176470588235
         ],
         "yaxis": "y"
        },
        {
         "alignmentgroup": "True",
         "hovertemplate": "Album=%{x}<br>Average Acousticness=%{y}<extra></extra>",
         "legendgroup": "folklore",
         "marker": {
          "color": "#FFA15A",
          "pattern": {
           "shape": ""
          }
         },
         "name": "folklore",
         "offsetgroup": "folklore",
         "orientation": "v",
         "showlegend": true,
         "textposition": "auto",
         "type": "bar",
         "x": [
          "folklore"
         ],
         "xaxis": "x",
         "y": [
          0.7108125000000001
         ],
         "yaxis": "y"
        },
        {
         "alignmentgroup": "True",
         "hovertemplate": "Album=%{x}<br>Average Acousticness=%{y}<extra></extra>",
         "legendgroup": "folklore (deluxe version)",
         "marker": {
          "color": "#19d3f3",
          "pattern": {
           "shape": ""
          }
         },
         "name": "folklore (deluxe version)",
         "offsetgroup": "folklore (deluxe version)",
         "orientation": "v",
         "showlegend": true,
         "textposition": "auto",
         "type": "bar",
         "x": [
          "folklore (deluxe version)"
         ],
         "xaxis": "x",
         "y": [
          0.7175882352941176
         ],
         "yaxis": "y"
        },
        {
         "alignmentgroup": "True",
         "hovertemplate": "Album=%{x}<br>Average Acousticness=%{y}<extra></extra>",
         "legendgroup": "folklore: the long pond studio sessions (from the Disney+ special) [deluxe edition]",
         "marker": {
          "color": "#FF6692",
          "pattern": {
           "shape": ""
          }
         },
         "name": "folklore: the long pond studio sessions (from the Disney+ special) [deluxe edition]",
         "offsetgroup": "folklore: the long pond studio sessions (from the Disney+ special) [deluxe edition]",
         "orientation": "v",
         "showlegend": true,
         "textposition": "auto",
         "type": "bar",
         "x": [
          "folklore: the long pond studio sessions (from the Disney+ special) [deluxe edition]"
         ],
         "xaxis": "x",
         "y": [
          0.7879705882352941
         ],
         "yaxis": "y"
        },
        {
         "alignmentgroup": "True",
         "hovertemplate": "Album=%{x}<br>Average Acousticness=%{y}<extra></extra>",
         "legendgroup": "reputation",
         "marker": {
          "color": "#B6E880",
          "pattern": {
           "shape": ""
          }
         },
         "name": "reputation",
         "offsetgroup": "reputation",
         "orientation": "v",
         "showlegend": true,
         "textposition": "auto",
         "type": "bar",
         "x": [
          "reputation"
         ],
         "xaxis": "x",
         "y": [
          0.13851466666666667
         ],
         "yaxis": "y"
        },
        {
         "alignmentgroup": "True",
         "hovertemplate": "Album=%{x}<br>Average Acousticness=%{y}<extra></extra>",
         "legendgroup": "reputation Stadium Tour Surprise Song Playlist",
         "marker": {
          "color": "#FF97FF",
          "pattern": {
           "shape": ""
          }
         },
         "name": "reputation Stadium Tour Surprise Song Playlist",
         "offsetgroup": "reputation Stadium Tour Surprise Song Playlist",
         "orientation": "v",
         "showlegend": true,
         "textposition": "auto",
         "type": "bar",
         "x": [
          "reputation Stadium Tour Surprise Song Playlist"
         ],
         "xaxis": "x",
         "y": [
          0.16040167391304347
         ],
         "yaxis": "y"
        }
       ],
       "layout": {
        "barmode": "relative",
        "legend": {
         "title": {
          "text": "Album"
         },
         "tracegroupgap": 0
        },
        "template": {
         "data": {
          "bar": [
           {
            "error_x": {
             "color": "#2a3f5f"
            },
            "error_y": {
             "color": "#2a3f5f"
            },
            "marker": {
             "line": {
              "color": "#E5ECF6",
              "width": 0.5
             },
             "pattern": {
              "fillmode": "overlay",
              "size": 10,
              "solidity": 0.2
             }
            },
            "type": "bar"
           }
          ],
          "barpolar": [
           {
            "marker": {
             "line": {
              "color": "#E5ECF6",
              "width": 0.5
             },
             "pattern": {
              "fillmode": "overlay",
              "size": 10,
              "solidity": 0.2
             }
            },
            "type": "barpolar"
           }
          ],
          "carpet": [
           {
            "aaxis": {
             "endlinecolor": "#2a3f5f",
             "gridcolor": "white",
             "linecolor": "white",
             "minorgridcolor": "white",
             "startlinecolor": "#2a3f5f"
            },
            "baxis": {
             "endlinecolor": "#2a3f5f",
             "gridcolor": "white",
             "linecolor": "white",
             "minorgridcolor": "white",
             "startlinecolor": "#2a3f5f"
            },
            "type": "carpet"
           }
          ],
          "choropleth": [
           {
            "colorbar": {
             "outlinewidth": 0,
             "ticks": ""
            },
            "type": "choropleth"
           }
          ],
          "contour": [
           {
            "colorbar": {
             "outlinewidth": 0,
             "ticks": ""
            },
            "colorscale": [
             [
              0,
              "#0d0887"
             ],
             [
              0.1111111111111111,
              "#46039f"
             ],
             [
              0.2222222222222222,
              "#7201a8"
             ],
             [
              0.3333333333333333,
              "#9c179e"
             ],
             [
              0.4444444444444444,
              "#bd3786"
             ],
             [
              0.5555555555555556,
              "#d8576b"
             ],
             [
              0.6666666666666666,
              "#ed7953"
             ],
             [
              0.7777777777777778,
              "#fb9f3a"
             ],
             [
              0.8888888888888888,
              "#fdca26"
             ],
             [
              1,
              "#f0f921"
             ]
            ],
            "type": "contour"
           }
          ],
          "contourcarpet": [
           {
            "colorbar": {
             "outlinewidth": 0,
             "ticks": ""
            },
            "type": "contourcarpet"
           }
          ],
          "heatmap": [
           {
            "colorbar": {
             "outlinewidth": 0,
             "ticks": ""
            },
            "colorscale": [
             [
              0,
              "#0d0887"
             ],
             [
              0.1111111111111111,
              "#46039f"
             ],
             [
              0.2222222222222222,
              "#7201a8"
             ],
             [
              0.3333333333333333,
              "#9c179e"
             ],
             [
              0.4444444444444444,
              "#bd3786"
             ],
             [
              0.5555555555555556,
              "#d8576b"
             ],
             [
              0.6666666666666666,
              "#ed7953"
             ],
             [
              0.7777777777777778,
              "#fb9f3a"
             ],
             [
              0.8888888888888888,
              "#fdca26"
             ],
             [
              1,
              "#f0f921"
             ]
            ],
            "type": "heatmap"
           }
          ],
          "heatmapgl": [
           {
            "colorbar": {
             "outlinewidth": 0,
             "ticks": ""
            },
            "colorscale": [
             [
              0,
              "#0d0887"
             ],
             [
              0.1111111111111111,
              "#46039f"
             ],
             [
              0.2222222222222222,
              "#7201a8"
             ],
             [
              0.3333333333333333,
              "#9c179e"
             ],
             [
              0.4444444444444444,
              "#bd3786"
             ],
             [
              0.5555555555555556,
              "#d8576b"
             ],
             [
              0.6666666666666666,
              "#ed7953"
             ],
             [
              0.7777777777777778,
              "#fb9f3a"
             ],
             [
              0.8888888888888888,
              "#fdca26"
             ],
             [
              1,
              "#f0f921"
             ]
            ],
            "type": "heatmapgl"
           }
          ],
          "histogram": [
           {
            "marker": {
             "pattern": {
              "fillmode": "overlay",
              "size": 10,
              "solidity": 0.2
             }
            },
            "type": "histogram"
           }
          ],
          "histogram2d": [
           {
            "colorbar": {
             "outlinewidth": 0,
             "ticks": ""
            },
            "colorscale": [
             [
              0,
              "#0d0887"
             ],
             [
              0.1111111111111111,
              "#46039f"
             ],
             [
              0.2222222222222222,
              "#7201a8"
             ],
             [
              0.3333333333333333,
              "#9c179e"
             ],
             [
              0.4444444444444444,
              "#bd3786"
             ],
             [
              0.5555555555555556,
              "#d8576b"
             ],
             [
              0.6666666666666666,
              "#ed7953"
             ],
             [
              0.7777777777777778,
              "#fb9f3a"
             ],
             [
              0.8888888888888888,
              "#fdca26"
             ],
             [
              1,
              "#f0f921"
             ]
            ],
            "type": "histogram2d"
           }
          ],
          "histogram2dcontour": [
           {
            "colorbar": {
             "outlinewidth": 0,
             "ticks": ""
            },
            "colorscale": [
             [
              0,
              "#0d0887"
             ],
             [
              0.1111111111111111,
              "#46039f"
             ],
             [
              0.2222222222222222,
              "#7201a8"
             ],
             [
              0.3333333333333333,
              "#9c179e"
             ],
             [
              0.4444444444444444,
              "#bd3786"
             ],
             [
              0.5555555555555556,
              "#d8576b"
             ],
             [
              0.6666666666666666,
              "#ed7953"
             ],
             [
              0.7777777777777778,
              "#fb9f3a"
             ],
             [
              0.8888888888888888,
              "#fdca26"
             ],
             [
              1,
              "#f0f921"
             ]
            ],
            "type": "histogram2dcontour"
           }
          ],
          "mesh3d": [
           {
            "colorbar": {
             "outlinewidth": 0,
             "ticks": ""
            },
            "type": "mesh3d"
           }
          ],
          "parcoords": [
           {
            "line": {
             "colorbar": {
              "outlinewidth": 0,
              "ticks": ""
             }
            },
            "type": "parcoords"
           }
          ],
          "pie": [
           {
            "automargin": true,
            "type": "pie"
           }
          ],
          "scatter": [
           {
            "fillpattern": {
             "fillmode": "overlay",
             "size": 10,
             "solidity": 0.2
            },
            "type": "scatter"
           }
          ],
          "scatter3d": [
           {
            "line": {
             "colorbar": {
              "outlinewidth": 0,
              "ticks": ""
             }
            },
            "marker": {
             "colorbar": {
              "outlinewidth": 0,
              "ticks": ""
             }
            },
            "type": "scatter3d"
           }
          ],
          "scattercarpet": [
           {
            "marker": {
             "colorbar": {
              "outlinewidth": 0,
              "ticks": ""
             }
            },
            "type": "scattercarpet"
           }
          ],
          "scattergeo": [
           {
            "marker": {
             "colorbar": {
              "outlinewidth": 0,
              "ticks": ""
             }
            },
            "type": "scattergeo"
           }
          ],
          "scattergl": [
           {
            "marker": {
             "colorbar": {
              "outlinewidth": 0,
              "ticks": ""
             }
            },
            "type": "scattergl"
           }
          ],
          "scattermapbox": [
           {
            "marker": {
             "colorbar": {
              "outlinewidth": 0,
              "ticks": ""
             }
            },
            "type": "scattermapbox"
           }
          ],
          "scatterpolar": [
           {
            "marker": {
             "colorbar": {
              "outlinewidth": 0,
              "ticks": ""
             }
            },
            "type": "scatterpolar"
           }
          ],
          "scatterpolargl": [
           {
            "marker": {
             "colorbar": {
              "outlinewidth": 0,
              "ticks": ""
             }
            },
            "type": "scatterpolargl"
           }
          ],
          "scatterternary": [
           {
            "marker": {
             "colorbar": {
              "outlinewidth": 0,
              "ticks": ""
             }
            },
            "type": "scatterternary"
           }
          ],
          "surface": [
           {
            "colorbar": {
             "outlinewidth": 0,
             "ticks": ""
            },
            "colorscale": [
             [
              0,
              "#0d0887"
             ],
             [
              0.1111111111111111,
              "#46039f"
             ],
             [
              0.2222222222222222,
              "#7201a8"
             ],
             [
              0.3333333333333333,
              "#9c179e"
             ],
             [
              0.4444444444444444,
              "#bd3786"
             ],
             [
              0.5555555555555556,
              "#d8576b"
             ],
             [
              0.6666666666666666,
              "#ed7953"
             ],
             [
              0.7777777777777778,
              "#fb9f3a"
             ],
             [
              0.8888888888888888,
              "#fdca26"
             ],
             [
              1,
              "#f0f921"
             ]
            ],
            "type": "surface"
           }
          ],
          "table": [
           {
            "cells": {
             "fill": {
              "color": "#EBF0F8"
             },
             "line": {
              "color": "white"
             }
            },
            "header": {
             "fill": {
              "color": "#C8D4E3"
             },
             "line": {
              "color": "white"
             }
            },
            "type": "table"
           }
          ]
         },
         "layout": {
          "annotationdefaults": {
           "arrowcolor": "#2a3f5f",
           "arrowhead": 0,
           "arrowwidth": 1
          },
          "autotypenumbers": "strict",
          "coloraxis": {
           "colorbar": {
            "outlinewidth": 0,
            "ticks": ""
           }
          },
          "colorscale": {
           "diverging": [
            [
             0,
             "#8e0152"
            ],
            [
             0.1,
             "#c51b7d"
            ],
            [
             0.2,
             "#de77ae"
            ],
            [
             0.3,
             "#f1b6da"
            ],
            [
             0.4,
             "#fde0ef"
            ],
            [
             0.5,
             "#f7f7f7"
            ],
            [
             0.6,
             "#e6f5d0"
            ],
            [
             0.7,
             "#b8e186"
            ],
            [
             0.8,
             "#7fbc41"
            ],
            [
             0.9,
             "#4d9221"
            ],
            [
             1,
             "#276419"
            ]
           ],
           "sequential": [
            [
             0,
             "#0d0887"
            ],
            [
             0.1111111111111111,
             "#46039f"
            ],
            [
             0.2222222222222222,
             "#7201a8"
            ],
            [
             0.3333333333333333,
             "#9c179e"
            ],
            [
             0.4444444444444444,
             "#bd3786"
            ],
            [
             0.5555555555555556,
             "#d8576b"
            ],
            [
             0.6666666666666666,
             "#ed7953"
            ],
            [
             0.7777777777777778,
             "#fb9f3a"
            ],
            [
             0.8888888888888888,
             "#fdca26"
            ],
            [
             1,
             "#f0f921"
            ]
           ],
           "sequentialminus": [
            [
             0,
             "#0d0887"
            ],
            [
             0.1111111111111111,
             "#46039f"
            ],
            [
             0.2222222222222222,
             "#7201a8"
            ],
            [
             0.3333333333333333,
             "#9c179e"
            ],
            [
             0.4444444444444444,
             "#bd3786"
            ],
            [
             0.5555555555555556,
             "#d8576b"
            ],
            [
             0.6666666666666666,
             "#ed7953"
            ],
            [
             0.7777777777777778,
             "#fb9f3a"
            ],
            [
             0.8888888888888888,
             "#fdca26"
            ],
            [
             1,
             "#f0f921"
            ]
           ]
          },
          "colorway": [
           "#636efa",
           "#EF553B",
           "#00cc96",
           "#ab63fa",
           "#FFA15A",
           "#19d3f3",
           "#FF6692",
           "#B6E880",
           "#FF97FF",
           "#FECB52"
          ],
          "font": {
           "color": "#2a3f5f"
          },
          "geo": {
           "bgcolor": "white",
           "lakecolor": "white",
           "landcolor": "#E5ECF6",
           "showlakes": true,
           "showland": true,
           "subunitcolor": "white"
          },
          "hoverlabel": {
           "align": "left"
          },
          "hovermode": "closest",
          "mapbox": {
           "style": "light"
          },
          "paper_bgcolor": "white",
          "plot_bgcolor": "#E5ECF6",
          "polar": {
           "angularaxis": {
            "gridcolor": "white",
            "linecolor": "white",
            "ticks": ""
           },
           "bgcolor": "#E5ECF6",
           "radialaxis": {
            "gridcolor": "white",
            "linecolor": "white",
            "ticks": ""
           }
          },
          "scene": {
           "xaxis": {
            "backgroundcolor": "#E5ECF6",
            "gridcolor": "white",
            "gridwidth": 2,
            "linecolor": "white",
            "showbackground": true,
            "ticks": "",
            "zerolinecolor": "white"
           },
           "yaxis": {
            "backgroundcolor": "#E5ECF6",
            "gridcolor": "white",
            "gridwidth": 2,
            "linecolor": "white",
            "showbackground": true,
            "ticks": "",
            "zerolinecolor": "white"
           },
           "zaxis": {
            "backgroundcolor": "#E5ECF6",
            "gridcolor": "white",
            "gridwidth": 2,
            "linecolor": "white",
            "showbackground": true,
            "ticks": "",
            "zerolinecolor": "white"
           }
          },
          "shapedefaults": {
           "line": {
            "color": "#2a3f5f"
           }
          },
          "ternary": {
           "aaxis": {
            "gridcolor": "white",
            "linecolor": "white",
            "ticks": ""
           },
           "baxis": {
            "gridcolor": "white",
            "linecolor": "white",
            "ticks": ""
           },
           "bgcolor": "#E5ECF6",
           "caxis": {
            "gridcolor": "white",
            "linecolor": "white",
            "ticks": ""
           }
          },
          "title": {
           "x": 0.05
          },
          "xaxis": {
           "automargin": true,
           "gridcolor": "white",
           "linecolor": "white",
           "ticks": "",
           "title": {
            "standoff": 15
           },
           "zerolinecolor": "white",
           "zerolinewidth": 2
          },
          "yaxis": {
           "automargin": true,
           "gridcolor": "white",
           "linecolor": "white",
           "ticks": "",
           "title": {
            "standoff": 15
           },
           "zerolinecolor": "white",
           "zerolinewidth": 2
          }
         }
        },
        "title": {
         "text": "Average Acousticness Per Album"
        },
        "xaxis": {
         "anchor": "y",
         "categoryarray": [
          "1989",
          "1989 (Deluxe Edition)",
          "1989 (Taylor's Version)",
          "1989 (Taylor's Version) [Deluxe]",
          "Fearless",
          "Fearless (Taylor's Version)",
          "Fearless Platinum Edition",
          "Live From Clear Channel Stripped 2008",
          "Lover",
          "Midnights",
          "Midnights (3am Edition)",
          "Midnights (The Til Dawn Edition)",
          "Red",
          "Red (Deluxe Edition)",
          "Red (Taylor's Version)",
          "Speak Now",
          "Speak Now (Deluxe Edition)",
          "Speak Now (Taylor's Version)",
          "Speak Now World Tour Live",
          "Taylor Swift",
          "The Tortured Poets Department",
          "The Tortured Poets Department: The Anthology",
          "evermore",
          "evermore (deluxe version)",
          "folklore",
          "folklore (deluxe version)",
          "folklore: the long pond studio sessions (from the Disney+ special) [deluxe edition]",
          "reputation",
          "reputation Stadium Tour Surprise Song Playlist"
         ],
         "categoryorder": "array",
         "domain": [
          0,
          1
         ],
         "title": {
          "text": "Album"
         }
        },
        "yaxis": {
         "anchor": "x",
         "domain": [
          0,
          1
         ],
         "title": {
          "text": "Average Acousticness"
         }
        }
       }
      }
     },
     "metadata": {},
     "output_type": "display_data"
    }
   ],
   "source": [
    "# Calculate average acousticness per album\n",
    "avg_energy = df.groupby('album')['energy'].mean().reset_index()\n",
    "\n",
    "# Bar plot for average acousticness per album\n",
    "fig_avg_energy = px.bar(avg_acousticness, x='album', y='acousticness', color='album', \n",
    "                              title='Average Acousticness Per Album',\n",
    "                              labels={'acousticness': 'Average Acousticness', 'album': 'Album'})\n",
    "fig_avg_energy.show()"
   ]
  },
  {
   "cell_type": "markdown",
   "metadata": {},
   "source": [
    "How do the valence levels (positivity) of tracks differ across albums?"
   ]
  },
  {
   "cell_type": "code",
   "execution_count": 57,
   "metadata": {},
   "outputs": [
    {
     "data": {
      "application/vnd.plotly.v1+json": {
       "config": {
        "plotlyServerURL": "https://plot.ly"
       },
       "data": [
        {
         "alignmentgroup": "True",
         "hovertemplate": "Album=%{x}<br>Average Valence=%{y}<extra></extra>",
         "legendgroup": "1989",
         "marker": {
          "color": "#636efa",
          "pattern": {
           "shape": ""
          }
         },
         "name": "1989",
         "offsetgroup": "1989",
         "orientation": "v",
         "showlegend": true,
         "textposition": "auto",
         "type": "bar",
         "x": [
          "1989"
         ],
         "xaxis": "x",
         "y": [
          0.4626
         ],
         "yaxis": "y"
        },
        {
         "alignmentgroup": "True",
         "hovertemplate": "Album=%{x}<br>Average Valence=%{y}<extra></extra>",
         "legendgroup": "1989 (Deluxe Edition)",
         "marker": {
          "color": "#EF553B",
          "pattern": {
           "shape": ""
          }
         },
         "name": "1989 (Deluxe Edition)",
         "offsetgroup": "1989 (Deluxe Edition)",
         "orientation": "v",
         "showlegend": true,
         "textposition": "auto",
         "type": "bar",
         "x": [
          "1989 (Deluxe Edition)"
         ],
         "xaxis": "x",
         "y": [
          0.4542105263157895
         ],
         "yaxis": "y"
        },
        {
         "alignmentgroup": "True",
         "hovertemplate": "Album=%{x}<br>Average Valence=%{y}<extra></extra>",
         "legendgroup": "1989 (Taylor's Version)",
         "marker": {
          "color": "#00cc96",
          "pattern": {
           "shape": ""
          }
         },
         "name": "1989 (Taylor's Version)",
         "offsetgroup": "1989 (Taylor's Version)",
         "orientation": "v",
         "showlegend": true,
         "textposition": "auto",
         "type": "bar",
         "x": [
          "1989 (Taylor's Version)"
         ],
         "xaxis": "x",
         "y": [
          0.42237142857142856
         ],
         "yaxis": "y"
        },
        {
         "alignmentgroup": "True",
         "hovertemplate": "Album=%{x}<br>Average Valence=%{y}<extra></extra>",
         "legendgroup": "1989 (Taylor's Version) [Deluxe]",
         "marker": {
          "color": "#ab63fa",
          "pattern": {
           "shape": ""
          }
         },
         "name": "1989 (Taylor's Version) [Deluxe]",
         "offsetgroup": "1989 (Taylor's Version) [Deluxe]",
         "orientation": "v",
         "showlegend": true,
         "textposition": "auto",
         "type": "bar",
         "x": [
          "1989 (Taylor's Version) [Deluxe]"
         ],
         "xaxis": "x",
         "y": [
          0.41262727272727273
         ],
         "yaxis": "y"
        },
        {
         "alignmentgroup": "True",
         "hovertemplate": "Album=%{x}<br>Average Valence=%{y}<extra></extra>",
         "legendgroup": "Fearless",
         "marker": {
          "color": "#FFA15A",
          "pattern": {
           "shape": ""
          }
         },
         "name": "Fearless",
         "offsetgroup": "Fearless",
         "orientation": "v",
         "showlegend": true,
         "textposition": "auto",
         "type": "bar",
         "x": [
          "Fearless"
         ],
         "xaxis": "x",
         "y": [
          0.38423076923076926
         ],
         "yaxis": "y"
        },
        {
         "alignmentgroup": "True",
         "hovertemplate": "Album=%{x}<br>Average Valence=%{y}<extra></extra>",
         "legendgroup": "Fearless (Taylor's Version)",
         "marker": {
          "color": "#19d3f3",
          "pattern": {
           "shape": ""
          }
         },
         "name": "Fearless (Taylor's Version)",
         "offsetgroup": "Fearless (Taylor's Version)",
         "orientation": "v",
         "showlegend": true,
         "textposition": "auto",
         "type": "bar",
         "x": [
          "Fearless (Taylor's Version)"
         ],
         "xaxis": "x",
         "y": [
          0.42192307692307696
         ],
         "yaxis": "y"
        },
        {
         "alignmentgroup": "True",
         "hovertemplate": "Album=%{x}<br>Average Valence=%{y}<extra></extra>",
         "legendgroup": "Fearless Platinum Edition",
         "marker": {
          "color": "#FF6692",
          "pattern": {
           "shape": ""
          }
         },
         "name": "Fearless Platinum Edition",
         "offsetgroup": "Fearless Platinum Edition",
         "orientation": "v",
         "showlegend": true,
         "textposition": "auto",
         "type": "bar",
         "x": [
          "Fearless Platinum Edition"
         ],
         "xaxis": "x",
         "y": [
          0.38005263157894736
         ],
         "yaxis": "y"
        },
        {
         "alignmentgroup": "True",
         "hovertemplate": "Album=%{x}<br>Average Valence=%{y}<extra></extra>",
         "legendgroup": "Live From Clear Channel Stripped 2008",
         "marker": {
          "color": "#B6E880",
          "pattern": {
           "shape": ""
          }
         },
         "name": "Live From Clear Channel Stripped 2008",
         "offsetgroup": "Live From Clear Channel Stripped 2008",
         "orientation": "v",
         "showlegend": true,
         "textposition": "auto",
         "type": "bar",
         "x": [
          "Live From Clear Channel Stripped 2008"
         ],
         "xaxis": "x",
         "y": [
          0.472125
         ],
         "yaxis": "y"
        },
        {
         "alignmentgroup": "True",
         "hovertemplate": "Album=%{x}<br>Average Valence=%{y}<extra></extra>",
         "legendgroup": "Lover",
         "marker": {
          "color": "#FF97FF",
          "pattern": {
           "shape": ""
          }
         },
         "name": "Lover",
         "offsetgroup": "Lover",
         "orientation": "v",
         "showlegend": true,
         "textposition": "auto",
         "type": "bar",
         "x": [
          "Lover"
         ],
         "xaxis": "x",
         "y": [
          0.48144444444444445
         ],
         "yaxis": "y"
        },
        {
         "alignmentgroup": "True",
         "hovertemplate": "Album=%{x}<br>Average Valence=%{y}<extra></extra>",
         "legendgroup": "Midnights",
         "marker": {
          "color": "#FECB52",
          "pattern": {
           "shape": ""
          }
         },
         "name": "Midnights",
         "offsetgroup": "Midnights",
         "orientation": "v",
         "showlegend": true,
         "textposition": "auto",
         "type": "bar",
         "x": [
          "Midnights"
         ],
         "xaxis": "x",
         "y": [
          0.22353076923076923
         ],
         "yaxis": "y"
        },
        {
         "alignmentgroup": "True",
         "hovertemplate": "Album=%{x}<br>Average Valence=%{y}<extra></extra>",
         "legendgroup": "Midnights (3am Edition)",
         "marker": {
          "color": "#636efa",
          "pattern": {
           "shape": ""
          }
         },
         "name": "Midnights (3am Edition)",
         "offsetgroup": "Midnights (3am Edition)",
         "orientation": "v",
         "showlegend": true,
         "textposition": "auto",
         "type": "bar",
         "x": [
          "Midnights (3am Edition)"
         ],
         "xaxis": "x",
         "y": [
          0.28253
         ],
         "yaxis": "y"
        },
        {
         "alignmentgroup": "True",
         "hovertemplate": "Album=%{x}<br>Average Valence=%{y}<extra></extra>",
         "legendgroup": "Midnights (The Til Dawn Edition)",
         "marker": {
          "color": "#EF553B",
          "pattern": {
           "shape": ""
          }
         },
         "name": "Midnights (The Til Dawn Edition)",
         "offsetgroup": "Midnights (The Til Dawn Edition)",
         "orientation": "v",
         "showlegend": true,
         "textposition": "auto",
         "type": "bar",
         "x": [
          "Midnights (The Til Dawn Edition)"
         ],
         "xaxis": "x",
         "y": [
          0.2782434782608696
         ],
         "yaxis": "y"
        },
        {
         "alignmentgroup": "True",
         "hovertemplate": "Album=%{x}<br>Average Valence=%{y}<extra></extra>",
         "legendgroup": "Red",
         "marker": {
          "color": "#00cc96",
          "pattern": {
           "shape": ""
          }
         },
         "name": "Red",
         "offsetgroup": "Red",
         "orientation": "v",
         "showlegend": true,
         "textposition": "auto",
         "type": "bar",
         "x": [
          "Red"
         ],
         "xaxis": "x",
         "y": [
          0.49693750000000003
         ],
         "yaxis": "y"
        },
        {
         "alignmentgroup": "True",
         "hovertemplate": "Album=%{x}<br>Average Valence=%{y}<extra></extra>",
         "legendgroup": "Red (Deluxe Edition)",
         "marker": {
          "color": "#ab63fa",
          "pattern": {
           "shape": ""
          }
         },
         "name": "Red (Deluxe Edition)",
         "offsetgroup": "Red (Deluxe Edition)",
         "orientation": "v",
         "showlegend": true,
         "textposition": "auto",
         "type": "bar",
         "x": [
          "Red (Deluxe Edition)"
         ],
         "xaxis": "x",
         "y": [
          0.4681909090909091
         ],
         "yaxis": "y"
        },
        {
         "alignmentgroup": "True",
         "hovertemplate": "Album=%{x}<br>Average Valence=%{y}<extra></extra>",
         "legendgroup": "Red (Taylor's Version)",
         "marker": {
          "color": "#FFA15A",
          "pattern": {
           "shape": ""
          }
         },
         "name": "Red (Taylor's Version)",
         "offsetgroup": "Red (Taylor's Version)",
         "orientation": "v",
         "showlegend": true,
         "textposition": "auto",
         "type": "bar",
         "x": [
          "Red (Taylor's Version)"
         ],
         "xaxis": "x",
         "y": [
          0.4246
         ],
         "yaxis": "y"
        },
        {
         "alignmentgroup": "True",
         "hovertemplate": "Album=%{x}<br>Average Valence=%{y}<extra></extra>",
         "legendgroup": "Speak Now",
         "marker": {
          "color": "#19d3f3",
          "pattern": {
           "shape": ""
          }
         },
         "name": "Speak Now",
         "offsetgroup": "Speak Now",
         "orientation": "v",
         "showlegend": true,
         "textposition": "auto",
         "type": "bar",
         "x": [
          "Speak Now"
         ],
         "xaxis": "x",
         "y": [
          0.4202857142857143
         ],
         "yaxis": "y"
        },
        {
         "alignmentgroup": "True",
         "hovertemplate": "Album=%{x}<br>Average Valence=%{y}<extra></extra>",
         "legendgroup": "Speak Now (Deluxe Edition)",
         "marker": {
          "color": "#FF6692",
          "pattern": {
           "shape": ""
          }
         },
         "name": "Speak Now (Deluxe Edition)",
         "offsetgroup": "Speak Now (Deluxe Edition)",
         "orientation": "v",
         "showlegend": true,
         "textposition": "auto",
         "type": "bar",
         "x": [
          "Speak Now (Deluxe Edition)"
         ],
         "xaxis": "x",
         "y": [
          0.41695000000000004
         ],
         "yaxis": "y"
        },
        {
         "alignmentgroup": "True",
         "hovertemplate": "Album=%{x}<br>Average Valence=%{y}<extra></extra>",
         "legendgroup": "Speak Now (Taylor's Version)",
         "marker": {
          "color": "#B6E880",
          "pattern": {
           "shape": ""
          }
         },
         "name": "Speak Now (Taylor's Version)",
         "offsetgroup": "Speak Now (Taylor's Version)",
         "orientation": "v",
         "showlegend": true,
         "textposition": "auto",
         "type": "bar",
         "x": [
          "Speak Now (Taylor's Version)"
         ],
         "xaxis": "x",
         "y": [
          0.4017818181818182
         ],
         "yaxis": "y"
        },
        {
         "alignmentgroup": "True",
         "hovertemplate": "Album=%{x}<br>Average Valence=%{y}<extra></extra>",
         "legendgroup": "Speak Now World Tour Live",
         "marker": {
          "color": "#FF97FF",
          "pattern": {
           "shape": ""
          }
         },
         "name": "Speak Now World Tour Live",
         "offsetgroup": "Speak Now World Tour Live",
         "orientation": "v",
         "showlegend": true,
         "textposition": "auto",
         "type": "bar",
         "x": [
          "Speak Now World Tour Live"
         ],
         "xaxis": "x",
         "y": [
          0.29025
         ],
         "yaxis": "y"
        },
        {
         "alignmentgroup": "True",
         "hovertemplate": "Album=%{x}<br>Average Valence=%{y}<extra></extra>",
         "legendgroup": "Taylor Swift",
         "marker": {
          "color": "#FECB52",
          "pattern": {
           "shape": ""
          }
         },
         "name": "Taylor Swift",
         "offsetgroup": "Taylor Swift",
         "orientation": "v",
         "showlegend": true,
         "textposition": "auto",
         "type": "bar",
         "x": [
          "Taylor Swift"
         ],
         "xaxis": "x",
         "y": [
          0.4265333333333333
         ],
         "yaxis": "y"
        },
        {
         "alignmentgroup": "True",
         "hovertemplate": "Album=%{x}<br>Average Valence=%{y}<extra></extra>",
         "legendgroup": "The Tortured Poets Department",
         "marker": {
          "color": "#636efa",
          "pattern": {
           "shape": ""
          }
         },
         "name": "The Tortured Poets Department",
         "offsetgroup": "The Tortured Poets Department",
         "orientation": "v",
         "showlegend": true,
         "textposition": "auto",
         "type": "bar",
         "x": [
          "The Tortured Poets Department"
         ],
         "xaxis": "x",
         "y": [
          0.308375
         ],
         "yaxis": "y"
        },
        {
         "alignmentgroup": "True",
         "hovertemplate": "Album=%{x}<br>Average Valence=%{y}<extra></extra>",
         "legendgroup": "The Tortured Poets Department: The Anthology",
         "marker": {
          "color": "#EF553B",
          "pattern": {
           "shape": ""
          }
         },
         "name": "The Tortured Poets Department: The Anthology",
         "offsetgroup": "The Tortured Poets Department: The Anthology",
         "orientation": "v",
         "showlegend": true,
         "textposition": "auto",
         "type": "bar",
         "x": [
          "The Tortured Poets Department: The Anthology"
         ],
         "xaxis": "x",
         "y": [
          0.3141290322580645
         ],
         "yaxis": "y"
        },
        {
         "alignmentgroup": "True",
         "hovertemplate": "Album=%{x}<br>Average Valence=%{y}<extra></extra>",
         "legendgroup": "evermore",
         "marker": {
          "color": "#00cc96",
          "pattern": {
           "shape": ""
          }
         },
         "name": "evermore",
         "offsetgroup": "evermore",
         "orientation": "v",
         "showlegend": true,
         "textposition": "auto",
         "type": "bar",
         "x": [
          "evermore"
         ],
         "xaxis": "x",
         "y": [
          0.42060000000000003
         ],
         "yaxis": "y"
        },
        {
         "alignmentgroup": "True",
         "hovertemplate": "Album=%{x}<br>Average Valence=%{y}<extra></extra>",
         "legendgroup": "evermore (deluxe version)",
         "marker": {
          "color": "#ab63fa",
          "pattern": {
           "shape": ""
          }
         },
         "name": "evermore (deluxe version)",
         "offsetgroup": "evermore (deluxe version)",
         "orientation": "v",
         "showlegend": true,
         "textposition": "auto",
         "type": "bar",
         "x": [
          "evermore (deluxe version)"
         ],
         "xaxis": "x",
         "y": [
          0.4335294117647059
         ],
         "yaxis": "y"
        },
        {
         "alignmentgroup": "True",
         "hovertemplate": "Album=%{x}<br>Average Valence=%{y}<extra></extra>",
         "legendgroup": "folklore",
         "marker": {
          "color": "#FFA15A",
          "pattern": {
           "shape": ""
          }
         },
         "name": "folklore",
         "offsetgroup": "folklore",
         "orientation": "v",
         "showlegend": true,
         "textposition": "auto",
         "type": "bar",
         "x": [
          "folklore"
         ],
         "xaxis": "x",
         "y": [
          0.38125
         ],
         "yaxis": "y"
        },
        {
         "alignmentgroup": "True",
         "hovertemplate": "Album=%{x}<br>Average Valence=%{y}<extra></extra>",
         "legendgroup": "folklore (deluxe version)",
         "marker": {
          "color": "#19d3f3",
          "pattern": {
           "shape": ""
          }
         },
         "name": "folklore (deluxe version)",
         "offsetgroup": "folklore (deluxe version)",
         "orientation": "v",
         "showlegend": true,
         "textposition": "auto",
         "type": "bar",
         "x": [
          "folklore (deluxe version)"
         ],
         "xaxis": "x",
         "y": [
          0.3613529411764706
         ],
         "yaxis": "y"
        },
        {
         "alignmentgroup": "True",
         "hovertemplate": "Album=%{x}<br>Average Valence=%{y}<extra></extra>",
         "legendgroup": "folklore: the long pond studio sessions (from the Disney+ special) [deluxe edition]",
         "marker": {
          "color": "#FF6692",
          "pattern": {
           "shape": ""
          }
         },
         "name": "folklore: the long pond studio sessions (from the Disney+ special) [deluxe edition]",
         "offsetgroup": "folklore: the long pond studio sessions (from the Disney+ special) [deluxe edition]",
         "orientation": "v",
         "showlegend": true,
         "textposition": "auto",
         "type": "bar",
         "x": [
          "folklore: the long pond studio sessions (from the Disney+ special) [deluxe edition]"
         ],
         "xaxis": "x",
         "y": [
          0.3376764705882353
         ],
         "yaxis": "y"
        },
        {
         "alignmentgroup": "True",
         "hovertemplate": "Album=%{x}<br>Average Valence=%{y}<extra></extra>",
         "legendgroup": "reputation",
         "marker": {
          "color": "#B6E880",
          "pattern": {
           "shape": ""
          }
         },
         "name": "reputation",
         "offsetgroup": "reputation",
         "orientation": "v",
         "showlegend": true,
         "textposition": "auto",
         "type": "bar",
         "x": [
          "reputation"
         ],
         "xaxis": "x",
         "y": [
          0.2934
         ],
         "yaxis": "y"
        },
        {
         "alignmentgroup": "True",
         "hovertemplate": "Album=%{x}<br>Average Valence=%{y}<extra></extra>",
         "legendgroup": "reputation Stadium Tour Surprise Song Playlist",
         "marker": {
          "color": "#FF97FF",
          "pattern": {
           "shape": ""
          }
         },
         "name": "reputation Stadium Tour Surprise Song Playlist",
         "offsetgroup": "reputation Stadium Tour Surprise Song Playlist",
         "orientation": "v",
         "showlegend": true,
         "textposition": "auto",
         "type": "bar",
         "x": [
          "reputation Stadium Tour Surprise Song Playlist"
         ],
         "xaxis": "x",
         "y": [
          0.4464565217391304
         ],
         "yaxis": "y"
        }
       ],
       "layout": {
        "barmode": "relative",
        "legend": {
         "title": {
          "text": "Album"
         },
         "tracegroupgap": 0
        },
        "template": {
         "data": {
          "bar": [
           {
            "error_x": {
             "color": "#2a3f5f"
            },
            "error_y": {
             "color": "#2a3f5f"
            },
            "marker": {
             "line": {
              "color": "#E5ECF6",
              "width": 0.5
             },
             "pattern": {
              "fillmode": "overlay",
              "size": 10,
              "solidity": 0.2
             }
            },
            "type": "bar"
           }
          ],
          "barpolar": [
           {
            "marker": {
             "line": {
              "color": "#E5ECF6",
              "width": 0.5
             },
             "pattern": {
              "fillmode": "overlay",
              "size": 10,
              "solidity": 0.2
             }
            },
            "type": "barpolar"
           }
          ],
          "carpet": [
           {
            "aaxis": {
             "endlinecolor": "#2a3f5f",
             "gridcolor": "white",
             "linecolor": "white",
             "minorgridcolor": "white",
             "startlinecolor": "#2a3f5f"
            },
            "baxis": {
             "endlinecolor": "#2a3f5f",
             "gridcolor": "white",
             "linecolor": "white",
             "minorgridcolor": "white",
             "startlinecolor": "#2a3f5f"
            },
            "type": "carpet"
           }
          ],
          "choropleth": [
           {
            "colorbar": {
             "outlinewidth": 0,
             "ticks": ""
            },
            "type": "choropleth"
           }
          ],
          "contour": [
           {
            "colorbar": {
             "outlinewidth": 0,
             "ticks": ""
            },
            "colorscale": [
             [
              0,
              "#0d0887"
             ],
             [
              0.1111111111111111,
              "#46039f"
             ],
             [
              0.2222222222222222,
              "#7201a8"
             ],
             [
              0.3333333333333333,
              "#9c179e"
             ],
             [
              0.4444444444444444,
              "#bd3786"
             ],
             [
              0.5555555555555556,
              "#d8576b"
             ],
             [
              0.6666666666666666,
              "#ed7953"
             ],
             [
              0.7777777777777778,
              "#fb9f3a"
             ],
             [
              0.8888888888888888,
              "#fdca26"
             ],
             [
              1,
              "#f0f921"
             ]
            ],
            "type": "contour"
           }
          ],
          "contourcarpet": [
           {
            "colorbar": {
             "outlinewidth": 0,
             "ticks": ""
            },
            "type": "contourcarpet"
           }
          ],
          "heatmap": [
           {
            "colorbar": {
             "outlinewidth": 0,
             "ticks": ""
            },
            "colorscale": [
             [
              0,
              "#0d0887"
             ],
             [
              0.1111111111111111,
              "#46039f"
             ],
             [
              0.2222222222222222,
              "#7201a8"
             ],
             [
              0.3333333333333333,
              "#9c179e"
             ],
             [
              0.4444444444444444,
              "#bd3786"
             ],
             [
              0.5555555555555556,
              "#d8576b"
             ],
             [
              0.6666666666666666,
              "#ed7953"
             ],
             [
              0.7777777777777778,
              "#fb9f3a"
             ],
             [
              0.8888888888888888,
              "#fdca26"
             ],
             [
              1,
              "#f0f921"
             ]
            ],
            "type": "heatmap"
           }
          ],
          "heatmapgl": [
           {
            "colorbar": {
             "outlinewidth": 0,
             "ticks": ""
            },
            "colorscale": [
             [
              0,
              "#0d0887"
             ],
             [
              0.1111111111111111,
              "#46039f"
             ],
             [
              0.2222222222222222,
              "#7201a8"
             ],
             [
              0.3333333333333333,
              "#9c179e"
             ],
             [
              0.4444444444444444,
              "#bd3786"
             ],
             [
              0.5555555555555556,
              "#d8576b"
             ],
             [
              0.6666666666666666,
              "#ed7953"
             ],
             [
              0.7777777777777778,
              "#fb9f3a"
             ],
             [
              0.8888888888888888,
              "#fdca26"
             ],
             [
              1,
              "#f0f921"
             ]
            ],
            "type": "heatmapgl"
           }
          ],
          "histogram": [
           {
            "marker": {
             "pattern": {
              "fillmode": "overlay",
              "size": 10,
              "solidity": 0.2
             }
            },
            "type": "histogram"
           }
          ],
          "histogram2d": [
           {
            "colorbar": {
             "outlinewidth": 0,
             "ticks": ""
            },
            "colorscale": [
             [
              0,
              "#0d0887"
             ],
             [
              0.1111111111111111,
              "#46039f"
             ],
             [
              0.2222222222222222,
              "#7201a8"
             ],
             [
              0.3333333333333333,
              "#9c179e"
             ],
             [
              0.4444444444444444,
              "#bd3786"
             ],
             [
              0.5555555555555556,
              "#d8576b"
             ],
             [
              0.6666666666666666,
              "#ed7953"
             ],
             [
              0.7777777777777778,
              "#fb9f3a"
             ],
             [
              0.8888888888888888,
              "#fdca26"
             ],
             [
              1,
              "#f0f921"
             ]
            ],
            "type": "histogram2d"
           }
          ],
          "histogram2dcontour": [
           {
            "colorbar": {
             "outlinewidth": 0,
             "ticks": ""
            },
            "colorscale": [
             [
              0,
              "#0d0887"
             ],
             [
              0.1111111111111111,
              "#46039f"
             ],
             [
              0.2222222222222222,
              "#7201a8"
             ],
             [
              0.3333333333333333,
              "#9c179e"
             ],
             [
              0.4444444444444444,
              "#bd3786"
             ],
             [
              0.5555555555555556,
              "#d8576b"
             ],
             [
              0.6666666666666666,
              "#ed7953"
             ],
             [
              0.7777777777777778,
              "#fb9f3a"
             ],
             [
              0.8888888888888888,
              "#fdca26"
             ],
             [
              1,
              "#f0f921"
             ]
            ],
            "type": "histogram2dcontour"
           }
          ],
          "mesh3d": [
           {
            "colorbar": {
             "outlinewidth": 0,
             "ticks": ""
            },
            "type": "mesh3d"
           }
          ],
          "parcoords": [
           {
            "line": {
             "colorbar": {
              "outlinewidth": 0,
              "ticks": ""
             }
            },
            "type": "parcoords"
           }
          ],
          "pie": [
           {
            "automargin": true,
            "type": "pie"
           }
          ],
          "scatter": [
           {
            "fillpattern": {
             "fillmode": "overlay",
             "size": 10,
             "solidity": 0.2
            },
            "type": "scatter"
           }
          ],
          "scatter3d": [
           {
            "line": {
             "colorbar": {
              "outlinewidth": 0,
              "ticks": ""
             }
            },
            "marker": {
             "colorbar": {
              "outlinewidth": 0,
              "ticks": ""
             }
            },
            "type": "scatter3d"
           }
          ],
          "scattercarpet": [
           {
            "marker": {
             "colorbar": {
              "outlinewidth": 0,
              "ticks": ""
             }
            },
            "type": "scattercarpet"
           }
          ],
          "scattergeo": [
           {
            "marker": {
             "colorbar": {
              "outlinewidth": 0,
              "ticks": ""
             }
            },
            "type": "scattergeo"
           }
          ],
          "scattergl": [
           {
            "marker": {
             "colorbar": {
              "outlinewidth": 0,
              "ticks": ""
             }
            },
            "type": "scattergl"
           }
          ],
          "scattermapbox": [
           {
            "marker": {
             "colorbar": {
              "outlinewidth": 0,
              "ticks": ""
             }
            },
            "type": "scattermapbox"
           }
          ],
          "scatterpolar": [
           {
            "marker": {
             "colorbar": {
              "outlinewidth": 0,
              "ticks": ""
             }
            },
            "type": "scatterpolar"
           }
          ],
          "scatterpolargl": [
           {
            "marker": {
             "colorbar": {
              "outlinewidth": 0,
              "ticks": ""
             }
            },
            "type": "scatterpolargl"
           }
          ],
          "scatterternary": [
           {
            "marker": {
             "colorbar": {
              "outlinewidth": 0,
              "ticks": ""
             }
            },
            "type": "scatterternary"
           }
          ],
          "surface": [
           {
            "colorbar": {
             "outlinewidth": 0,
             "ticks": ""
            },
            "colorscale": [
             [
              0,
              "#0d0887"
             ],
             [
              0.1111111111111111,
              "#46039f"
             ],
             [
              0.2222222222222222,
              "#7201a8"
             ],
             [
              0.3333333333333333,
              "#9c179e"
             ],
             [
              0.4444444444444444,
              "#bd3786"
             ],
             [
              0.5555555555555556,
              "#d8576b"
             ],
             [
              0.6666666666666666,
              "#ed7953"
             ],
             [
              0.7777777777777778,
              "#fb9f3a"
             ],
             [
              0.8888888888888888,
              "#fdca26"
             ],
             [
              1,
              "#f0f921"
             ]
            ],
            "type": "surface"
           }
          ],
          "table": [
           {
            "cells": {
             "fill": {
              "color": "#EBF0F8"
             },
             "line": {
              "color": "white"
             }
            },
            "header": {
             "fill": {
              "color": "#C8D4E3"
             },
             "line": {
              "color": "white"
             }
            },
            "type": "table"
           }
          ]
         },
         "layout": {
          "annotationdefaults": {
           "arrowcolor": "#2a3f5f",
           "arrowhead": 0,
           "arrowwidth": 1
          },
          "autotypenumbers": "strict",
          "coloraxis": {
           "colorbar": {
            "outlinewidth": 0,
            "ticks": ""
           }
          },
          "colorscale": {
           "diverging": [
            [
             0,
             "#8e0152"
            ],
            [
             0.1,
             "#c51b7d"
            ],
            [
             0.2,
             "#de77ae"
            ],
            [
             0.3,
             "#f1b6da"
            ],
            [
             0.4,
             "#fde0ef"
            ],
            [
             0.5,
             "#f7f7f7"
            ],
            [
             0.6,
             "#e6f5d0"
            ],
            [
             0.7,
             "#b8e186"
            ],
            [
             0.8,
             "#7fbc41"
            ],
            [
             0.9,
             "#4d9221"
            ],
            [
             1,
             "#276419"
            ]
           ],
           "sequential": [
            [
             0,
             "#0d0887"
            ],
            [
             0.1111111111111111,
             "#46039f"
            ],
            [
             0.2222222222222222,
             "#7201a8"
            ],
            [
             0.3333333333333333,
             "#9c179e"
            ],
            [
             0.4444444444444444,
             "#bd3786"
            ],
            [
             0.5555555555555556,
             "#d8576b"
            ],
            [
             0.6666666666666666,
             "#ed7953"
            ],
            [
             0.7777777777777778,
             "#fb9f3a"
            ],
            [
             0.8888888888888888,
             "#fdca26"
            ],
            [
             1,
             "#f0f921"
            ]
           ],
           "sequentialminus": [
            [
             0,
             "#0d0887"
            ],
            [
             0.1111111111111111,
             "#46039f"
            ],
            [
             0.2222222222222222,
             "#7201a8"
            ],
            [
             0.3333333333333333,
             "#9c179e"
            ],
            [
             0.4444444444444444,
             "#bd3786"
            ],
            [
             0.5555555555555556,
             "#d8576b"
            ],
            [
             0.6666666666666666,
             "#ed7953"
            ],
            [
             0.7777777777777778,
             "#fb9f3a"
            ],
            [
             0.8888888888888888,
             "#fdca26"
            ],
            [
             1,
             "#f0f921"
            ]
           ]
          },
          "colorway": [
           "#636efa",
           "#EF553B",
           "#00cc96",
           "#ab63fa",
           "#FFA15A",
           "#19d3f3",
           "#FF6692",
           "#B6E880",
           "#FF97FF",
           "#FECB52"
          ],
          "font": {
           "color": "#2a3f5f"
          },
          "geo": {
           "bgcolor": "white",
           "lakecolor": "white",
           "landcolor": "#E5ECF6",
           "showlakes": true,
           "showland": true,
           "subunitcolor": "white"
          },
          "hoverlabel": {
           "align": "left"
          },
          "hovermode": "closest",
          "mapbox": {
           "style": "light"
          },
          "paper_bgcolor": "white",
          "plot_bgcolor": "#E5ECF6",
          "polar": {
           "angularaxis": {
            "gridcolor": "white",
            "linecolor": "white",
            "ticks": ""
           },
           "bgcolor": "#E5ECF6",
           "radialaxis": {
            "gridcolor": "white",
            "linecolor": "white",
            "ticks": ""
           }
          },
          "scene": {
           "xaxis": {
            "backgroundcolor": "#E5ECF6",
            "gridcolor": "white",
            "gridwidth": 2,
            "linecolor": "white",
            "showbackground": true,
            "ticks": "",
            "zerolinecolor": "white"
           },
           "yaxis": {
            "backgroundcolor": "#E5ECF6",
            "gridcolor": "white",
            "gridwidth": 2,
            "linecolor": "white",
            "showbackground": true,
            "ticks": "",
            "zerolinecolor": "white"
           },
           "zaxis": {
            "backgroundcolor": "#E5ECF6",
            "gridcolor": "white",
            "gridwidth": 2,
            "linecolor": "white",
            "showbackground": true,
            "ticks": "",
            "zerolinecolor": "white"
           }
          },
          "shapedefaults": {
           "line": {
            "color": "#2a3f5f"
           }
          },
          "ternary": {
           "aaxis": {
            "gridcolor": "white",
            "linecolor": "white",
            "ticks": ""
           },
           "baxis": {
            "gridcolor": "white",
            "linecolor": "white",
            "ticks": ""
           },
           "bgcolor": "#E5ECF6",
           "caxis": {
            "gridcolor": "white",
            "linecolor": "white",
            "ticks": ""
           }
          },
          "title": {
           "x": 0.05
          },
          "xaxis": {
           "automargin": true,
           "gridcolor": "white",
           "linecolor": "white",
           "ticks": "",
           "title": {
            "standoff": 15
           },
           "zerolinecolor": "white",
           "zerolinewidth": 2
          },
          "yaxis": {
           "automargin": true,
           "gridcolor": "white",
           "linecolor": "white",
           "ticks": "",
           "title": {
            "standoff": 15
           },
           "zerolinecolor": "white",
           "zerolinewidth": 2
          }
         }
        },
        "title": {
         "text": "Average Valence (Positivity) Per Album"
        },
        "xaxis": {
         "anchor": "y",
         "categoryarray": [
          "1989",
          "1989 (Deluxe Edition)",
          "1989 (Taylor's Version)",
          "1989 (Taylor's Version) [Deluxe]",
          "Fearless",
          "Fearless (Taylor's Version)",
          "Fearless Platinum Edition",
          "Live From Clear Channel Stripped 2008",
          "Lover",
          "Midnights",
          "Midnights (3am Edition)",
          "Midnights (The Til Dawn Edition)",
          "Red",
          "Red (Deluxe Edition)",
          "Red (Taylor's Version)",
          "Speak Now",
          "Speak Now (Deluxe Edition)",
          "Speak Now (Taylor's Version)",
          "Speak Now World Tour Live",
          "Taylor Swift",
          "The Tortured Poets Department",
          "The Tortured Poets Department: The Anthology",
          "evermore",
          "evermore (deluxe version)",
          "folklore",
          "folklore (deluxe version)",
          "folklore: the long pond studio sessions (from the Disney+ special) [deluxe edition]",
          "reputation",
          "reputation Stadium Tour Surprise Song Playlist"
         ],
         "categoryorder": "array",
         "domain": [
          0,
          1
         ],
         "title": {
          "text": "Album"
         }
        },
        "yaxis": {
         "anchor": "x",
         "domain": [
          0,
          1
         ],
         "title": {
          "text": "Average Valence"
         }
        }
       }
      }
     },
     "metadata": {},
     "output_type": "display_data"
    }
   ],
   "source": [
    "avg_valence = df.groupby('album')['valence'].mean().reset_index()\n",
    "# Bar plot for average valence per album\n",
    "fig_avg_valence = px.bar(avg_valence, x='album', y='valence', color='album', \n",
    "                         title='Average Valence (Positivity) Per Album',\n",
    "                         labels={'valence': 'Average Valence', 'album': 'Album'})\n",
    "fig_avg_valence.show()"
   ]
  },
  {
   "cell_type": "markdown",
   "metadata": {},
   "source": [
    "What are the most common themes in Taylor Swift’s tracks?"
   ]
  },
  {
   "cell_type": "code",
   "execution_count": 58,
   "metadata": {},
   "outputs": [
    {
     "data": {
      "application/vnd.plotly.v1+json": {
       "config": {
        "plotlyServerURL": "https://plot.ly"
       },
       "data": [
        {
         "alignmentgroup": "True",
         "hovertemplate": "Track Theme=%{x}<br>Count=%{y}<extra></extra>",
         "legendgroup": "Fall in love",
         "marker": {
          "color": "#636efa",
          "pattern": {
           "shape": ""
          }
         },
         "name": "Fall in love",
         "offsetgroup": "Fall in love",
         "orientation": "v",
         "showlegend": true,
         "textposition": "auto",
         "type": "bar",
         "x": [
          "Fall in love"
         ],
         "xaxis": "x",
         "y": [
          85
         ],
         "yaxis": "y"
        },
        {
         "alignmentgroup": "True",
         "hovertemplate": "Track Theme=%{x}<br>Count=%{y}<extra></extra>",
         "legendgroup": "Broken heart/Sadness",
         "marker": {
          "color": "#EF553B",
          "pattern": {
           "shape": ""
          }
         },
         "name": "Broken heart/Sadness",
         "offsetgroup": "Broken heart/Sadness",
         "orientation": "v",
         "showlegend": true,
         "textposition": "auto",
         "type": "bar",
         "x": [
          "Broken heart/Sadness"
         ],
         "xaxis": "x",
         "y": [
          81
         ],
         "yaxis": "y"
        },
        {
         "alignmentgroup": "True",
         "hovertemplate": "Track Theme=%{x}<br>Count=%{y}<extra></extra>",
         "legendgroup": "Complicated love/Looking for love",
         "marker": {
          "color": "#00cc96",
          "pattern": {
           "shape": ""
          }
         },
         "name": "Complicated love/Looking for love",
         "offsetgroup": "Complicated love/Looking for love",
         "orientation": "v",
         "showlegend": true,
         "textposition": "auto",
         "type": "bar",
         "x": [
          "Complicated love/Looking for love"
         ],
         "xaxis": "x",
         "y": [
          62
         ],
         "yaxis": "y"
        },
        {
         "alignmentgroup": "True",
         "hovertemplate": "Track Theme=%{x}<br>Count=%{y}<extra></extra>",
         "legendgroup": "New love",
         "marker": {
          "color": "#ab63fa",
          "pattern": {
           "shape": ""
          }
         },
         "name": "New love",
         "offsetgroup": "New love",
         "orientation": "v",
         "showlegend": true,
         "textposition": "auto",
         "type": "bar",
         "x": [
          "New love"
         ],
         "xaxis": "x",
         "y": [
          61
         ],
         "yaxis": "y"
        },
        {
         "alignmentgroup": "True",
         "hovertemplate": "Track Theme=%{x}<br>Count=%{y}<extra></extra>",
         "legendgroup": "Broken heart/Anger",
         "marker": {
          "color": "#FFA15A",
          "pattern": {
           "shape": ""
          }
         },
         "name": "Broken heart/Anger",
         "offsetgroup": "Broken heart/Anger",
         "orientation": "v",
         "showlegend": true,
         "textposition": "auto",
         "type": "bar",
         "x": [
          "Broken heart/Anger"
         ],
         "xaxis": "x",
         "y": [
          48
         ],
         "yaxis": "y"
        },
        {
         "alignmentgroup": "True",
         "hovertemplate": "Track Theme=%{x}<br>Count=%{y}<extra></extra>",
         "legendgroup": "Complicated love/Losing love",
         "marker": {
          "color": "#19d3f3",
          "pattern": {
           "shape": ""
          }
         },
         "name": "Complicated love/Losing love",
         "offsetgroup": "Complicated love/Losing love",
         "orientation": "v",
         "showlegend": true,
         "textposition": "auto",
         "type": "bar",
         "x": [
          "Complicated love/Losing love"
         ],
         "xaxis": "x",
         "y": [
          47
         ],
         "yaxis": "y"
        },
        {
         "alignmentgroup": "True",
         "hovertemplate": "Track Theme=%{x}<br>Count=%{y}<extra></extra>",
         "legendgroup": "Nostalgia",
         "marker": {
          "color": "#FF6692",
          "pattern": {
           "shape": ""
          }
         },
         "name": "Nostalgia",
         "offsetgroup": "Nostalgia",
         "orientation": "v",
         "showlegend": true,
         "textposition": "auto",
         "type": "bar",
         "x": [
          "Nostalgia"
         ],
         "xaxis": "x",
         "y": [
          47
         ],
         "yaxis": "y"
        },
        {
         "alignmentgroup": "True",
         "hovertemplate": "Track Theme=%{x}<br>Count=%{y}<extra></extra>",
         "legendgroup": "Betrayal/Anger",
         "marker": {
          "color": "#B6E880",
          "pattern": {
           "shape": ""
          }
         },
         "name": "Betrayal/Anger",
         "offsetgroup": "Betrayal/Anger",
         "orientation": "v",
         "showlegend": true,
         "textposition": "auto",
         "type": "bar",
         "x": [
          "Betrayal/Anger"
         ],
         "xaxis": "x",
         "y": [
          46
         ],
         "yaxis": "y"
        },
        {
         "alignmentgroup": "True",
         "hovertemplate": "Track Theme=%{x}<br>Count=%{y}<extra></extra>",
         "legendgroup": "Overcoming",
         "marker": {
          "color": "#FF97FF",
          "pattern": {
           "shape": ""
          }
         },
         "name": "Overcoming",
         "offsetgroup": "Overcoming",
         "orientation": "v",
         "showlegend": true,
         "textposition": "auto",
         "type": "bar",
         "x": [
          "Overcoming"
         ],
         "xaxis": "x",
         "y": [
          36
         ],
         "yaxis": "y"
        },
        {
         "alignmentgroup": "True",
         "hovertemplate": "Track Theme=%{x}<br>Count=%{y}<extra></extra>",
         "legendgroup": "Insecurities",
         "marker": {
          "color": "#FECB52",
          "pattern": {
           "shape": ""
          }
         },
         "name": "Insecurities",
         "offsetgroup": "Insecurities",
         "orientation": "v",
         "showlegend": true,
         "textposition": "auto",
         "type": "bar",
         "x": [
          "Insecurities"
         ],
         "xaxis": "x",
         "y": [
          25
         ],
         "yaxis": "y"
        },
        {
         "alignmentgroup": "True",
         "hovertemplate": "Track Theme=%{x}<br>Count=%{y}<extra></extra>",
         "legendgroup": "Happiness",
         "marker": {
          "color": "#636efa",
          "pattern": {
           "shape": ""
          }
         },
         "name": "Happiness",
         "offsetgroup": "Happiness",
         "orientation": "v",
         "showlegend": true,
         "textposition": "auto",
         "type": "bar",
         "x": [
          "Happiness"
         ],
         "xaxis": "x",
         "y": [
          13
         ],
         "yaxis": "y"
        },
        {
         "alignmentgroup": "True",
         "hovertemplate": "Track Theme=%{x}<br>Count=%{y}<extra></extra>",
         "legendgroup": "Repentance",
         "marker": {
          "color": "#EF553B",
          "pattern": {
           "shape": ""
          }
         },
         "name": "Repentance",
         "offsetgroup": "Repentance",
         "orientation": "v",
         "showlegend": true,
         "textposition": "auto",
         "type": "bar",
         "x": [
          "Repentance"
         ],
         "xaxis": "x",
         "y": [
          10
         ],
         "yaxis": "y"
        },
        {
         "alignmentgroup": "True",
         "hovertemplate": "Track Theme=%{x}<br>Count=%{y}<extra></extra>",
         "legendgroup": "Friendship",
         "marker": {
          "color": "#00cc96",
          "pattern": {
           "shape": ""
          }
         },
         "name": "Friendship",
         "offsetgroup": "Friendship",
         "orientation": "v",
         "showlegend": true,
         "textposition": "auto",
         "type": "bar",
         "x": [
          "Friendship"
         ],
         "xaxis": "x",
         "y": [
          9
         ],
         "yaxis": "y"
        },
        {
         "alignmentgroup": "True",
         "hovertemplate": "Track Theme=%{x}<br>Count=%{y}<extra></extra>",
         "legendgroup": "-",
         "marker": {
          "color": "#ab63fa",
          "pattern": {
           "shape": ""
          }
         },
         "name": "-",
         "offsetgroup": "-",
         "orientation": "v",
         "showlegend": true,
         "textposition": "auto",
         "type": "bar",
         "x": [
          "-"
         ],
         "xaxis": "x",
         "y": [
          3
         ],
         "yaxis": "y"
        },
        {
         "alignmentgroup": "True",
         "hovertemplate": "Track Theme=%{x}<br>Count=%{y}<extra></extra>",
         "legendgroup": "Social issues",
         "marker": {
          "color": "#FFA15A",
          "pattern": {
           "shape": ""
          }
         },
         "name": "Social issues",
         "offsetgroup": "Social issues",
         "orientation": "v",
         "showlegend": true,
         "textposition": "auto",
         "type": "bar",
         "x": [
          "Social issues"
         ],
         "xaxis": "x",
         "y": [
          1
         ],
         "yaxis": "y"
        }
       ],
       "layout": {
        "barmode": "relative",
        "legend": {
         "title": {
          "text": "Track Theme"
         },
         "tracegroupgap": 0
        },
        "template": {
         "data": {
          "bar": [
           {
            "error_x": {
             "color": "#2a3f5f"
            },
            "error_y": {
             "color": "#2a3f5f"
            },
            "marker": {
             "line": {
              "color": "#E5ECF6",
              "width": 0.5
             },
             "pattern": {
              "fillmode": "overlay",
              "size": 10,
              "solidity": 0.2
             }
            },
            "type": "bar"
           }
          ],
          "barpolar": [
           {
            "marker": {
             "line": {
              "color": "#E5ECF6",
              "width": 0.5
             },
             "pattern": {
              "fillmode": "overlay",
              "size": 10,
              "solidity": 0.2
             }
            },
            "type": "barpolar"
           }
          ],
          "carpet": [
           {
            "aaxis": {
             "endlinecolor": "#2a3f5f",
             "gridcolor": "white",
             "linecolor": "white",
             "minorgridcolor": "white",
             "startlinecolor": "#2a3f5f"
            },
            "baxis": {
             "endlinecolor": "#2a3f5f",
             "gridcolor": "white",
             "linecolor": "white",
             "minorgridcolor": "white",
             "startlinecolor": "#2a3f5f"
            },
            "type": "carpet"
           }
          ],
          "choropleth": [
           {
            "colorbar": {
             "outlinewidth": 0,
             "ticks": ""
            },
            "type": "choropleth"
           }
          ],
          "contour": [
           {
            "colorbar": {
             "outlinewidth": 0,
             "ticks": ""
            },
            "colorscale": [
             [
              0,
              "#0d0887"
             ],
             [
              0.1111111111111111,
              "#46039f"
             ],
             [
              0.2222222222222222,
              "#7201a8"
             ],
             [
              0.3333333333333333,
              "#9c179e"
             ],
             [
              0.4444444444444444,
              "#bd3786"
             ],
             [
              0.5555555555555556,
              "#d8576b"
             ],
             [
              0.6666666666666666,
              "#ed7953"
             ],
             [
              0.7777777777777778,
              "#fb9f3a"
             ],
             [
              0.8888888888888888,
              "#fdca26"
             ],
             [
              1,
              "#f0f921"
             ]
            ],
            "type": "contour"
           }
          ],
          "contourcarpet": [
           {
            "colorbar": {
             "outlinewidth": 0,
             "ticks": ""
            },
            "type": "contourcarpet"
           }
          ],
          "heatmap": [
           {
            "colorbar": {
             "outlinewidth": 0,
             "ticks": ""
            },
            "colorscale": [
             [
              0,
              "#0d0887"
             ],
             [
              0.1111111111111111,
              "#46039f"
             ],
             [
              0.2222222222222222,
              "#7201a8"
             ],
             [
              0.3333333333333333,
              "#9c179e"
             ],
             [
              0.4444444444444444,
              "#bd3786"
             ],
             [
              0.5555555555555556,
              "#d8576b"
             ],
             [
              0.6666666666666666,
              "#ed7953"
             ],
             [
              0.7777777777777778,
              "#fb9f3a"
             ],
             [
              0.8888888888888888,
              "#fdca26"
             ],
             [
              1,
              "#f0f921"
             ]
            ],
            "type": "heatmap"
           }
          ],
          "heatmapgl": [
           {
            "colorbar": {
             "outlinewidth": 0,
             "ticks": ""
            },
            "colorscale": [
             [
              0,
              "#0d0887"
             ],
             [
              0.1111111111111111,
              "#46039f"
             ],
             [
              0.2222222222222222,
              "#7201a8"
             ],
             [
              0.3333333333333333,
              "#9c179e"
             ],
             [
              0.4444444444444444,
              "#bd3786"
             ],
             [
              0.5555555555555556,
              "#d8576b"
             ],
             [
              0.6666666666666666,
              "#ed7953"
             ],
             [
              0.7777777777777778,
              "#fb9f3a"
             ],
             [
              0.8888888888888888,
              "#fdca26"
             ],
             [
              1,
              "#f0f921"
             ]
            ],
            "type": "heatmapgl"
           }
          ],
          "histogram": [
           {
            "marker": {
             "pattern": {
              "fillmode": "overlay",
              "size": 10,
              "solidity": 0.2
             }
            },
            "type": "histogram"
           }
          ],
          "histogram2d": [
           {
            "colorbar": {
             "outlinewidth": 0,
             "ticks": ""
            },
            "colorscale": [
             [
              0,
              "#0d0887"
             ],
             [
              0.1111111111111111,
              "#46039f"
             ],
             [
              0.2222222222222222,
              "#7201a8"
             ],
             [
              0.3333333333333333,
              "#9c179e"
             ],
             [
              0.4444444444444444,
              "#bd3786"
             ],
             [
              0.5555555555555556,
              "#d8576b"
             ],
             [
              0.6666666666666666,
              "#ed7953"
             ],
             [
              0.7777777777777778,
              "#fb9f3a"
             ],
             [
              0.8888888888888888,
              "#fdca26"
             ],
             [
              1,
              "#f0f921"
             ]
            ],
            "type": "histogram2d"
           }
          ],
          "histogram2dcontour": [
           {
            "colorbar": {
             "outlinewidth": 0,
             "ticks": ""
            },
            "colorscale": [
             [
              0,
              "#0d0887"
             ],
             [
              0.1111111111111111,
              "#46039f"
             ],
             [
              0.2222222222222222,
              "#7201a8"
             ],
             [
              0.3333333333333333,
              "#9c179e"
             ],
             [
              0.4444444444444444,
              "#bd3786"
             ],
             [
              0.5555555555555556,
              "#d8576b"
             ],
             [
              0.6666666666666666,
              "#ed7953"
             ],
             [
              0.7777777777777778,
              "#fb9f3a"
             ],
             [
              0.8888888888888888,
              "#fdca26"
             ],
             [
              1,
              "#f0f921"
             ]
            ],
            "type": "histogram2dcontour"
           }
          ],
          "mesh3d": [
           {
            "colorbar": {
             "outlinewidth": 0,
             "ticks": ""
            },
            "type": "mesh3d"
           }
          ],
          "parcoords": [
           {
            "line": {
             "colorbar": {
              "outlinewidth": 0,
              "ticks": ""
             }
            },
            "type": "parcoords"
           }
          ],
          "pie": [
           {
            "automargin": true,
            "type": "pie"
           }
          ],
          "scatter": [
           {
            "fillpattern": {
             "fillmode": "overlay",
             "size": 10,
             "solidity": 0.2
            },
            "type": "scatter"
           }
          ],
          "scatter3d": [
           {
            "line": {
             "colorbar": {
              "outlinewidth": 0,
              "ticks": ""
             }
            },
            "marker": {
             "colorbar": {
              "outlinewidth": 0,
              "ticks": ""
             }
            },
            "type": "scatter3d"
           }
          ],
          "scattercarpet": [
           {
            "marker": {
             "colorbar": {
              "outlinewidth": 0,
              "ticks": ""
             }
            },
            "type": "scattercarpet"
           }
          ],
          "scattergeo": [
           {
            "marker": {
             "colorbar": {
              "outlinewidth": 0,
              "ticks": ""
             }
            },
            "type": "scattergeo"
           }
          ],
          "scattergl": [
           {
            "marker": {
             "colorbar": {
              "outlinewidth": 0,
              "ticks": ""
             }
            },
            "type": "scattergl"
           }
          ],
          "scattermapbox": [
           {
            "marker": {
             "colorbar": {
              "outlinewidth": 0,
              "ticks": ""
             }
            },
            "type": "scattermapbox"
           }
          ],
          "scatterpolar": [
           {
            "marker": {
             "colorbar": {
              "outlinewidth": 0,
              "ticks": ""
             }
            },
            "type": "scatterpolar"
           }
          ],
          "scatterpolargl": [
           {
            "marker": {
             "colorbar": {
              "outlinewidth": 0,
              "ticks": ""
             }
            },
            "type": "scatterpolargl"
           }
          ],
          "scatterternary": [
           {
            "marker": {
             "colorbar": {
              "outlinewidth": 0,
              "ticks": ""
             }
            },
            "type": "scatterternary"
           }
          ],
          "surface": [
           {
            "colorbar": {
             "outlinewidth": 0,
             "ticks": ""
            },
            "colorscale": [
             [
              0,
              "#0d0887"
             ],
             [
              0.1111111111111111,
              "#46039f"
             ],
             [
              0.2222222222222222,
              "#7201a8"
             ],
             [
              0.3333333333333333,
              "#9c179e"
             ],
             [
              0.4444444444444444,
              "#bd3786"
             ],
             [
              0.5555555555555556,
              "#d8576b"
             ],
             [
              0.6666666666666666,
              "#ed7953"
             ],
             [
              0.7777777777777778,
              "#fb9f3a"
             ],
             [
              0.8888888888888888,
              "#fdca26"
             ],
             [
              1,
              "#f0f921"
             ]
            ],
            "type": "surface"
           }
          ],
          "table": [
           {
            "cells": {
             "fill": {
              "color": "#EBF0F8"
             },
             "line": {
              "color": "white"
             }
            },
            "header": {
             "fill": {
              "color": "#C8D4E3"
             },
             "line": {
              "color": "white"
             }
            },
            "type": "table"
           }
          ]
         },
         "layout": {
          "annotationdefaults": {
           "arrowcolor": "#2a3f5f",
           "arrowhead": 0,
           "arrowwidth": 1
          },
          "autotypenumbers": "strict",
          "coloraxis": {
           "colorbar": {
            "outlinewidth": 0,
            "ticks": ""
           }
          },
          "colorscale": {
           "diverging": [
            [
             0,
             "#8e0152"
            ],
            [
             0.1,
             "#c51b7d"
            ],
            [
             0.2,
             "#de77ae"
            ],
            [
             0.3,
             "#f1b6da"
            ],
            [
             0.4,
             "#fde0ef"
            ],
            [
             0.5,
             "#f7f7f7"
            ],
            [
             0.6,
             "#e6f5d0"
            ],
            [
             0.7,
             "#b8e186"
            ],
            [
             0.8,
             "#7fbc41"
            ],
            [
             0.9,
             "#4d9221"
            ],
            [
             1,
             "#276419"
            ]
           ],
           "sequential": [
            [
             0,
             "#0d0887"
            ],
            [
             0.1111111111111111,
             "#46039f"
            ],
            [
             0.2222222222222222,
             "#7201a8"
            ],
            [
             0.3333333333333333,
             "#9c179e"
            ],
            [
             0.4444444444444444,
             "#bd3786"
            ],
            [
             0.5555555555555556,
             "#d8576b"
            ],
            [
             0.6666666666666666,
             "#ed7953"
            ],
            [
             0.7777777777777778,
             "#fb9f3a"
            ],
            [
             0.8888888888888888,
             "#fdca26"
            ],
            [
             1,
             "#f0f921"
            ]
           ],
           "sequentialminus": [
            [
             0,
             "#0d0887"
            ],
            [
             0.1111111111111111,
             "#46039f"
            ],
            [
             0.2222222222222222,
             "#7201a8"
            ],
            [
             0.3333333333333333,
             "#9c179e"
            ],
            [
             0.4444444444444444,
             "#bd3786"
            ],
            [
             0.5555555555555556,
             "#d8576b"
            ],
            [
             0.6666666666666666,
             "#ed7953"
            ],
            [
             0.7777777777777778,
             "#fb9f3a"
            ],
            [
             0.8888888888888888,
             "#fdca26"
            ],
            [
             1,
             "#f0f921"
            ]
           ]
          },
          "colorway": [
           "#636efa",
           "#EF553B",
           "#00cc96",
           "#ab63fa",
           "#FFA15A",
           "#19d3f3",
           "#FF6692",
           "#B6E880",
           "#FF97FF",
           "#FECB52"
          ],
          "font": {
           "color": "#2a3f5f"
          },
          "geo": {
           "bgcolor": "white",
           "lakecolor": "white",
           "landcolor": "#E5ECF6",
           "showlakes": true,
           "showland": true,
           "subunitcolor": "white"
          },
          "hoverlabel": {
           "align": "left"
          },
          "hovermode": "closest",
          "mapbox": {
           "style": "light"
          },
          "paper_bgcolor": "white",
          "plot_bgcolor": "#E5ECF6",
          "polar": {
           "angularaxis": {
            "gridcolor": "white",
            "linecolor": "white",
            "ticks": ""
           },
           "bgcolor": "#E5ECF6",
           "radialaxis": {
            "gridcolor": "white",
            "linecolor": "white",
            "ticks": ""
           }
          },
          "scene": {
           "xaxis": {
            "backgroundcolor": "#E5ECF6",
            "gridcolor": "white",
            "gridwidth": 2,
            "linecolor": "white",
            "showbackground": true,
            "ticks": "",
            "zerolinecolor": "white"
           },
           "yaxis": {
            "backgroundcolor": "#E5ECF6",
            "gridcolor": "white",
            "gridwidth": 2,
            "linecolor": "white",
            "showbackground": true,
            "ticks": "",
            "zerolinecolor": "white"
           },
           "zaxis": {
            "backgroundcolor": "#E5ECF6",
            "gridcolor": "white",
            "gridwidth": 2,
            "linecolor": "white",
            "showbackground": true,
            "ticks": "",
            "zerolinecolor": "white"
           }
          },
          "shapedefaults": {
           "line": {
            "color": "#2a3f5f"
           }
          },
          "ternary": {
           "aaxis": {
            "gridcolor": "white",
            "linecolor": "white",
            "ticks": ""
           },
           "baxis": {
            "gridcolor": "white",
            "linecolor": "white",
            "ticks": ""
           },
           "bgcolor": "#E5ECF6",
           "caxis": {
            "gridcolor": "white",
            "linecolor": "white",
            "ticks": ""
           }
          },
          "title": {
           "x": 0.05
          },
          "xaxis": {
           "automargin": true,
           "gridcolor": "white",
           "linecolor": "white",
           "ticks": "",
           "title": {
            "standoff": 15
           },
           "zerolinecolor": "white",
           "zerolinewidth": 2
          },
          "yaxis": {
           "automargin": true,
           "gridcolor": "white",
           "linecolor": "white",
           "ticks": "",
           "title": {
            "standoff": 15
           },
           "zerolinecolor": "white",
           "zerolinewidth": 2
          }
         }
        },
        "title": {
         "text": "Most Common Track Themes"
        },
        "xaxis": {
         "anchor": "y",
         "categoryarray": [
          "Fall in love",
          "Broken heart/Sadness",
          "Complicated love/Looking for love",
          "New love",
          "Broken heart/Anger",
          "Complicated love/Losing love",
          "Nostalgia",
          "Betrayal/Anger",
          "Overcoming",
          "Insecurities",
          "Happiness",
          "Repentance",
          "Friendship",
          "-",
          "Social issues"
         ],
         "categoryorder": "array",
         "domain": [
          0,
          1
         ],
         "title": {
          "text": "Track Theme"
         }
        },
        "yaxis": {
         "anchor": "x",
         "domain": [
          0,
          1
         ],
         "title": {
          "text": "Count"
         }
        }
       }
      }
     },
     "metadata": {},
     "output_type": "display_data"
    }
   ],
   "source": [
    "# Bar plot for the frequency of track themes\n",
    "theme_counts = df['track_theme'].value_counts().reset_index()\n",
    "theme_counts.columns = ['track_theme', 'count']\n",
    "\n",
    "fig_track_themes = px.bar(theme_counts, x='track_theme', y='count', color='track_theme', \n",
    "                          title='Most Common Track Themes',\n",
    "                          labels={'track_theme': 'Track Theme', 'count': 'Count'})\n",
    "fig_track_themes.show()"
   ]
  },
  {
   "cell_type": "markdown",
   "metadata": {},
   "source": [
    "How do the energy levels of tracks differ across track types?"
   ]
  },
  {
   "cell_type": "code",
   "execution_count": 59,
   "metadata": {},
   "outputs": [
    {
     "data": {
      "application/vnd.plotly.v1+json": {
       "config": {
        "plotlyServerURL": "https://plot.ly"
       },
       "data": [
        {
         "alignmentgroup": "True",
         "hovertemplate": "Track Type=%{x}<br>Average Energy=%{y}<extra></extra>",
         "legendgroup": "Acoustic Version",
         "marker": {
          "color": "#636efa",
          "pattern": {
           "shape": ""
          }
         },
         "name": "Acoustic Version",
         "offsetgroup": "Acoustic Version",
         "orientation": "v",
         "showlegend": true,
         "textposition": "auto",
         "type": "bar",
         "x": [
          "Acoustic Version"
         ],
         "xaxis": "x",
         "y": [
          0.28625
         ],
         "yaxis": "y"
        },
        {
         "alignmentgroup": "True",
         "hovertemplate": "Track Type=%{x}<br>Average Energy=%{y}<extra></extra>",
         "legendgroup": "B-Side",
         "marker": {
          "color": "#EF553B",
          "pattern": {
           "shape": ""
          }
         },
         "name": "B-Side",
         "offsetgroup": "B-Side",
         "orientation": "v",
         "showlegend": true,
         "textposition": "auto",
         "type": "bar",
         "x": [
          "B-Side"
         ],
         "xaxis": "x",
         "y": [
          0.5572398921832884
         ],
         "yaxis": "y"
        },
        {
         "alignmentgroup": "True",
         "hovertemplate": "Track Type=%{x}<br>Average Energy=%{y}<extra></extra>",
         "legendgroup": "Live",
         "marker": {
          "color": "#00cc96",
          "pattern": {
           "shape": ""
          }
         },
         "name": "Live",
         "offsetgroup": "Live",
         "orientation": "v",
         "showlegend": true,
         "textposition": "auto",
         "type": "bar",
         "x": [
          "Live"
         ],
         "xaxis": "x",
         "y": [
          0.5078536585365854
         ],
         "yaxis": "y"
        },
        {
         "alignmentgroup": "True",
         "hovertemplate": "Track Type=%{x}<br>Average Energy=%{y}<extra></extra>",
         "legendgroup": "Remix",
         "marker": {
          "color": "#ab63fa",
          "pattern": {
           "shape": ""
          }
         },
         "name": "Remix",
         "offsetgroup": "Remix",
         "orientation": "v",
         "showlegend": true,
         "textposition": "auto",
         "type": "bar",
         "x": [
          "Remix"
         ],
         "xaxis": "x",
         "y": [
          0.57
         ],
         "yaxis": "y"
        },
        {
         "alignmentgroup": "True",
         "hovertemplate": "Track Type=%{x}<br>Average Energy=%{y}<extra></extra>",
         "legendgroup": "Single",
         "marker": {
          "color": "#FFA15A",
          "pattern": {
           "shape": ""
          }
         },
         "name": "Single",
         "offsetgroup": "Single",
         "orientation": "v",
         "showlegend": true,
         "textposition": "auto",
         "type": "bar",
         "x": [
          "Single"
         ],
         "xaxis": "x",
         "y": [
          0.630051724137931
         ],
         "yaxis": "y"
        },
        {
         "alignmentgroup": "True",
         "hovertemplate": "Track Type=%{x}<br>Average Energy=%{y}<extra></extra>",
         "legendgroup": "Soundtrack",
         "marker": {
          "color": "#19d3f3",
          "pattern": {
           "shape": ""
          }
         },
         "name": "Soundtrack",
         "offsetgroup": "Soundtrack",
         "orientation": "v",
         "showlegend": true,
         "textposition": "auto",
         "type": "bar",
         "x": [
          "Soundtrack"
         ],
         "xaxis": "x",
         "y": [
          0.445
         ],
         "yaxis": "y"
        },
        {
         "alignmentgroup": "True",
         "hovertemplate": "Track Type=%{x}<br>Average Energy=%{y}<extra></extra>",
         "legendgroup": "Special Deluxe",
         "marker": {
          "color": "#FF6692",
          "pattern": {
           "shape": ""
          }
         },
         "name": "Special Deluxe",
         "offsetgroup": "Special Deluxe",
         "orientation": "v",
         "showlegend": true,
         "textposition": "auto",
         "type": "bar",
         "x": [
          "Special Deluxe"
         ],
         "xaxis": "x",
         "y": [
          0.5518684210526316
         ],
         "yaxis": "y"
        },
        {
         "alignmentgroup": "True",
         "hovertemplate": "Track Type=%{x}<br>Average Energy=%{y}<extra></extra>",
         "legendgroup": "Voice Memo",
         "marker": {
          "color": "#B6E880",
          "pattern": {
           "shape": ""
          }
         },
         "name": "Voice Memo",
         "offsetgroup": "Voice Memo",
         "orientation": "v",
         "showlegend": true,
         "textposition": "auto",
         "type": "bar",
         "x": [
          "Voice Memo"
         ],
         "xaxis": "x",
         "y": [
          0.40525
         ],
         "yaxis": "y"
        }
       ],
       "layout": {
        "barmode": "relative",
        "legend": {
         "title": {
          "text": "Track Type"
         },
         "tracegroupgap": 0
        },
        "template": {
         "data": {
          "bar": [
           {
            "error_x": {
             "color": "#2a3f5f"
            },
            "error_y": {
             "color": "#2a3f5f"
            },
            "marker": {
             "line": {
              "color": "#E5ECF6",
              "width": 0.5
             },
             "pattern": {
              "fillmode": "overlay",
              "size": 10,
              "solidity": 0.2
             }
            },
            "type": "bar"
           }
          ],
          "barpolar": [
           {
            "marker": {
             "line": {
              "color": "#E5ECF6",
              "width": 0.5
             },
             "pattern": {
              "fillmode": "overlay",
              "size": 10,
              "solidity": 0.2
             }
            },
            "type": "barpolar"
           }
          ],
          "carpet": [
           {
            "aaxis": {
             "endlinecolor": "#2a3f5f",
             "gridcolor": "white",
             "linecolor": "white",
             "minorgridcolor": "white",
             "startlinecolor": "#2a3f5f"
            },
            "baxis": {
             "endlinecolor": "#2a3f5f",
             "gridcolor": "white",
             "linecolor": "white",
             "minorgridcolor": "white",
             "startlinecolor": "#2a3f5f"
            },
            "type": "carpet"
           }
          ],
          "choropleth": [
           {
            "colorbar": {
             "outlinewidth": 0,
             "ticks": ""
            },
            "type": "choropleth"
           }
          ],
          "contour": [
           {
            "colorbar": {
             "outlinewidth": 0,
             "ticks": ""
            },
            "colorscale": [
             [
              0,
              "#0d0887"
             ],
             [
              0.1111111111111111,
              "#46039f"
             ],
             [
              0.2222222222222222,
              "#7201a8"
             ],
             [
              0.3333333333333333,
              "#9c179e"
             ],
             [
              0.4444444444444444,
              "#bd3786"
             ],
             [
              0.5555555555555556,
              "#d8576b"
             ],
             [
              0.6666666666666666,
              "#ed7953"
             ],
             [
              0.7777777777777778,
              "#fb9f3a"
             ],
             [
              0.8888888888888888,
              "#fdca26"
             ],
             [
              1,
              "#f0f921"
             ]
            ],
            "type": "contour"
           }
          ],
          "contourcarpet": [
           {
            "colorbar": {
             "outlinewidth": 0,
             "ticks": ""
            },
            "type": "contourcarpet"
           }
          ],
          "heatmap": [
           {
            "colorbar": {
             "outlinewidth": 0,
             "ticks": ""
            },
            "colorscale": [
             [
              0,
              "#0d0887"
             ],
             [
              0.1111111111111111,
              "#46039f"
             ],
             [
              0.2222222222222222,
              "#7201a8"
             ],
             [
              0.3333333333333333,
              "#9c179e"
             ],
             [
              0.4444444444444444,
              "#bd3786"
             ],
             [
              0.5555555555555556,
              "#d8576b"
             ],
             [
              0.6666666666666666,
              "#ed7953"
             ],
             [
              0.7777777777777778,
              "#fb9f3a"
             ],
             [
              0.8888888888888888,
              "#fdca26"
             ],
             [
              1,
              "#f0f921"
             ]
            ],
            "type": "heatmap"
           }
          ],
          "heatmapgl": [
           {
            "colorbar": {
             "outlinewidth": 0,
             "ticks": ""
            },
            "colorscale": [
             [
              0,
              "#0d0887"
             ],
             [
              0.1111111111111111,
              "#46039f"
             ],
             [
              0.2222222222222222,
              "#7201a8"
             ],
             [
              0.3333333333333333,
              "#9c179e"
             ],
             [
              0.4444444444444444,
              "#bd3786"
             ],
             [
              0.5555555555555556,
              "#d8576b"
             ],
             [
              0.6666666666666666,
              "#ed7953"
             ],
             [
              0.7777777777777778,
              "#fb9f3a"
             ],
             [
              0.8888888888888888,
              "#fdca26"
             ],
             [
              1,
              "#f0f921"
             ]
            ],
            "type": "heatmapgl"
           }
          ],
          "histogram": [
           {
            "marker": {
             "pattern": {
              "fillmode": "overlay",
              "size": 10,
              "solidity": 0.2
             }
            },
            "type": "histogram"
           }
          ],
          "histogram2d": [
           {
            "colorbar": {
             "outlinewidth": 0,
             "ticks": ""
            },
            "colorscale": [
             [
              0,
              "#0d0887"
             ],
             [
              0.1111111111111111,
              "#46039f"
             ],
             [
              0.2222222222222222,
              "#7201a8"
             ],
             [
              0.3333333333333333,
              "#9c179e"
             ],
             [
              0.4444444444444444,
              "#bd3786"
             ],
             [
              0.5555555555555556,
              "#d8576b"
             ],
             [
              0.6666666666666666,
              "#ed7953"
             ],
             [
              0.7777777777777778,
              "#fb9f3a"
             ],
             [
              0.8888888888888888,
              "#fdca26"
             ],
             [
              1,
              "#f0f921"
             ]
            ],
            "type": "histogram2d"
           }
          ],
          "histogram2dcontour": [
           {
            "colorbar": {
             "outlinewidth": 0,
             "ticks": ""
            },
            "colorscale": [
             [
              0,
              "#0d0887"
             ],
             [
              0.1111111111111111,
              "#46039f"
             ],
             [
              0.2222222222222222,
              "#7201a8"
             ],
             [
              0.3333333333333333,
              "#9c179e"
             ],
             [
              0.4444444444444444,
              "#bd3786"
             ],
             [
              0.5555555555555556,
              "#d8576b"
             ],
             [
              0.6666666666666666,
              "#ed7953"
             ],
             [
              0.7777777777777778,
              "#fb9f3a"
             ],
             [
              0.8888888888888888,
              "#fdca26"
             ],
             [
              1,
              "#f0f921"
             ]
            ],
            "type": "histogram2dcontour"
           }
          ],
          "mesh3d": [
           {
            "colorbar": {
             "outlinewidth": 0,
             "ticks": ""
            },
            "type": "mesh3d"
           }
          ],
          "parcoords": [
           {
            "line": {
             "colorbar": {
              "outlinewidth": 0,
              "ticks": ""
             }
            },
            "type": "parcoords"
           }
          ],
          "pie": [
           {
            "automargin": true,
            "type": "pie"
           }
          ],
          "scatter": [
           {
            "fillpattern": {
             "fillmode": "overlay",
             "size": 10,
             "solidity": 0.2
            },
            "type": "scatter"
           }
          ],
          "scatter3d": [
           {
            "line": {
             "colorbar": {
              "outlinewidth": 0,
              "ticks": ""
             }
            },
            "marker": {
             "colorbar": {
              "outlinewidth": 0,
              "ticks": ""
             }
            },
            "type": "scatter3d"
           }
          ],
          "scattercarpet": [
           {
            "marker": {
             "colorbar": {
              "outlinewidth": 0,
              "ticks": ""
             }
            },
            "type": "scattercarpet"
           }
          ],
          "scattergeo": [
           {
            "marker": {
             "colorbar": {
              "outlinewidth": 0,
              "ticks": ""
             }
            },
            "type": "scattergeo"
           }
          ],
          "scattergl": [
           {
            "marker": {
             "colorbar": {
              "outlinewidth": 0,
              "ticks": ""
             }
            },
            "type": "scattergl"
           }
          ],
          "scattermapbox": [
           {
            "marker": {
             "colorbar": {
              "outlinewidth": 0,
              "ticks": ""
             }
            },
            "type": "scattermapbox"
           }
          ],
          "scatterpolar": [
           {
            "marker": {
             "colorbar": {
              "outlinewidth": 0,
              "ticks": ""
             }
            },
            "type": "scatterpolar"
           }
          ],
          "scatterpolargl": [
           {
            "marker": {
             "colorbar": {
              "outlinewidth": 0,
              "ticks": ""
             }
            },
            "type": "scatterpolargl"
           }
          ],
          "scatterternary": [
           {
            "marker": {
             "colorbar": {
              "outlinewidth": 0,
              "ticks": ""
             }
            },
            "type": "scatterternary"
           }
          ],
          "surface": [
           {
            "colorbar": {
             "outlinewidth": 0,
             "ticks": ""
            },
            "colorscale": [
             [
              0,
              "#0d0887"
             ],
             [
              0.1111111111111111,
              "#46039f"
             ],
             [
              0.2222222222222222,
              "#7201a8"
             ],
             [
              0.3333333333333333,
              "#9c179e"
             ],
             [
              0.4444444444444444,
              "#bd3786"
             ],
             [
              0.5555555555555556,
              "#d8576b"
             ],
             [
              0.6666666666666666,
              "#ed7953"
             ],
             [
              0.7777777777777778,
              "#fb9f3a"
             ],
             [
              0.8888888888888888,
              "#fdca26"
             ],
             [
              1,
              "#f0f921"
             ]
            ],
            "type": "surface"
           }
          ],
          "table": [
           {
            "cells": {
             "fill": {
              "color": "#EBF0F8"
             },
             "line": {
              "color": "white"
             }
            },
            "header": {
             "fill": {
              "color": "#C8D4E3"
             },
             "line": {
              "color": "white"
             }
            },
            "type": "table"
           }
          ]
         },
         "layout": {
          "annotationdefaults": {
           "arrowcolor": "#2a3f5f",
           "arrowhead": 0,
           "arrowwidth": 1
          },
          "autotypenumbers": "strict",
          "coloraxis": {
           "colorbar": {
            "outlinewidth": 0,
            "ticks": ""
           }
          },
          "colorscale": {
           "diverging": [
            [
             0,
             "#8e0152"
            ],
            [
             0.1,
             "#c51b7d"
            ],
            [
             0.2,
             "#de77ae"
            ],
            [
             0.3,
             "#f1b6da"
            ],
            [
             0.4,
             "#fde0ef"
            ],
            [
             0.5,
             "#f7f7f7"
            ],
            [
             0.6,
             "#e6f5d0"
            ],
            [
             0.7,
             "#b8e186"
            ],
            [
             0.8,
             "#7fbc41"
            ],
            [
             0.9,
             "#4d9221"
            ],
            [
             1,
             "#276419"
            ]
           ],
           "sequential": [
            [
             0,
             "#0d0887"
            ],
            [
             0.1111111111111111,
             "#46039f"
            ],
            [
             0.2222222222222222,
             "#7201a8"
            ],
            [
             0.3333333333333333,
             "#9c179e"
            ],
            [
             0.4444444444444444,
             "#bd3786"
            ],
            [
             0.5555555555555556,
             "#d8576b"
            ],
            [
             0.6666666666666666,
             "#ed7953"
            ],
            [
             0.7777777777777778,
             "#fb9f3a"
            ],
            [
             0.8888888888888888,
             "#fdca26"
            ],
            [
             1,
             "#f0f921"
            ]
           ],
           "sequentialminus": [
            [
             0,
             "#0d0887"
            ],
            [
             0.1111111111111111,
             "#46039f"
            ],
            [
             0.2222222222222222,
             "#7201a8"
            ],
            [
             0.3333333333333333,
             "#9c179e"
            ],
            [
             0.4444444444444444,
             "#bd3786"
            ],
            [
             0.5555555555555556,
             "#d8576b"
            ],
            [
             0.6666666666666666,
             "#ed7953"
            ],
            [
             0.7777777777777778,
             "#fb9f3a"
            ],
            [
             0.8888888888888888,
             "#fdca26"
            ],
            [
             1,
             "#f0f921"
            ]
           ]
          },
          "colorway": [
           "#636efa",
           "#EF553B",
           "#00cc96",
           "#ab63fa",
           "#FFA15A",
           "#19d3f3",
           "#FF6692",
           "#B6E880",
           "#FF97FF",
           "#FECB52"
          ],
          "font": {
           "color": "#2a3f5f"
          },
          "geo": {
           "bgcolor": "white",
           "lakecolor": "white",
           "landcolor": "#E5ECF6",
           "showlakes": true,
           "showland": true,
           "subunitcolor": "white"
          },
          "hoverlabel": {
           "align": "left"
          },
          "hovermode": "closest",
          "mapbox": {
           "style": "light"
          },
          "paper_bgcolor": "white",
          "plot_bgcolor": "#E5ECF6",
          "polar": {
           "angularaxis": {
            "gridcolor": "white",
            "linecolor": "white",
            "ticks": ""
           },
           "bgcolor": "#E5ECF6",
           "radialaxis": {
            "gridcolor": "white",
            "linecolor": "white",
            "ticks": ""
           }
          },
          "scene": {
           "xaxis": {
            "backgroundcolor": "#E5ECF6",
            "gridcolor": "white",
            "gridwidth": 2,
            "linecolor": "white",
            "showbackground": true,
            "ticks": "",
            "zerolinecolor": "white"
           },
           "yaxis": {
            "backgroundcolor": "#E5ECF6",
            "gridcolor": "white",
            "gridwidth": 2,
            "linecolor": "white",
            "showbackground": true,
            "ticks": "",
            "zerolinecolor": "white"
           },
           "zaxis": {
            "backgroundcolor": "#E5ECF6",
            "gridcolor": "white",
            "gridwidth": 2,
            "linecolor": "white",
            "showbackground": true,
            "ticks": "",
            "zerolinecolor": "white"
           }
          },
          "shapedefaults": {
           "line": {
            "color": "#2a3f5f"
           }
          },
          "ternary": {
           "aaxis": {
            "gridcolor": "white",
            "linecolor": "white",
            "ticks": ""
           },
           "baxis": {
            "gridcolor": "white",
            "linecolor": "white",
            "ticks": ""
           },
           "bgcolor": "#E5ECF6",
           "caxis": {
            "gridcolor": "white",
            "linecolor": "white",
            "ticks": ""
           }
          },
          "title": {
           "x": 0.05
          },
          "xaxis": {
           "automargin": true,
           "gridcolor": "white",
           "linecolor": "white",
           "ticks": "",
           "title": {
            "standoff": 15
           },
           "zerolinecolor": "white",
           "zerolinewidth": 2
          },
          "yaxis": {
           "automargin": true,
           "gridcolor": "white",
           "linecolor": "white",
           "ticks": "",
           "title": {
            "standoff": 15
           },
           "zerolinecolor": "white",
           "zerolinewidth": 2
          }
         }
        },
        "title": {
         "text": "Average Energy by Track Type"
        },
        "xaxis": {
         "anchor": "y",
         "categoryarray": [
          "Acoustic Version",
          "B-Side",
          "Live",
          "Remix",
          "Single",
          "Soundtrack",
          "Special Deluxe",
          "Voice Memo"
         ],
         "categoryorder": "array",
         "domain": [
          0,
          1
         ],
         "title": {
          "text": "Track Type"
         }
        },
        "yaxis": {
         "anchor": "x",
         "domain": [
          0,
          1
         ],
         "title": {
          "text": "Average Energy"
         }
        }
       }
      }
     },
     "metadata": {},
     "output_type": "display_data"
    }
   ],
   "source": [
    "# Calculate average energy per track type\n",
    "avg_energy_track_type = df.groupby('track_type')['energy'].mean().reset_index()\n",
    "\n",
    "# Bar plot for average energy per track type\n",
    "fig_avg_energy_track_type = px.bar(avg_energy_track_type, x='track_type', y='energy', color='track_type', \n",
    "                                   title='Average Energy by Track Type',\n",
    "                                   labels={'energy': 'Average Energy', 'track_type': 'Track Type'})\n",
    "fig_avg_energy_track_type.show()"
   ]
  },
  {
   "cell_type": "markdown",
   "metadata": {},
   "source": [
    "What is the distribution of track numbers across albums?"
   ]
  },
  {
   "cell_type": "code",
   "execution_count": 60,
   "metadata": {},
   "outputs": [
    {
     "data": {
      "application/vnd.plotly.v1+json": {
       "config": {
        "plotlyServerURL": "https://plot.ly"
       },
       "data": [
        {
         "alignmentgroup": "True",
         "hovertemplate": "Album=%{x}<br>Number of Tracks=%{y}<extra></extra>",
         "legendgroup": "reputation Stadium Tour Surprise Song Playlist",
         "marker": {
          "color": "#636efa",
          "pattern": {
           "shape": ""
          }
         },
         "name": "reputation Stadium Tour Surprise Song Playlist",
         "offsetgroup": "reputation Stadium Tour Surprise Song Playlist",
         "orientation": "v",
         "showlegend": true,
         "textposition": "auto",
         "type": "bar",
         "x": [
          "reputation Stadium Tour Surprise Song Playlist"
         ],
         "xaxis": "x",
         "y": [
          46
         ],
         "yaxis": "y"
        },
        {
         "alignmentgroup": "True",
         "hovertemplate": "Album=%{x}<br>Number of Tracks=%{y}<extra></extra>",
         "legendgroup": "folklore: the long pond studio sessions (from the Disney+ special) [deluxe edition]",
         "marker": {
          "color": "#EF553B",
          "pattern": {
           "shape": ""
          }
         },
         "name": "folklore: the long pond studio sessions (from the Disney+ special) [deluxe edition]",
         "offsetgroup": "folklore: the long pond studio sessions (from the Disney+ special) [deluxe edition]",
         "orientation": "v",
         "showlegend": true,
         "textposition": "auto",
         "type": "bar",
         "x": [
          "folklore: the long pond studio sessions (from the Disney+ special) [deluxe edition]"
         ],
         "xaxis": "x",
         "y": [
          34
         ],
         "yaxis": "y"
        },
        {
         "alignmentgroup": "True",
         "hovertemplate": "Album=%{x}<br>Number of Tracks=%{y}<extra></extra>",
         "legendgroup": "The Tortured Poets Department: The Anthology",
         "marker": {
          "color": "#00cc96",
          "pattern": {
           "shape": ""
          }
         },
         "name": "The Tortured Poets Department: The Anthology",
         "offsetgroup": "The Tortured Poets Department: The Anthology",
         "orientation": "v",
         "showlegend": true,
         "textposition": "auto",
         "type": "bar",
         "x": [
          "The Tortured Poets Department: The Anthology"
         ],
         "xaxis": "x",
         "y": [
          31
         ],
         "yaxis": "y"
        },
        {
         "alignmentgroup": "True",
         "hovertemplate": "Album=%{x}<br>Number of Tracks=%{y}<extra></extra>",
         "legendgroup": "Red (Taylor's Version)",
         "marker": {
          "color": "#ab63fa",
          "pattern": {
           "shape": ""
          }
         },
         "name": "Red (Taylor's Version)",
         "offsetgroup": "Red (Taylor's Version)",
         "orientation": "v",
         "showlegend": true,
         "textposition": "auto",
         "type": "bar",
         "x": [
          "Red (Taylor's Version)"
         ],
         "xaxis": "x",
         "y": [
          30
         ],
         "yaxis": "y"
        },
        {
         "alignmentgroup": "True",
         "hovertemplate": "Album=%{x}<br>Number of Tracks=%{y}<extra></extra>",
         "legendgroup": "Fearless (Taylor's Version)",
         "marker": {
          "color": "#FFA15A",
          "pattern": {
           "shape": ""
          }
         },
         "name": "Fearless (Taylor's Version)",
         "offsetgroup": "Fearless (Taylor's Version)",
         "orientation": "v",
         "showlegend": true,
         "textposition": "auto",
         "type": "bar",
         "x": [
          "Fearless (Taylor's Version)"
         ],
         "xaxis": "x",
         "y": [
          26
         ],
         "yaxis": "y"
        },
        {
         "alignmentgroup": "True",
         "hovertemplate": "Album=%{x}<br>Number of Tracks=%{y}<extra></extra>",
         "legendgroup": "Midnights (The Til Dawn Edition)",
         "marker": {
          "color": "#19d3f3",
          "pattern": {
           "shape": ""
          }
         },
         "name": "Midnights (The Til Dawn Edition)",
         "offsetgroup": "Midnights (The Til Dawn Edition)",
         "orientation": "v",
         "showlegend": true,
         "textposition": "auto",
         "type": "bar",
         "x": [
          "Midnights (The Til Dawn Edition)"
         ],
         "xaxis": "x",
         "y": [
          23
         ],
         "yaxis": "y"
        },
        {
         "alignmentgroup": "True",
         "hovertemplate": "Album=%{x}<br>Number of Tracks=%{y}<extra></extra>",
         "legendgroup": "Speak Now (Taylor's Version)",
         "marker": {
          "color": "#FF6692",
          "pattern": {
           "shape": ""
          }
         },
         "name": "Speak Now (Taylor's Version)",
         "offsetgroup": "Speak Now (Taylor's Version)",
         "orientation": "v",
         "showlegend": true,
         "textposition": "auto",
         "type": "bar",
         "x": [
          "Speak Now (Taylor's Version)"
         ],
         "xaxis": "x",
         "y": [
          22
         ],
         "yaxis": "y"
        },
        {
         "alignmentgroup": "True",
         "hovertemplate": "Album=%{x}<br>Number of Tracks=%{y}<extra></extra>",
         "legendgroup": "Red (Deluxe Edition)",
         "marker": {
          "color": "#B6E880",
          "pattern": {
           "shape": ""
          }
         },
         "name": "Red (Deluxe Edition)",
         "offsetgroup": "Red (Deluxe Edition)",
         "orientation": "v",
         "showlegend": true,
         "textposition": "auto",
         "type": "bar",
         "x": [
          "Red (Deluxe Edition)"
         ],
         "xaxis": "x",
         "y": [
          22
         ],
         "yaxis": "y"
        },
        {
         "alignmentgroup": "True",
         "hovertemplate": "Album=%{x}<br>Number of Tracks=%{y}<extra></extra>",
         "legendgroup": "1989 (Taylor's Version) [Deluxe]",
         "marker": {
          "color": "#FF97FF",
          "pattern": {
           "shape": ""
          }
         },
         "name": "1989 (Taylor's Version) [Deluxe]",
         "offsetgroup": "1989 (Taylor's Version) [Deluxe]",
         "orientation": "v",
         "showlegend": true,
         "textposition": "auto",
         "type": "bar",
         "x": [
          "1989 (Taylor's Version) [Deluxe]"
         ],
         "xaxis": "x",
         "y": [
          22
         ],
         "yaxis": "y"
        },
        {
         "alignmentgroup": "True",
         "hovertemplate": "Album=%{x}<br>Number of Tracks=%{y}<extra></extra>",
         "legendgroup": "1989 (Taylor's Version)",
         "marker": {
          "color": "#FECB52",
          "pattern": {
           "shape": ""
          }
         },
         "name": "1989 (Taylor's Version)",
         "offsetgroup": "1989 (Taylor's Version)",
         "orientation": "v",
         "showlegend": true,
         "textposition": "auto",
         "type": "bar",
         "x": [
          "1989 (Taylor's Version)"
         ],
         "xaxis": "x",
         "y": [
          21
         ],
         "yaxis": "y"
        },
        {
         "alignmentgroup": "True",
         "hovertemplate": "Album=%{x}<br>Number of Tracks=%{y}<extra></extra>",
         "legendgroup": "Midnights (3am Edition)",
         "marker": {
          "color": "#636efa",
          "pattern": {
           "shape": ""
          }
         },
         "name": "Midnights (3am Edition)",
         "offsetgroup": "Midnights (3am Edition)",
         "orientation": "v",
         "showlegend": true,
         "textposition": "auto",
         "type": "bar",
         "x": [
          "Midnights (3am Edition)"
         ],
         "xaxis": "x",
         "y": [
          20
         ],
         "yaxis": "y"
        },
        {
         "alignmentgroup": "True",
         "hovertemplate": "Album=%{x}<br>Number of Tracks=%{y}<extra></extra>",
         "legendgroup": "Speak Now (Deluxe Edition)",
         "marker": {
          "color": "#EF553B",
          "pattern": {
           "shape": ""
          }
         },
         "name": "Speak Now (Deluxe Edition)",
         "offsetgroup": "Speak Now (Deluxe Edition)",
         "orientation": "v",
         "showlegend": true,
         "textposition": "auto",
         "type": "bar",
         "x": [
          "Speak Now (Deluxe Edition)"
         ],
         "xaxis": "x",
         "y": [
          20
         ],
         "yaxis": "y"
        },
        {
         "alignmentgroup": "True",
         "hovertemplate": "Album=%{x}<br>Number of Tracks=%{y}<extra></extra>",
         "legendgroup": "Fearless Platinum Edition",
         "marker": {
          "color": "#00cc96",
          "pattern": {
           "shape": ""
          }
         },
         "name": "Fearless Platinum Edition",
         "offsetgroup": "Fearless Platinum Edition",
         "orientation": "v",
         "showlegend": true,
         "textposition": "auto",
         "type": "bar",
         "x": [
          "Fearless Platinum Edition"
         ],
         "xaxis": "x",
         "y": [
          19
         ],
         "yaxis": "y"
        },
        {
         "alignmentgroup": "True",
         "hovertemplate": "Album=%{x}<br>Number of Tracks=%{y}<extra></extra>",
         "legendgroup": "1989 (Deluxe Edition)",
         "marker": {
          "color": "#ab63fa",
          "pattern": {
           "shape": ""
          }
         },
         "name": "1989 (Deluxe Edition)",
         "offsetgroup": "1989 (Deluxe Edition)",
         "orientation": "v",
         "showlegend": true,
         "textposition": "auto",
         "type": "bar",
         "x": [
          "1989 (Deluxe Edition)"
         ],
         "xaxis": "x",
         "y": [
          19
         ],
         "yaxis": "y"
        },
        {
         "alignmentgroup": "True",
         "hovertemplate": "Album=%{x}<br>Number of Tracks=%{y}<extra></extra>",
         "legendgroup": "Lover",
         "marker": {
          "color": "#FFA15A",
          "pattern": {
           "shape": ""
          }
         },
         "name": "Lover",
         "offsetgroup": "Lover",
         "orientation": "v",
         "showlegend": true,
         "textposition": "auto",
         "type": "bar",
         "x": [
          "Lover"
         ],
         "xaxis": "x",
         "y": [
          18
         ],
         "yaxis": "y"
        },
        {
         "alignmentgroup": "True",
         "hovertemplate": "Album=%{x}<br>Number of Tracks=%{y}<extra></extra>",
         "legendgroup": "evermore (deluxe version)",
         "marker": {
          "color": "#19d3f3",
          "pattern": {
           "shape": ""
          }
         },
         "name": "evermore (deluxe version)",
         "offsetgroup": "evermore (deluxe version)",
         "orientation": "v",
         "showlegend": true,
         "textposition": "auto",
         "type": "bar",
         "x": [
          "evermore (deluxe version)"
         ],
         "xaxis": "x",
         "y": [
          17
         ],
         "yaxis": "y"
        },
        {
         "alignmentgroup": "True",
         "hovertemplate": "Album=%{x}<br>Number of Tracks=%{y}<extra></extra>",
         "legendgroup": "folklore (deluxe version)",
         "marker": {
          "color": "#FF6692",
          "pattern": {
           "shape": ""
          }
         },
         "name": "folklore (deluxe version)",
         "offsetgroup": "folklore (deluxe version)",
         "orientation": "v",
         "showlegend": true,
         "textposition": "auto",
         "type": "bar",
         "x": [
          "folklore (deluxe version)"
         ],
         "xaxis": "x",
         "y": [
          17
         ],
         "yaxis": "y"
        },
        {
         "alignmentgroup": "True",
         "hovertemplate": "Album=%{x}<br>Number of Tracks=%{y}<extra></extra>",
         "legendgroup": "Speak Now World Tour Live",
         "marker": {
          "color": "#B6E880",
          "pattern": {
           "shape": ""
          }
         },
         "name": "Speak Now World Tour Live",
         "offsetgroup": "Speak Now World Tour Live",
         "orientation": "v",
         "showlegend": true,
         "textposition": "auto",
         "type": "bar",
         "x": [
          "Speak Now World Tour Live"
         ],
         "xaxis": "x",
         "y": [
          16
         ],
         "yaxis": "y"
        },
        {
         "alignmentgroup": "True",
         "hovertemplate": "Album=%{x}<br>Number of Tracks=%{y}<extra></extra>",
         "legendgroup": "Red",
         "marker": {
          "color": "#FF97FF",
          "pattern": {
           "shape": ""
          }
         },
         "name": "Red",
         "offsetgroup": "Red",
         "orientation": "v",
         "showlegend": true,
         "textposition": "auto",
         "type": "bar",
         "x": [
          "Red"
         ],
         "xaxis": "x",
         "y": [
          16
         ],
         "yaxis": "y"
        },
        {
         "alignmentgroup": "True",
         "hovertemplate": "Album=%{x}<br>Number of Tracks=%{y}<extra></extra>",
         "legendgroup": "folklore",
         "marker": {
          "color": "#FECB52",
          "pattern": {
           "shape": ""
          }
         },
         "name": "folklore",
         "offsetgroup": "folklore",
         "orientation": "v",
         "showlegend": true,
         "textposition": "auto",
         "type": "bar",
         "x": [
          "folklore"
         ],
         "xaxis": "x",
         "y": [
          16
         ],
         "yaxis": "y"
        },
        {
         "alignmentgroup": "True",
         "hovertemplate": "Album=%{x}<br>Number of Tracks=%{y}<extra></extra>",
         "legendgroup": "The Tortured Poets Department",
         "marker": {
          "color": "#636efa",
          "pattern": {
           "shape": ""
          }
         },
         "name": "The Tortured Poets Department",
         "offsetgroup": "The Tortured Poets Department",
         "orientation": "v",
         "showlegend": true,
         "textposition": "auto",
         "type": "bar",
         "x": [
          "The Tortured Poets Department"
         ],
         "xaxis": "x",
         "y": [
          16
         ],
         "yaxis": "y"
        },
        {
         "alignmentgroup": "True",
         "hovertemplate": "Album=%{x}<br>Number of Tracks=%{y}<extra></extra>",
         "legendgroup": "reputation",
         "marker": {
          "color": "#EF553B",
          "pattern": {
           "shape": ""
          }
         },
         "name": "reputation",
         "offsetgroup": "reputation",
         "orientation": "v",
         "showlegend": true,
         "textposition": "auto",
         "type": "bar",
         "x": [
          "reputation"
         ],
         "xaxis": "x",
         "y": [
          15
         ],
         "yaxis": "y"
        },
        {
         "alignmentgroup": "True",
         "hovertemplate": "Album=%{x}<br>Number of Tracks=%{y}<extra></extra>",
         "legendgroup": "evermore",
         "marker": {
          "color": "#00cc96",
          "pattern": {
           "shape": ""
          }
         },
         "name": "evermore",
         "offsetgroup": "evermore",
         "orientation": "v",
         "showlegend": true,
         "textposition": "auto",
         "type": "bar",
         "x": [
          "evermore"
         ],
         "xaxis": "x",
         "y": [
          15
         ],
         "yaxis": "y"
        },
        {
         "alignmentgroup": "True",
         "hovertemplate": "Album=%{x}<br>Number of Tracks=%{y}<extra></extra>",
         "legendgroup": "Taylor Swift",
         "marker": {
          "color": "#ab63fa",
          "pattern": {
           "shape": ""
          }
         },
         "name": "Taylor Swift",
         "offsetgroup": "Taylor Swift",
         "orientation": "v",
         "showlegend": true,
         "textposition": "auto",
         "type": "bar",
         "x": [
          "Taylor Swift"
         ],
         "xaxis": "x",
         "y": [
          15
         ],
         "yaxis": "y"
        },
        {
         "alignmentgroup": "True",
         "hovertemplate": "Album=%{x}<br>Number of Tracks=%{y}<extra></extra>",
         "legendgroup": "Speak Now",
         "marker": {
          "color": "#FFA15A",
          "pattern": {
           "shape": ""
          }
         },
         "name": "Speak Now",
         "offsetgroup": "Speak Now",
         "orientation": "v",
         "showlegend": true,
         "textposition": "auto",
         "type": "bar",
         "x": [
          "Speak Now"
         ],
         "xaxis": "x",
         "y": [
          14
         ],
         "yaxis": "y"
        },
        {
         "alignmentgroup": "True",
         "hovertemplate": "Album=%{x}<br>Number of Tracks=%{y}<extra></extra>",
         "legendgroup": "1989",
         "marker": {
          "color": "#19d3f3",
          "pattern": {
           "shape": ""
          }
         },
         "name": "1989",
         "offsetgroup": "1989",
         "orientation": "v",
         "showlegend": true,
         "textposition": "auto",
         "type": "bar",
         "x": [
          "1989"
         ],
         "xaxis": "x",
         "y": [
          13
         ],
         "yaxis": "y"
        },
        {
         "alignmentgroup": "True",
         "hovertemplate": "Album=%{x}<br>Number of Tracks=%{y}<extra></extra>",
         "legendgroup": "Midnights",
         "marker": {
          "color": "#FF6692",
          "pattern": {
           "shape": ""
          }
         },
         "name": "Midnights",
         "offsetgroup": "Midnights",
         "orientation": "v",
         "showlegend": true,
         "textposition": "auto",
         "type": "bar",
         "x": [
          "Midnights"
         ],
         "xaxis": "x",
         "y": [
          13
         ],
         "yaxis": "y"
        },
        {
         "alignmentgroup": "True",
         "hovertemplate": "Album=%{x}<br>Number of Tracks=%{y}<extra></extra>",
         "legendgroup": "Fearless",
         "marker": {
          "color": "#B6E880",
          "pattern": {
           "shape": ""
          }
         },
         "name": "Fearless",
         "offsetgroup": "Fearless",
         "orientation": "v",
         "showlegend": true,
         "textposition": "auto",
         "type": "bar",
         "x": [
          "Fearless"
         ],
         "xaxis": "x",
         "y": [
          13
         ],
         "yaxis": "y"
        },
        {
         "alignmentgroup": "True",
         "hovertemplate": "Album=%{x}<br>Number of Tracks=%{y}<extra></extra>",
         "legendgroup": "Live From Clear Channel Stripped 2008",
         "marker": {
          "color": "#FF97FF",
          "pattern": {
           "shape": ""
          }
         },
         "name": "Live From Clear Channel Stripped 2008",
         "offsetgroup": "Live From Clear Channel Stripped 2008",
         "orientation": "v",
         "showlegend": true,
         "textposition": "auto",
         "type": "bar",
         "x": [
          "Live From Clear Channel Stripped 2008"
         ],
         "xaxis": "x",
         "y": [
          8
         ],
         "yaxis": "y"
        }
       ],
       "layout": {
        "barmode": "relative",
        "legend": {
         "title": {
          "text": "Album"
         },
         "tracegroupgap": 0
        },
        "template": {
         "data": {
          "bar": [
           {
            "error_x": {
             "color": "#2a3f5f"
            },
            "error_y": {
             "color": "#2a3f5f"
            },
            "marker": {
             "line": {
              "color": "#E5ECF6",
              "width": 0.5
             },
             "pattern": {
              "fillmode": "overlay",
              "size": 10,
              "solidity": 0.2
             }
            },
            "type": "bar"
           }
          ],
          "barpolar": [
           {
            "marker": {
             "line": {
              "color": "#E5ECF6",
              "width": 0.5
             },
             "pattern": {
              "fillmode": "overlay",
              "size": 10,
              "solidity": 0.2
             }
            },
            "type": "barpolar"
           }
          ],
          "carpet": [
           {
            "aaxis": {
             "endlinecolor": "#2a3f5f",
             "gridcolor": "white",
             "linecolor": "white",
             "minorgridcolor": "white",
             "startlinecolor": "#2a3f5f"
            },
            "baxis": {
             "endlinecolor": "#2a3f5f",
             "gridcolor": "white",
             "linecolor": "white",
             "minorgridcolor": "white",
             "startlinecolor": "#2a3f5f"
            },
            "type": "carpet"
           }
          ],
          "choropleth": [
           {
            "colorbar": {
             "outlinewidth": 0,
             "ticks": ""
            },
            "type": "choropleth"
           }
          ],
          "contour": [
           {
            "colorbar": {
             "outlinewidth": 0,
             "ticks": ""
            },
            "colorscale": [
             [
              0,
              "#0d0887"
             ],
             [
              0.1111111111111111,
              "#46039f"
             ],
             [
              0.2222222222222222,
              "#7201a8"
             ],
             [
              0.3333333333333333,
              "#9c179e"
             ],
             [
              0.4444444444444444,
              "#bd3786"
             ],
             [
              0.5555555555555556,
              "#d8576b"
             ],
             [
              0.6666666666666666,
              "#ed7953"
             ],
             [
              0.7777777777777778,
              "#fb9f3a"
             ],
             [
              0.8888888888888888,
              "#fdca26"
             ],
             [
              1,
              "#f0f921"
             ]
            ],
            "type": "contour"
           }
          ],
          "contourcarpet": [
           {
            "colorbar": {
             "outlinewidth": 0,
             "ticks": ""
            },
            "type": "contourcarpet"
           }
          ],
          "heatmap": [
           {
            "colorbar": {
             "outlinewidth": 0,
             "ticks": ""
            },
            "colorscale": [
             [
              0,
              "#0d0887"
             ],
             [
              0.1111111111111111,
              "#46039f"
             ],
             [
              0.2222222222222222,
              "#7201a8"
             ],
             [
              0.3333333333333333,
              "#9c179e"
             ],
             [
              0.4444444444444444,
              "#bd3786"
             ],
             [
              0.5555555555555556,
              "#d8576b"
             ],
             [
              0.6666666666666666,
              "#ed7953"
             ],
             [
              0.7777777777777778,
              "#fb9f3a"
             ],
             [
              0.8888888888888888,
              "#fdca26"
             ],
             [
              1,
              "#f0f921"
             ]
            ],
            "type": "heatmap"
           }
          ],
          "heatmapgl": [
           {
            "colorbar": {
             "outlinewidth": 0,
             "ticks": ""
            },
            "colorscale": [
             [
              0,
              "#0d0887"
             ],
             [
              0.1111111111111111,
              "#46039f"
             ],
             [
              0.2222222222222222,
              "#7201a8"
             ],
             [
              0.3333333333333333,
              "#9c179e"
             ],
             [
              0.4444444444444444,
              "#bd3786"
             ],
             [
              0.5555555555555556,
              "#d8576b"
             ],
             [
              0.6666666666666666,
              "#ed7953"
             ],
             [
              0.7777777777777778,
              "#fb9f3a"
             ],
             [
              0.8888888888888888,
              "#fdca26"
             ],
             [
              1,
              "#f0f921"
             ]
            ],
            "type": "heatmapgl"
           }
          ],
          "histogram": [
           {
            "marker": {
             "pattern": {
              "fillmode": "overlay",
              "size": 10,
              "solidity": 0.2
             }
            },
            "type": "histogram"
           }
          ],
          "histogram2d": [
           {
            "colorbar": {
             "outlinewidth": 0,
             "ticks": ""
            },
            "colorscale": [
             [
              0,
              "#0d0887"
             ],
             [
              0.1111111111111111,
              "#46039f"
             ],
             [
              0.2222222222222222,
              "#7201a8"
             ],
             [
              0.3333333333333333,
              "#9c179e"
             ],
             [
              0.4444444444444444,
              "#bd3786"
             ],
             [
              0.5555555555555556,
              "#d8576b"
             ],
             [
              0.6666666666666666,
              "#ed7953"
             ],
             [
              0.7777777777777778,
              "#fb9f3a"
             ],
             [
              0.8888888888888888,
              "#fdca26"
             ],
             [
              1,
              "#f0f921"
             ]
            ],
            "type": "histogram2d"
           }
          ],
          "histogram2dcontour": [
           {
            "colorbar": {
             "outlinewidth": 0,
             "ticks": ""
            },
            "colorscale": [
             [
              0,
              "#0d0887"
             ],
             [
              0.1111111111111111,
              "#46039f"
             ],
             [
              0.2222222222222222,
              "#7201a8"
             ],
             [
              0.3333333333333333,
              "#9c179e"
             ],
             [
              0.4444444444444444,
              "#bd3786"
             ],
             [
              0.5555555555555556,
              "#d8576b"
             ],
             [
              0.6666666666666666,
              "#ed7953"
             ],
             [
              0.7777777777777778,
              "#fb9f3a"
             ],
             [
              0.8888888888888888,
              "#fdca26"
             ],
             [
              1,
              "#f0f921"
             ]
            ],
            "type": "histogram2dcontour"
           }
          ],
          "mesh3d": [
           {
            "colorbar": {
             "outlinewidth": 0,
             "ticks": ""
            },
            "type": "mesh3d"
           }
          ],
          "parcoords": [
           {
            "line": {
             "colorbar": {
              "outlinewidth": 0,
              "ticks": ""
             }
            },
            "type": "parcoords"
           }
          ],
          "pie": [
           {
            "automargin": true,
            "type": "pie"
           }
          ],
          "scatter": [
           {
            "fillpattern": {
             "fillmode": "overlay",
             "size": 10,
             "solidity": 0.2
            },
            "type": "scatter"
           }
          ],
          "scatter3d": [
           {
            "line": {
             "colorbar": {
              "outlinewidth": 0,
              "ticks": ""
             }
            },
            "marker": {
             "colorbar": {
              "outlinewidth": 0,
              "ticks": ""
             }
            },
            "type": "scatter3d"
           }
          ],
          "scattercarpet": [
           {
            "marker": {
             "colorbar": {
              "outlinewidth": 0,
              "ticks": ""
             }
            },
            "type": "scattercarpet"
           }
          ],
          "scattergeo": [
           {
            "marker": {
             "colorbar": {
              "outlinewidth": 0,
              "ticks": ""
             }
            },
            "type": "scattergeo"
           }
          ],
          "scattergl": [
           {
            "marker": {
             "colorbar": {
              "outlinewidth": 0,
              "ticks": ""
             }
            },
            "type": "scattergl"
           }
          ],
          "scattermapbox": [
           {
            "marker": {
             "colorbar": {
              "outlinewidth": 0,
              "ticks": ""
             }
            },
            "type": "scattermapbox"
           }
          ],
          "scatterpolar": [
           {
            "marker": {
             "colorbar": {
              "outlinewidth": 0,
              "ticks": ""
             }
            },
            "type": "scatterpolar"
           }
          ],
          "scatterpolargl": [
           {
            "marker": {
             "colorbar": {
              "outlinewidth": 0,
              "ticks": ""
             }
            },
            "type": "scatterpolargl"
           }
          ],
          "scatterternary": [
           {
            "marker": {
             "colorbar": {
              "outlinewidth": 0,
              "ticks": ""
             }
            },
            "type": "scatterternary"
           }
          ],
          "surface": [
           {
            "colorbar": {
             "outlinewidth": 0,
             "ticks": ""
            },
            "colorscale": [
             [
              0,
              "#0d0887"
             ],
             [
              0.1111111111111111,
              "#46039f"
             ],
             [
              0.2222222222222222,
              "#7201a8"
             ],
             [
              0.3333333333333333,
              "#9c179e"
             ],
             [
              0.4444444444444444,
              "#bd3786"
             ],
             [
              0.5555555555555556,
              "#d8576b"
             ],
             [
              0.6666666666666666,
              "#ed7953"
             ],
             [
              0.7777777777777778,
              "#fb9f3a"
             ],
             [
              0.8888888888888888,
              "#fdca26"
             ],
             [
              1,
              "#f0f921"
             ]
            ],
            "type": "surface"
           }
          ],
          "table": [
           {
            "cells": {
             "fill": {
              "color": "#EBF0F8"
             },
             "line": {
              "color": "white"
             }
            },
            "header": {
             "fill": {
              "color": "#C8D4E3"
             },
             "line": {
              "color": "white"
             }
            },
            "type": "table"
           }
          ]
         },
         "layout": {
          "annotationdefaults": {
           "arrowcolor": "#2a3f5f",
           "arrowhead": 0,
           "arrowwidth": 1
          },
          "autotypenumbers": "strict",
          "coloraxis": {
           "colorbar": {
            "outlinewidth": 0,
            "ticks": ""
           }
          },
          "colorscale": {
           "diverging": [
            [
             0,
             "#8e0152"
            ],
            [
             0.1,
             "#c51b7d"
            ],
            [
             0.2,
             "#de77ae"
            ],
            [
             0.3,
             "#f1b6da"
            ],
            [
             0.4,
             "#fde0ef"
            ],
            [
             0.5,
             "#f7f7f7"
            ],
            [
             0.6,
             "#e6f5d0"
            ],
            [
             0.7,
             "#b8e186"
            ],
            [
             0.8,
             "#7fbc41"
            ],
            [
             0.9,
             "#4d9221"
            ],
            [
             1,
             "#276419"
            ]
           ],
           "sequential": [
            [
             0,
             "#0d0887"
            ],
            [
             0.1111111111111111,
             "#46039f"
            ],
            [
             0.2222222222222222,
             "#7201a8"
            ],
            [
             0.3333333333333333,
             "#9c179e"
            ],
            [
             0.4444444444444444,
             "#bd3786"
            ],
            [
             0.5555555555555556,
             "#d8576b"
            ],
            [
             0.6666666666666666,
             "#ed7953"
            ],
            [
             0.7777777777777778,
             "#fb9f3a"
            ],
            [
             0.8888888888888888,
             "#fdca26"
            ],
            [
             1,
             "#f0f921"
            ]
           ],
           "sequentialminus": [
            [
             0,
             "#0d0887"
            ],
            [
             0.1111111111111111,
             "#46039f"
            ],
            [
             0.2222222222222222,
             "#7201a8"
            ],
            [
             0.3333333333333333,
             "#9c179e"
            ],
            [
             0.4444444444444444,
             "#bd3786"
            ],
            [
             0.5555555555555556,
             "#d8576b"
            ],
            [
             0.6666666666666666,
             "#ed7953"
            ],
            [
             0.7777777777777778,
             "#fb9f3a"
            ],
            [
             0.8888888888888888,
             "#fdca26"
            ],
            [
             1,
             "#f0f921"
            ]
           ]
          },
          "colorway": [
           "#636efa",
           "#EF553B",
           "#00cc96",
           "#ab63fa",
           "#FFA15A",
           "#19d3f3",
           "#FF6692",
           "#B6E880",
           "#FF97FF",
           "#FECB52"
          ],
          "font": {
           "color": "#2a3f5f"
          },
          "geo": {
           "bgcolor": "white",
           "lakecolor": "white",
           "landcolor": "#E5ECF6",
           "showlakes": true,
           "showland": true,
           "subunitcolor": "white"
          },
          "hoverlabel": {
           "align": "left"
          },
          "hovermode": "closest",
          "mapbox": {
           "style": "light"
          },
          "paper_bgcolor": "white",
          "plot_bgcolor": "#E5ECF6",
          "polar": {
           "angularaxis": {
            "gridcolor": "white",
            "linecolor": "white",
            "ticks": ""
           },
           "bgcolor": "#E5ECF6",
           "radialaxis": {
            "gridcolor": "white",
            "linecolor": "white",
            "ticks": ""
           }
          },
          "scene": {
           "xaxis": {
            "backgroundcolor": "#E5ECF6",
            "gridcolor": "white",
            "gridwidth": 2,
            "linecolor": "white",
            "showbackground": true,
            "ticks": "",
            "zerolinecolor": "white"
           },
           "yaxis": {
            "backgroundcolor": "#E5ECF6",
            "gridcolor": "white",
            "gridwidth": 2,
            "linecolor": "white",
            "showbackground": true,
            "ticks": "",
            "zerolinecolor": "white"
           },
           "zaxis": {
            "backgroundcolor": "#E5ECF6",
            "gridcolor": "white",
            "gridwidth": 2,
            "linecolor": "white",
            "showbackground": true,
            "ticks": "",
            "zerolinecolor": "white"
           }
          },
          "shapedefaults": {
           "line": {
            "color": "#2a3f5f"
           }
          },
          "ternary": {
           "aaxis": {
            "gridcolor": "white",
            "linecolor": "white",
            "ticks": ""
           },
           "baxis": {
            "gridcolor": "white",
            "linecolor": "white",
            "ticks": ""
           },
           "bgcolor": "#E5ECF6",
           "caxis": {
            "gridcolor": "white",
            "linecolor": "white",
            "ticks": ""
           }
          },
          "title": {
           "x": 0.05
          },
          "xaxis": {
           "automargin": true,
           "gridcolor": "white",
           "linecolor": "white",
           "ticks": "",
           "title": {
            "standoff": 15
           },
           "zerolinecolor": "white",
           "zerolinewidth": 2
          },
          "yaxis": {
           "automargin": true,
           "gridcolor": "white",
           "linecolor": "white",
           "ticks": "",
           "title": {
            "standoff": 15
           },
           "zerolinecolor": "white",
           "zerolinewidth": 2
          }
         }
        },
        "title": {
         "text": "Track Count Per Album"
        },
        "xaxis": {
         "anchor": "y",
         "categoryarray": [
          "reputation Stadium Tour Surprise Song Playlist",
          "folklore: the long pond studio sessions (from the Disney+ special) [deluxe edition]",
          "The Tortured Poets Department: The Anthology",
          "Red (Taylor's Version)",
          "Fearless (Taylor's Version)",
          "Midnights (The Til Dawn Edition)",
          "Speak Now (Taylor's Version)",
          "Red (Deluxe Edition)",
          "1989 (Taylor's Version) [Deluxe]",
          "1989 (Taylor's Version)",
          "Midnights (3am Edition)",
          "Speak Now (Deluxe Edition)",
          "Fearless Platinum Edition",
          "1989 (Deluxe Edition)",
          "Lover",
          "evermore (deluxe version)",
          "folklore (deluxe version)",
          "Speak Now World Tour Live",
          "Red",
          "folklore",
          "The Tortured Poets Department",
          "reputation",
          "evermore",
          "Taylor Swift",
          "Speak Now",
          "1989",
          "Midnights",
          "Fearless",
          "Live From Clear Channel Stripped 2008"
         ],
         "categoryorder": "array",
         "domain": [
          0,
          1
         ],
         "title": {
          "text": "Album"
         }
        },
        "yaxis": {
         "anchor": "x",
         "domain": [
          0,
          1
         ],
         "title": {
          "text": "Number of Tracks"
         }
        }
       }
      }
     },
     "metadata": {},
     "output_type": "display_data"
    }
   ],
   "source": [
    "# Bar plot for track numbers distribution per album\n",
    "track_count = df['album'].value_counts().reset_index()\n",
    "track_count.columns = ['album', 'track_count']\n",
    "\n",
    "fig_track_count = px.bar(track_count, x='album', y='track_count', color='album', \n",
    "                         title='Track Count Per Album',\n",
    "                         labels={'track_count': 'Number of Tracks', 'album': 'Album'})\n",
    "fig_track_count.show()"
   ]
  },
  {
   "cell_type": "markdown",
   "metadata": {},
   "source": [
    "Is there a correlation between danceability and energy?"
   ]
  },
  {
   "cell_type": "code",
   "execution_count": 61,
   "metadata": {},
   "outputs": [
    {
     "data": {
      "application/vnd.plotly.v1+json": {
       "config": {
        "plotlyServerURL": "https://plot.ly"
       },
       "data": [
        {
         "hovertemplate": "Track Type=Single<br>Danceability=%{x}<br>Energy=%{y}<extra></extra>",
         "legendgroup": "Single",
         "marker": {
          "color": "#636efa",
          "symbol": "circle"
         },
         "mode": "markers",
         "name": "Single",
         "orientation": "v",
         "showlegend": true,
         "type": "scatter",
         "x": [
          0.504,
          0.701,
          0.504,
          0.701,
          0.591,
          0.595,
          0.629,
          0.596,
          0.735,
          0.637,
          0.695,
          0.647,
          0.615,
          0.735,
          0.638,
          0.7,
          0.649,
          0.733,
          0.637,
          0.696,
          0.642,
          0.622,
          0.391,
          0.392,
          0.546,
          0.537,
          0.392,
          0.546,
          0.537,
          0.612,
          0.31,
          0.595,
          0.612,
          0.31,
          0.595,
          0.613,
          0.298,
          0.593,
          0.552,
          0.359,
          0.777,
          0.771,
          0.61,
          0.613,
          0.649,
          0.75,
          0.766,
          0.562,
          0.661,
          0.55,
          0.605,
          0.626,
          0.545,
          0.66,
          0.536,
          0.576,
          0.55,
          0.621,
          0.61,
          0.603,
          0.61,
          0.553,
          0.53,
          0.547,
          0.712,
          0.578,
          0.76,
          0.588,
          0.553,
          0.647,
          0.646,
          0.55,
          0.753,
          0.598,
          0.552,
          0.647,
          0.65,
          0.554,
          0.602,
          0.622,
          0.658,
          0.628,
          0.505,
          0.624,
          0.53,
          0.602,
          0.622,
          0.658,
          0.628,
          0.505,
          0.624,
          0.53,
          0.624,
          0.605,
          0.529,
          0.568,
          0.543,
          0.624,
          0.605,
          0.529,
          0.568,
          0.543,
          0.598,
          0.559,
          0.618,
          0.585,
          0.687,
          0.594,
          0.556,
          0.618,
          0.578,
          0.687,
          0.58,
          0.658,
          0.476,
          0.668
         ],
         "xaxis": "x",
         "y": [
          0.386,
          0.751,
          0.386,
          0.751,
          0.412,
          0.656,
          0.413,
          0.658,
          0.454,
          0.649,
          0.546,
          0.614,
          0.616,
          0.444,
          0.634,
          0.55,
          0.622,
          0.436,
          0.643,
          0.559,
          0.62,
          0.791,
          0.715,
          0.574,
          0.613,
          0.537,
          0.574,
          0.613,
          0.537,
          0.58,
          0.374,
          0.376,
          0.58,
          0.374,
          0.376,
          0.581,
          0.38,
          0.377,
          0.702,
          0.543,
          0.658,
          0.671,
          0.83,
          0.764,
          0.589,
          0.404,
          0.709,
          0.689,
          0.151,
          0.688,
          0.899,
          0.427,
          0.663,
          0.733,
          0.464,
          0.754,
          0.628,
          0.779,
          0.782,
          0.718,
          0.56,
          0.841,
          0.526,
          0.808,
          0.603,
          0.348,
          0.703,
          0.791,
          0.841,
          0.8,
          0.794,
          0.688,
          0.678,
          0.786,
          0.842,
          0.785,
          0.802,
          0.666,
          0.896,
          0.469,
          0.729,
          0.676,
          0.443,
          0.458,
          0.526,
          0.896,
          0.469,
          0.729,
          0.676,
          0.443,
          0.458,
          0.526,
          0.757,
          0.787,
          0.67,
          0.761,
          0.818,
          0.757,
          0.787,
          0.67,
          0.761,
          0.818,
          0.714,
          0.636,
          0.736,
          0.346,
          0.771,
          0.712,
          0.651,
          0.741,
          0.34,
          0.783,
          0.491,
          0.877,
          0.777,
          0.672
         ],
         "yaxis": "y"
        },
        {
         "hovertemplate": "Track Type=B-Side<br>Danceability=%{x}<br>Energy=%{y}<extra></extra>",
         "legendgroup": "B-Side",
         "marker": {
          "color": "#EF553B",
          "symbol": "circle"
         },
         "mode": "markers",
         "name": "B-Side",
         "orientation": "v",
         "showlegend": true,
         "type": "scatter",
         "x": [
          0.604,
          0.596,
          0.541,
          0.423,
          0.521,
          0.33,
          0.533,
          0.626,
          0.606,
          0.661,
          0.423,
          0.426,
          0.64,
          0.686,
          0.527,
          0.784,
          0.352,
          0.516,
          0.492,
          0.366,
          0.485,
          0.609,
          0.763,
          0.421,
          0.587,
          0.342,
          0.455,
          0.476,
          0.509,
          0.604,
          0.596,
          0.541,
          0.423,
          0.521,
          0.33,
          0.533,
          0.626,
          0.606,
          0.661,
          0.423,
          0.426,
          0.64,
          0.686,
          0.757,
          0.733,
          0.511,
          0.545,
          0.588,
          0.636,
          0.67,
          0.618,
          0.589,
          0.758,
          0.471,
          0.582,
          0.772,
          0.464,
          0.363,
          0.649,
          0.633,
          0.8,
          0.701,
          0.761,
          0.737,
          0.575,
          0.547,
          0.586,
          0.632,
          0.669,
          0.619,
          0.581,
          0.754,
          0.474,
          0.575,
          0.771,
          0.462,
          0.537,
          0.651,
          0.626,
          0.793,
          0.699,
          0.646,
          0.588,
          0.497,
          0.727,
          0.419,
          0.524,
          0.515,
          0.685,
          0.505,
          0.496,
          0.522,
          0.427,
          0.55,
          0.375,
          0.535,
          0.533,
          0.547,
          0.474,
          0.694,
          0.576,
          0.671,
          0.624,
          0.65,
          0.653,
          0.694,
          0.654,
          0.741,
          0.867,
          0.493,
          0.335,
          0.661,
          0.658,
          0.659,
          0.694,
          0.636,
          0.751,
          0.87,
          0.487,
          0.334,
          0.661,
          0.637,
          0.663,
          0.696,
          0.643,
          0.751,
          0.798,
          0.406,
          0.337,
          0.662,
          0.594,
          0.516,
          0.645,
          0.584,
          0.44,
          0.642,
          0.511,
          0.567,
          0.693,
          0.502,
          0.622,
          0.601,
          0.686,
          0.498,
          0.628,
          0.519,
          0.636,
          0.46,
          0.691,
          0.623,
          0.473,
          0.606,
          0.584,
          0.611,
          0.61,
          0.678,
          0.631,
          0.569,
          0.559,
          0.627,
          0.788,
          0.423,
          0.632,
          0.506,
          0.578,
          0.506,
          0.402,
          0.598,
          0.642,
          0.499,
          0.572,
          0.393,
          0.546,
          0.476,
          0.454,
          0.432,
          0.482,
          0.599,
          0.66,
          0.609,
          0.588,
          0.563,
          0.624,
          0.462,
          0.512,
          0.575,
          0.316,
          0.559,
          0.605,
          0.515,
          0.604,
          0.546,
          0.535,
          0.689,
          0.39,
          0.462,
          0.512,
          0.575,
          0.316,
          0.559,
          0.605,
          0.515,
          0.604,
          0.546,
          0.535,
          0.689,
          0.39,
          0.78,
          0.688,
          0.456,
          0.549,
          0.602,
          0.387,
          0.511,
          0.529,
          0.651,
          0.593,
          0.317,
          0.644,
          0.676,
          0.78,
          0.688,
          0.456,
          0.549,
          0.602,
          0.387,
          0.511,
          0.529,
          0.651,
          0.593,
          0.317,
          0.644,
          0.676,
          0.777,
          0.686,
          0.456,
          0.553,
          0.596,
          0.532,
          0.515,
          0.559,
          0.653,
          0.592,
          0.354,
          0.647,
          0.662,
          0.664,
          0.292,
          0.897,
          0.662,
          0.811,
          0.824,
          0.712,
          0.695,
          0.433,
          0.739,
          0.756,
          0.737,
          0.557,
          0.696,
          0.615,
          0.574,
          0.8,
          0.675,
          0.624,
          0.719,
          0.567,
          0.598,
          0.602,
          0.669,
          0.627,
          0.765,
          0.574,
          0.591,
          0.431,
          0.714,
          0.704,
          0.577,
          0.789,
          0.535,
          0.543,
          0.483,
          0.573,
          0.481,
          0.706,
          0.609,
          0.442,
          0.502,
          0.617,
          0.479,
          0.607,
          0.843,
          0.556,
          0.649,
          0.602,
          0.789,
          0.605,
          0.653,
          0.765,
          0.481,
          0.602,
          0.815,
          0.793,
          0.602,
          0.648,
          0.764,
          0.475,
          0.596,
          0.81,
          0.588,
          0.705,
          0.602,
          0.567,
          0.729,
          0.627,
          0.624,
          0.706,
          0.649,
          0.588,
          0.705,
          0.602,
          0.567,
          0.729,
          0.627,
          0.624,
          0.706,
          0.649,
          0.709,
          0.589,
          0.714,
          0.455,
          0.516,
          0.552,
          0.436,
          0.371,
          0.418,
          0.709,
          0.589,
          0.714,
          0.455,
          0.516,
          0.552,
          0.436,
          0.371,
          0.418,
          0.843,
          0.498,
          0.601,
          0.459,
          0.436,
          0.605,
          0.664,
          0.548,
          0.841,
          0.505,
          0.604,
          0.475,
          0.433,
          0.608,
          0.666,
          0.541,
          0.576,
          0.418,
          0.589,
          0.479,
          0.594,
          0.403,
          0.563,
          0.612,
          0.483,
          0.459
         ],
         "xaxis": "x",
         "y": [
          0.428,
          0.563,
          0.366,
          0.533,
          0.72,
          0.483,
          0.573,
          0.428,
          0.338,
          0.257,
          0.272,
          0.41,
          0.421,
          0.318,
          0.27,
          0.391,
          0.479,
          0.451,
          0.379,
          0.866,
          0.562,
          0.541,
          0.274,
          0.525,
          0.587,
          0.376,
          0.586,
          0.386,
          0.256,
          0.428,
          0.563,
          0.366,
          0.533,
          0.72,
          0.483,
          0.573,
          0.428,
          0.338,
          0.257,
          0.272,
          0.41,
          0.421,
          0.318,
          0.61,
          0.733,
          0.822,
          0.885,
          0.721,
          0.808,
          0.858,
          0.683,
          0.674,
          0.691,
          0.509,
          0.788,
          0.391,
          0.705,
          0.498,
          0.846,
          0.551,
          0.501,
          0.625,
          0.607,
          0.725,
          0.824,
          0.885,
          0.72,
          0.807,
          0.851,
          0.686,
          0.672,
          0.682,
          0.511,
          0.803,
          0.386,
          0.708,
          0.495,
          0.855,
          0.547,
          0.512,
          0.621,
          0.783,
          0.758,
          0.635,
          0.677,
          0.47,
          0.692,
          0.781,
          0.323,
          0.532,
          0.885,
          0.598,
          0.915,
          0.366,
          0.65,
          0.488,
          0.742,
          0.855,
          0.763,
          0.764,
          0.57,
          0.588,
          0.585,
          0.397,
          0.331,
          0.386,
          0.372,
          0.509,
          0.272,
          0.308,
          0.166,
          0.345,
          0.378,
          0.323,
          0.38,
          0.377,
          0.502,
          0.279,
          0.313,
          0.161,
          0.352,
          0.398,
          0.319,
          0.396,
          0.363,
          0.502,
          0.277,
          0.306,
          0.156,
          0.357,
          0.713,
          0.777,
          0.593,
          0.557,
          0.528,
          0.695,
          0.559,
          0.686,
          0.681,
          0.534,
          0.809,
          0.406,
          0.571,
          0.61,
          0.685,
          0.527,
          0.402,
          0.632,
          0.736,
          0.279,
          0.579,
          0.377,
          0.743,
          0.552,
          0.488,
          0.733,
          0.518,
          0.741,
          0.646,
          0.792,
          0.571,
          0.517,
          0.773,
          0.626,
          0.909,
          0.444,
          0.732,
          0.821,
          0.576,
          0.815,
          0.69,
          0.531,
          0.273,
          0.564,
          0.555,
          0.873,
          0.779,
          0.494,
          0.817,
          0.373,
          0.608,
          0.473,
          0.624,
          0.24,
          0.462,
          0.434,
          0.361,
          0.334,
          0.488,
          0.545,
          0.517,
          0.73,
          0.561,
          0.704,
          0.27,
          0.24,
          0.462,
          0.434,
          0.361,
          0.334,
          0.488,
          0.545,
          0.517,
          0.73,
          0.561,
          0.704,
          0.27,
          0.361,
          0.653,
          0.265,
          0.417,
          0.494,
          0.634,
          0.478,
          0.304,
          0.459,
          0.7,
          0.254,
          0.284,
          0.178,
          0.361,
          0.653,
          0.265,
          0.417,
          0.494,
          0.634,
          0.478,
          0.304,
          0.459,
          0.7,
          0.254,
          0.284,
          0.178,
          0.357,
          0.662,
          0.263,
          0.413,
          0.488,
          0.623,
          0.476,
          0.31,
          0.452,
          0.699,
          0.267,
          0.272,
          0.181,
          0.316,
          0.574,
          0.366,
          0.747,
          0.719,
          0.624,
          0.732,
          0.71,
          0.182,
          0.32,
          0.449,
          0.175,
          0.496,
          0.602,
          0.534,
          0.61,
          0.535,
          0.703,
          0.691,
          0.469,
          0.789,
          0.504,
          0.605,
          0.448,
          0.816,
          0.656,
          0.61,
          0.828,
          0.949,
          0.309,
          0.621,
          0.784,
          0.634,
          0.626,
          0.763,
          0.548,
          0.767,
          0.435,
          0.505,
          0.383,
          0.48,
          0.843,
          0.699,
          0.547,
          0.829,
          0.541,
          0.933,
          0.777,
          0.755,
          0.634,
          0.725,
          0.893,
          0.656,
          0.435,
          0.755,
          0.377,
          0.634,
          0.736,
          0.898,
          0.66,
          0.459,
          0.763,
          0.379,
          0.825,
          0.621,
          0.609,
          0.481,
          0.748,
          0.816,
          0.34,
          0.499,
          0.777,
          0.825,
          0.621,
          0.609,
          0.481,
          0.748,
          0.816,
          0.34,
          0.499,
          0.777,
          0.599,
          0.47,
          0.305,
          0.623,
          0.917,
          0.608,
          0.95,
          0.341,
          0.68,
          0.599,
          0.47,
          0.305,
          0.623,
          0.917,
          0.608,
          0.95,
          0.341,
          0.68,
          0.553,
          0.486,
          0.852,
          0.459,
          0.712,
          0.829,
          0.447,
          0.756,
          0.544,
          0.482,
          0.855,
          0.452,
          0.7,
          0.821,
          0.434,
          0.77,
          0.777,
          0.482,
          0.805,
          0.578,
          0.629,
          0.627,
          0.934,
          0.394,
          0.751,
          0.753
         ],
         "yaxis": "y"
        },
        {
         "hovertemplate": "Track Type=Special Deluxe<br>Danceability=%{x}<br>Energy=%{y}<extra></extra>",
         "legendgroup": "Special Deluxe",
         "marker": {
          "color": "#00cc96",
          "symbol": "circle"
         },
         "mode": "markers",
         "name": "Special Deluxe",
         "orientation": "v",
         "showlegend": true,
         "type": "scatter",
         "x": [
          0.602,
          0.573,
          0.48,
          0.691,
          0.564,
          0.677,
          0.482,
          0.475,
          0.672,
          0.664,
          0.573,
          0.422,
          0.7,
          0.646,
          0.675,
          0.483,
          0.562,
          0.581,
          0.592,
          0.313,
          0.313,
          0.422,
          0.422,
          0.474,
          0.633,
          0.62,
          0.483,
          0.733,
          0.828,
          0.608,
          0.511,
          0.582,
          0.618,
          0.419,
          0.592,
          0.527,
          0.61,
          0.476
         ],
         "xaxis": "x",
         "y": [
          0.648,
          0.737,
          0.22,
          0.498,
          0.545,
          0.451,
          0.837,
          0.386,
          0.782,
          0.401,
          0.741,
          0.235,
          0.509,
          0.529,
          0.466,
          0.84,
          0.388,
          0.619,
          0.41,
          0.258,
          0.258,
          0.692,
          0.692,
          0.48,
          0.889,
          0.506,
          0.548,
          0.59,
          0.64,
          0.569,
          0.719,
          0.765,
          0.687,
          0.454,
          0.16,
          0.475,
          0.531,
          0.816
         ],
         "yaxis": "y"
        },
        {
         "hovertemplate": "Track Type=Acoustic Version<br>Danceability=%{x}<br>Energy=%{y}<extra></extra>",
         "legendgroup": "Acoustic Version",
         "marker": {
          "color": "#ab63fa",
          "symbol": "circle"
         },
         "mode": "markers",
         "name": "Acoustic Version",
         "orientation": "v",
         "showlegend": true,
         "type": "scatter",
         "x": [
          0.445,
          0.626,
          0.541,
          0.563
         ],
         "xaxis": "x",
         "y": [
          0.131,
          0.118,
          0.453,
          0.443
         ],
         "yaxis": "y"
        },
        {
         "hovertemplate": "Track Type=Live<br>Danceability=%{x}<br>Energy=%{y}<extra></extra>",
         "legendgroup": "Live",
         "marker": {
          "color": "#FFA15A",
          "symbol": "circle"
         },
         "mode": "markers",
         "name": "Live",
         "orientation": "v",
         "showlegend": true,
         "type": "scatter",
         "x": [
          0.708,
          0.395,
          0.64,
          0.359,
          0.531,
          0.509,
          0.694,
          0.554,
          0.435,
          0.489,
          0.59,
          0.663,
          0.524,
          0.538,
          0.619,
          0.682,
          0.606,
          0.455,
          0.496,
          0.419,
          0.429,
          0.421,
          0.374,
          0.445,
          0.615,
          0.427,
          0.374,
          0.327,
          0.536,
          0.521,
          0.34,
          0.338,
          0.544,
          0.741,
          0.623,
          0.627,
          0.731,
          0.344,
          0.647,
          0.429,
          0.243
         ],
         "xaxis": "x",
         "y": [
          0.25,
          0.234,
          0.618,
          0.305,
          0.172,
          0.386,
          0.449,
          0.663,
          0.332,
          0.235,
          0.282,
          0.465,
          0.2,
          0.316,
          0.344,
          0.155,
          0.221,
          0.783,
          0.852,
          0.908,
          0.915,
          0.355,
          0.516,
          0.887,
          0.694,
          0.395,
          0.504,
          0.488,
          0.512,
          0.386,
          0.663,
          0.818,
          0.728,
          0.444,
          0.266,
          0.704,
          0.184,
          0.801,
          0.872,
          0.808,
          0.712
         ],
         "yaxis": "y"
        },
        {
         "hovertemplate": "Track Type=Soundtrack<br>Danceability=%{x}<br>Energy=%{y}<extra></extra>",
         "legendgroup": "Soundtrack",
         "marker": {
          "color": "#19d3f3",
          "symbol": "circle"
         },
         "mode": "markers",
         "name": "Soundtrack",
         "orientation": "v",
         "showlegend": true,
         "type": "scatter",
         "x": [
          0.731
         ],
         "xaxis": "x",
         "y": [
          0.445
         ],
         "yaxis": "y"
        },
        {
         "hovertemplate": "Track Type=Voice Memo<br>Danceability=%{x}<br>Energy=%{y}<extra></extra>",
         "legendgroup": "Voice Memo",
         "marker": {
          "color": "#FF6692",
          "symbol": "circle"
         },
         "mode": "markers",
         "name": "Voice Memo",
         "orientation": "v",
         "showlegend": true,
         "type": "scatter",
         "x": [
          0.592,
          0.781,
          0.675,
          0.678
         ],
         "xaxis": "x",
         "y": [
          0.128,
          0.357,
          0.234,
          0.902
         ],
         "yaxis": "y"
        },
        {
         "hovertemplate": "Track Type=Remix<br>Danceability=%{x}<br>Energy=%{y}<extra></extra>",
         "legendgroup": "Remix",
         "marker": {
          "color": "#B6E880",
          "symbol": "circle"
         },
         "mode": "markers",
         "name": "Remix",
         "orientation": "v",
         "showlegend": true,
         "type": "scatter",
         "x": [
          0.695,
          0.621
         ],
         "xaxis": "x",
         "y": [
          0.723,
          0.417
         ],
         "yaxis": "y"
        }
       ],
       "layout": {
        "legend": {
         "title": {
          "text": "Track Type"
         },
         "tracegroupgap": 0
        },
        "template": {
         "data": {
          "bar": [
           {
            "error_x": {
             "color": "#2a3f5f"
            },
            "error_y": {
             "color": "#2a3f5f"
            },
            "marker": {
             "line": {
              "color": "#E5ECF6",
              "width": 0.5
             },
             "pattern": {
              "fillmode": "overlay",
              "size": 10,
              "solidity": 0.2
             }
            },
            "type": "bar"
           }
          ],
          "barpolar": [
           {
            "marker": {
             "line": {
              "color": "#E5ECF6",
              "width": 0.5
             },
             "pattern": {
              "fillmode": "overlay",
              "size": 10,
              "solidity": 0.2
             }
            },
            "type": "barpolar"
           }
          ],
          "carpet": [
           {
            "aaxis": {
             "endlinecolor": "#2a3f5f",
             "gridcolor": "white",
             "linecolor": "white",
             "minorgridcolor": "white",
             "startlinecolor": "#2a3f5f"
            },
            "baxis": {
             "endlinecolor": "#2a3f5f",
             "gridcolor": "white",
             "linecolor": "white",
             "minorgridcolor": "white",
             "startlinecolor": "#2a3f5f"
            },
            "type": "carpet"
           }
          ],
          "choropleth": [
           {
            "colorbar": {
             "outlinewidth": 0,
             "ticks": ""
            },
            "type": "choropleth"
           }
          ],
          "contour": [
           {
            "colorbar": {
             "outlinewidth": 0,
             "ticks": ""
            },
            "colorscale": [
             [
              0,
              "#0d0887"
             ],
             [
              0.1111111111111111,
              "#46039f"
             ],
             [
              0.2222222222222222,
              "#7201a8"
             ],
             [
              0.3333333333333333,
              "#9c179e"
             ],
             [
              0.4444444444444444,
              "#bd3786"
             ],
             [
              0.5555555555555556,
              "#d8576b"
             ],
             [
              0.6666666666666666,
              "#ed7953"
             ],
             [
              0.7777777777777778,
              "#fb9f3a"
             ],
             [
              0.8888888888888888,
              "#fdca26"
             ],
             [
              1,
              "#f0f921"
             ]
            ],
            "type": "contour"
           }
          ],
          "contourcarpet": [
           {
            "colorbar": {
             "outlinewidth": 0,
             "ticks": ""
            },
            "type": "contourcarpet"
           }
          ],
          "heatmap": [
           {
            "colorbar": {
             "outlinewidth": 0,
             "ticks": ""
            },
            "colorscale": [
             [
              0,
              "#0d0887"
             ],
             [
              0.1111111111111111,
              "#46039f"
             ],
             [
              0.2222222222222222,
              "#7201a8"
             ],
             [
              0.3333333333333333,
              "#9c179e"
             ],
             [
              0.4444444444444444,
              "#bd3786"
             ],
             [
              0.5555555555555556,
              "#d8576b"
             ],
             [
              0.6666666666666666,
              "#ed7953"
             ],
             [
              0.7777777777777778,
              "#fb9f3a"
             ],
             [
              0.8888888888888888,
              "#fdca26"
             ],
             [
              1,
              "#f0f921"
             ]
            ],
            "type": "heatmap"
           }
          ],
          "heatmapgl": [
           {
            "colorbar": {
             "outlinewidth": 0,
             "ticks": ""
            },
            "colorscale": [
             [
              0,
              "#0d0887"
             ],
             [
              0.1111111111111111,
              "#46039f"
             ],
             [
              0.2222222222222222,
              "#7201a8"
             ],
             [
              0.3333333333333333,
              "#9c179e"
             ],
             [
              0.4444444444444444,
              "#bd3786"
             ],
             [
              0.5555555555555556,
              "#d8576b"
             ],
             [
              0.6666666666666666,
              "#ed7953"
             ],
             [
              0.7777777777777778,
              "#fb9f3a"
             ],
             [
              0.8888888888888888,
              "#fdca26"
             ],
             [
              1,
              "#f0f921"
             ]
            ],
            "type": "heatmapgl"
           }
          ],
          "histogram": [
           {
            "marker": {
             "pattern": {
              "fillmode": "overlay",
              "size": 10,
              "solidity": 0.2
             }
            },
            "type": "histogram"
           }
          ],
          "histogram2d": [
           {
            "colorbar": {
             "outlinewidth": 0,
             "ticks": ""
            },
            "colorscale": [
             [
              0,
              "#0d0887"
             ],
             [
              0.1111111111111111,
              "#46039f"
             ],
             [
              0.2222222222222222,
              "#7201a8"
             ],
             [
              0.3333333333333333,
              "#9c179e"
             ],
             [
              0.4444444444444444,
              "#bd3786"
             ],
             [
              0.5555555555555556,
              "#d8576b"
             ],
             [
              0.6666666666666666,
              "#ed7953"
             ],
             [
              0.7777777777777778,
              "#fb9f3a"
             ],
             [
              0.8888888888888888,
              "#fdca26"
             ],
             [
              1,
              "#f0f921"
             ]
            ],
            "type": "histogram2d"
           }
          ],
          "histogram2dcontour": [
           {
            "colorbar": {
             "outlinewidth": 0,
             "ticks": ""
            },
            "colorscale": [
             [
              0,
              "#0d0887"
             ],
             [
              0.1111111111111111,
              "#46039f"
             ],
             [
              0.2222222222222222,
              "#7201a8"
             ],
             [
              0.3333333333333333,
              "#9c179e"
             ],
             [
              0.4444444444444444,
              "#bd3786"
             ],
             [
              0.5555555555555556,
              "#d8576b"
             ],
             [
              0.6666666666666666,
              "#ed7953"
             ],
             [
              0.7777777777777778,
              "#fb9f3a"
             ],
             [
              0.8888888888888888,
              "#fdca26"
             ],
             [
              1,
              "#f0f921"
             ]
            ],
            "type": "histogram2dcontour"
           }
          ],
          "mesh3d": [
           {
            "colorbar": {
             "outlinewidth": 0,
             "ticks": ""
            },
            "type": "mesh3d"
           }
          ],
          "parcoords": [
           {
            "line": {
             "colorbar": {
              "outlinewidth": 0,
              "ticks": ""
             }
            },
            "type": "parcoords"
           }
          ],
          "pie": [
           {
            "automargin": true,
            "type": "pie"
           }
          ],
          "scatter": [
           {
            "fillpattern": {
             "fillmode": "overlay",
             "size": 10,
             "solidity": 0.2
            },
            "type": "scatter"
           }
          ],
          "scatter3d": [
           {
            "line": {
             "colorbar": {
              "outlinewidth": 0,
              "ticks": ""
             }
            },
            "marker": {
             "colorbar": {
              "outlinewidth": 0,
              "ticks": ""
             }
            },
            "type": "scatter3d"
           }
          ],
          "scattercarpet": [
           {
            "marker": {
             "colorbar": {
              "outlinewidth": 0,
              "ticks": ""
             }
            },
            "type": "scattercarpet"
           }
          ],
          "scattergeo": [
           {
            "marker": {
             "colorbar": {
              "outlinewidth": 0,
              "ticks": ""
             }
            },
            "type": "scattergeo"
           }
          ],
          "scattergl": [
           {
            "marker": {
             "colorbar": {
              "outlinewidth": 0,
              "ticks": ""
             }
            },
            "type": "scattergl"
           }
          ],
          "scattermapbox": [
           {
            "marker": {
             "colorbar": {
              "outlinewidth": 0,
              "ticks": ""
             }
            },
            "type": "scattermapbox"
           }
          ],
          "scatterpolar": [
           {
            "marker": {
             "colorbar": {
              "outlinewidth": 0,
              "ticks": ""
             }
            },
            "type": "scatterpolar"
           }
          ],
          "scatterpolargl": [
           {
            "marker": {
             "colorbar": {
              "outlinewidth": 0,
              "ticks": ""
             }
            },
            "type": "scatterpolargl"
           }
          ],
          "scatterternary": [
           {
            "marker": {
             "colorbar": {
              "outlinewidth": 0,
              "ticks": ""
             }
            },
            "type": "scatterternary"
           }
          ],
          "surface": [
           {
            "colorbar": {
             "outlinewidth": 0,
             "ticks": ""
            },
            "colorscale": [
             [
              0,
              "#0d0887"
             ],
             [
              0.1111111111111111,
              "#46039f"
             ],
             [
              0.2222222222222222,
              "#7201a8"
             ],
             [
              0.3333333333333333,
              "#9c179e"
             ],
             [
              0.4444444444444444,
              "#bd3786"
             ],
             [
              0.5555555555555556,
              "#d8576b"
             ],
             [
              0.6666666666666666,
              "#ed7953"
             ],
             [
              0.7777777777777778,
              "#fb9f3a"
             ],
             [
              0.8888888888888888,
              "#fdca26"
             ],
             [
              1,
              "#f0f921"
             ]
            ],
            "type": "surface"
           }
          ],
          "table": [
           {
            "cells": {
             "fill": {
              "color": "#EBF0F8"
             },
             "line": {
              "color": "white"
             }
            },
            "header": {
             "fill": {
              "color": "#C8D4E3"
             },
             "line": {
              "color": "white"
             }
            },
            "type": "table"
           }
          ]
         },
         "layout": {
          "annotationdefaults": {
           "arrowcolor": "#2a3f5f",
           "arrowhead": 0,
           "arrowwidth": 1
          },
          "autotypenumbers": "strict",
          "coloraxis": {
           "colorbar": {
            "outlinewidth": 0,
            "ticks": ""
           }
          },
          "colorscale": {
           "diverging": [
            [
             0,
             "#8e0152"
            ],
            [
             0.1,
             "#c51b7d"
            ],
            [
             0.2,
             "#de77ae"
            ],
            [
             0.3,
             "#f1b6da"
            ],
            [
             0.4,
             "#fde0ef"
            ],
            [
             0.5,
             "#f7f7f7"
            ],
            [
             0.6,
             "#e6f5d0"
            ],
            [
             0.7,
             "#b8e186"
            ],
            [
             0.8,
             "#7fbc41"
            ],
            [
             0.9,
             "#4d9221"
            ],
            [
             1,
             "#276419"
            ]
           ],
           "sequential": [
            [
             0,
             "#0d0887"
            ],
            [
             0.1111111111111111,
             "#46039f"
            ],
            [
             0.2222222222222222,
             "#7201a8"
            ],
            [
             0.3333333333333333,
             "#9c179e"
            ],
            [
             0.4444444444444444,
             "#bd3786"
            ],
            [
             0.5555555555555556,
             "#d8576b"
            ],
            [
             0.6666666666666666,
             "#ed7953"
            ],
            [
             0.7777777777777778,
             "#fb9f3a"
            ],
            [
             0.8888888888888888,
             "#fdca26"
            ],
            [
             1,
             "#f0f921"
            ]
           ],
           "sequentialminus": [
            [
             0,
             "#0d0887"
            ],
            [
             0.1111111111111111,
             "#46039f"
            ],
            [
             0.2222222222222222,
             "#7201a8"
            ],
            [
             0.3333333333333333,
             "#9c179e"
            ],
            [
             0.4444444444444444,
             "#bd3786"
            ],
            [
             0.5555555555555556,
             "#d8576b"
            ],
            [
             0.6666666666666666,
             "#ed7953"
            ],
            [
             0.7777777777777778,
             "#fb9f3a"
            ],
            [
             0.8888888888888888,
             "#fdca26"
            ],
            [
             1,
             "#f0f921"
            ]
           ]
          },
          "colorway": [
           "#636efa",
           "#EF553B",
           "#00cc96",
           "#ab63fa",
           "#FFA15A",
           "#19d3f3",
           "#FF6692",
           "#B6E880",
           "#FF97FF",
           "#FECB52"
          ],
          "font": {
           "color": "#2a3f5f"
          },
          "geo": {
           "bgcolor": "white",
           "lakecolor": "white",
           "landcolor": "#E5ECF6",
           "showlakes": true,
           "showland": true,
           "subunitcolor": "white"
          },
          "hoverlabel": {
           "align": "left"
          },
          "hovermode": "closest",
          "mapbox": {
           "style": "light"
          },
          "paper_bgcolor": "white",
          "plot_bgcolor": "#E5ECF6",
          "polar": {
           "angularaxis": {
            "gridcolor": "white",
            "linecolor": "white",
            "ticks": ""
           },
           "bgcolor": "#E5ECF6",
           "radialaxis": {
            "gridcolor": "white",
            "linecolor": "white",
            "ticks": ""
           }
          },
          "scene": {
           "xaxis": {
            "backgroundcolor": "#E5ECF6",
            "gridcolor": "white",
            "gridwidth": 2,
            "linecolor": "white",
            "showbackground": true,
            "ticks": "",
            "zerolinecolor": "white"
           },
           "yaxis": {
            "backgroundcolor": "#E5ECF6",
            "gridcolor": "white",
            "gridwidth": 2,
            "linecolor": "white",
            "showbackground": true,
            "ticks": "",
            "zerolinecolor": "white"
           },
           "zaxis": {
            "backgroundcolor": "#E5ECF6",
            "gridcolor": "white",
            "gridwidth": 2,
            "linecolor": "white",
            "showbackground": true,
            "ticks": "",
            "zerolinecolor": "white"
           }
          },
          "shapedefaults": {
           "line": {
            "color": "#2a3f5f"
           }
          },
          "ternary": {
           "aaxis": {
            "gridcolor": "white",
            "linecolor": "white",
            "ticks": ""
           },
           "baxis": {
            "gridcolor": "white",
            "linecolor": "white",
            "ticks": ""
           },
           "bgcolor": "#E5ECF6",
           "caxis": {
            "gridcolor": "white",
            "linecolor": "white",
            "ticks": ""
           }
          },
          "title": {
           "x": 0.05
          },
          "xaxis": {
           "automargin": true,
           "gridcolor": "white",
           "linecolor": "white",
           "ticks": "",
           "title": {
            "standoff": 15
           },
           "zerolinecolor": "white",
           "zerolinewidth": 2
          },
          "yaxis": {
           "automargin": true,
           "gridcolor": "white",
           "linecolor": "white",
           "ticks": "",
           "title": {
            "standoff": 15
           },
           "zerolinecolor": "white",
           "zerolinewidth": 2
          }
         }
        },
        "title": {
         "text": "Danceability vs Energy by Track Type"
        },
        "xaxis": {
         "anchor": "y",
         "domain": [
          0,
          1
         ],
         "title": {
          "text": "Danceability"
         }
        },
        "yaxis": {
         "anchor": "x",
         "domain": [
          0,
          1
         ],
         "title": {
          "text": "Energy"
         }
        }
       }
      }
     },
     "metadata": {},
     "output_type": "display_data"
    }
   ],
   "source": [
    "# Scatter plot of danceability vs energy\n",
    "fig_danceability_energy = px.scatter(df, x='danceability', y='energy', color='track_type',\n",
    "                                     title='Danceability vs Energy by Track Type',\n",
    "                                     labels={'danceability': 'Danceability', 'energy': 'Energy', 'track_type': 'Track Type'})\n",
    "fig_danceability_energy.show()"
   ]
  },
  {
   "cell_type": "markdown",
   "metadata": {},
   "source": [
    "Is there a relationship between tempo and danceability?"
   ]
  },
  {
   "cell_type": "code",
   "execution_count": 62,
   "metadata": {},
   "outputs": [
    {
     "data": {
      "application/vnd.plotly.v1+json": {
       "config": {
        "plotlyServerURL": "https://plot.ly"
       },
       "data": [
        {
         "hovertemplate": "Track Theme=Complicated love/Looking for love<br>Tempo (BPM)=%{x}<br>Danceability=%{y}<extra></extra>",
         "legendgroup": "Complicated love/Looking for love",
         "marker": {
          "color": "#636efa",
          "symbol": "circle"
         },
         "mode": "markers",
         "name": "Complicated love/Looking for love",
         "orientation": "v",
         "showlegend": true,
         "type": "scatter",
         "x": [
          192.004,
          110.259,
          79.943,
          94.95,
          106.896,
          110.007,
          192.004,
          110.259,
          79.943,
          94.95,
          106.896,
          144.071,
          160.027,
          155.875,
          109.95,
          144.022,
          160.039,
          77.983,
          109.946,
          131.93,
          96.965,
          140.845,
          140.864,
          125.047,
          100.02,
          79.846,
          73.942,
          143.929,
          142.893,
          112.05,
          145.916,
          127.967,
          112.05,
          145.916,
          127.967,
          118.84,
          118.832,
          118.84,
          118.819,
          111.011,
          124.985,
          117.97,
          79.926,
          143.95,
          96.005,
          143.944,
          159.965,
          143.95,
          159.965,
          78.828,
          143.988,
          159.958,
          124.978,
          99.981,
          79.926,
          124.998,
          124.978,
          99.981,
          131.982,
          143.962,
          131.597,
          96.001
         ],
         "xaxis": "x",
         "y": [
          0.504,
          0.604,
          0.521,
          0.626,
          0.661,
          0.784,
          0.504,
          0.604,
          0.521,
          0.626,
          0.661,
          0.471,
          0.582,
          0.591,
          0.633,
          0.474,
          0.575,
          0.629,
          0.626,
          0.533,
          0.671,
          0.677,
          0.675,
          0.516,
          0.693,
          0.46,
          0.473,
          0.476,
          0.599,
          0.512,
          0.575,
          0.604,
          0.512,
          0.575,
          0.604,
          0.676,
          0.682,
          0.676,
          0.662,
          0.756,
          0.605,
          0.731,
          0.483,
          0.481,
          0.609,
          0.502,
          0.602,
          0.481,
          0.602,
          0.592,
          0.475,
          0.596,
          0.602,
          0.729,
          0.483,
          0.678,
          0.602,
          0.729,
          0.582,
          0.527,
          0.594,
          0.612
         ],
         "yaxis": "y"
        },
        {
         "hovertemplate": "Track Theme=Broken heart/Sadness<br>Tempo (BPM)=%{x}<br>Danceability=%{y}<extra></extra>",
         "legendgroup": "Broken heart/Sadness",
         "marker": {
          "color": "#EF553B",
          "symbol": "circle"
         },
         "mode": "markers",
         "name": "Broken heart/Sadness",
         "orientation": "v",
         "showlegend": true,
         "type": "scatter",
         "x": [
          97.073,
          159.707,
          160.218,
          78.539,
          83.993,
          90.796,
          167.927,
          183.694,
          97.073,
          159.707,
          160.218,
          78.539,
          119.294,
          79.401,
          185.972,
          145.88,
          130.059,
          125.952,
          116.012,
          93.023,
          185.262,
          148.035,
          200.391,
          106.007,
          171.319,
          74.952,
          107.895,
          125.177,
          171.319,
          74.952,
          107.895,
          125.177,
          139.902,
          130.045,
          75.938,
          129.947,
          89.567,
          139.803,
          86.478,
          151.956,
          129.007,
          89.977,
          139.902,
          130.045,
          75.938,
          129.947,
          89.567,
          139.883,
          130.033,
          75.602,
          129.86,
          89.937,
          93.061,
          99.959,
          73.849,
          92.673,
          93.06,
          145.865,
          129.987,
          126.015,
          93.06,
          145.865,
          129.987,
          79.517,
          119.518,
          119.386,
          89.038,
          147.852,
          119.386,
          89.038,
          200.017,
          92.564,
          147.952,
          92.702,
          73.975,
          102.404,
          204.489,
          76.009,
          99.953,
          156.092,
          199.997
         ],
         "xaxis": "x",
         "y": [
          0.596,
          0.541,
          0.423,
          0.423,
          0.492,
          0.763,
          0.421,
          0.455,
          0.596,
          0.541,
          0.423,
          0.423,
          0.419,
          0.55,
          0.44,
          0.511,
          0.601,
          0.636,
          0.611,
          0.631,
          0.423,
          0.506,
          0.393,
          0.609,
          0.462,
          0.316,
          0.537,
          0.39,
          0.462,
          0.316,
          0.537,
          0.39,
          0.78,
          0.612,
          0.31,
          0.456,
          0.387,
          0.708,
          0.395,
          0.359,
          0.531,
          0.554,
          0.78,
          0.612,
          0.31,
          0.456,
          0.387,
          0.777,
          0.613,
          0.298,
          0.456,
          0.532,
          0.602,
          0.626,
          0.442,
          0.578,
          0.602,
          0.567,
          0.624,
          0.62,
          0.602,
          0.567,
          0.624,
          0.427,
          0.521,
          0.589,
          0.371,
          0.511,
          0.589,
          0.371,
          0.419,
          0.585,
          0.498,
          0.578,
          0.505,
          0.731,
          0.344,
          0.58,
          0.621,
          0.483,
          0.459
         ],
         "yaxis": "y"
        },
        {
         "hovertemplate": "Track Theme=Complicated love/Losing love<br>Tempo (BPM)=%{x}<br>Danceability=%{y}<extra></extra>",
         "legendgroup": "Complicated love/Losing love",
         "marker": {
          "color": "#00cc96",
          "symbol": "circle"
         },
         "mode": "markers",
         "name": "Complicated love/Losing love",
         "orientation": "v",
         "showlegend": true,
         "type": "scatter",
         "x": [
          87.115,
          87.115,
          92.021,
          118.009,
          139.985,
          119.997,
          91.992,
          118.026,
          140.061,
          120.027,
          118.995,
          96.009,
          96.016,
          94.05,
          125.089,
          101.96,
          161.032,
          90.201,
          101.934,
          80.132,
          88.856,
          88.856,
          169.994,
          172.054,
          160.024,
          139.997,
          119.997,
          92.008,
          118.986,
          92.008,
          118.035,
          139.997,
          119.997,
          118.317,
          91.991,
          118.02,
          140.056,
          119.988,
          94.069,
          125.048,
          94.069,
          118.876,
          118.975,
          118.975,
          160.886,
          160.927,
          175.558
         ],
         "xaxis": "x",
         "y": [
          0.33,
          0.33,
          0.545,
          0.67,
          0.589,
          0.758,
          0.547,
          0.669,
          0.581,
          0.754,
          0.727,
          0.573,
          0.573,
          0.502,
          0.691,
          0.606,
          0.402,
          0.588,
          0.563,
          0.624,
          0.515,
          0.515,
          0.552,
          0.562,
          0.624,
          0.55,
          0.765,
          0.553,
          0.712,
          0.553,
          0.653,
          0.55,
          0.765,
          0.781,
          0.552,
          0.648,
          0.554,
          0.764,
          0.505,
          0.733,
          0.505,
          0.615,
          0.709,
          0.709,
          0.436,
          0.433,
          0.418
         ],
         "yaxis": "y"
        },
        {
         "hovertemplate": "Track Theme=Overcoming<br>Tempo (BPM)=%{x}<br>Danceability=%{y}<extra></extra>",
         "legendgroup": "Overcoming",
         "marker": {
          "color": "#ab63fa",
          "symbol": "circle"
         },
         "mode": "markers",
         "name": "Overcoming",
         "orientation": "v",
         "showlegend": true,
         "type": "scatter",
         "x": [
          150.088,
          129.994,
          172.013,
          150.088,
          129.994,
          103.955,
          110.013,
          103.96,
          109.994,
          133.627,
          120.044,
          164,
          90.034,
          89.977,
          120.044,
          164.003,
          90.024,
          120.041,
          163.999,
          90.02,
          125.039,
          100.118,
          151.884,
          151.923,
          151.884,
          92.875,
          82.989,
          128.07,
          100.163,
          103.97,
          103.981,
          134.05,
          134.05,
          99.979,
          99.972,
          96.601
         ],
         "xaxis": "x",
         "y": [
          0.533,
          0.701,
          0.352,
          0.533,
          0.701,
          0.772,
          0.8,
          0.771,
          0.793,
          0.522,
          0.694,
          0.695,
          0.647,
          0.615,
          0.694,
          0.7,
          0.649,
          0.696,
          0.696,
          0.642,
          0.61,
          0.569,
          0.689,
          0.592,
          0.689,
          0.664,
          0.696,
          0.766,
          0.603,
          0.815,
          0.81,
          0.552,
          0.552,
          0.598,
          0.594,
          0.623
         ],
         "yaxis": "y"
        },
        {
         "hovertemplate": "Track Theme=Betrayal/Anger<br>Tempo (BPM)=%{x}<br>Danceability=%{y}<extra></extra>",
         "legendgroup": "Betrayal/Anger",
         "marker": {
          "color": "#FFA15A",
          "symbol": "circle"
         },
         "mode": "markers",
         "name": "Betrayal/Anger",
         "orientation": "v",
         "showlegend": true,
         "type": "scatter",
         "x": [
          119.88,
          95.997,
          139.963,
          119.88,
          169.971,
          99.994,
          170.091,
          169.943,
          100.012,
          163.874,
          145.863,
          108.978,
          79.962,
          176.082,
          157.96,
          108.989,
          79.996,
          87.862,
          157.979,
          108.943,
          79.846,
          167.844,
          135.942,
          79.015,
          79.015,
          119.58,
          141.898,
          117.699,
          141.834,
          119.58,
          141.898,
          119.845,
          141.916,
          110.048,
          85.026,
          163.96,
          163.886,
          171.791,
          170.216,
          170.146,
          163.752,
          145.954,
          163.974,
          145.821,
          163.974,
          145.821
         ],
         "xaxis": "x",
         "y": [
          0.606,
          0.609,
          0.587,
          0.606,
          0.618,
          0.595,
          0.602,
          0.619,
          0.596,
          0.524,
          0.496,
          0.741,
          0.867,
          0.564,
          0.482,
          0.751,
          0.87,
          0.646,
          0.483,
          0.751,
          0.798,
          0.584,
          0.66,
          0.546,
          0.546,
          0.529,
          0.593,
          0.489,
          0.663,
          0.529,
          0.593,
          0.559,
          0.592,
          0.777,
          0.771,
          0.567,
          0.576,
          0.577,
          0.646,
          0.65,
          0.429,
          0.445,
          0.568,
          0.516,
          0.568,
          0.516
         ],
         "yaxis": "y"
        },
        {
         "hovertemplate": "Track Theme=Broken heart/Anger<br>Tempo (BPM)=%{x}<br>Danceability=%{y}<extra></extra>",
         "legendgroup": "Broken heart/Anger",
         "marker": {
          "color": "#19d3f3",
          "symbol": "circle"
         },
         "mode": "markers",
         "name": "Broken heart/Anger",
         "orientation": "v",
         "showlegend": true,
         "type": "scatter",
         "x": [
          142.377,
          154.042,
          94.184,
          96.997,
          121.978,
          97.057,
          121.98,
          139.846,
          162.201,
          154.008,
          172.014,
          149.654,
          100.023,
          133.873,
          128.03,
          118.753,
          163.936,
          94.071,
          77.318,
          162.012,
          139.908,
          128.057,
          96.97,
          121.956,
          96.969,
          77.019,
          85.984,
          77.019,
          85.984,
          139.813,
          162.157,
          139.898,
          162.088,
          80.962,
          139.898,
          162.088,
          118.929,
          163.847,
          100.015,
          134.018,
          128.012,
          99.96,
          133.959,
          128.042,
          105.798,
          171.537,
          105.586,
          167.964
         ],
         "xaxis": "x",
         "y": [
          0.426,
          0.527,
          0.509,
          0.588,
          0.649,
          0.586,
          0.651,
          0.515,
          0.427,
          0.584,
          0.567,
          0.391,
          0.578,
          0.506,
          0.598,
          0.546,
          0.432,
          0.712,
          0.536,
          0.431,
          0.547,
          0.607,
          0.605,
          0.633,
          0.602,
          0.622,
          0.628,
          0.622,
          0.628,
          0.419,
          0.338,
          0.543,
          0.436,
          0.563,
          0.543,
          0.436,
          0.592,
          0.476,
          0.601,
          0.459,
          0.605,
          0.604,
          0.475,
          0.608,
          0.647,
          0.429,
          0.658,
          0.476
         ],
         "yaxis": "y"
        },
        {
         "hovertemplate": "Track Theme=New love<br>Tempo (BPM)=%{x}<br>Danceability=%{y}<extra></extra>",
         "legendgroup": "New love",
         "marker": {
          "color": "#FF6692",
          "symbol": "circle"
         },
         "mode": "markers",
         "name": "New love",
         "orientation": "v",
         "showlegend": true,
         "type": "scatter",
         "x": [
          100.056,
          96.057,
          94.868,
          118.036,
          96.012,
          94.971,
          118.048,
          114.991,
          81.907,
          109.993,
          125.977,
          110.039,
          125.934,
          110.014,
          125.966,
          129.958,
          109.984,
          78.915,
          208.918,
          115.915,
          115.99,
          160.111,
          171.862,
          158.162,
          81.112,
          81.112,
          160.015,
          74.957,
          178.013,
          74.957,
          114.977,
          129.962,
          109.995,
          81.963,
          80.007,
          79.025,
          116.001,
          95.997,
          94.933,
          127.296,
          96.006,
          95.019,
          129.968,
          109.993,
          79.025,
          109.993,
          105.597,
          129.968,
          109.993,
          79.025,
          114.981,
          163.678,
          114.987,
          163.893,
          114.987,
          163.893,
          79.991,
          85.979,
          115.997,
          115.994,
          89.011
         ],
         "xaxis": "x",
         "y": [
          0.64,
          0.733,
          0.511,
          0.701,
          0.737,
          0.575,
          0.699,
          0.588,
          0.505,
          0.493,
          0.661,
          0.487,
          0.661,
          0.406,
          0.662,
          0.594,
          0.645,
          0.519,
          0.445,
          0.622,
          0.788,
          0.572,
          0.454,
          0.482,
          0.392,
          0.392,
          0.613,
          0.574,
          0.545,
          0.574,
          0.61,
          0.591,
          0.704,
          0.535,
          0.617,
          0.53,
          0.843,
          0.76,
          0.588,
          0.675,
          0.753,
          0.598,
          0.588,
          0.705,
          0.53,
          0.828,
          0.626,
          0.588,
          0.705,
          0.53,
          0.455,
          0.34,
          0.605,
          0.455,
          0.605,
          0.455,
          0.618,
          0.61,
          0.843,
          0.841,
          0.668
         ],
         "yaxis": "y"
        },
        {
         "hovertemplate": "Track Theme=Insecurities<br>Tempo (BPM)=%{x}<br>Danceability=%{y}<extra></extra>",
         "legendgroup": "Insecurities",
         "marker": {
          "color": "#B6E880",
          "symbol": "circle"
         },
         "mode": "markers",
         "name": "Insecurities",
         "orientation": "v",
         "showlegend": true,
         "type": "scatter",
         "x": [
          104.088,
          105.953,
          147.803,
          96.935,
          106.026,
          96.953,
          97.008,
          117.889,
          110.137,
          135.882,
          109.993,
          68.097,
          110.137,
          135.882,
          110.107,
          135.886,
          124.344,
          114.984,
          117.935,
          146.147,
          117.937,
          117.937,
          115.028,
          112.982,
          146.165
         ],
         "xaxis": "x",
         "y": [
          0.686,
          0.485,
          0.576,
          0.637,
          0.672,
          0.638,
          0.637,
          0.686,
          0.549,
          0.511,
          0.509,
          0.435,
          0.549,
          0.511,
          0.553,
          0.515,
          0.292,
          0.573,
          0.706,
          0.479,
          0.706,
          0.706,
          0.576,
          0.589,
          0.479
         ],
         "yaxis": "y"
        },
        {
         "hovertemplate": "Track Theme=Nostalgia<br>Tempo (BPM)=%{x}<br>Danceability=%{y}<extra></extra>",
         "legendgroup": "Nostalgia",
         "marker": {
          "color": "#FF97FF",
          "symbol": "circle"
         },
         "mode": "markers",
         "name": "Nostalgia",
         "orientation": "v",
         "showlegend": true,
         "type": "scatter",
         "x": [
          70.266,
          138.265,
          125.058,
          203.89,
          140.15,
          82.951,
          139.966,
          165.71,
          139.865,
          79.918,
          116.04,
          121.009,
          95.466,
          125,
          95.999,
          122.079,
          96.103,
          137.915,
          122.079,
          96.103,
          94.955,
          93.933,
          94.963,
          93.87,
          94.955,
          93.933,
          94.926,
          94.219,
          126.068,
          95.122,
          124.894,
          96.006,
          80.017,
          80.017,
          101.939,
          124.91,
          204.12,
          124.91,
          204.125,
          95.485,
          126.079,
          96.038,
          95.485,
          126.084,
          96.013,
          202.319,
          74.9
         ],
         "xaxis": "x",
         "y": [
          0.516,
          0.476,
          0.685,
          0.375,
          0.654,
          0.48,
          0.636,
          0.422,
          0.643,
          0.498,
          0.623,
          0.678,
          0.559,
          0.642,
          0.499,
          0.559,
          0.535,
          0.581,
          0.559,
          0.535,
          0.602,
          0.317,
          0.694,
          0.524,
          0.602,
          0.317,
          0.596,
          0.354,
          0.669,
          0.55,
          0.714,
          0.543,
          0.624,
          0.624,
          0.544,
          0.714,
          0.418,
          0.714,
          0.418,
          0.559,
          0.664,
          0.548,
          0.556,
          0.666,
          0.541,
          0.243,
          0.403
         ],
         "yaxis": "y"
        },
        {
         "hovertemplate": "Track Theme=Fall in love<br>Tempo (BPM)=%{x}<br>Danceability=%{y}<extra></extra>",
         "legendgroup": "Fall in love",
         "marker": {
          "color": "#FECB52",
          "symbol": "circle"
         },
         "mode": "markers",
         "name": "Fall in love",
         "orientation": "v",
         "showlegend": true,
         "type": "scatter",
         "x": [
          176.07,
          183.892,
          84.68,
          183.811,
          84.948,
          121.08,
          159.813,
          131.073,
          123.044,
          142.883,
          97.043,
          108.055,
          110.014,
          175.917,
          110.963,
          109.846,
          97.038,
          108.034,
          110.007,
          176.747,
          110.947,
          96.985,
          108.075,
          109.957,
          176.655,
          156.894,
          126.014,
          119.054,
          130.033,
          157.895,
          157.895,
          147.991,
          83.455,
          150.072,
          179.947,
          147.948,
          83.438,
          149.897,
          89.844,
          147.991,
          83.455,
          150.072,
          179.947,
          147.922,
          83.433,
          150.044,
          68.534,
          100.003,
          103.979,
          102.012,
          157.925,
          79.97,
          182.162,
          149.983,
          159.073,
          135.917,
          95.045,
          92.027,
          110.01,
          120.085,
          163.954,
          94.922,
          157.043,
          121.034,
          159.837,
          184.014,
          126.014,
          184.014,
          170.109,
          157.043,
          126.018,
          157.043,
          126.018,
          120.969,
          77.769,
          121.07,
          159.845,
          121.011,
          121.07,
          118.982,
          129.964,
          118.984,
          129.964,
          119.006,
          98.958
         ],
         "xaxis": "x",
         "y": [
          0.366,
          0.464,
          0.363,
          0.462,
          0.537,
          0.646,
          0.535,
          0.547,
          0.694,
          0.624,
          0.735,
          0.65,
          0.653,
          0.335,
          0.691,
          0.664,
          0.735,
          0.658,
          0.659,
          0.334,
          0.7,
          0.733,
          0.637,
          0.663,
          0.337,
          0.622,
          0.628,
          0.627,
          0.632,
          0.546,
          0.546,
          0.688,
          0.651,
          0.644,
          0.313,
          0.64,
          0.59,
          0.619,
          0.606,
          0.688,
          0.651,
          0.644,
          0.313,
          0.686,
          0.653,
          0.647,
          0.359,
          0.897,
          0.811,
          0.824,
          0.695,
          0.739,
          0.61,
          0.557,
          0.649,
          0.615,
          0.75,
          0.8,
          0.675,
          0.719,
          0.598,
          0.661,
          0.627,
          0.621,
          0.61,
          0.422,
          0.649,
          0.422,
          0.474,
          0.627,
          0.649,
          0.627,
          0.649,
          0.496,
          0.421,
          0.624,
          0.608,
          0.695,
          0.624,
          0.618,
          0.687,
          0.618,
          0.687,
          0.741,
          0.627
         ],
         "yaxis": "y"
        },
        {
         "hovertemplate": "Track Theme=Repentance<br>Tempo (BPM)=%{x}<br>Danceability=%{y}<extra></extra>",
         "legendgroup": "Repentance",
         "marker": {
          "color": "#636efa",
          "symbol": "circle"
         },
         "mode": "markers",
         "name": "Repentance",
         "orientation": "v",
         "showlegend": true,
         "type": "scatter",
         "x": [
          176.859,
          142.063,
          95.946,
          95.68,
          95.946,
          95.939,
          142.057,
          141.893,
          141.757,
          141.893
         ],
         "xaxis": "x",
         "y": [
          0.342,
          0.497,
          0.595,
          0.538,
          0.595,
          0.593,
          0.374,
          0.529,
          0.541,
          0.529
         ],
         "yaxis": "y"
        },
        {
         "hovertemplate": "Track Theme=Happiness<br>Tempo (BPM)=%{x}<br>Danceability=%{y}<extra></extra>",
         "legendgroup": "Happiness",
         "marker": {
          "color": "#00cc96",
          "symbol": "circle"
         },
         "mode": "markers",
         "name": "Happiness",
         "orientation": "v",
         "showlegend": true,
         "type": "scatter",
         "x": [
          116.998,
          160.058,
          116.98,
          160.055,
          103.984,
          104.009,
          116.992,
          116.992,
          160.078,
          117.024,
          160.015,
          104.007,
          104.007
         ],
         "xaxis": "x",
         "y": [
          0.757,
          0.636,
          0.761,
          0.632,
          0.642,
          0.66,
          0.789,
          0.789,
          0.647,
          0.793,
          0.647,
          0.658,
          0.658
         ],
         "yaxis": "y"
        },
        {
         "hovertemplate": "Track Theme=Friendship<br>Tempo (BPM)=%{x}<br>Danceability=%{y}<extra></extra>",
         "legendgroup": "Friendship",
         "marker": {
          "color": "#ab63fa",
          "symbol": "circle"
         },
         "mode": "markers",
         "name": "Friendship",
         "orientation": "v",
         "showlegend": true,
         "type": "scatter",
         "x": [
          78.133,
          107.601,
          107.747,
          119.966,
          119.966,
          207.476,
          70.008,
          143.936,
          143.964
         ],
         "xaxis": "x",
         "y": [
          0.474,
          0.475,
          0.562,
          0.605,
          0.605,
          0.433,
          0.737,
          0.556,
          0.563
         ],
         "yaxis": "y"
        },
        {
         "hovertemplate": "Track Theme=Social issues<br>Tempo (BPM)=%{x}<br>Danceability=%{y}<extra></extra>",
         "legendgroup": "Social issues",
         "marker": {
          "color": "#FFA15A",
          "symbol": "circle"
         },
         "mode": "markers",
         "name": "Social issues",
         "orientation": "v",
         "showlegend": true,
         "type": "scatter",
         "x": [
          150.088
         ],
         "xaxis": "x",
         "y": [
          0.662
         ],
         "yaxis": "y"
        },
        {
         "hovertemplate": "Track Theme=-<br>Tempo (BPM)=%{x}<br>Danceability=%{y}<extra></extra>",
         "legendgroup": "-",
         "marker": {
          "color": "#19d3f3",
          "symbol": "circle"
         },
         "mode": "markers",
         "name": "-",
         "orientation": "v",
         "showlegend": true,
         "type": "scatter",
         "x": [
          109.025,
          104.46,
          97.397
         ],
         "xaxis": "x",
         "y": [
          0.374,
          0.327,
          0.536
         ],
         "yaxis": "y"
        }
       ],
       "layout": {
        "legend": {
         "title": {
          "text": "Track Theme"
         },
         "tracegroupgap": 0
        },
        "template": {
         "data": {
          "bar": [
           {
            "error_x": {
             "color": "#2a3f5f"
            },
            "error_y": {
             "color": "#2a3f5f"
            },
            "marker": {
             "line": {
              "color": "#E5ECF6",
              "width": 0.5
             },
             "pattern": {
              "fillmode": "overlay",
              "size": 10,
              "solidity": 0.2
             }
            },
            "type": "bar"
           }
          ],
          "barpolar": [
           {
            "marker": {
             "line": {
              "color": "#E5ECF6",
              "width": 0.5
             },
             "pattern": {
              "fillmode": "overlay",
              "size": 10,
              "solidity": 0.2
             }
            },
            "type": "barpolar"
           }
          ],
          "carpet": [
           {
            "aaxis": {
             "endlinecolor": "#2a3f5f",
             "gridcolor": "white",
             "linecolor": "white",
             "minorgridcolor": "white",
             "startlinecolor": "#2a3f5f"
            },
            "baxis": {
             "endlinecolor": "#2a3f5f",
             "gridcolor": "white",
             "linecolor": "white",
             "minorgridcolor": "white",
             "startlinecolor": "#2a3f5f"
            },
            "type": "carpet"
           }
          ],
          "choropleth": [
           {
            "colorbar": {
             "outlinewidth": 0,
             "ticks": ""
            },
            "type": "choropleth"
           }
          ],
          "contour": [
           {
            "colorbar": {
             "outlinewidth": 0,
             "ticks": ""
            },
            "colorscale": [
             [
              0,
              "#0d0887"
             ],
             [
              0.1111111111111111,
              "#46039f"
             ],
             [
              0.2222222222222222,
              "#7201a8"
             ],
             [
              0.3333333333333333,
              "#9c179e"
             ],
             [
              0.4444444444444444,
              "#bd3786"
             ],
             [
              0.5555555555555556,
              "#d8576b"
             ],
             [
              0.6666666666666666,
              "#ed7953"
             ],
             [
              0.7777777777777778,
              "#fb9f3a"
             ],
             [
              0.8888888888888888,
              "#fdca26"
             ],
             [
              1,
              "#f0f921"
             ]
            ],
            "type": "contour"
           }
          ],
          "contourcarpet": [
           {
            "colorbar": {
             "outlinewidth": 0,
             "ticks": ""
            },
            "type": "contourcarpet"
           }
          ],
          "heatmap": [
           {
            "colorbar": {
             "outlinewidth": 0,
             "ticks": ""
            },
            "colorscale": [
             [
              0,
              "#0d0887"
             ],
             [
              0.1111111111111111,
              "#46039f"
             ],
             [
              0.2222222222222222,
              "#7201a8"
             ],
             [
              0.3333333333333333,
              "#9c179e"
             ],
             [
              0.4444444444444444,
              "#bd3786"
             ],
             [
              0.5555555555555556,
              "#d8576b"
             ],
             [
              0.6666666666666666,
              "#ed7953"
             ],
             [
              0.7777777777777778,
              "#fb9f3a"
             ],
             [
              0.8888888888888888,
              "#fdca26"
             ],
             [
              1,
              "#f0f921"
             ]
            ],
            "type": "heatmap"
           }
          ],
          "heatmapgl": [
           {
            "colorbar": {
             "outlinewidth": 0,
             "ticks": ""
            },
            "colorscale": [
             [
              0,
              "#0d0887"
             ],
             [
              0.1111111111111111,
              "#46039f"
             ],
             [
              0.2222222222222222,
              "#7201a8"
             ],
             [
              0.3333333333333333,
              "#9c179e"
             ],
             [
              0.4444444444444444,
              "#bd3786"
             ],
             [
              0.5555555555555556,
              "#d8576b"
             ],
             [
              0.6666666666666666,
              "#ed7953"
             ],
             [
              0.7777777777777778,
              "#fb9f3a"
             ],
             [
              0.8888888888888888,
              "#fdca26"
             ],
             [
              1,
              "#f0f921"
             ]
            ],
            "type": "heatmapgl"
           }
          ],
          "histogram": [
           {
            "marker": {
             "pattern": {
              "fillmode": "overlay",
              "size": 10,
              "solidity": 0.2
             }
            },
            "type": "histogram"
           }
          ],
          "histogram2d": [
           {
            "colorbar": {
             "outlinewidth": 0,
             "ticks": ""
            },
            "colorscale": [
             [
              0,
              "#0d0887"
             ],
             [
              0.1111111111111111,
              "#46039f"
             ],
             [
              0.2222222222222222,
              "#7201a8"
             ],
             [
              0.3333333333333333,
              "#9c179e"
             ],
             [
              0.4444444444444444,
              "#bd3786"
             ],
             [
              0.5555555555555556,
              "#d8576b"
             ],
             [
              0.6666666666666666,
              "#ed7953"
             ],
             [
              0.7777777777777778,
              "#fb9f3a"
             ],
             [
              0.8888888888888888,
              "#fdca26"
             ],
             [
              1,
              "#f0f921"
             ]
            ],
            "type": "histogram2d"
           }
          ],
          "histogram2dcontour": [
           {
            "colorbar": {
             "outlinewidth": 0,
             "ticks": ""
            },
            "colorscale": [
             [
              0,
              "#0d0887"
             ],
             [
              0.1111111111111111,
              "#46039f"
             ],
             [
              0.2222222222222222,
              "#7201a8"
             ],
             [
              0.3333333333333333,
              "#9c179e"
             ],
             [
              0.4444444444444444,
              "#bd3786"
             ],
             [
              0.5555555555555556,
              "#d8576b"
             ],
             [
              0.6666666666666666,
              "#ed7953"
             ],
             [
              0.7777777777777778,
              "#fb9f3a"
             ],
             [
              0.8888888888888888,
              "#fdca26"
             ],
             [
              1,
              "#f0f921"
             ]
            ],
            "type": "histogram2dcontour"
           }
          ],
          "mesh3d": [
           {
            "colorbar": {
             "outlinewidth": 0,
             "ticks": ""
            },
            "type": "mesh3d"
           }
          ],
          "parcoords": [
           {
            "line": {
             "colorbar": {
              "outlinewidth": 0,
              "ticks": ""
             }
            },
            "type": "parcoords"
           }
          ],
          "pie": [
           {
            "automargin": true,
            "type": "pie"
           }
          ],
          "scatter": [
           {
            "fillpattern": {
             "fillmode": "overlay",
             "size": 10,
             "solidity": 0.2
            },
            "type": "scatter"
           }
          ],
          "scatter3d": [
           {
            "line": {
             "colorbar": {
              "outlinewidth": 0,
              "ticks": ""
             }
            },
            "marker": {
             "colorbar": {
              "outlinewidth": 0,
              "ticks": ""
             }
            },
            "type": "scatter3d"
           }
          ],
          "scattercarpet": [
           {
            "marker": {
             "colorbar": {
              "outlinewidth": 0,
              "ticks": ""
             }
            },
            "type": "scattercarpet"
           }
          ],
          "scattergeo": [
           {
            "marker": {
             "colorbar": {
              "outlinewidth": 0,
              "ticks": ""
             }
            },
            "type": "scattergeo"
           }
          ],
          "scattergl": [
           {
            "marker": {
             "colorbar": {
              "outlinewidth": 0,
              "ticks": ""
             }
            },
            "type": "scattergl"
           }
          ],
          "scattermapbox": [
           {
            "marker": {
             "colorbar": {
              "outlinewidth": 0,
              "ticks": ""
             }
            },
            "type": "scattermapbox"
           }
          ],
          "scatterpolar": [
           {
            "marker": {
             "colorbar": {
              "outlinewidth": 0,
              "ticks": ""
             }
            },
            "type": "scatterpolar"
           }
          ],
          "scatterpolargl": [
           {
            "marker": {
             "colorbar": {
              "outlinewidth": 0,
              "ticks": ""
             }
            },
            "type": "scatterpolargl"
           }
          ],
          "scatterternary": [
           {
            "marker": {
             "colorbar": {
              "outlinewidth": 0,
              "ticks": ""
             }
            },
            "type": "scatterternary"
           }
          ],
          "surface": [
           {
            "colorbar": {
             "outlinewidth": 0,
             "ticks": ""
            },
            "colorscale": [
             [
              0,
              "#0d0887"
             ],
             [
              0.1111111111111111,
              "#46039f"
             ],
             [
              0.2222222222222222,
              "#7201a8"
             ],
             [
              0.3333333333333333,
              "#9c179e"
             ],
             [
              0.4444444444444444,
              "#bd3786"
             ],
             [
              0.5555555555555556,
              "#d8576b"
             ],
             [
              0.6666666666666666,
              "#ed7953"
             ],
             [
              0.7777777777777778,
              "#fb9f3a"
             ],
             [
              0.8888888888888888,
              "#fdca26"
             ],
             [
              1,
              "#f0f921"
             ]
            ],
            "type": "surface"
           }
          ],
          "table": [
           {
            "cells": {
             "fill": {
              "color": "#EBF0F8"
             },
             "line": {
              "color": "white"
             }
            },
            "header": {
             "fill": {
              "color": "#C8D4E3"
             },
             "line": {
              "color": "white"
             }
            },
            "type": "table"
           }
          ]
         },
         "layout": {
          "annotationdefaults": {
           "arrowcolor": "#2a3f5f",
           "arrowhead": 0,
           "arrowwidth": 1
          },
          "autotypenumbers": "strict",
          "coloraxis": {
           "colorbar": {
            "outlinewidth": 0,
            "ticks": ""
           }
          },
          "colorscale": {
           "diverging": [
            [
             0,
             "#8e0152"
            ],
            [
             0.1,
             "#c51b7d"
            ],
            [
             0.2,
             "#de77ae"
            ],
            [
             0.3,
             "#f1b6da"
            ],
            [
             0.4,
             "#fde0ef"
            ],
            [
             0.5,
             "#f7f7f7"
            ],
            [
             0.6,
             "#e6f5d0"
            ],
            [
             0.7,
             "#b8e186"
            ],
            [
             0.8,
             "#7fbc41"
            ],
            [
             0.9,
             "#4d9221"
            ],
            [
             1,
             "#276419"
            ]
           ],
           "sequential": [
            [
             0,
             "#0d0887"
            ],
            [
             0.1111111111111111,
             "#46039f"
            ],
            [
             0.2222222222222222,
             "#7201a8"
            ],
            [
             0.3333333333333333,
             "#9c179e"
            ],
            [
             0.4444444444444444,
             "#bd3786"
            ],
            [
             0.5555555555555556,
             "#d8576b"
            ],
            [
             0.6666666666666666,
             "#ed7953"
            ],
            [
             0.7777777777777778,
             "#fb9f3a"
            ],
            [
             0.8888888888888888,
             "#fdca26"
            ],
            [
             1,
             "#f0f921"
            ]
           ],
           "sequentialminus": [
            [
             0,
             "#0d0887"
            ],
            [
             0.1111111111111111,
             "#46039f"
            ],
            [
             0.2222222222222222,
             "#7201a8"
            ],
            [
             0.3333333333333333,
             "#9c179e"
            ],
            [
             0.4444444444444444,
             "#bd3786"
            ],
            [
             0.5555555555555556,
             "#d8576b"
            ],
            [
             0.6666666666666666,
             "#ed7953"
            ],
            [
             0.7777777777777778,
             "#fb9f3a"
            ],
            [
             0.8888888888888888,
             "#fdca26"
            ],
            [
             1,
             "#f0f921"
            ]
           ]
          },
          "colorway": [
           "#636efa",
           "#EF553B",
           "#00cc96",
           "#ab63fa",
           "#FFA15A",
           "#19d3f3",
           "#FF6692",
           "#B6E880",
           "#FF97FF",
           "#FECB52"
          ],
          "font": {
           "color": "#2a3f5f"
          },
          "geo": {
           "bgcolor": "white",
           "lakecolor": "white",
           "landcolor": "#E5ECF6",
           "showlakes": true,
           "showland": true,
           "subunitcolor": "white"
          },
          "hoverlabel": {
           "align": "left"
          },
          "hovermode": "closest",
          "mapbox": {
           "style": "light"
          },
          "paper_bgcolor": "white",
          "plot_bgcolor": "#E5ECF6",
          "polar": {
           "angularaxis": {
            "gridcolor": "white",
            "linecolor": "white",
            "ticks": ""
           },
           "bgcolor": "#E5ECF6",
           "radialaxis": {
            "gridcolor": "white",
            "linecolor": "white",
            "ticks": ""
           }
          },
          "scene": {
           "xaxis": {
            "backgroundcolor": "#E5ECF6",
            "gridcolor": "white",
            "gridwidth": 2,
            "linecolor": "white",
            "showbackground": true,
            "ticks": "",
            "zerolinecolor": "white"
           },
           "yaxis": {
            "backgroundcolor": "#E5ECF6",
            "gridcolor": "white",
            "gridwidth": 2,
            "linecolor": "white",
            "showbackground": true,
            "ticks": "",
            "zerolinecolor": "white"
           },
           "zaxis": {
            "backgroundcolor": "#E5ECF6",
            "gridcolor": "white",
            "gridwidth": 2,
            "linecolor": "white",
            "showbackground": true,
            "ticks": "",
            "zerolinecolor": "white"
           }
          },
          "shapedefaults": {
           "line": {
            "color": "#2a3f5f"
           }
          },
          "ternary": {
           "aaxis": {
            "gridcolor": "white",
            "linecolor": "white",
            "ticks": ""
           },
           "baxis": {
            "gridcolor": "white",
            "linecolor": "white",
            "ticks": ""
           },
           "bgcolor": "#E5ECF6",
           "caxis": {
            "gridcolor": "white",
            "linecolor": "white",
            "ticks": ""
           }
          },
          "title": {
           "x": 0.05
          },
          "xaxis": {
           "automargin": true,
           "gridcolor": "white",
           "linecolor": "white",
           "ticks": "",
           "title": {
            "standoff": 15
           },
           "zerolinecolor": "white",
           "zerolinewidth": 2
          },
          "yaxis": {
           "automargin": true,
           "gridcolor": "white",
           "linecolor": "white",
           "ticks": "",
           "title": {
            "standoff": 15
           },
           "zerolinecolor": "white",
           "zerolinewidth": 2
          }
         }
        },
        "title": {
         "text": "Tempo vs Danceability by Track Theme"
        },
        "xaxis": {
         "anchor": "y",
         "domain": [
          0,
          1
         ],
         "title": {
          "text": "Tempo (BPM)"
         }
        },
        "yaxis": {
         "anchor": "x",
         "domain": [
          0,
          1
         ],
         "title": {
          "text": "Danceability"
         }
        }
       }
      }
     },
     "metadata": {},
     "output_type": "display_data"
    }
   ],
   "source": [
    "# Scatter plot of tempo vs danceability\n",
    "fig_tempo_danceability = px.scatter(df, x='tempo', y='danceability', color='track_theme',\n",
    "                                    title='Tempo vs Danceability by Track Theme',\n",
    "                                    labels={'tempo': 'Tempo (BPM)', 'danceability': 'Danceability', 'track_theme': 'Track Theme'})\n",
    "fig_tempo_danceability.show()"
   ]
  },
  {
   "cell_type": "markdown",
   "metadata": {},
   "source": [
    "How does liveness correlate with energy?"
   ]
  },
  {
   "cell_type": "code",
   "execution_count": 63,
   "metadata": {},
   "outputs": [
    {
     "data": {
      "application/vnd.plotly.v1+json": {
       "config": {
        "plotlyServerURL": "https://plot.ly"
       },
       "data": [
        {
         "hovertemplate": "Album Type=Compilation/Deluxe<br>Liveness=%{x}<br>Energy=%{y}<extra></extra>",
         "legendgroup": "Compilation/Deluxe",
         "marker": {
          "color": "#636efa",
          "symbol": "circle"
         },
         "mode": "markers",
         "name": "Compilation/Deluxe",
         "orientation": "v",
         "showlegend": true,
         "type": "scatter",
         "x": [
          0.0961,
          0.126,
          0.302,
          0.0946,
          0.0816,
          0.135,
          0.111,
          0.309,
          0.0921,
          0.106,
          0.176,
          0.108,
          0.15,
          0.338,
          0.103,
          0.106,
          0.102,
          0.252,
          0.0935,
          0.105,
          0.108,
          0.106,
          0.357,
          0.122,
          0.164,
          0.308,
          0.137,
          0.0593,
          0.131,
          0.1,
          0.103,
          0.367,
          0.168,
          0.0899,
          0.385,
          0.131,
          0.359,
          0.0687,
          0.305,
          0.112,
          0.0939,
          0.0673,
          0.115,
          0.0981,
          0.209,
          0.112,
          0.0824,
          0.0608,
          0.127,
          0.0874,
          0.105,
          0.122,
          0.217,
          0.133,
          0.089,
          0.147,
          0.116,
          0.126,
          0.114,
          0.262,
          0.118,
          0.0883,
          0.123,
          0.611,
          0.115,
          0.0871,
          0.0851,
          0.116,
          0.136,
          0.0878,
          0.11,
          0.123,
          0.119,
          0.296,
          0.108,
          0.579,
          0.17,
          0.0976,
          0.152,
          0.116,
          0.126,
          0.115,
          0.297,
          0.121,
          0.091,
          0.124,
          0.594,
          0.115,
          0.0884,
          0.0842,
          0.115,
          0.137,
          0.0885,
          0.11,
          0.146,
          0.117,
          0.145,
          0.113,
          0.121,
          0.105,
          0.0797,
          0.103,
          0.114,
          0.129,
          0.142,
          0.0921,
          0.123,
          0.0972,
          0.115,
          0.134,
          0.111,
          0.117,
          0.09,
          0.108,
          0.26,
          0.106,
          0.11,
          0.0679,
          0.0604,
          0.0902,
          0.0931,
          0.147,
          0.108,
          0.105,
          0.116,
          0.0867,
          0.0989,
          0.0909,
          0.135,
          0.0948,
          0.302,
          0.0913,
          0.118,
          0.341,
          0.101,
          0.334,
          0.102,
          0.201,
          0.106,
          0.0918,
          0.0928,
          0.178,
          0.1,
          0.177,
          0.0903,
          0.0658,
          0.527,
          0.185,
          0.657,
          0.0885,
          0.091,
          0.147,
          0.0398,
          0.127,
          0.0752,
          0.182,
          0.102,
          0.09,
          0.0921,
          0.0966,
          0.121,
          0.132,
          0.303,
          0.221,
          0.232,
          0.102,
          0.0997,
          0.136,
          0.0996,
          0.0722,
          0.127,
          0.189,
          0.163,
          0.334,
          0.0973,
          0.112,
          0.217,
          0.0357,
          0.174,
          0.146,
          0.36,
          0.125,
          0.149,
          0.101,
          0.114,
          0.097,
          0.34,
          0.103,
          0.2,
          0.293,
          0.1,
          0.0693,
          0.0974,
          0.116,
          0.248,
          0.351,
          0.238,
          0.31,
          0.144,
          0.073,
          0.107,
          0.102,
          0.112,
          0.113,
          0.37,
          0.113,
          0.111,
          0.106,
          0.139,
          0.117
         ],
         "xaxis": "x",
         "y": [
          0.386,
          0.428,
          0.563,
          0.366,
          0.533,
          0.72,
          0.483,
          0.573,
          0.428,
          0.338,
          0.257,
          0.272,
          0.751,
          0.41,
          0.421,
          0.318,
          0.27,
          0.391,
          0.479,
          0.451,
          0.379,
          0.866,
          0.562,
          0.541,
          0.274,
          0.525,
          0.587,
          0.376,
          0.586,
          0.386,
          0.256,
          0.61,
          0.733,
          0.822,
          0.885,
          0.721,
          0.808,
          0.858,
          0.683,
          0.674,
          0.691,
          0.509,
          0.788,
          0.391,
          0.705,
          0.498,
          0.846,
          0.412,
          0.551,
          0.501,
          0.625,
          0.656,
          0.648,
          0.454,
          0.397,
          0.649,
          0.331,
          0.386,
          0.372,
          0.509,
          0.272,
          0.546,
          0.308,
          0.614,
          0.166,
          0.345,
          0.737,
          0.22,
          0.498,
          0.545,
          0.451,
          0.837,
          0.386,
          0.782,
          0.401,
          0.616,
          0.444,
          0.378,
          0.634,
          0.323,
          0.38,
          0.377,
          0.502,
          0.279,
          0.55,
          0.313,
          0.622,
          0.161,
          0.352,
          0.741,
          0.235,
          0.509,
          0.529,
          0.466,
          0.84,
          0.388,
          0.574,
          0.24,
          0.462,
          0.434,
          0.361,
          0.613,
          0.334,
          0.488,
          0.537,
          0.545,
          0.517,
          0.73,
          0.561,
          0.704,
          0.27,
          0.619,
          0.41,
          0.361,
          0.58,
          0.653,
          0.374,
          0.265,
          0.417,
          0.494,
          0.634,
          0.478,
          0.304,
          0.459,
          0.7,
          0.254,
          0.376,
          0.284,
          0.178,
          0.258,
          0.634,
          0.703,
          0.791,
          0.841,
          0.725,
          0.8,
          0.893,
          0.794,
          0.688,
          0.656,
          0.435,
          0.755,
          0.377,
          0.692,
          0.48,
          0.889,
          0.128,
          0.357,
          0.234,
          0.825,
          0.896,
          0.621,
          0.469,
          0.609,
          0.729,
          0.481,
          0.676,
          0.748,
          0.443,
          0.816,
          0.34,
          0.499,
          0.458,
          0.777,
          0.526,
          0.506,
          0.548,
          0.59,
          0.64,
          0.902,
          0.118,
          0.757,
          0.787,
          0.67,
          0.599,
          0.47,
          0.761,
          0.818,
          0.305,
          0.623,
          0.917,
          0.608,
          0.95,
          0.341,
          0.68,
          0.569,
          0.719,
          0.765,
          0.453,
          0.443,
          0.723,
          0.687,
          0.454,
          0.16,
          0.475,
          0.531,
          0.816,
          0.714,
          0.636,
          0.736,
          0.553,
          0.346,
          0.771,
          0.486,
          0.852,
          0.459,
          0.712,
          0.829,
          0.447,
          0.756
         ],
         "yaxis": "y"
        },
        {
         "hovertemplate": "Album Type=Original Studio<br>Liveness=%{x}<br>Energy=%{y}<extra></extra>",
         "legendgroup": "Original Studio",
         "marker": {
          "color": "#EF553B",
          "symbol": "circle"
         },
         "mode": "markers",
         "name": "Original Studio",
         "orientation": "v",
         "showlegend": true,
         "type": "scatter",
         "x": [
          0.0961,
          0.126,
          0.302,
          0.0946,
          0.0816,
          0.135,
          0.111,
          0.309,
          0.0921,
          0.106,
          0.176,
          0.108,
          0.15,
          0.338,
          0.103,
          0.106,
          0.157,
          0.101,
          0.142,
          0.117,
          0.125,
          0.115,
          0.296,
          0.121,
          0.0887,
          0.122,
          0.483,
          0.115,
          0.0837,
          0.145,
          0.113,
          0.121,
          0.105,
          0.0797,
          0.103,
          0.114,
          0.129,
          0.142,
          0.0921,
          0.123,
          0.0972,
          0.115,
          0.134,
          0.111,
          0.108,
          0.25,
          0.109,
          0.11,
          0.0749,
          0.0594,
          0.091,
          0.0925,
          0.171,
          0.106,
          0.108,
          0.114,
          0.0858,
          0.0976,
          0.0918,
          0.133,
          0.0812,
          0.105,
          0.118,
          0.0901,
          0.0663,
          0.0715,
          0.138,
          0.0742,
          0.1,
          0.319,
          0.133,
          0.123,
          0.111,
          0.0637,
          0.114,
          0.118,
          0.171,
          0.0772,
          0.197,
          0.108,
          0.0696,
          0.0607,
          0.0911,
          0.126,
          0.13,
          0.213,
          0.0888,
          0.0391,
          0.138,
          0.169,
          0.382,
          0.34,
          0.13,
          0.304,
          0.13,
          0.117,
          0.337,
          0.105,
          0.148,
          0.109,
          0.148,
          0.106,
          0.0915,
          0.101,
          0.2,
          0.113,
          0.0885,
          0.091,
          0.147,
          0.0398,
          0.127,
          0.0752,
          0.182,
          0.102,
          0.09,
          0.0921,
          0.0966,
          0.121,
          0.132,
          0.303,
          0.221,
          0.232,
          0.189,
          0.163,
          0.334,
          0.0973,
          0.112,
          0.217,
          0.0357,
          0.174,
          0.146,
          0.36,
          0.125,
          0.149,
          0.101,
          0.108,
          0.309,
          0.145,
          0.0822,
          0.108,
          0.104,
          0.114,
          0.113,
          0.343,
          0.108,
          0.115,
          0.11,
          0.124,
          0.117,
          0.121,
          0.0962,
          0.119,
          0.32,
          0.123,
          0.24,
          0.0841,
          0.137,
          0.196,
          0.182,
          0.329,
          0.103,
          0.147,
          0.128,
          0.0863
         ],
         "xaxis": "x",
         "y": [
          0.386,
          0.428,
          0.563,
          0.366,
          0.533,
          0.72,
          0.483,
          0.573,
          0.428,
          0.338,
          0.257,
          0.272,
          0.751,
          0.41,
          0.421,
          0.318,
          0.436,
          0.398,
          0.643,
          0.319,
          0.396,
          0.363,
          0.502,
          0.277,
          0.559,
          0.306,
          0.62,
          0.156,
          0.357,
          0.574,
          0.24,
          0.462,
          0.434,
          0.361,
          0.613,
          0.334,
          0.488,
          0.537,
          0.545,
          0.517,
          0.73,
          0.561,
          0.704,
          0.27,
          0.357,
          0.581,
          0.662,
          0.38,
          0.263,
          0.413,
          0.488,
          0.623,
          0.476,
          0.31,
          0.452,
          0.699,
          0.267,
          0.377,
          0.272,
          0.181,
          0.316,
          0.702,
          0.543,
          0.658,
          0.574,
          0.366,
          0.747,
          0.719,
          0.624,
          0.732,
          0.71,
          0.182,
          0.32,
          0.671,
          0.449,
          0.83,
          0.175,
          0.496,
          0.764,
          0.589,
          0.602,
          0.534,
          0.404,
          0.709,
          0.61,
          0.535,
          0.689,
          0.703,
          0.691,
          0.469,
          0.789,
          0.504,
          0.151,
          0.634,
          0.678,
          0.786,
          0.842,
          0.736,
          0.785,
          0.898,
          0.802,
          0.666,
          0.66,
          0.459,
          0.763,
          0.379,
          0.825,
          0.896,
          0.621,
          0.469,
          0.609,
          0.729,
          0.481,
          0.676,
          0.748,
          0.443,
          0.816,
          0.34,
          0.499,
          0.458,
          0.777,
          0.526,
          0.757,
          0.787,
          0.67,
          0.599,
          0.47,
          0.761,
          0.818,
          0.305,
          0.623,
          0.917,
          0.608,
          0.95,
          0.341,
          0.68,
          0.712,
          0.651,
          0.741,
          0.544,
          0.34,
          0.783,
          0.482,
          0.855,
          0.452,
          0.7,
          0.821,
          0.434,
          0.77,
          0.491,
          0.877,
          0.417,
          0.777,
          0.482,
          0.805,
          0.578,
          0.629,
          0.777,
          0.627,
          0.672,
          0.934,
          0.394,
          0.751,
          0.753
         ],
         "yaxis": "y"
        },
        {
         "hovertemplate": "Album Type=Re-recording<br>Liveness=%{x}<br>Energy=%{y}<extra></extra>",
         "legendgroup": "Re-recording",
         "marker": {
          "color": "#00cc96",
          "symbol": "circle"
         },
         "mode": "markers",
         "name": "Re-recording",
         "orientation": "v",
         "showlegend": true,
         "type": "scatter",
         "x": [
          0.367,
          0.174,
          0.0901,
          0.39,
          0.0949,
          0.29,
          0.0676,
          0.307,
          0.118,
          0.0941,
          0.0673,
          0.0971,
          0.121,
          0.198,
          0.112,
          0.0759,
          0.0603,
          0.149,
          0.0889,
          0.104,
          0.127,
          0.171,
          0.131,
          0.117,
          0.143,
          0.163,
          0.192,
          0.054,
          0.198,
          0.149,
          0.191,
          0.152,
          0.221,
          0.101,
          0.189,
          0.111,
          0.108,
          0.144,
          0.138,
          0.0608,
          0.0668,
          0.111,
          0.0916,
          0.114,
          0.0761,
          0.13,
          0.0576,
          0.234,
          0.0753,
          0.113,
          0.0732,
          0.0768,
          0.0977,
          0.109,
          0.133,
          0.0608,
          0.223,
          0.18,
          0.132,
          0.107,
          0.0822,
          0.101,
          0.108,
          0.193,
          0.0877,
          0.154,
          0.121,
          0.083,
          0.183,
          0.134,
          0.312,
          0.104,
          0.088,
          0.333,
          0.32,
          0.0845,
          0.0934,
          0.177,
          0.0885,
          0.228,
          0.333,
          0.123,
          0.108,
          0.143,
          0.159,
          0.181,
          0.0897,
          0.169,
          0.137,
          0.102,
          0.343,
          0.167,
          0.296,
          0.101,
          0.0667,
          0.0779,
          0.092,
          0.109,
          0.0995
         ],
         "xaxis": "x",
         "y": [
          0.607,
          0.725,
          0.824,
          0.885,
          0.72,
          0.807,
          0.851,
          0.686,
          0.672,
          0.682,
          0.511,
          0.803,
          0.386,
          0.708,
          0.495,
          0.855,
          0.413,
          0.547,
          0.512,
          0.621,
          0.658,
          0.783,
          0.758,
          0.635,
          0.677,
          0.47,
          0.692,
          0.781,
          0.323,
          0.532,
          0.885,
          0.598,
          0.915,
          0.366,
          0.65,
          0.488,
          0.742,
          0.855,
          0.763,
          0.764,
          0.57,
          0.588,
          0.585,
          0.713,
          0.777,
          0.593,
          0.557,
          0.528,
          0.695,
          0.559,
          0.686,
          0.681,
          0.534,
          0.809,
          0.406,
          0.571,
          0.61,
          0.685,
          0.527,
          0.402,
          0.632,
          0.736,
          0.131,
          0.279,
          0.579,
          0.377,
          0.743,
          0.791,
          0.715,
          0.552,
          0.488,
          0.733,
          0.518,
          0.741,
          0.646,
          0.792,
          0.571,
          0.517,
          0.773,
          0.626,
          0.909,
          0.444,
          0.732,
          0.821,
          0.576,
          0.815,
          0.69,
          0.531,
          0.273,
          0.564,
          0.555,
          0.873,
          0.779,
          0.494,
          0.817,
          0.373,
          0.608,
          0.473,
          0.624
         ],
         "yaxis": "y"
        },
        {
         "hovertemplate": "Album Type=Compilation/Live<br>Liveness=%{x}<br>Energy=%{y}<extra></extra>",
         "legendgroup": "Compilation/Live",
         "marker": {
          "color": "#ab63fa",
          "symbol": "circle"
         },
         "mode": "markers",
         "name": "Compilation/Live",
         "orientation": "v",
         "showlegend": true,
         "type": "scatter",
         "x": [
          0.108,
          0.26,
          0.106,
          0.11,
          0.0679,
          0.0604,
          0.0902,
          0.0931,
          0.147,
          0.108,
          0.105,
          0.116,
          0.0867,
          0.0989,
          0.0909,
          0.135,
          0.0948,
          0.102,
          0.107,
          0.0574,
          0.111,
          0.0615,
          0.118,
          0.1,
          0.791,
          0.0867,
          0.113,
          0.11,
          0.109,
          0.068,
          0.119,
          0.0734,
          0.18,
          0.0888
         ],
         "xaxis": "x",
         "y": [
          0.361,
          0.58,
          0.653,
          0.374,
          0.265,
          0.417,
          0.494,
          0.634,
          0.478,
          0.304,
          0.459,
          0.7,
          0.254,
          0.376,
          0.284,
          0.178,
          0.258,
          0.25,
          0.234,
          0.618,
          0.305,
          0.172,
          0.386,
          0.449,
          0.663,
          0.332,
          0.235,
          0.282,
          0.465,
          0.2,
          0.316,
          0.344,
          0.155,
          0.221
         ],
         "yaxis": "y"
        },
        {
         "hovertemplate": "Album Type=Compilation<br>Liveness=%{x}<br>Energy=%{y}<extra></extra>",
         "legendgroup": "Compilation",
         "marker": {
          "color": "#FFA15A",
          "symbol": "circle"
         },
         "mode": "markers",
         "name": "Compilation",
         "orientation": "v",
         "showlegend": true,
         "type": "scatter",
         "x": [
          0.128,
          0.106,
          0.158,
          0.0911,
          0.0965,
          0.138,
          0.321,
          0.0473,
          0.0357,
          0.14,
          0.223,
          0.0918,
          0.13,
          0.138,
          0.187,
          0.16,
          0.0879,
          0.0612,
          0.136,
          0.14,
          0.125,
          0.302,
          0.307,
          0.158,
          0.111,
          0.087,
          0.341,
          0.0997,
          0.327,
          0.0928,
          0.13,
          0.165,
          0.129,
          0.0974,
          0.074,
          0.14,
          0.0728,
          0.0587,
          0.207,
          0.108,
          0.102,
          0.177,
          0.1,
          0.101,
          0.234,
          0.178
         ],
         "xaxis": "x",
         "y": [
          0.605,
          0.688,
          0.448,
          0.899,
          0.816,
          0.427,
          0.663,
          0.733,
          0.464,
          0.445,
          0.754,
          0.656,
          0.61,
          0.628,
          0.779,
          0.782,
          0.828,
          0.949,
          0.309,
          0.621,
          0.784,
          0.634,
          0.718,
          0.626,
          0.763,
          0.56,
          0.841,
          0.548,
          0.767,
          0.435,
          0.505,
          0.383,
          0.48,
          0.843,
          0.699,
          0.526,
          0.547,
          0.808,
          0.829,
          0.541,
          0.603,
          0.692,
          0.348,
          0.933,
          0.777,
          0.755
         ],
         "yaxis": "y"
        },
        {
         "hovertemplate": "Album Type=Live<br>Liveness=%{x}<br>Energy=%{y}<extra></extra>",
         "legendgroup": "Live",
         "marker": {
          "color": "#19d3f3",
          "symbol": "circle"
         },
         "mode": "markers",
         "name": "Live",
         "orientation": "v",
         "showlegend": true,
         "type": "scatter",
         "x": [
          0.918,
          0.554,
          0.815,
          0.693,
          0.867,
          0.795,
          0.931,
          0.83,
          0.701,
          0.76,
          0.837,
          0.497,
          0.884,
          0.563,
          0.889,
          0.865,
          0.131,
          0.145,
          0.0598,
          0.0927,
          0.106,
          0.419,
          0.0884,
          0.111
         ],
         "xaxis": "x",
         "y": [
          0.783,
          0.852,
          0.908,
          0.915,
          0.355,
          0.516,
          0.887,
          0.694,
          0.395,
          0.504,
          0.488,
          0.512,
          0.386,
          0.663,
          0.818,
          0.728,
          0.444,
          0.266,
          0.704,
          0.184,
          0.801,
          0.872,
          0.808,
          0.712
         ],
         "yaxis": "y"
        }
       ],
       "layout": {
        "legend": {
         "title": {
          "text": "Album Type"
         },
         "tracegroupgap": 0
        },
        "template": {
         "data": {
          "bar": [
           {
            "error_x": {
             "color": "#2a3f5f"
            },
            "error_y": {
             "color": "#2a3f5f"
            },
            "marker": {
             "line": {
              "color": "#E5ECF6",
              "width": 0.5
             },
             "pattern": {
              "fillmode": "overlay",
              "size": 10,
              "solidity": 0.2
             }
            },
            "type": "bar"
           }
          ],
          "barpolar": [
           {
            "marker": {
             "line": {
              "color": "#E5ECF6",
              "width": 0.5
             },
             "pattern": {
              "fillmode": "overlay",
              "size": 10,
              "solidity": 0.2
             }
            },
            "type": "barpolar"
           }
          ],
          "carpet": [
           {
            "aaxis": {
             "endlinecolor": "#2a3f5f",
             "gridcolor": "white",
             "linecolor": "white",
             "minorgridcolor": "white",
             "startlinecolor": "#2a3f5f"
            },
            "baxis": {
             "endlinecolor": "#2a3f5f",
             "gridcolor": "white",
             "linecolor": "white",
             "minorgridcolor": "white",
             "startlinecolor": "#2a3f5f"
            },
            "type": "carpet"
           }
          ],
          "choropleth": [
           {
            "colorbar": {
             "outlinewidth": 0,
             "ticks": ""
            },
            "type": "choropleth"
           }
          ],
          "contour": [
           {
            "colorbar": {
             "outlinewidth": 0,
             "ticks": ""
            },
            "colorscale": [
             [
              0,
              "#0d0887"
             ],
             [
              0.1111111111111111,
              "#46039f"
             ],
             [
              0.2222222222222222,
              "#7201a8"
             ],
             [
              0.3333333333333333,
              "#9c179e"
             ],
             [
              0.4444444444444444,
              "#bd3786"
             ],
             [
              0.5555555555555556,
              "#d8576b"
             ],
             [
              0.6666666666666666,
              "#ed7953"
             ],
             [
              0.7777777777777778,
              "#fb9f3a"
             ],
             [
              0.8888888888888888,
              "#fdca26"
             ],
             [
              1,
              "#f0f921"
             ]
            ],
            "type": "contour"
           }
          ],
          "contourcarpet": [
           {
            "colorbar": {
             "outlinewidth": 0,
             "ticks": ""
            },
            "type": "contourcarpet"
           }
          ],
          "heatmap": [
           {
            "colorbar": {
             "outlinewidth": 0,
             "ticks": ""
            },
            "colorscale": [
             [
              0,
              "#0d0887"
             ],
             [
              0.1111111111111111,
              "#46039f"
             ],
             [
              0.2222222222222222,
              "#7201a8"
             ],
             [
              0.3333333333333333,
              "#9c179e"
             ],
             [
              0.4444444444444444,
              "#bd3786"
             ],
             [
              0.5555555555555556,
              "#d8576b"
             ],
             [
              0.6666666666666666,
              "#ed7953"
             ],
             [
              0.7777777777777778,
              "#fb9f3a"
             ],
             [
              0.8888888888888888,
              "#fdca26"
             ],
             [
              1,
              "#f0f921"
             ]
            ],
            "type": "heatmap"
           }
          ],
          "heatmapgl": [
           {
            "colorbar": {
             "outlinewidth": 0,
             "ticks": ""
            },
            "colorscale": [
             [
              0,
              "#0d0887"
             ],
             [
              0.1111111111111111,
              "#46039f"
             ],
             [
              0.2222222222222222,
              "#7201a8"
             ],
             [
              0.3333333333333333,
              "#9c179e"
             ],
             [
              0.4444444444444444,
              "#bd3786"
             ],
             [
              0.5555555555555556,
              "#d8576b"
             ],
             [
              0.6666666666666666,
              "#ed7953"
             ],
             [
              0.7777777777777778,
              "#fb9f3a"
             ],
             [
              0.8888888888888888,
              "#fdca26"
             ],
             [
              1,
              "#f0f921"
             ]
            ],
            "type": "heatmapgl"
           }
          ],
          "histogram": [
           {
            "marker": {
             "pattern": {
              "fillmode": "overlay",
              "size": 10,
              "solidity": 0.2
             }
            },
            "type": "histogram"
           }
          ],
          "histogram2d": [
           {
            "colorbar": {
             "outlinewidth": 0,
             "ticks": ""
            },
            "colorscale": [
             [
              0,
              "#0d0887"
             ],
             [
              0.1111111111111111,
              "#46039f"
             ],
             [
              0.2222222222222222,
              "#7201a8"
             ],
             [
              0.3333333333333333,
              "#9c179e"
             ],
             [
              0.4444444444444444,
              "#bd3786"
             ],
             [
              0.5555555555555556,
              "#d8576b"
             ],
             [
              0.6666666666666666,
              "#ed7953"
             ],
             [
              0.7777777777777778,
              "#fb9f3a"
             ],
             [
              0.8888888888888888,
              "#fdca26"
             ],
             [
              1,
              "#f0f921"
             ]
            ],
            "type": "histogram2d"
           }
          ],
          "histogram2dcontour": [
           {
            "colorbar": {
             "outlinewidth": 0,
             "ticks": ""
            },
            "colorscale": [
             [
              0,
              "#0d0887"
             ],
             [
              0.1111111111111111,
              "#46039f"
             ],
             [
              0.2222222222222222,
              "#7201a8"
             ],
             [
              0.3333333333333333,
              "#9c179e"
             ],
             [
              0.4444444444444444,
              "#bd3786"
             ],
             [
              0.5555555555555556,
              "#d8576b"
             ],
             [
              0.6666666666666666,
              "#ed7953"
             ],
             [
              0.7777777777777778,
              "#fb9f3a"
             ],
             [
              0.8888888888888888,
              "#fdca26"
             ],
             [
              1,
              "#f0f921"
             ]
            ],
            "type": "histogram2dcontour"
           }
          ],
          "mesh3d": [
           {
            "colorbar": {
             "outlinewidth": 0,
             "ticks": ""
            },
            "type": "mesh3d"
           }
          ],
          "parcoords": [
           {
            "line": {
             "colorbar": {
              "outlinewidth": 0,
              "ticks": ""
             }
            },
            "type": "parcoords"
           }
          ],
          "pie": [
           {
            "automargin": true,
            "type": "pie"
           }
          ],
          "scatter": [
           {
            "fillpattern": {
             "fillmode": "overlay",
             "size": 10,
             "solidity": 0.2
            },
            "type": "scatter"
           }
          ],
          "scatter3d": [
           {
            "line": {
             "colorbar": {
              "outlinewidth": 0,
              "ticks": ""
             }
            },
            "marker": {
             "colorbar": {
              "outlinewidth": 0,
              "ticks": ""
             }
            },
            "type": "scatter3d"
           }
          ],
          "scattercarpet": [
           {
            "marker": {
             "colorbar": {
              "outlinewidth": 0,
              "ticks": ""
             }
            },
            "type": "scattercarpet"
           }
          ],
          "scattergeo": [
           {
            "marker": {
             "colorbar": {
              "outlinewidth": 0,
              "ticks": ""
             }
            },
            "type": "scattergeo"
           }
          ],
          "scattergl": [
           {
            "marker": {
             "colorbar": {
              "outlinewidth": 0,
              "ticks": ""
             }
            },
            "type": "scattergl"
           }
          ],
          "scattermapbox": [
           {
            "marker": {
             "colorbar": {
              "outlinewidth": 0,
              "ticks": ""
             }
            },
            "type": "scattermapbox"
           }
          ],
          "scatterpolar": [
           {
            "marker": {
             "colorbar": {
              "outlinewidth": 0,
              "ticks": ""
             }
            },
            "type": "scatterpolar"
           }
          ],
          "scatterpolargl": [
           {
            "marker": {
             "colorbar": {
              "outlinewidth": 0,
              "ticks": ""
             }
            },
            "type": "scatterpolargl"
           }
          ],
          "scatterternary": [
           {
            "marker": {
             "colorbar": {
              "outlinewidth": 0,
              "ticks": ""
             }
            },
            "type": "scatterternary"
           }
          ],
          "surface": [
           {
            "colorbar": {
             "outlinewidth": 0,
             "ticks": ""
            },
            "colorscale": [
             [
              0,
              "#0d0887"
             ],
             [
              0.1111111111111111,
              "#46039f"
             ],
             [
              0.2222222222222222,
              "#7201a8"
             ],
             [
              0.3333333333333333,
              "#9c179e"
             ],
             [
              0.4444444444444444,
              "#bd3786"
             ],
             [
              0.5555555555555556,
              "#d8576b"
             ],
             [
              0.6666666666666666,
              "#ed7953"
             ],
             [
              0.7777777777777778,
              "#fb9f3a"
             ],
             [
              0.8888888888888888,
              "#fdca26"
             ],
             [
              1,
              "#f0f921"
             ]
            ],
            "type": "surface"
           }
          ],
          "table": [
           {
            "cells": {
             "fill": {
              "color": "#EBF0F8"
             },
             "line": {
              "color": "white"
             }
            },
            "header": {
             "fill": {
              "color": "#C8D4E3"
             },
             "line": {
              "color": "white"
             }
            },
            "type": "table"
           }
          ]
         },
         "layout": {
          "annotationdefaults": {
           "arrowcolor": "#2a3f5f",
           "arrowhead": 0,
           "arrowwidth": 1
          },
          "autotypenumbers": "strict",
          "coloraxis": {
           "colorbar": {
            "outlinewidth": 0,
            "ticks": ""
           }
          },
          "colorscale": {
           "diverging": [
            [
             0,
             "#8e0152"
            ],
            [
             0.1,
             "#c51b7d"
            ],
            [
             0.2,
             "#de77ae"
            ],
            [
             0.3,
             "#f1b6da"
            ],
            [
             0.4,
             "#fde0ef"
            ],
            [
             0.5,
             "#f7f7f7"
            ],
            [
             0.6,
             "#e6f5d0"
            ],
            [
             0.7,
             "#b8e186"
            ],
            [
             0.8,
             "#7fbc41"
            ],
            [
             0.9,
             "#4d9221"
            ],
            [
             1,
             "#276419"
            ]
           ],
           "sequential": [
            [
             0,
             "#0d0887"
            ],
            [
             0.1111111111111111,
             "#46039f"
            ],
            [
             0.2222222222222222,
             "#7201a8"
            ],
            [
             0.3333333333333333,
             "#9c179e"
            ],
            [
             0.4444444444444444,
             "#bd3786"
            ],
            [
             0.5555555555555556,
             "#d8576b"
            ],
            [
             0.6666666666666666,
             "#ed7953"
            ],
            [
             0.7777777777777778,
             "#fb9f3a"
            ],
            [
             0.8888888888888888,
             "#fdca26"
            ],
            [
             1,
             "#f0f921"
            ]
           ],
           "sequentialminus": [
            [
             0,
             "#0d0887"
            ],
            [
             0.1111111111111111,
             "#46039f"
            ],
            [
             0.2222222222222222,
             "#7201a8"
            ],
            [
             0.3333333333333333,
             "#9c179e"
            ],
            [
             0.4444444444444444,
             "#bd3786"
            ],
            [
             0.5555555555555556,
             "#d8576b"
            ],
            [
             0.6666666666666666,
             "#ed7953"
            ],
            [
             0.7777777777777778,
             "#fb9f3a"
            ],
            [
             0.8888888888888888,
             "#fdca26"
            ],
            [
             1,
             "#f0f921"
            ]
           ]
          },
          "colorway": [
           "#636efa",
           "#EF553B",
           "#00cc96",
           "#ab63fa",
           "#FFA15A",
           "#19d3f3",
           "#FF6692",
           "#B6E880",
           "#FF97FF",
           "#FECB52"
          ],
          "font": {
           "color": "#2a3f5f"
          },
          "geo": {
           "bgcolor": "white",
           "lakecolor": "white",
           "landcolor": "#E5ECF6",
           "showlakes": true,
           "showland": true,
           "subunitcolor": "white"
          },
          "hoverlabel": {
           "align": "left"
          },
          "hovermode": "closest",
          "mapbox": {
           "style": "light"
          },
          "paper_bgcolor": "white",
          "plot_bgcolor": "#E5ECF6",
          "polar": {
           "angularaxis": {
            "gridcolor": "white",
            "linecolor": "white",
            "ticks": ""
           },
           "bgcolor": "#E5ECF6",
           "radialaxis": {
            "gridcolor": "white",
            "linecolor": "white",
            "ticks": ""
           }
          },
          "scene": {
           "xaxis": {
            "backgroundcolor": "#E5ECF6",
            "gridcolor": "white",
            "gridwidth": 2,
            "linecolor": "white",
            "showbackground": true,
            "ticks": "",
            "zerolinecolor": "white"
           },
           "yaxis": {
            "backgroundcolor": "#E5ECF6",
            "gridcolor": "white",
            "gridwidth": 2,
            "linecolor": "white",
            "showbackground": true,
            "ticks": "",
            "zerolinecolor": "white"
           },
           "zaxis": {
            "backgroundcolor": "#E5ECF6",
            "gridcolor": "white",
            "gridwidth": 2,
            "linecolor": "white",
            "showbackground": true,
            "ticks": "",
            "zerolinecolor": "white"
           }
          },
          "shapedefaults": {
           "line": {
            "color": "#2a3f5f"
           }
          },
          "ternary": {
           "aaxis": {
            "gridcolor": "white",
            "linecolor": "white",
            "ticks": ""
           },
           "baxis": {
            "gridcolor": "white",
            "linecolor": "white",
            "ticks": ""
           },
           "bgcolor": "#E5ECF6",
           "caxis": {
            "gridcolor": "white",
            "linecolor": "white",
            "ticks": ""
           }
          },
          "title": {
           "x": 0.05
          },
          "xaxis": {
           "automargin": true,
           "gridcolor": "white",
           "linecolor": "white",
           "ticks": "",
           "title": {
            "standoff": 15
           },
           "zerolinecolor": "white",
           "zerolinewidth": 2
          },
          "yaxis": {
           "automargin": true,
           "gridcolor": "white",
           "linecolor": "white",
           "ticks": "",
           "title": {
            "standoff": 15
           },
           "zerolinecolor": "white",
           "zerolinewidth": 2
          }
         }
        },
        "title": {
         "text": "Liveness vs Energy by Album Type"
        },
        "xaxis": {
         "anchor": "y",
         "domain": [
          0,
          1
         ],
         "title": {
          "text": "Liveness"
         }
        },
        "yaxis": {
         "anchor": "x",
         "domain": [
          0,
          1
         ],
         "title": {
          "text": "Energy"
         }
        }
       }
      }
     },
     "metadata": {},
     "output_type": "display_data"
    }
   ],
   "source": [
    "# Scatter plot of liveness vs energy\n",
    "fig_liveness_energy = px.scatter(df, x='liveness', y='energy', color='album_type',\n",
    "                                 title='Liveness vs Energy by Album Type',\n",
    "                                 labels={'liveness': 'Liveness', 'energy': 'Energy', 'album_type': 'Album Type'})\n",
    "fig_liveness_energy.show()"
   ]
  },
  {
   "cell_type": "markdown",
   "metadata": {},
   "source": [
    "How does acousticness influence loudness?"
   ]
  },
  {
   "cell_type": "code",
   "execution_count": 64,
   "metadata": {},
   "outputs": [
    {
     "data": {
      "application/vnd.plotly.v1+json": {
       "config": {
        "plotlyServerURL": "https://plot.ly"
       },
       "data": [
        {
         "hovertemplate": "Track Type=Single<br>Acousticness=%{x}<br>Loudness (dB)=%{y}<extra></extra>",
         "legendgroup": "Single",
         "marker": {
          "color": "#636efa",
          "symbol": "circle"
         },
         "mode": "markers",
         "name": "Single",
         "orientation": "v",
         "showlegend": true,
         "type": "scatter",
         "x": [
          0.502,
          0.123,
          0.502,
          0.123,
          0.309,
          0.041,
          0.345,
          0.0504,
          0.236,
          0.115,
          0.0648,
          0.0782,
          0.0623,
          0.204,
          0.133,
          0.0661,
          0.074,
          0.258,
          0.13,
          0.0618,
          0.0734,
          0.00188,
          0.167,
          0.833,
          0.418,
          0.819,
          0.833,
          0.418,
          0.819,
          0.525,
          0.761,
          0.589,
          0.525,
          0.761,
          0.589,
          0.537,
          0.778,
          0.6,
          0.117,
          0.492,
          0.0767,
          0.00929,
          0.033,
          0.0527,
          0.00845,
          0.216,
          0.204,
          0.00465,
          0.921,
          0.0692,
          0.0779,
          0.313,
          0.114,
          0.00254,
          0.00476,
          0.451,
          0.0717,
          0.00302,
          0.041,
          0.0377,
          0.469,
          0.000743,
          0.199,
          0.00556,
          0.0991,
          0.314,
          0.103,
          0.00245,
          0.000743,
          0.0647,
          0.0885,
          0.0692,
          0.085,
          0.00253,
          0.00103,
          0.0561,
          0.0871,
          0.0702,
          0.0773,
          0.00454,
          0.00215,
          0.00957,
          0.035,
          0.36,
          0.199,
          0.0773,
          0.00454,
          0.00215,
          0.00957,
          0.035,
          0.36,
          0.199,
          0.00265,
          0.0396,
          0.117,
          0.452,
          0.00478,
          0.00265,
          0.0396,
          0.117,
          0.452,
          0.00478,
          0.0364,
          0.0728,
          0.157,
          0.302,
          0.164,
          0.04,
          0.067,
          0.17,
          0.305,
          0.162,
          0.575,
          0.173,
          0.0103,
          0.111
         ],
         "xaxis": "x",
         "y": [
          -10.976,
          -8.39,
          -10.976,
          -8.39,
          -13.27,
          -7.343,
          -13.178,
          -7.346,
          -10.516,
          -6.59,
          -9.184,
          -7.091,
          -6.523,
          -10.519,
          -6.582,
          -9.13,
          -7.054,
          -10.489,
          -6.571,
          -9.19,
          -7.091,
          -6.106,
          -4.516,
          -9.195,
          -7.589,
          -11.266,
          -9.195,
          -7.589,
          -11.266,
          -8.572,
          -8.464,
          -8.767,
          -8.572,
          -8.464,
          -8.767,
          -8.588,
          -8.426,
          -8.761,
          -5.707,
          -7.582,
          -5.191,
          -5.617,
          -4.105,
          -6.509,
          -6.237,
          -10.178,
          -6.471,
          -6.745,
          -12.864,
          -7.416,
          -4.273,
          -6.993,
          -5.05,
          -6.564,
          -6.761,
          -3.982,
          -4.437,
          -2.943,
          -2.98,
          -4.401,
          -7.392,
          -6.937,
          -8.349,
          -3.63,
          -3.753,
          -8.066,
          -5.412,
          -5.595,
          -6.937,
          -5.384,
          -6.104,
          -7.416,
          -5.421,
          -5.572,
          -6.938,
          -5.414,
          -6.114,
          -7.414,
          -4.267,
          -6.798,
          -6.561,
          -5.911,
          -7.039,
          -6.755,
          -8.349,
          -4.267,
          -6.798,
          -6.561,
          -5.911,
          -7.039,
          -6.755,
          -8.349,
          -2.94,
          -3.002,
          -4.663,
          -3.987,
          -3.611,
          -2.94,
          -3.002,
          -4.663,
          -3.987,
          -3.611,
          -4.397,
          -4.4,
          -3.937,
          -8.014,
          -4.424,
          -4.418,
          -4.396,
          -3.95,
          -8.027,
          -4.44,
          -6.462,
          -2.098,
          -3.771,
          -4.931
         ],
         "yaxis": "y"
        },
        {
         "hovertemplate": "Track Type=B-Side<br>Acousticness=%{x}<br>Loudness (dB)=%{y}<extra></extra>",
         "legendgroup": "B-Side",
         "marker": {
          "color": "#EF553B",
          "symbol": "circle"
         },
         "mode": "markers",
         "name": "B-Side",
         "orientation": "v",
         "showlegend": true,
         "type": "scatter",
         "x": [
          0.0483,
          0.137,
          0.56,
          0.73,
          0.384,
          0.624,
          0.178,
          0.607,
          0.315,
          0.768,
          0.858,
          0.52,
          0.422,
          0.636,
          0.707,
          0.608,
          0.655,
          0.78,
          0.785,
          0.0274,
          0.717,
          0.609,
          0.69,
          0.825,
          0.806,
          0.805,
          0.638,
          0.791,
          0.901,
          0.0483,
          0.137,
          0.56,
          0.73,
          0.384,
          0.624,
          0.178,
          0.607,
          0.315,
          0.768,
          0.858,
          0.52,
          0.422,
          0.636,
          0.00942,
          0.0885,
          0.000421,
          0.000537,
          0.000656,
          0.0121,
          0.00354,
          0.0362,
          0.0436,
          0.00196,
          0.316,
          0.0999,
          0.25,
          0.00976,
          0.61,
          0.00675,
          0.066,
          0.16,
          0.207,
          0.00961,
          0.0976,
          0.000418,
          0.000512,
          0.000718,
          0.0103,
          0.00357,
          0.0385,
          0.0411,
          0.00209,
          0.299,
          0.087,
          0.276,
          0.00933,
          0.609,
          0.0068,
          0.0656,
          0.186,
          0.198,
          0.00444,
          0.0251,
          0.00621,
          0.248,
          0.0236,
          0.311,
          0.00192,
          0.851,
          0.012,
          0.000886,
          0.101,
          0.00667,
          0.447,
          0.0122,
          0.449,
          0.0031,
          0.0164,
          0.159,
          0.0586,
          0.362,
          0.617,
          0.3,
          0.0609,
          0.705,
          0.423,
          0.705,
          0.205,
          0.157,
          0.804,
          0.967,
          0.545,
          0.0593,
          0.735,
          0.416,
          0.71,
          0.226,
          0.16,
          0.791,
          0.967,
          0.571,
          0.0573,
          0.69,
          0.401,
          0.69,
          0.2,
          0.173,
          0.785,
          0.964,
          0.553,
          0.000328,
          0.00108,
          0.0344,
          0.0129,
          0.0171,
          0.000443,
          0.0167,
          0.0317,
          0.0848,
          0.0399,
          0.0288,
          0.622,
          0.066,
          0.271,
          0.00324,
          0.075,
          0.0494,
          0.0158,
          0.00955,
          0.661,
          0.214,
          0.817,
          0.0538,
          0.256,
          0.817,
          0.00115,
          0.274,
          0.0122,
          0.116,
          0.13,
          0.106,
          0.369,
          0.0623,
          0.156,
          0.0222,
          0.0538,
          0.0033,
          0.0231,
          0.488,
          0.000191,
          0.0474,
          0.0181,
          0.819,
          0.0406,
          0.157,
          0.0279,
          0.0135,
          0.816,
          0.162,
          0.849,
          0.225,
          0.514,
          0.334,
          0.92,
          0.83,
          0.735,
          0.878,
          0.87,
          0.696,
          0.855,
          0.768,
          0.66,
          0.876,
          0.835,
          0.937,
          0.92,
          0.83,
          0.735,
          0.878,
          0.87,
          0.696,
          0.855,
          0.768,
          0.66,
          0.876,
          0.835,
          0.937,
          0.75,
          0.481,
          0.814,
          0.686,
          0.888,
          0.553,
          0.312,
          0.862,
          0.859,
          0.67,
          0.727,
          0.916,
          0.964,
          0.75,
          0.481,
          0.814,
          0.686,
          0.888,
          0.553,
          0.312,
          0.862,
          0.859,
          0.67,
          0.727,
          0.916,
          0.964,
          0.757,
          0.467,
          0.806,
          0.687,
          0.9,
          0.538,
          0.314,
          0.881,
          0.838,
          0.655,
          0.731,
          0.918,
          0.966,
          0.298,
          0.12,
          0.00889,
          0.028,
          0.0129,
          0.781,
          0.454,
          0.0246,
          0.907,
          0.736,
          0.13,
          0.971,
          0.808,
          0.0679,
          0.106,
          0.122,
          0.0713,
          0.00882,
          0.0604,
          0.0329,
          0.0156,
          0.186,
          0.0448,
          0.639,
          0.0162,
          0.00364,
          0.122,
          0.000184,
          0.0648,
          0.824,
          0.101,
          0.0221,
          0.0348,
          0.0717,
          0.00418,
          0.00471,
          0.0577,
          0.678,
          0.0352,
          0.56,
          0.416,
          0.123,
          0.113,
          0.521,
          0.0806,
          0.191,
          0.00454,
          0.0192,
          0.245,
          0.0348,
          0.00201,
          0.0158,
          0.00364,
          0.678,
          0.245,
          0.232,
          0.038,
          0.00196,
          0.016,
          0.00461,
          0.635,
          0.231,
          0.241,
          0.000197,
          0.101,
          0.0382,
          0.0173,
          0.307,
          0.0162,
          0.632,
          0.0371,
          0.0213,
          0.000197,
          0.101,
          0.0382,
          0.0173,
          0.307,
          0.0162,
          0.632,
          0.0371,
          0.0213,
          0.095,
          0.166,
          0.819,
          0.0739,
          0.0139,
          0.186,
          0.0826,
          0.57,
          0.036,
          0.095,
          0.166,
          0.819,
          0.0739,
          0.0139,
          0.186,
          0.0826,
          0.57,
          0.036,
          0.168,
          0.373,
          0.0606,
          0.13,
          0.0322,
          0.0907,
          0.611,
          0.00471,
          0.194,
          0.379,
          0.0571,
          0.146,
          0.0408,
          0.0752,
          0.647,
          0.00408,
          0.051,
          0.217,
          0.00491,
          0.525,
          0.0868,
          0.0177,
          0.00452,
          0.637,
          0.00349,
          0.0402
         ],
         "xaxis": "x",
         "y": [
          -8.441,
          -7.362,
          -10.412,
          -11.388,
          -7.684,
          -9.394,
          -7.123,
          -8.374,
          -10.555,
          -13.961,
          -12.56,
          -9.083,
          -8.802,
          -11.046,
          -10.855,
          -9.471,
          -8.942,
          -8.552,
          -8.859,
          -4.514,
          -7.197,
          -8.013,
          -11.429,
          -10.359,
          -9.879,
          -8.212,
          -7.978,
          -10.601,
          -11.665,
          -8.441,
          -7.362,
          -10.412,
          -11.388,
          -7.684,
          -9.394,
          -7.123,
          -8.374,
          -10.555,
          -13.961,
          -12.56,
          -9.083,
          -8.802,
          -11.046,
          -4.84,
          -5.376,
          -4.785,
          -5.968,
          -5.579,
          -5.693,
          -6.528,
          -6.438,
          -7.48,
          -5.798,
          -8.796,
          -5.358,
          -8.892,
          -5.97,
          -9.473,
          -5.958,
          -8.297,
          -9.332,
          -8.804,
          -4.83,
          -5.417,
          -4.823,
          -5.961,
          -5.556,
          -5.676,
          -6.526,
          -6.369,
          -7.415,
          -5.789,
          -8.766,
          -5.393,
          -8.917,
          -5.971,
          -9.416,
          -5.959,
          -8.285,
          -9.319,
          -8.739,
          -2.846,
          -2.347,
          -3.927,
          -2.871,
          -5.016,
          -3.866,
          -2.608,
          -7.103,
          -3.526,
          -2.969,
          -5.327,
          -1.909,
          -8.46,
          -4.031,
          -8.261,
          -3.473,
          -4.7,
          -4.632,
          -4.893,
          -7.925,
          -4.675,
          -5.847,
          -8.237,
          -13.534,
          -10.312,
          -11.704,
          -8.747,
          -11.014,
          -15.489,
          -14.958,
          -14.037,
          -8.3,
          -13.425,
          -10.307,
          -11.721,
          -8.777,
          -11.134,
          -15.434,
          -14.875,
          -14.077,
          -8.294,
          -13.481,
          -10.289,
          -11.738,
          -8.763,
          -11.096,
          -15.48,
          -14.919,
          -14.064,
          -5.314,
          -4.908,
          -6.506,
          -6.371,
          -7.809,
          -5.62,
          -6.587,
          -6.139,
          -7.039,
          -5.954,
          -5.623,
          -11.827,
          -7.138,
          -5.098,
          -5.864,
          -7.673,
          -7.855,
          -6.031,
          -6.974,
          -10.802,
          -5.824,
          -9.455,
          -7.075,
          -5.828,
          -6.918,
          -5.025,
          -8.771,
          -4.963,
          -4.61,
          -4.311,
          -6.135,
          -7.377,
          -4.856,
          -6.066,
          -3.669,
          -4.99,
          -4.665,
          -4.433,
          -8.524,
          -4.063,
          -6.201,
          -6.112,
          -9.208,
          -5.677,
          -6.69,
          -4.367,
          -5.025,
          -7.61,
          -6.269,
          -8.819,
          -7.062,
          -11.548,
          -7.86,
          -12.077,
          -10.491,
          -8.193,
          -10.381,
          -10.733,
          -8.322,
          -9.277,
          -9.014,
          -7.704,
          -11.609,
          -10.813,
          -10.673,
          -12.077,
          -10.491,
          -8.193,
          -10.381,
          -10.733,
          -8.322,
          -9.277,
          -9.014,
          -7.704,
          -11.609,
          -10.813,
          -10.673,
          -6.942,
          -8.558,
          -10.663,
          -10.064,
          -10.813,
          -9.222,
          -9.837,
          -10.567,
          -11.128,
          -9.016,
          -13.679,
          -12.879,
          -15.01,
          -6.942,
          -8.558,
          -10.663,
          -10.064,
          -10.813,
          -9.222,
          -9.837,
          -10.567,
          -11.128,
          -9.016,
          -13.679,
          -12.879,
          -15.01,
          -6.942,
          -8.505,
          -10.63,
          -10.037,
          -10.769,
          -9.208,
          -9.843,
          -10.445,
          -11.143,
          -8.995,
          -13.69,
          -12.906,
          -15.065,
          -10.345,
          -9.375,
          -8.029,
          -6.926,
          -6.553,
          -9.728,
          -6.754,
          -6.639,
          -12.566,
          -10.862,
          -8.746,
          -9.912,
          -9.602,
          -6.156,
          -6.719,
          -7.283,
          -6.684,
          -7.902,
          -6.686,
          -8.792,
          -5.986,
          -9.874,
          -7.803,
          -8.566,
          -6.698,
          -6.112,
          -7.283,
          -5.895,
          -2.622,
          -8.828,
          -8.086,
          -3.266,
          -4.762,
          -3.895,
          -4.206,
          -6.291,
          -2.929,
          -8.795,
          -7.639,
          -5.732,
          -7.405,
          -3.648,
          -5.712,
          -4.948,
          -5.02,
          -7.361,
          -3.685,
          -5.797,
          -4.991,
          -4.762,
          -5.729,
          -5.966,
          -6.112,
          -8.795,
          -4.991,
          -7.754,
          -4.807,
          -5.778,
          -5.963,
          -6.136,
          -8.768,
          -4.99,
          -7.771,
          -5.882,
          -8.086,
          -7.803,
          -7.357,
          -6.67,
          -6.698,
          -12.411,
          -7.675,
          -5.804,
          -5.882,
          -8.086,
          -7.803,
          -7.357,
          -6.67,
          -6.698,
          -12.411,
          -7.675,
          -5.804,
          -3.734,
          -5.32,
          -8.837,
          -3.878,
          -3.186,
          -5.29,
          -2.627,
          -9.475,
          -4.3,
          -3.734,
          -5.32,
          -8.837,
          -3.878,
          -3.186,
          -5.29,
          -2.627,
          -9.475,
          -4.3,
          -7.348,
          -7.384,
          -3.096,
          -4.126,
          -3.689,
          -4.993,
          -8.535,
          -4.175,
          -7.347,
          -7.372,
          -3.097,
          -4.134,
          -3.709,
          -4.985,
          -8.543,
          -4.17,
          -2.881,
          -5.769,
          -4.055,
          -4.963,
          -4.919,
          -5.28,
          -3.629,
          -5.723,
          -5.726,
          -3.827
         ],
         "yaxis": "y"
        },
        {
         "hovertemplate": "Track Type=Special Deluxe<br>Acousticness=%{x}<br>Loudness (dB)=%{y}<extra></extra>",
         "legendgroup": "Special Deluxe",
         "marker": {
          "color": "#00cc96",
          "symbol": "circle"
         },
         "mode": "markers",
         "name": "Special Deluxe",
         "orientation": "v",
         "showlegend": true,
         "type": "scatter",
         "x": [
          0.0104,
          0.203,
          0.837,
          0.116,
          0.726,
          0.318,
          0.435,
          0.497,
          0.148,
          0.806,
          0.219,
          0.826,
          0.112,
          0.723,
          0.361,
          0.43,
          0.481,
          0.769,
          0.801,
          0.842,
          0.842,
          0.0493,
          0.0493,
          0.707,
          0.00463,
          0.187,
          0.00471,
          0.272,
          0.175,
          0.537,
          0.166,
          0.0268,
          0.111,
          0.0583,
          0.852,
          0.0868,
          0.367,
          0.169
         ],
         "xaxis": "x",
         "y": [
          -6.905,
          -9.002,
          -12.469,
          -10.519,
          -10.17,
          -9.744,
          -6.501,
          -12.038,
          -6.499,
          -10.934,
          -8.987,
          -12.379,
          -10.547,
          -10.179,
          -9.738,
          -6.508,
          -12.088,
          -6.524,
          -12.426,
          -11.532,
          -11.532,
          -5.447,
          -5.447,
          -8.894,
          -5.87,
          -7.327,
          -6.291,
          -5.86,
          -8.248,
          -7.227,
          -3.457,
          -3.648,
          -5.737,
          -6.809,
          -10.785,
          -6.205,
          -6.123,
          -4.279
         ],
         "yaxis": "y"
        },
        {
         "hovertemplate": "Track Type=Acoustic Version<br>Acousticness=%{x}<br>Loudness (dB)=%{y}<extra></extra>",
         "legendgroup": "Acoustic Version",
         "marker": {
          "color": "#ab63fa",
          "symbol": "circle"
         },
         "mode": "markers",
         "name": "Acoustic Version",
         "orientation": "v",
         "showlegend": true,
         "type": "scatter",
         "x": [
          0.663,
          0.664,
          0.748,
          0.842
         ],
         "xaxis": "x",
         "y": [
          -13.778,
          -15.91,
          -6.459,
          -5.078
         ],
         "yaxis": "y"
        },
        {
         "hovertemplate": "Track Type=Live<br>Acousticness=%{x}<br>Loudness (dB)=%{y}<extra></extra>",
         "legendgroup": "Live",
         "marker": {
          "color": "#FFA15A",
          "symbol": "circle"
         },
         "mode": "markers",
         "name": "Live",
         "orientation": "v",
         "showlegend": true,
         "type": "scatter",
         "x": [
          0.898,
          0.88,
          0.743,
          0.848,
          0.946,
          0.78,
          0.914,
          0.5,
          0.928,
          0.883,
          0.942,
          0.887,
          0.916,
          0.841,
          0.93,
          0.962,
          0.794,
          0.00917,
          0.00233,
          0.00048,
          0.154,
          0.715,
          0.155,
          0.00306,
          0.0636,
          0.205,
          0.806,
          0.713,
          0.794,
          0.0157,
          0.0747,
          0.0245,
          0.0053,
          0.659,
          0.814,
          0.596,
          0.856,
          0.664,
          0.266,
          0.399,
          0.156
         ],
         "xaxis": "x",
         "y": [
          -10.731,
          -9.704,
          -11.715,
          -10.295,
          -12.34,
          -8.434,
          -11.49,
          -8.961,
          -11.611,
          -10.274,
          -10.542,
          -10.463,
          -13.004,
          -9.5,
          -11.472,
          -13.083,
          -11.767,
          -5.184,
          -4.775,
          -5.156,
          -4.373,
          -10.21,
          -8.745,
          -5.629,
          -5.251,
          -12.551,
          -8.407,
          -9.287,
          -6.794,
          -8.784,
          -5.597,
          -7.495,
          -5.838,
          -7.031,
          -5.894,
          -3.739,
          -9.235,
          -5.373,
          -1.953,
          -3.004,
          -4.307
         ],
         "yaxis": "y"
        },
        {
         "hovertemplate": "Track Type=Soundtrack<br>Acousticness=%{x}<br>Loudness (dB)=%{y}<extra></extra>",
         "legendgroup": "Soundtrack",
         "marker": {
          "color": "#19d3f3",
          "symbol": "circle"
         },
         "mode": "markers",
         "name": "Soundtrack",
         "orientation": "v",
         "showlegend": true,
         "type": "scatter",
         "x": [
          0.0586
         ],
         "xaxis": "x",
         "y": [
          -8.418
         ],
         "yaxis": "y"
        },
        {
         "hovertemplate": "Track Type=Voice Memo<br>Acousticness=%{x}<br>Loudness (dB)=%{y}<extra></extra>",
         "legendgroup": "Voice Memo",
         "marker": {
          "color": "#FF6692",
          "symbol": "circle"
         },
         "mode": "markers",
         "name": "Voice Memo",
         "orientation": "v",
         "showlegend": true,
         "type": "scatter",
         "x": [
          0.829,
          0.717,
          0.801,
          0.113
         ],
         "xaxis": "x",
         "y": [
          -17.932,
          -16.394,
          -15.064,
          -4.659
         ],
         "yaxis": "y"
        },
        {
         "hovertemplate": "Track Type=Remix<br>Acousticness=%{x}<br>Loudness (dB)=%{y}<extra></extra>",
         "legendgroup": "Remix",
         "marker": {
          "color": "#B6E880",
          "symbol": "circle"
         },
         "mode": "markers",
         "name": "Remix",
         "orientation": "v",
         "showlegend": true,
         "type": "scatter",
         "x": [
          0.00727,
          0.288
         ],
         "xaxis": "x",
         "y": [
          -3.806,
          -6.941
         ],
         "yaxis": "y"
        }
       ],
       "layout": {
        "legend": {
         "title": {
          "text": "Track Type"
         },
         "tracegroupgap": 0
        },
        "template": {
         "data": {
          "bar": [
           {
            "error_x": {
             "color": "#2a3f5f"
            },
            "error_y": {
             "color": "#2a3f5f"
            },
            "marker": {
             "line": {
              "color": "#E5ECF6",
              "width": 0.5
             },
             "pattern": {
              "fillmode": "overlay",
              "size": 10,
              "solidity": 0.2
             }
            },
            "type": "bar"
           }
          ],
          "barpolar": [
           {
            "marker": {
             "line": {
              "color": "#E5ECF6",
              "width": 0.5
             },
             "pattern": {
              "fillmode": "overlay",
              "size": 10,
              "solidity": 0.2
             }
            },
            "type": "barpolar"
           }
          ],
          "carpet": [
           {
            "aaxis": {
             "endlinecolor": "#2a3f5f",
             "gridcolor": "white",
             "linecolor": "white",
             "minorgridcolor": "white",
             "startlinecolor": "#2a3f5f"
            },
            "baxis": {
             "endlinecolor": "#2a3f5f",
             "gridcolor": "white",
             "linecolor": "white",
             "minorgridcolor": "white",
             "startlinecolor": "#2a3f5f"
            },
            "type": "carpet"
           }
          ],
          "choropleth": [
           {
            "colorbar": {
             "outlinewidth": 0,
             "ticks": ""
            },
            "type": "choropleth"
           }
          ],
          "contour": [
           {
            "colorbar": {
             "outlinewidth": 0,
             "ticks": ""
            },
            "colorscale": [
             [
              0,
              "#0d0887"
             ],
             [
              0.1111111111111111,
              "#46039f"
             ],
             [
              0.2222222222222222,
              "#7201a8"
             ],
             [
              0.3333333333333333,
              "#9c179e"
             ],
             [
              0.4444444444444444,
              "#bd3786"
             ],
             [
              0.5555555555555556,
              "#d8576b"
             ],
             [
              0.6666666666666666,
              "#ed7953"
             ],
             [
              0.7777777777777778,
              "#fb9f3a"
             ],
             [
              0.8888888888888888,
              "#fdca26"
             ],
             [
              1,
              "#f0f921"
             ]
            ],
            "type": "contour"
           }
          ],
          "contourcarpet": [
           {
            "colorbar": {
             "outlinewidth": 0,
             "ticks": ""
            },
            "type": "contourcarpet"
           }
          ],
          "heatmap": [
           {
            "colorbar": {
             "outlinewidth": 0,
             "ticks": ""
            },
            "colorscale": [
             [
              0,
              "#0d0887"
             ],
             [
              0.1111111111111111,
              "#46039f"
             ],
             [
              0.2222222222222222,
              "#7201a8"
             ],
             [
              0.3333333333333333,
              "#9c179e"
             ],
             [
              0.4444444444444444,
              "#bd3786"
             ],
             [
              0.5555555555555556,
              "#d8576b"
             ],
             [
              0.6666666666666666,
              "#ed7953"
             ],
             [
              0.7777777777777778,
              "#fb9f3a"
             ],
             [
              0.8888888888888888,
              "#fdca26"
             ],
             [
              1,
              "#f0f921"
             ]
            ],
            "type": "heatmap"
           }
          ],
          "heatmapgl": [
           {
            "colorbar": {
             "outlinewidth": 0,
             "ticks": ""
            },
            "colorscale": [
             [
              0,
              "#0d0887"
             ],
             [
              0.1111111111111111,
              "#46039f"
             ],
             [
              0.2222222222222222,
              "#7201a8"
             ],
             [
              0.3333333333333333,
              "#9c179e"
             ],
             [
              0.4444444444444444,
              "#bd3786"
             ],
             [
              0.5555555555555556,
              "#d8576b"
             ],
             [
              0.6666666666666666,
              "#ed7953"
             ],
             [
              0.7777777777777778,
              "#fb9f3a"
             ],
             [
              0.8888888888888888,
              "#fdca26"
             ],
             [
              1,
              "#f0f921"
             ]
            ],
            "type": "heatmapgl"
           }
          ],
          "histogram": [
           {
            "marker": {
             "pattern": {
              "fillmode": "overlay",
              "size": 10,
              "solidity": 0.2
             }
            },
            "type": "histogram"
           }
          ],
          "histogram2d": [
           {
            "colorbar": {
             "outlinewidth": 0,
             "ticks": ""
            },
            "colorscale": [
             [
              0,
              "#0d0887"
             ],
             [
              0.1111111111111111,
              "#46039f"
             ],
             [
              0.2222222222222222,
              "#7201a8"
             ],
             [
              0.3333333333333333,
              "#9c179e"
             ],
             [
              0.4444444444444444,
              "#bd3786"
             ],
             [
              0.5555555555555556,
              "#d8576b"
             ],
             [
              0.6666666666666666,
              "#ed7953"
             ],
             [
              0.7777777777777778,
              "#fb9f3a"
             ],
             [
              0.8888888888888888,
              "#fdca26"
             ],
             [
              1,
              "#f0f921"
             ]
            ],
            "type": "histogram2d"
           }
          ],
          "histogram2dcontour": [
           {
            "colorbar": {
             "outlinewidth": 0,
             "ticks": ""
            },
            "colorscale": [
             [
              0,
              "#0d0887"
             ],
             [
              0.1111111111111111,
              "#46039f"
             ],
             [
              0.2222222222222222,
              "#7201a8"
             ],
             [
              0.3333333333333333,
              "#9c179e"
             ],
             [
              0.4444444444444444,
              "#bd3786"
             ],
             [
              0.5555555555555556,
              "#d8576b"
             ],
             [
              0.6666666666666666,
              "#ed7953"
             ],
             [
              0.7777777777777778,
              "#fb9f3a"
             ],
             [
              0.8888888888888888,
              "#fdca26"
             ],
             [
              1,
              "#f0f921"
             ]
            ],
            "type": "histogram2dcontour"
           }
          ],
          "mesh3d": [
           {
            "colorbar": {
             "outlinewidth": 0,
             "ticks": ""
            },
            "type": "mesh3d"
           }
          ],
          "parcoords": [
           {
            "line": {
             "colorbar": {
              "outlinewidth": 0,
              "ticks": ""
             }
            },
            "type": "parcoords"
           }
          ],
          "pie": [
           {
            "automargin": true,
            "type": "pie"
           }
          ],
          "scatter": [
           {
            "fillpattern": {
             "fillmode": "overlay",
             "size": 10,
             "solidity": 0.2
            },
            "type": "scatter"
           }
          ],
          "scatter3d": [
           {
            "line": {
             "colorbar": {
              "outlinewidth": 0,
              "ticks": ""
             }
            },
            "marker": {
             "colorbar": {
              "outlinewidth": 0,
              "ticks": ""
             }
            },
            "type": "scatter3d"
           }
          ],
          "scattercarpet": [
           {
            "marker": {
             "colorbar": {
              "outlinewidth": 0,
              "ticks": ""
             }
            },
            "type": "scattercarpet"
           }
          ],
          "scattergeo": [
           {
            "marker": {
             "colorbar": {
              "outlinewidth": 0,
              "ticks": ""
             }
            },
            "type": "scattergeo"
           }
          ],
          "scattergl": [
           {
            "marker": {
             "colorbar": {
              "outlinewidth": 0,
              "ticks": ""
             }
            },
            "type": "scattergl"
           }
          ],
          "scattermapbox": [
           {
            "marker": {
             "colorbar": {
              "outlinewidth": 0,
              "ticks": ""
             }
            },
            "type": "scattermapbox"
           }
          ],
          "scatterpolar": [
           {
            "marker": {
             "colorbar": {
              "outlinewidth": 0,
              "ticks": ""
             }
            },
            "type": "scatterpolar"
           }
          ],
          "scatterpolargl": [
           {
            "marker": {
             "colorbar": {
              "outlinewidth": 0,
              "ticks": ""
             }
            },
            "type": "scatterpolargl"
           }
          ],
          "scatterternary": [
           {
            "marker": {
             "colorbar": {
              "outlinewidth": 0,
              "ticks": ""
             }
            },
            "type": "scatterternary"
           }
          ],
          "surface": [
           {
            "colorbar": {
             "outlinewidth": 0,
             "ticks": ""
            },
            "colorscale": [
             [
              0,
              "#0d0887"
             ],
             [
              0.1111111111111111,
              "#46039f"
             ],
             [
              0.2222222222222222,
              "#7201a8"
             ],
             [
              0.3333333333333333,
              "#9c179e"
             ],
             [
              0.4444444444444444,
              "#bd3786"
             ],
             [
              0.5555555555555556,
              "#d8576b"
             ],
             [
              0.6666666666666666,
              "#ed7953"
             ],
             [
              0.7777777777777778,
              "#fb9f3a"
             ],
             [
              0.8888888888888888,
              "#fdca26"
             ],
             [
              1,
              "#f0f921"
             ]
            ],
            "type": "surface"
           }
          ],
          "table": [
           {
            "cells": {
             "fill": {
              "color": "#EBF0F8"
             },
             "line": {
              "color": "white"
             }
            },
            "header": {
             "fill": {
              "color": "#C8D4E3"
             },
             "line": {
              "color": "white"
             }
            },
            "type": "table"
           }
          ]
         },
         "layout": {
          "annotationdefaults": {
           "arrowcolor": "#2a3f5f",
           "arrowhead": 0,
           "arrowwidth": 1
          },
          "autotypenumbers": "strict",
          "coloraxis": {
           "colorbar": {
            "outlinewidth": 0,
            "ticks": ""
           }
          },
          "colorscale": {
           "diverging": [
            [
             0,
             "#8e0152"
            ],
            [
             0.1,
             "#c51b7d"
            ],
            [
             0.2,
             "#de77ae"
            ],
            [
             0.3,
             "#f1b6da"
            ],
            [
             0.4,
             "#fde0ef"
            ],
            [
             0.5,
             "#f7f7f7"
            ],
            [
             0.6,
             "#e6f5d0"
            ],
            [
             0.7,
             "#b8e186"
            ],
            [
             0.8,
             "#7fbc41"
            ],
            [
             0.9,
             "#4d9221"
            ],
            [
             1,
             "#276419"
            ]
           ],
           "sequential": [
            [
             0,
             "#0d0887"
            ],
            [
             0.1111111111111111,
             "#46039f"
            ],
            [
             0.2222222222222222,
             "#7201a8"
            ],
            [
             0.3333333333333333,
             "#9c179e"
            ],
            [
             0.4444444444444444,
             "#bd3786"
            ],
            [
             0.5555555555555556,
             "#d8576b"
            ],
            [
             0.6666666666666666,
             "#ed7953"
            ],
            [
             0.7777777777777778,
             "#fb9f3a"
            ],
            [
             0.8888888888888888,
             "#fdca26"
            ],
            [
             1,
             "#f0f921"
            ]
           ],
           "sequentialminus": [
            [
             0,
             "#0d0887"
            ],
            [
             0.1111111111111111,
             "#46039f"
            ],
            [
             0.2222222222222222,
             "#7201a8"
            ],
            [
             0.3333333333333333,
             "#9c179e"
            ],
            [
             0.4444444444444444,
             "#bd3786"
            ],
            [
             0.5555555555555556,
             "#d8576b"
            ],
            [
             0.6666666666666666,
             "#ed7953"
            ],
            [
             0.7777777777777778,
             "#fb9f3a"
            ],
            [
             0.8888888888888888,
             "#fdca26"
            ],
            [
             1,
             "#f0f921"
            ]
           ]
          },
          "colorway": [
           "#636efa",
           "#EF553B",
           "#00cc96",
           "#ab63fa",
           "#FFA15A",
           "#19d3f3",
           "#FF6692",
           "#B6E880",
           "#FF97FF",
           "#FECB52"
          ],
          "font": {
           "color": "#2a3f5f"
          },
          "geo": {
           "bgcolor": "white",
           "lakecolor": "white",
           "landcolor": "#E5ECF6",
           "showlakes": true,
           "showland": true,
           "subunitcolor": "white"
          },
          "hoverlabel": {
           "align": "left"
          },
          "hovermode": "closest",
          "mapbox": {
           "style": "light"
          },
          "paper_bgcolor": "white",
          "plot_bgcolor": "#E5ECF6",
          "polar": {
           "angularaxis": {
            "gridcolor": "white",
            "linecolor": "white",
            "ticks": ""
           },
           "bgcolor": "#E5ECF6",
           "radialaxis": {
            "gridcolor": "white",
            "linecolor": "white",
            "ticks": ""
           }
          },
          "scene": {
           "xaxis": {
            "backgroundcolor": "#E5ECF6",
            "gridcolor": "white",
            "gridwidth": 2,
            "linecolor": "white",
            "showbackground": true,
            "ticks": "",
            "zerolinecolor": "white"
           },
           "yaxis": {
            "backgroundcolor": "#E5ECF6",
            "gridcolor": "white",
            "gridwidth": 2,
            "linecolor": "white",
            "showbackground": true,
            "ticks": "",
            "zerolinecolor": "white"
           },
           "zaxis": {
            "backgroundcolor": "#E5ECF6",
            "gridcolor": "white",
            "gridwidth": 2,
            "linecolor": "white",
            "showbackground": true,
            "ticks": "",
            "zerolinecolor": "white"
           }
          },
          "shapedefaults": {
           "line": {
            "color": "#2a3f5f"
           }
          },
          "ternary": {
           "aaxis": {
            "gridcolor": "white",
            "linecolor": "white",
            "ticks": ""
           },
           "baxis": {
            "gridcolor": "white",
            "linecolor": "white",
            "ticks": ""
           },
           "bgcolor": "#E5ECF6",
           "caxis": {
            "gridcolor": "white",
            "linecolor": "white",
            "ticks": ""
           }
          },
          "title": {
           "x": 0.05
          },
          "xaxis": {
           "automargin": true,
           "gridcolor": "white",
           "linecolor": "white",
           "ticks": "",
           "title": {
            "standoff": 15
           },
           "zerolinecolor": "white",
           "zerolinewidth": 2
          },
          "yaxis": {
           "automargin": true,
           "gridcolor": "white",
           "linecolor": "white",
           "ticks": "",
           "title": {
            "standoff": 15
           },
           "zerolinecolor": "white",
           "zerolinewidth": 2
          }
         }
        },
        "title": {
         "text": "Acousticness vs Loudness by Track Type"
        },
        "xaxis": {
         "anchor": "y",
         "domain": [
          0,
          1
         ],
         "title": {
          "text": "Acousticness"
         }
        },
        "yaxis": {
         "anchor": "x",
         "domain": [
          0,
          1
         ],
         "title": {
          "text": "Loudness (dB)"
         }
        }
       }
      }
     },
     "metadata": {},
     "output_type": "display_data"
    }
   ],
   "source": [
    "# Scatter plot of acousticness vs loudness\n",
    "fig_acousticness_loudness = px.scatter(df, x='acousticness', y='loudness', color='track_type',\n",
    "                                       title='Acousticness vs Loudness by Track Type',\n",
    "                                       labels={'acousticness': 'Acousticness', 'loudness': 'Loudness (dB)', 'track_type': 'Track Type'})\n",
    "fig_acousticness_loudness.show()"
   ]
  },
  {
   "cell_type": "markdown",
   "metadata": {},
   "source": [
    "Does valence (positivity) affect the number of Spotify streams?"
   ]
  },
  {
   "cell_type": "code",
   "execution_count": 65,
   "metadata": {},
   "outputs": [
    {
     "data": {
      "application/vnd.plotly.v1+json": {
       "config": {
        "plotlyServerURL": "https://plot.ly"
       },
       "data": [
        {
         "hovertemplate": "Track Type=Single<br>Valence (Positivity)=%{x}<br>Spotify Streams=%{y}<extra></extra>",
         "legendgroup": "Single",
         "marker": {
          "color": "#636efa",
          "symbol": "circle"
         },
         "mode": "markers",
         "name": "Single",
         "orientation": "h",
         "showlegend": true,
         "type": "scatter",
         "x": [
          0.281,
          0.22,
          0.281,
          0.22,
          0.328,
          0.191,
          0.306,
          0.176,
          0.0751,
          0.497,
          0.425,
          0.0956,
          0.0734,
          0.0984,
          0.519,
          0.412,
          0.106,
          0.0976,
          0.533,
          0.433,
          0.0969,
          0.494,
          0.473,
          0.529,
          0.535,
          0.292,
          0.529,
          0.535,
          0.292,
          0.534,
          0.16,
          0.476,
          0.534,
          0.16,
          0.476,
          0.551,
          0.152,
          0.502,
          0.564,
          0.453,
          0.633,
          0.714,
          0.728,
          0.417,
          0.151,
          0.0499,
          0.506,
          0.351,
          0.23,
          0.465,
          0.647,
          0.263,
          0.565,
          0.68,
          0.665,
          0.79,
          0.211,
          0.67,
          0.399,
          0.429,
          0.228,
          0.338,
          0.323,
          0.65,
          0.714,
          0.218,
          0.57,
          0.487,
          0.338,
          0.942,
          0.287,
          0.465,
          0.583,
          0.456,
          0.343,
          0.943,
          0.295,
          0.472,
          0.641,
          0.679,
          0.668,
          0.75,
          0.123,
          0.436,
          0.323,
          0.641,
          0.679,
          0.668,
          0.75,
          0.123,
          0.436,
          0.323,
          0.658,
          0.374,
          0.286,
          0.789,
          0.683,
          0.658,
          0.374,
          0.286,
          0.789,
          0.683,
          0.467,
          0.214,
          0.307,
          0.195,
          0.445,
          0.476,
          0.203,
          0.296,
          0.223,
          0.443,
          0.425,
          0.821,
          0.472,
          0.539
         ],
         "xaxis": "x",
         "y": [
          "648525069",
          "439965329",
          "648525069",
          "439965329",
          "239.579.759",
          "327.037.965",
          "239.579.759",
          "327.037.965",
          "685.569.376",
          "1.497.861.842",
          "511.571.475",
          "737.680.743",
          "86.528.064",
          "685.569.376",
          "1.497.861.842",
          "511.571.475",
          "737.680.743",
          "685.569.376",
          "1.497.861.842",
          "511.571.475",
          "737.680.743",
          "185.024.136",
          "206.457.482",
          "814.114.651",
          "266.696.518",
          "174.430.479",
          "814.114.651",
          "266.696.518",
          "174.430.479",
          "1.240.468.789",
          "732.129.402",
          "339.198.629",
          "1.240.468.789",
          "732.129.402",
          "339.198.629",
          "1.240.468.789",
          "732.129.402",
          "339.198.629",
          "1.993.770.030",
          "1.337.934.671",
          "728.980.010",
          "905.599.541",
          "844.254.273",
          "695.895.392",
          "485.674.511",
          "957.363.618",
          "1.119.518.781",
          "640.936.966",
          "189.251.406",
          "941.509.249",
          "251.775.054",
          "210.533.930",
          "328.676.348",
          "383.038.883",
          "815.642.450",
          "227.152.677",
          "114.830.649",
          "220.866.384",
          "180.160.266",
          "118.010.086",
          "71.272.101",
          "321.275.673",
          "126.123.248",
          "151.182.001",
          "142.918.741",
          "109.508.324",
          "1.779.730.252",
          "1.178.776.162",
          "321.275.673",
          "1.367.910.021",
          "587.682.030",
          "941.509.249",
          "1.779.730.252",
          "1.178.776.162",
          "321.275.673",
          "1.367.910.021",
          "587.682.030",
          "941.509.249",
          "251.775.054",
          "815.642.450",
          "383.038.883",
          "657.308.948",
          "66.262.839",
          "271.708.452",
          "126.123.248",
          "251.775.054",
          "815.642.450",
          "383.038.883",
          "657.308.948",
          "66.262.839",
          "271.708.452",
          "126.123.248",
          "220.866.384",
          "180.160.266",
          "386.437.949",
          "227.152.677",
          "45.573.588",
          "220.866.384",
          "180.160.266",
          "386.437.949",
          "227.152.677",
          "45.573.588",
          "118.010.096",
          "114.830.649",
          "868.938.537",
          "109.508.324",
          "628.076.118",
          "118.010.096",
          "114.830.649",
          "868.938.537",
          "109.508.324",
          "628.076.118",
          "127.256.142",
          "188.216.746",
          "118.497.374",
          "328.676.348"
         ],
         "yaxis": "y"
        },
        {
         "hovertemplate": "Track Type=B-Side<br>Valence (Positivity)=%{x}<br>Spotify Streams=%{y}<extra></extra>",
         "legendgroup": "B-Side",
         "marker": {
          "color": "#EF553B",
          "symbol": "circle"
         },
         "mode": "markers",
         "name": "B-Side",
         "orientation": "h",
         "showlegend": true,
         "type": "scatter",
         "x": [
          0.292,
          0.481,
          0.168,
          0.248,
          0.438,
          0.34,
          0.398,
          0.487,
          0.238,
          0.318,
          0.195,
          0.263,
          0.353,
          0.214,
          0.23,
          0.15,
          0.292,
          0.218,
          0.273,
          0.293,
          0.297,
          0.252,
          0.385,
          0.535,
          0.514,
          0.29,
          0.481,
          0.158,
          0.436,
          0.292,
          0.481,
          0.168,
          0.248,
          0.438,
          0.34,
          0.398,
          0.487,
          0.238,
          0.318,
          0.195,
          0.263,
          0.353,
          0.214,
          0.685,
          0.701,
          0.305,
          0.206,
          0.52,
          0.917,
          0.539,
          0.363,
          0.514,
          0.538,
          0.0567,
          0.652,
          0.258,
          0.385,
          0.477,
          0.698,
          0.164,
          0.0831,
          0.323,
          0.674,
          0.755,
          0.292,
          0.192,
          0.481,
          0.921,
          0.541,
          0.364,
          0.514,
          0.547,
          0.0586,
          0.68,
          0.239,
          0.337,
          0.492,
          0.698,
          0.192,
          0.0662,
          0.344,
          0.49,
          0.387,
          0.203,
          0.639,
          0.133,
          0.621,
          0.57,
          0.569,
          0.216,
          0.665,
          0.149,
          0.355,
          0.16,
          0.0752,
          0.348,
          0.356,
          0.282,
          0.231,
          0.819,
          0.378,
          0.543,
          0.65,
          0.0382,
          0.166,
          0.39,
          0.198,
          0.113,
          0.157,
          0.13,
          0.391,
          0.126,
          0.0382,
          0.154,
          0.376,
          0.23,
          0.112,
          0.16,
          0.141,
          0.396,
          0.13,
          0.0374,
          0.193,
          0.38,
          0.23,
          0.106,
          0.163,
          0.122,
          0.39,
          0.124,
          0.328,
          0.408,
          0.299,
          0.767,
          0.132,
          0.642,
          0.248,
          0.716,
          0.663,
          0.155,
          0.511,
          0.232,
          0.538,
          0.474,
          0.605,
          0.267,
          0.208,
          0.399,
          0.612,
          0.38,
          0.255,
          0.446,
          0.746,
          0.41,
          0.443,
          0.581,
          0.205,
          0.43,
          0.289,
          0.415,
          0.797,
          0.366,
          0.474,
          0.321,
          0.541,
          0.241,
          0.472,
          0.673,
          0.469,
          0.344,
          0.624,
          0.224,
          0.271,
          0.167,
          0.171,
          0.629,
          0.328,
          0.44,
          0.714,
          0.13,
          0.508,
          0.405,
          0.527,
          0.32,
          0.353,
          0.348,
          0.221,
          0.211,
          0.354,
          0.535,
          0.511,
          0.573,
          0.287,
          0.92,
          0.32,
          0.32,
          0.353,
          0.348,
          0.221,
          0.211,
          0.354,
          0.535,
          0.511,
          0.573,
          0.287,
          0.92,
          0.32,
          0.163,
          0.701,
          0.112,
          0.347,
          0.374,
          0.42,
          0.408,
          0.44,
          0.454,
          0.451,
          0.103,
          0.328,
          0.404,
          0.163,
          0.701,
          0.112,
          0.347,
          0.374,
          0.42,
          0.408,
          0.44,
          0.454,
          0.451,
          0.103,
          0.328,
          0.404,
          0.172,
          0.706,
          0.111,
          0.379,
          0.415,
          0.403,
          0.412,
          0.46,
          0.45,
          0.506,
          0.113,
          0.339,
          0.429,
          0.541,
          0.166,
          0.416,
          0.487,
          0.865,
          0.248,
          0.313,
          0.557,
          0.421,
          0.351,
          0.399,
          0.545,
          0.265,
          0.305,
          0.193,
          0.374,
          0.451,
          0.314,
          0.284,
          0.0851,
          0.438,
          0.252,
          0.316,
          0.383,
          0.648,
          0.545,
          0.374,
          0.383,
          0.37,
          0.545,
          0.395,
          0.643,
          0.658,
          0.218,
          0.234,
          0.217,
          0.438,
          0.107,
          0.561,
          0.224,
          0.167,
          0.507,
          0.818,
          0.238,
          0.52,
          0.838,
          0.521,
          0.616,
          0.495,
          0.658,
          0.539,
          0.513,
          0.545,
          0.107,
          0.495,
          0.211,
          0.615,
          0.471,
          0.502,
          0.524,
          0.0828,
          0.507,
          0.22,
          0.397,
          0.395,
          0.337,
          0.233,
          0.928,
          0.648,
          0.261,
          0.545,
          0.587,
          0.397,
          0.395,
          0.337,
          0.233,
          0.928,
          0.648,
          0.261,
          0.545,
          0.587,
          0.735,
          0.102,
          0.554,
          0.208,
          0.635,
          0.17,
          0.352,
          0.196,
          0.142,
          0.735,
          0.102,
          0.554,
          0.208,
          0.635,
          0.17,
          0.352,
          0.196,
          0.142,
          0.825,
          0.17,
          0.513,
          0.281,
          0.379,
          0.514,
          0.364,
          0.224,
          0.831,
          0.184,
          0.51,
          0.276,
          0.398,
          0.544,
          0.396,
          0.215,
          0.428,
          0.261,
          0.591,
          0.192,
          0.504,
          0.374,
          0.518,
          0.233,
          0.268,
          0.483
         ],
         "xaxis": "x",
         "y": [
          "206954130",
          "238016975",
          "318375377",
          "253712712",
          "229410536",
          "145088911",
          "201272168",
          "280299504",
          "257244561",
          "122878845",
          "179031701",
          "191947901",
          "157878683",
          "113440986",
          "119787774",
          "136690436",
          "91354584",
          "90567202",
          "113619226",
          "169310310",
          "96310552",
          "90107041",
          "79690190",
          "129808268",
          "77285946",
          "89714513",
          "84927177",
          "56603972",
          "62462362",
          "206954130",
          "238016975",
          "318375377",
          "253712712",
          "229410536",
          "145088911",
          "201272168",
          "280299504",
          "257244561",
          "122878845",
          "179031701",
          "191947901",
          "157878683",
          "113440986",
          "102.221.045",
          "151.282.408",
          "182.418.311",
          "118.458.965",
          "88.205.974",
          "101.800.187",
          "77.667.730",
          "75.816.684",
          "695.045.271",
          "64.895.368",
          "238.858.492",
          "66.435.115",
          "86.966.267",
          "65.608.381",
          "67.947.237",
          "106.436.747",
          "161.739.029",
          "243.929.951",
          "97.666.137",
          "102.221.045",
          "151.282.408",
          "182.418.311",
          "118.458.965",
          "88.205.974",
          "101.800.187",
          "77.667.730",
          "75.816.684",
          "695.045.271",
          "64.895.368",
          "238.858.492",
          "66.435.115",
          "86.966.267",
          "65.608.381",
          "67.947.237",
          "106.436.747",
          "161.739.029",
          "243.929.951",
          "97.666.137",
          "161.201.338",
          "111.149.636",
          "180.262.965",
          "95.341.130",
          "99.582.468",
          "91.554.198",
          "89.206.080",
          "52.613.223",
          "256.720.162",
          "116.688.485",
          "44.117.403",
          "72.179.901",
          "72.138.383",
          "119.043.402",
          "50.628.387",
          "37.442.081",
          "79.599.951",
          "75.501.290",
          "233.537.019",
          "77.280.948",
          "85.579.355",
          "78.097.730",
          "442.240.497",
          "418.499.855",
          "558.461.539",
          "631.931.332",
          "289.677.180",
          "379.998.152",
          "263.703.912",
          "265.543.423",
          "328.656.338",
          "442.240.497",
          "418.499.855",
          "558.461.539",
          "631.931.332",
          "289.677.180",
          "379.998.152",
          "263.703.912",
          "265.543.423",
          "328.656.338",
          "442.240.497",
          "418.499.855",
          "558.461.539",
          "631.931.332",
          "289.677.180",
          "379.998.152",
          "263.703.912",
          "265.543.423",
          "328.656.338",
          "119.887.717",
          "276.457.730",
          "107.168.641",
          "331.115.790",
          "249.885.271",
          "265.698.765",
          "89.369.701",
          "315.588.138",
          "86.371.415",
          "108.741.392",
          "84.058.644",
          "93.349.578",
          "74.802.137",
          "144.156.621",
          "68.667.868",
          "98.591.643",
          "69.027.319",
          "108.053.400",
          "56.901.647",
          "42.569.086",
          "139.140.884",
          "209.924.444",
          "118.151.653",
          "90.351.777",
          "135.457.781",
          "166.946.516",
          "810.542.565",
          "276.701.835",
          "97.490.294",
          "714.184.368",
          "86.368.640",
          "94.810.816",
          "619.978.693",
          "64.707.634",
          "55.729.532",
          "70.295.638",
          "397.666.679",
          "107.430.716",
          "50.543.835",
          "43.303.976",
          "54.359.548",
          "55.397.353",
          "50.407.943",
          "39.608.696",
          "35.505.550",
          "69.531.567",
          "51.835.918",
          "109.187.805",
          "358.733.130",
          "57.957.104",
          "76.512.224",
          "68.743.624",
          "53.973.432",
          "588.394.719",
          "279.044.935",
          "260.055.245",
          "297.807.837",
          "180.744.525",
          "168.010.057",
          "211.246.717",
          "180.507.774",
          "190.498.817",
          "205.207.043",
          "119.250.347",
          "208.212.731",
          "588.394.719",
          "279.044.935",
          "260.055.245",
          "297.807.837",
          "180.744.525",
          "168.010.057",
          "211.246.717",
          "180.507.774",
          "190.498.817",
          "205.207.043",
          "119.250.347",
          "208.212.731",
          "552.789.777",
          "350.113.872",
          "456.830.802",
          "401.624.104",
          "298.361.936",
          "1.039.423.219",
          "375.813.987",
          "389.023.820",
          "351.443.321",
          "206.915.468",
          "179.012.062",
          "202.357.820",
          "180.324.854",
          "552.789.777",
          "350.113.872",
          "456.830.802",
          "401.624.104",
          "298.361.936",
          "1.039.423.219",
          "375.813.987",
          "389.023.820",
          "351.443.321",
          "206.915.468",
          "179.012.062",
          "202.357.820",
          "180.324.854",
          "552.789.777",
          "350.113.872",
          "456.830.802",
          "401.624.104",
          "298.361.936",
          "1.039.423.219",
          "375.813.987",
          "389.023.820",
          "351.443.321",
          "206.915.468",
          "179.012.062",
          "202.357.820",
          "180.324.854",
          "329.817.595",
          "382.363.955",
          "266.772.382",
          "356.974.249",
          "624.943.370",
          "318.912.167",
          "279.089.879",
          "318.393.019",
          "140.953.878",
          "226.705.140",
          "368.409.481",
          "128.678.253",
          "379.786.759",
          "427.923.904",
          "1.066.236.494",
          "176.212.321",
          "579.204.888",
          "260.615.846",
          "243.124.768",
          "313.580.941",
          "215.037.292",
          "389.833.661",
          "245.010.202",
          "39.494.267",
          "54.079.110",
          "168.171.382",
          "176.212.321",
          "60.819.145",
          "102.177.470",
          "84.836.384",
          "54.965.296",
          "111.448.042",
          "245.267.622",
          "786.707.238",
          "26.816.334",
          "42.188.665",
          "40.680.546",
          "107.233.550",
          "43.654.609",
          "34.315.147",
          "67.933.033",
          "169.198.132",
          "25.320.079",
          "32.760.917",
          "53.323.977",
          "48.880.134",
          "49.912.790",
          "43.339.936",
          "133.109.196",
          "245.267.622",
          "218.240.636",
          "151.139.886",
          "168.171.382",
          "107.233.550",
          "133.109.196",
          "193.699.978",
          "245.267.622",
          "218.240.636",
          "151.139.886",
          "168.171.382",
          "107.233.550",
          "133.109.196",
          "193.699.978",
          "60.819.145",
          "54.965.296",
          "245.010.202",
          "61.821.545",
          "57.098.497",
          "54.079.110",
          "39.546.954",
          "43.654.609",
          "43.339.936",
          "60.819.145",
          "54.965.296",
          "245.010.202",
          "61.821.545",
          "57.098.497",
          "54.079.110",
          "39.546.954",
          "43.654.609",
          "43.339.936",
          "142.918.741",
          "140.397.028",
          "84.836.384",
          "786.707.238",
          "190.349.987",
          "51.675.352",
          "102.177.470",
          "121.851.870",
          "99.552.792",
          "142.918.741",
          "140.397.028",
          "84.836.384",
          "786.707.238",
          "190.349.987",
          "51.675.352",
          "102.177.470",
          "121.851.870",
          "99.552.792",
          "48.880.134",
          "67.933.033",
          "31.186.337",
          "45.929.391",
          "69.526.656",
          "53.323.977",
          "39.494.267",
          "26.816.334",
          "48.880.134",
          "67.933.033",
          "31.186.337",
          "45.929.391",
          "69.526.656",
          "53.323.977",
          "39.494.267",
          "26.816.334",
          "40.680.546",
          "42.081.074",
          "29.460.945",
          "32.760.917",
          "34.268.716",
          "44.299.678",
          "49.912.790",
          "34.315.147",
          "25.204.096",
          "32.775.607"
         ],
         "yaxis": "y"
        },
        {
         "hovertemplate": "Track Type=Special Deluxe<br>Valence (Positivity)=%{x}<br>Spotify Streams=%{y}<extra></extra>",
         "legendgroup": "Special Deluxe",
         "marker": {
          "color": "#00cc96",
          "symbol": "circle"
         },
         "mode": "markers",
         "name": "Special Deluxe",
         "orientation": "h",
         "showlegend": true,
         "type": "scatter",
         "x": [
          0.174,
          0.592,
          0.0633,
          0.454,
          0.766,
          0.399,
          0.534,
          0.162,
          0.239,
          0.315,
          0.554,
          0.068,
          0.345,
          0.755,
          0.347,
          0.55,
          0.159,
          0.645,
          0.416,
          0.268,
          0.268,
          0.197,
          0.197,
          0.319,
          0.584,
          0.275,
          0.217,
          0.633,
          0.519,
          0.238,
          0.289,
          0.559,
          0.82,
          0.288,
          0.294,
          0.224,
          0.228,
          0.469
         ],
         "xaxis": "x",
         "y": [
          "57.248.658",
          "269.420.309",
          "175.821.082",
          "176.277.983",
          "148.303.282",
          "118.355.491",
          "257.804.372",
          "123.378.107",
          "177.054.741",
          "172.680.008",
          "269.420.309",
          "175.821.082",
          "176.277.983",
          "148.303.282",
          "118.355.491",
          "257.804.372",
          "123.378.107",
          "315.084.417",
          "105.356.578",
          "147.911.887",
          "147.911.887",
          "148.096.466",
          "148.096.466",
          "141.420.809",
          "275.669.626",
          "31.857.392",
          "42.188.665",
          "22.927.653",
          "16.536.933",
          "71.272.101",
          "43.516.280",
          "25.511.421",
          "25.320.079",
          "22.566.446",
          "27.080.983",
          "16.666.446",
          "13.738.576",
          "14.901.473"
         ],
         "yaxis": "y"
        },
        {
         "hovertemplate": "Track Type=Acoustic Version<br>Valence (Positivity)=%{x}<br>Spotify Streams=%{y}<extra></extra>",
         "legendgroup": "Acoustic Version",
         "marker": {
          "color": "#ab63fa",
          "symbol": "circle"
         },
         "mode": "markers",
         "name": "Acoustic Version",
         "orientation": "h",
         "showlegend": true,
         "type": "scatter",
         "x": [
          0.101,
          0.0682,
          0.377,
          0.313
         ],
         "xaxis": "x",
         "y": [
          "51.126.307",
          "23.767.799",
          "75.444.294",
          "24.014.122"
         ],
         "yaxis": "y"
        },
        {
         "hovertemplate": "Track Type=Live<br>Valence (Positivity)=%{x}<br>Spotify Streams=%{y}<extra></extra>",
         "legendgroup": "Live",
         "marker": {
          "color": "#FFA15A",
          "symbol": "circle"
         },
         "mode": "markers",
         "name": "Live",
         "orientation": "h",
         "showlegend": true,
         "type": "scatter",
         "x": [
          0.156,
          0.247,
          0.614,
          0.108,
          0.168,
          0.109,
          0.363,
          0.545,
          0.157,
          0.435,
          0.351,
          0.346,
          0.113,
          0.518,
          0.513,
          0.483,
          0.112,
          0.298,
          0.442,
          0.472,
          0.432,
          0.267,
          0.171,
          0.386,
          0.373,
          0.188,
          0.27,
          0.363,
          0.249,
          0.138,
          0.214,
          0.177,
          0.204,
          0.512,
          0.467,
          0.457,
          0.331,
          0.615,
          0.684,
          0.438,
          0.273
         ],
         "xaxis": "x",
         "y": [
          "17.256.353",
          "22.319.608",
          "13.105.439",
          "44.782.909",
          "21.032.667",
          "16.067.602",
          "12.738.080",
          "20.062.707",
          "18.997.642",
          "14.930.318",
          "12.187.198",
          "10.113.780",
          "9.431.619",
          "12.112.084",
          "10.237.759",
          "11.466.753",
          "14.461.249",
          "8.880.736",
          "6.857.903",
          "6.938.597",
          "6.867.055",
          "6.480.720",
          "11.878.503",
          "6.446.611",
          "5.968.934",
          "5.940.738",
          "11.778.196",
          "8.177.318",
          "6.656.463",
          "6.492.948",
          "7.694.389",
          "5.843.535",
          "6.197.605",
          "2.147.295",
          "1.178.447",
          "1.733.340",
          "721.537",
          "746.505",
          "717.043",
          "750.284",
          "525.701"
         ],
         "yaxis": "y"
        },
        {
         "hovertemplate": "Track Type=Soundtrack<br>Valence (Positivity)=%{x}<br>Spotify Streams=%{y}<extra></extra>",
         "legendgroup": "Soundtrack",
         "marker": {
          "color": "#19d3f3",
          "symbol": "circle"
         },
         "mode": "markers",
         "name": "Soundtrack",
         "orientation": "h",
         "showlegend": true,
         "type": "scatter",
         "x": [
          0.106
         ],
         "xaxis": "x",
         "y": [
          "1.625.559.303"
         ],
         "yaxis": "y"
        },
        {
         "hovertemplate": "Track Type=Voice Memo<br>Valence (Positivity)=%{x}<br>Spotify Streams=%{y}<extra></extra>",
         "legendgroup": "Voice Memo",
         "marker": {
          "color": "#FF6692",
          "symbol": "circle"
         },
         "mode": "markers",
         "name": "Voice Memo",
         "orientation": "h",
         "showlegend": true,
         "type": "scatter",
         "x": [
          0.15,
          0.645,
          0.578,
          0.637
         ],
         "xaxis": "x",
         "y": [
          "5.951.108",
          "4.547.418",
          "4.829.873",
          "17.531.943"
         ],
         "yaxis": "y"
        },
        {
         "hovertemplate": "Track Type=Remix<br>Valence (Positivity)=%{x}<br>Spotify Streams=%{y}<extra></extra>",
         "legendgroup": "Remix",
         "marker": {
          "color": "#B6E880",
          "symbol": "circle"
         },
         "mode": "markers",
         "name": "Remix",
         "orientation": "h",
         "showlegend": true,
         "type": "scatter",
         "x": [
          0.679,
          0.289
         ],
         "xaxis": "x",
         "y": [
          "51.765.213",
          "210.533.930"
         ],
         "yaxis": "y"
        }
       ],
       "layout": {
        "legend": {
         "title": {
          "text": "Track Type"
         },
         "tracegroupgap": 0
        },
        "template": {
         "data": {
          "bar": [
           {
            "error_x": {
             "color": "#2a3f5f"
            },
            "error_y": {
             "color": "#2a3f5f"
            },
            "marker": {
             "line": {
              "color": "#E5ECF6",
              "width": 0.5
             },
             "pattern": {
              "fillmode": "overlay",
              "size": 10,
              "solidity": 0.2
             }
            },
            "type": "bar"
           }
          ],
          "barpolar": [
           {
            "marker": {
             "line": {
              "color": "#E5ECF6",
              "width": 0.5
             },
             "pattern": {
              "fillmode": "overlay",
              "size": 10,
              "solidity": 0.2
             }
            },
            "type": "barpolar"
           }
          ],
          "carpet": [
           {
            "aaxis": {
             "endlinecolor": "#2a3f5f",
             "gridcolor": "white",
             "linecolor": "white",
             "minorgridcolor": "white",
             "startlinecolor": "#2a3f5f"
            },
            "baxis": {
             "endlinecolor": "#2a3f5f",
             "gridcolor": "white",
             "linecolor": "white",
             "minorgridcolor": "white",
             "startlinecolor": "#2a3f5f"
            },
            "type": "carpet"
           }
          ],
          "choropleth": [
           {
            "colorbar": {
             "outlinewidth": 0,
             "ticks": ""
            },
            "type": "choropleth"
           }
          ],
          "contour": [
           {
            "colorbar": {
             "outlinewidth": 0,
             "ticks": ""
            },
            "colorscale": [
             [
              0,
              "#0d0887"
             ],
             [
              0.1111111111111111,
              "#46039f"
             ],
             [
              0.2222222222222222,
              "#7201a8"
             ],
             [
              0.3333333333333333,
              "#9c179e"
             ],
             [
              0.4444444444444444,
              "#bd3786"
             ],
             [
              0.5555555555555556,
              "#d8576b"
             ],
             [
              0.6666666666666666,
              "#ed7953"
             ],
             [
              0.7777777777777778,
              "#fb9f3a"
             ],
             [
              0.8888888888888888,
              "#fdca26"
             ],
             [
              1,
              "#f0f921"
             ]
            ],
            "type": "contour"
           }
          ],
          "contourcarpet": [
           {
            "colorbar": {
             "outlinewidth": 0,
             "ticks": ""
            },
            "type": "contourcarpet"
           }
          ],
          "heatmap": [
           {
            "colorbar": {
             "outlinewidth": 0,
             "ticks": ""
            },
            "colorscale": [
             [
              0,
              "#0d0887"
             ],
             [
              0.1111111111111111,
              "#46039f"
             ],
             [
              0.2222222222222222,
              "#7201a8"
             ],
             [
              0.3333333333333333,
              "#9c179e"
             ],
             [
              0.4444444444444444,
              "#bd3786"
             ],
             [
              0.5555555555555556,
              "#d8576b"
             ],
             [
              0.6666666666666666,
              "#ed7953"
             ],
             [
              0.7777777777777778,
              "#fb9f3a"
             ],
             [
              0.8888888888888888,
              "#fdca26"
             ],
             [
              1,
              "#f0f921"
             ]
            ],
            "type": "heatmap"
           }
          ],
          "heatmapgl": [
           {
            "colorbar": {
             "outlinewidth": 0,
             "ticks": ""
            },
            "colorscale": [
             [
              0,
              "#0d0887"
             ],
             [
              0.1111111111111111,
              "#46039f"
             ],
             [
              0.2222222222222222,
              "#7201a8"
             ],
             [
              0.3333333333333333,
              "#9c179e"
             ],
             [
              0.4444444444444444,
              "#bd3786"
             ],
             [
              0.5555555555555556,
              "#d8576b"
             ],
             [
              0.6666666666666666,
              "#ed7953"
             ],
             [
              0.7777777777777778,
              "#fb9f3a"
             ],
             [
              0.8888888888888888,
              "#fdca26"
             ],
             [
              1,
              "#f0f921"
             ]
            ],
            "type": "heatmapgl"
           }
          ],
          "histogram": [
           {
            "marker": {
             "pattern": {
              "fillmode": "overlay",
              "size": 10,
              "solidity": 0.2
             }
            },
            "type": "histogram"
           }
          ],
          "histogram2d": [
           {
            "colorbar": {
             "outlinewidth": 0,
             "ticks": ""
            },
            "colorscale": [
             [
              0,
              "#0d0887"
             ],
             [
              0.1111111111111111,
              "#46039f"
             ],
             [
              0.2222222222222222,
              "#7201a8"
             ],
             [
              0.3333333333333333,
              "#9c179e"
             ],
             [
              0.4444444444444444,
              "#bd3786"
             ],
             [
              0.5555555555555556,
              "#d8576b"
             ],
             [
              0.6666666666666666,
              "#ed7953"
             ],
             [
              0.7777777777777778,
              "#fb9f3a"
             ],
             [
              0.8888888888888888,
              "#fdca26"
             ],
             [
              1,
              "#f0f921"
             ]
            ],
            "type": "histogram2d"
           }
          ],
          "histogram2dcontour": [
           {
            "colorbar": {
             "outlinewidth": 0,
             "ticks": ""
            },
            "colorscale": [
             [
              0,
              "#0d0887"
             ],
             [
              0.1111111111111111,
              "#46039f"
             ],
             [
              0.2222222222222222,
              "#7201a8"
             ],
             [
              0.3333333333333333,
              "#9c179e"
             ],
             [
              0.4444444444444444,
              "#bd3786"
             ],
             [
              0.5555555555555556,
              "#d8576b"
             ],
             [
              0.6666666666666666,
              "#ed7953"
             ],
             [
              0.7777777777777778,
              "#fb9f3a"
             ],
             [
              0.8888888888888888,
              "#fdca26"
             ],
             [
              1,
              "#f0f921"
             ]
            ],
            "type": "histogram2dcontour"
           }
          ],
          "mesh3d": [
           {
            "colorbar": {
             "outlinewidth": 0,
             "ticks": ""
            },
            "type": "mesh3d"
           }
          ],
          "parcoords": [
           {
            "line": {
             "colorbar": {
              "outlinewidth": 0,
              "ticks": ""
             }
            },
            "type": "parcoords"
           }
          ],
          "pie": [
           {
            "automargin": true,
            "type": "pie"
           }
          ],
          "scatter": [
           {
            "fillpattern": {
             "fillmode": "overlay",
             "size": 10,
             "solidity": 0.2
            },
            "type": "scatter"
           }
          ],
          "scatter3d": [
           {
            "line": {
             "colorbar": {
              "outlinewidth": 0,
              "ticks": ""
             }
            },
            "marker": {
             "colorbar": {
              "outlinewidth": 0,
              "ticks": ""
             }
            },
            "type": "scatter3d"
           }
          ],
          "scattercarpet": [
           {
            "marker": {
             "colorbar": {
              "outlinewidth": 0,
              "ticks": ""
             }
            },
            "type": "scattercarpet"
           }
          ],
          "scattergeo": [
           {
            "marker": {
             "colorbar": {
              "outlinewidth": 0,
              "ticks": ""
             }
            },
            "type": "scattergeo"
           }
          ],
          "scattergl": [
           {
            "marker": {
             "colorbar": {
              "outlinewidth": 0,
              "ticks": ""
             }
            },
            "type": "scattergl"
           }
          ],
          "scattermapbox": [
           {
            "marker": {
             "colorbar": {
              "outlinewidth": 0,
              "ticks": ""
             }
            },
            "type": "scattermapbox"
           }
          ],
          "scatterpolar": [
           {
            "marker": {
             "colorbar": {
              "outlinewidth": 0,
              "ticks": ""
             }
            },
            "type": "scatterpolar"
           }
          ],
          "scatterpolargl": [
           {
            "marker": {
             "colorbar": {
              "outlinewidth": 0,
              "ticks": ""
             }
            },
            "type": "scatterpolargl"
           }
          ],
          "scatterternary": [
           {
            "marker": {
             "colorbar": {
              "outlinewidth": 0,
              "ticks": ""
             }
            },
            "type": "scatterternary"
           }
          ],
          "surface": [
           {
            "colorbar": {
             "outlinewidth": 0,
             "ticks": ""
            },
            "colorscale": [
             [
              0,
              "#0d0887"
             ],
             [
              0.1111111111111111,
              "#46039f"
             ],
             [
              0.2222222222222222,
              "#7201a8"
             ],
             [
              0.3333333333333333,
              "#9c179e"
             ],
             [
              0.4444444444444444,
              "#bd3786"
             ],
             [
              0.5555555555555556,
              "#d8576b"
             ],
             [
              0.6666666666666666,
              "#ed7953"
             ],
             [
              0.7777777777777778,
              "#fb9f3a"
             ],
             [
              0.8888888888888888,
              "#fdca26"
             ],
             [
              1,
              "#f0f921"
             ]
            ],
            "type": "surface"
           }
          ],
          "table": [
           {
            "cells": {
             "fill": {
              "color": "#EBF0F8"
             },
             "line": {
              "color": "white"
             }
            },
            "header": {
             "fill": {
              "color": "#C8D4E3"
             },
             "line": {
              "color": "white"
             }
            },
            "type": "table"
           }
          ]
         },
         "layout": {
          "annotationdefaults": {
           "arrowcolor": "#2a3f5f",
           "arrowhead": 0,
           "arrowwidth": 1
          },
          "autotypenumbers": "strict",
          "coloraxis": {
           "colorbar": {
            "outlinewidth": 0,
            "ticks": ""
           }
          },
          "colorscale": {
           "diverging": [
            [
             0,
             "#8e0152"
            ],
            [
             0.1,
             "#c51b7d"
            ],
            [
             0.2,
             "#de77ae"
            ],
            [
             0.3,
             "#f1b6da"
            ],
            [
             0.4,
             "#fde0ef"
            ],
            [
             0.5,
             "#f7f7f7"
            ],
            [
             0.6,
             "#e6f5d0"
            ],
            [
             0.7,
             "#b8e186"
            ],
            [
             0.8,
             "#7fbc41"
            ],
            [
             0.9,
             "#4d9221"
            ],
            [
             1,
             "#276419"
            ]
           ],
           "sequential": [
            [
             0,
             "#0d0887"
            ],
            [
             0.1111111111111111,
             "#46039f"
            ],
            [
             0.2222222222222222,
             "#7201a8"
            ],
            [
             0.3333333333333333,
             "#9c179e"
            ],
            [
             0.4444444444444444,
             "#bd3786"
            ],
            [
             0.5555555555555556,
             "#d8576b"
            ],
            [
             0.6666666666666666,
             "#ed7953"
            ],
            [
             0.7777777777777778,
             "#fb9f3a"
            ],
            [
             0.8888888888888888,
             "#fdca26"
            ],
            [
             1,
             "#f0f921"
            ]
           ],
           "sequentialminus": [
            [
             0,
             "#0d0887"
            ],
            [
             0.1111111111111111,
             "#46039f"
            ],
            [
             0.2222222222222222,
             "#7201a8"
            ],
            [
             0.3333333333333333,
             "#9c179e"
            ],
            [
             0.4444444444444444,
             "#bd3786"
            ],
            [
             0.5555555555555556,
             "#d8576b"
            ],
            [
             0.6666666666666666,
             "#ed7953"
            ],
            [
             0.7777777777777778,
             "#fb9f3a"
            ],
            [
             0.8888888888888888,
             "#fdca26"
            ],
            [
             1,
             "#f0f921"
            ]
           ]
          },
          "colorway": [
           "#636efa",
           "#EF553B",
           "#00cc96",
           "#ab63fa",
           "#FFA15A",
           "#19d3f3",
           "#FF6692",
           "#B6E880",
           "#FF97FF",
           "#FECB52"
          ],
          "font": {
           "color": "#2a3f5f"
          },
          "geo": {
           "bgcolor": "white",
           "lakecolor": "white",
           "landcolor": "#E5ECF6",
           "showlakes": true,
           "showland": true,
           "subunitcolor": "white"
          },
          "hoverlabel": {
           "align": "left"
          },
          "hovermode": "closest",
          "mapbox": {
           "style": "light"
          },
          "paper_bgcolor": "white",
          "plot_bgcolor": "#E5ECF6",
          "polar": {
           "angularaxis": {
            "gridcolor": "white",
            "linecolor": "white",
            "ticks": ""
           },
           "bgcolor": "#E5ECF6",
           "radialaxis": {
            "gridcolor": "white",
            "linecolor": "white",
            "ticks": ""
           }
          },
          "scene": {
           "xaxis": {
            "backgroundcolor": "#E5ECF6",
            "gridcolor": "white",
            "gridwidth": 2,
            "linecolor": "white",
            "showbackground": true,
            "ticks": "",
            "zerolinecolor": "white"
           },
           "yaxis": {
            "backgroundcolor": "#E5ECF6",
            "gridcolor": "white",
            "gridwidth": 2,
            "linecolor": "white",
            "showbackground": true,
            "ticks": "",
            "zerolinecolor": "white"
           },
           "zaxis": {
            "backgroundcolor": "#E5ECF6",
            "gridcolor": "white",
            "gridwidth": 2,
            "linecolor": "white",
            "showbackground": true,
            "ticks": "",
            "zerolinecolor": "white"
           }
          },
          "shapedefaults": {
           "line": {
            "color": "#2a3f5f"
           }
          },
          "ternary": {
           "aaxis": {
            "gridcolor": "white",
            "linecolor": "white",
            "ticks": ""
           },
           "baxis": {
            "gridcolor": "white",
            "linecolor": "white",
            "ticks": ""
           },
           "bgcolor": "#E5ECF6",
           "caxis": {
            "gridcolor": "white",
            "linecolor": "white",
            "ticks": ""
           }
          },
          "title": {
           "x": 0.05
          },
          "xaxis": {
           "automargin": true,
           "gridcolor": "white",
           "linecolor": "white",
           "ticks": "",
           "title": {
            "standoff": 15
           },
           "zerolinecolor": "white",
           "zerolinewidth": 2
          },
          "yaxis": {
           "automargin": true,
           "gridcolor": "white",
           "linecolor": "white",
           "ticks": "",
           "title": {
            "standoff": 15
           },
           "zerolinecolor": "white",
           "zerolinewidth": 2
          }
         }
        },
        "title": {
         "text": "Valence vs Spotify Streams by Track Type"
        },
        "xaxis": {
         "anchor": "y",
         "domain": [
          0,
          1
         ],
         "title": {
          "text": "Valence (Positivity)"
         }
        },
        "yaxis": {
         "anchor": "x",
         "domain": [
          0,
          1
         ],
         "title": {
          "text": "Spotify Streams"
         }
        }
       }
      }
     },
     "metadata": {},
     "output_type": "display_data"
    }
   ],
   "source": [
    "# Scatter plot of valence vs spotify streams\n",
    "fig_valence_streams = px.scatter(df, x='valence', y='spotify_streams', color='track_type',\n",
    "                                 title='Valence vs Spotify Streams by Track Type',\n",
    "                                 labels={'valence': 'Valence (Positivity)', 'spotify_streams': 'Spotify Streams', 'track_type': 'Track Type'})\n",
    "fig_valence_streams.show()"
   ]
  },
  {
   "cell_type": "code",
   "execution_count": null,
   "metadata": {},
   "outputs": [],
   "source": []
  }
 ],
 "metadata": {
  "kernelspec": {
   "display_name": "base",
   "language": "python",
   "name": "python3"
  },
  "language_info": {
   "codemirror_mode": {
    "name": "ipython",
    "version": 3
   },
   "file_extension": ".py",
   "mimetype": "text/x-python",
   "name": "python",
   "nbconvert_exporter": "python",
   "pygments_lexer": "ipython3",
   "version": "3.12.4"
  }
 },
 "nbformat": 4,
 "nbformat_minor": 2
}
